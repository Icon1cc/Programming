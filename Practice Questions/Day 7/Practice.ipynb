{
 "cells": [
  {
   "cell_type": "code",
   "id": "initial_id",
   "metadata": {
    "collapsed": true,
    "ExecuteTime": {
     "end_time": "2025-06-15T12:15:05.770261Z",
     "start_time": "2025-06-15T12:15:05.766609Z"
    }
   },
   "source": [
    "# swap two numbers\n",
    "\n",
    "x = 100\n",
    "y = 200\n",
    "\n",
    "temp = x\n",
    "x = y\n",
    "y = temp\n",
    "\n",
    "print(x,y)"
   ],
   "outputs": [
    {
     "name": "stdout",
     "output_type": "stream",
     "text": [
      "200 100\n"
     ]
    }
   ],
   "execution_count": 1
  },
  {
   "metadata": {
    "ExecuteTime": {
     "end_time": "2025-06-15T12:16:14.677462Z",
     "start_time": "2025-06-15T12:16:14.673244Z"
    }
   },
   "cell_type": "code",
   "source": "x,y = y,x # Another method to swap 2 variables",
   "id": "1d3a4d2a87e34d6f",
   "outputs": [],
   "execution_count": 4
  },
  {
   "metadata": {
    "ExecuteTime": {
     "end_time": "2025-06-15T12:16:15.077892Z",
     "start_time": "2025-06-15T12:16:15.075134Z"
    }
   },
   "cell_type": "code",
   "source": "print(x,y)",
   "id": "34a01cb3892043c1",
   "outputs": [
    {
     "name": "stdout",
     "output_type": "stream",
     "text": [
      "200 100\n"
     ]
    }
   ],
   "execution_count": 5
  },
  {
   "metadata": {
    "ExecuteTime": {
     "end_time": "2025-06-15T12:20:05.835715Z",
     "start_time": "2025-06-15T12:20:05.829728Z"
    }
   },
   "cell_type": "code",
   "source": [
    "## id()\n",
    "\n",
    "print(id(5))\n",
    "a = 10\n",
    "print(id(a))\n",
    "b = a\n",
    "print(id(b))"
   ],
   "id": "642c21bafd9f3413",
   "outputs": [
    {
     "name": "stdout",
     "output_type": "stream",
     "text": [
      "4399324360\n",
      "4399324520\n",
      "4399324520\n"
     ]
    }
   ],
   "execution_count": 6
  },
  {
   "metadata": {},
   "cell_type": "code",
   "outputs": [],
   "execution_count": null,
   "source": "",
   "id": "743c92e208c97e25"
  }
 ],
 "metadata": {
  "kernelspec": {
   "display_name": "Python 3",
   "language": "python",
   "name": "python3"
  },
  "language_info": {
   "codemirror_mode": {
    "name": "ipython",
    "version": 2
   },
   "file_extension": ".py",
   "mimetype": "text/x-python",
   "name": "python",
   "nbconvert_exporter": "python",
   "pygments_lexer": "ipython2",
   "version": "2.7.6"
  }
 },
 "nbformat": 4,
 "nbformat_minor": 5
}
