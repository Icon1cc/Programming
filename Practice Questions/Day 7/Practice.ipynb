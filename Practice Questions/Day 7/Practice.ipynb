{
 "cells": [
  {
   "cell_type": "code",
   "id": "initial_id",
   "metadata": {
    "collapsed": true,
    "ExecuteTime": {
     "end_time": "2025-06-15T12:15:05.770261Z",
     "start_time": "2025-06-15T12:15:05.766609Z"
    }
   },
   "source": [
    "# swap two numbers\n",
    "\n",
    "x = 100\n",
    "y = 200\n",
    "\n",
    "temp = x\n",
    "x = y\n",
    "y = temp\n",
    "\n",
    "print(x,y)"
   ],
   "outputs": [
    {
     "name": "stdout",
     "output_type": "stream",
     "text": [
      "200 100\n"
     ]
    }
   ],
   "execution_count": 1
  },
  {
   "metadata": {
    "ExecuteTime": {
     "end_time": "2025-06-15T12:16:14.677462Z",
     "start_time": "2025-06-15T12:16:14.673244Z"
    }
   },
   "cell_type": "code",
   "source": "x,y = y,x # Another method to swap 2 variables",
   "id": "1d3a4d2a87e34d6f",
   "outputs": [],
   "execution_count": 4
  },
  {
   "metadata": {
    "ExecuteTime": {
     "end_time": "2025-06-15T12:16:15.077892Z",
     "start_time": "2025-06-15T12:16:15.075134Z"
    }
   },
   "cell_type": "code",
   "source": "print(x,y)",
   "id": "34a01cb3892043c1",
   "outputs": [
    {
     "name": "stdout",
     "output_type": "stream",
     "text": [
      "200 100\n"
     ]
    }
   ],
   "execution_count": 5
  },
  {
   "metadata": {
    "ExecuteTime": {
     "end_time": "2025-06-15T12:20:05.835715Z",
     "start_time": "2025-06-15T12:20:05.829728Z"
    }
   },
   "cell_type": "code",
   "source": [
    "## id()\n",
    "\n",
    "print(id(5))\n",
    "a = 10\n",
    "print(id(a))\n",
    "b = a\n",
    "print(id(b))"
   ],
   "id": "642c21bafd9f3413",
   "outputs": [
    {
     "name": "stdout",
     "output_type": "stream",
     "text": [
      "4399324360\n",
      "4399324520\n",
      "4399324520\n"
     ]
    }
   ],
   "execution_count": 6
  },
  {
   "metadata": {
    "ExecuteTime": {
     "end_time": "2025-06-15T12:56:51.868817Z",
     "start_time": "2025-06-15T12:56:51.865073Z"
    }
   },
   "cell_type": "code",
   "source": "l = [10, 20, 30, 40, 50]",
   "id": "743c92e208c97e25",
   "outputs": [],
   "execution_count": 29
  },
  {
   "metadata": {
    "ExecuteTime": {
     "end_time": "2025-06-15T12:56:52.155036Z",
     "start_time": "2025-06-15T12:56:52.150952Z"
    }
   },
   "cell_type": "code",
   "source": "l[-5]",
   "id": "f8ce2d0f1e0a8f7",
   "outputs": [
    {
     "data": {
      "text/plain": [
       "10"
      ]
     },
     "execution_count": 30,
     "metadata": {},
     "output_type": "execute_result"
    }
   ],
   "execution_count": 30
  },
  {
   "metadata": {
    "ExecuteTime": {
     "end_time": "2025-06-15T12:56:52.390492Z",
     "start_time": "2025-06-15T12:56:52.386917Z"
    }
   },
   "cell_type": "code",
   "source": "l[0]",
   "id": "ef73b58f8ab467eb",
   "outputs": [
    {
     "data": {
      "text/plain": [
       "10"
      ]
     },
     "execution_count": 31,
     "metadata": {},
     "output_type": "execute_result"
    }
   ],
   "execution_count": 31
  },
  {
   "metadata": {
    "ExecuteTime": {
     "end_time": "2025-06-15T12:56:52.797848Z",
     "start_time": "2025-06-15T12:56:52.794575Z"
    }
   },
   "cell_type": "code",
   "source": "l",
   "id": "811431fdb7e67dd9",
   "outputs": [
    {
     "data": {
      "text/plain": [
       "[10, 20, 30, 40, 50]"
      ]
     },
     "execution_count": 32,
     "metadata": {},
     "output_type": "execute_result"
    }
   ],
   "execution_count": 32
  },
  {
   "metadata": {
    "ExecuteTime": {
     "end_time": "2025-06-15T12:56:53.039284Z",
     "start_time": "2025-06-15T12:56:53.036418Z"
    }
   },
   "cell_type": "code",
   "source": "l.append(60)",
   "id": "757054b1d2a1243a",
   "outputs": [],
   "execution_count": 33
  },
  {
   "metadata": {
    "ExecuteTime": {
     "end_time": "2025-06-15T12:56:53.236396Z",
     "start_time": "2025-06-15T12:56:53.233521Z"
    }
   },
   "cell_type": "code",
   "source": "l",
   "id": "5cfa19fef728f96e",
   "outputs": [
    {
     "data": {
      "text/plain": [
       "[10, 20, 30, 40, 50, 60]"
      ]
     },
     "execution_count": 34,
     "metadata": {},
     "output_type": "execute_result"
    }
   ],
   "execution_count": 34
  },
  {
   "metadata": {
    "ExecuteTime": {
     "end_time": "2025-06-15T12:56:53.417850Z",
     "start_time": "2025-06-15T12:56:53.415029Z"
    }
   },
   "cell_type": "code",
   "source": "l.insert(1, 15)",
   "id": "e8fe6633cbf0d728",
   "outputs": [],
   "execution_count": 35
  },
  {
   "metadata": {
    "ExecuteTime": {
     "end_time": "2025-06-15T12:56:53.587974Z",
     "start_time": "2025-06-15T12:56:53.584593Z"
    }
   },
   "cell_type": "code",
   "source": "l",
   "id": "46aeaafe98c72331",
   "outputs": [
    {
     "data": {
      "text/plain": [
       "[10, 15, 20, 30, 40, 50, 60]"
      ]
     },
     "execution_count": 36,
     "metadata": {},
     "output_type": "execute_result"
    }
   ],
   "execution_count": 36
  },
  {
   "metadata": {
    "ExecuteTime": {
     "end_time": "2025-06-15T12:56:53.746180Z",
     "start_time": "2025-06-15T12:56:53.744034Z"
    }
   },
   "cell_type": "code",
   "source": "print(15 in l)",
   "id": "638625e171651925",
   "outputs": [
    {
     "name": "stdout",
     "output_type": "stream",
     "text": [
      "True\n"
     ]
    }
   ],
   "execution_count": 37
  },
  {
   "metadata": {
    "ExecuteTime": {
     "end_time": "2025-06-15T12:56:53.948141Z",
     "start_time": "2025-06-15T12:56:53.945377Z"
    }
   },
   "cell_type": "code",
   "source": "print(l.count(30))",
   "id": "96e858d86a63e651",
   "outputs": [
    {
     "name": "stdout",
     "output_type": "stream",
     "text": [
      "1\n"
     ]
    }
   ],
   "execution_count": 38
  },
  {
   "metadata": {
    "ExecuteTime": {
     "end_time": "2025-06-15T12:56:54.110865Z",
     "start_time": "2025-06-15T12:56:54.108294Z"
    }
   },
   "cell_type": "code",
   "source": "print(l.index(40))",
   "id": "820e97fc3aff27d8",
   "outputs": [
    {
     "name": "stdout",
     "output_type": "stream",
     "text": [
      "4\n"
     ]
    }
   ],
   "execution_count": 39
  },
  {
   "metadata": {
    "ExecuteTime": {
     "end_time": "2025-06-15T12:56:54.272327Z",
     "start_time": "2025-06-15T12:56:54.270090Z"
    }
   },
   "cell_type": "code",
   "source": "l.remove(20) # --- Removes the specific item from the list",
   "id": "e4bab05323c4d23b",
   "outputs": [],
   "execution_count": 40
  },
  {
   "metadata": {
    "ExecuteTime": {
     "end_time": "2025-06-15T12:56:54.507938Z",
     "start_time": "2025-06-15T12:56:54.502336Z"
    }
   },
   "cell_type": "code",
   "source": "l",
   "id": "153d0cec4c6efe6b",
   "outputs": [
    {
     "data": {
      "text/plain": [
       "[10, 15, 30, 40, 50, 60]"
      ]
     },
     "execution_count": 41,
     "metadata": {},
     "output_type": "execute_result"
    }
   ],
   "execution_count": 41
  },
  {
   "metadata": {
    "ExecuteTime": {
     "end_time": "2025-06-15T12:56:54.720839Z",
     "start_time": "2025-06-15T12:56:54.717649Z"
    }
   },
   "cell_type": "code",
   "source": "print(l.pop()) # ---- Removes the last item from the list",
   "id": "2e1cafabba142a06",
   "outputs": [
    {
     "name": "stdout",
     "output_type": "stream",
     "text": [
      "60\n"
     ]
    }
   ],
   "execution_count": 42
  },
  {
   "metadata": {
    "ExecuteTime": {
     "end_time": "2025-06-15T12:56:55.125713Z",
     "start_time": "2025-06-15T12:56:55.122371Z"
    }
   },
   "cell_type": "code",
   "source": "del l[1]  # ---- deletes the item at index 1",
   "id": "3829c68be5d6b7b5",
   "outputs": [],
   "execution_count": 43
  },
  {
   "metadata": {
    "ExecuteTime": {
     "end_time": "2025-06-15T12:56:55.543613Z",
     "start_time": "2025-06-15T12:56:55.538985Z"
    }
   },
   "cell_type": "code",
   "source": "l",
   "id": "26ad2ec7a4e6eb75",
   "outputs": [
    {
     "data": {
      "text/plain": [
       "[10, 30, 40, 50]"
      ]
     },
     "execution_count": 44,
     "metadata": {},
     "output_type": "execute_result"
    }
   ],
   "execution_count": 44
  },
  {
   "metadata": {
    "ExecuteTime": {
     "end_time": "2025-06-15T12:56:55.956077Z",
     "start_time": "2025-06-15T12:56:55.952726Z"
    }
   },
   "cell_type": "code",
   "source": "del l[0:2]  # ---- deletes the items starting 0 till 1",
   "id": "fd917fccfcdfd947",
   "outputs": [],
   "execution_count": 45
  },
  {
   "metadata": {
    "ExecuteTime": {
     "end_time": "2025-06-15T12:56:56.319809Z",
     "start_time": "2025-06-15T12:56:56.316635Z"
    }
   },
   "cell_type": "code",
   "source": "l",
   "id": "4a61b9f11f71c747",
   "outputs": [
    {
     "data": {
      "text/plain": [
       "[40, 50]"
      ]
     },
     "execution_count": 46,
     "metadata": {},
     "output_type": "execute_result"
    }
   ],
   "execution_count": 46
  },
  {
   "metadata": {
    "ExecuteTime": {
     "end_time": "2025-06-15T14:56:34.626797Z",
     "start_time": "2025-06-15T14:56:34.623361Z"
    }
   },
   "cell_type": "code",
   "source": [
    "s1 = {1,3,5,7,6}\n",
    "s2 = {2,4,6,8}"
   ],
   "id": "88ca6c9b96f203b8",
   "outputs": [],
   "execution_count": 50
  },
  {
   "metadata": {
    "ExecuteTime": {
     "end_time": "2025-06-15T14:56:38.841628Z",
     "start_time": "2025-06-15T14:56:38.838233Z"
    }
   },
   "cell_type": "code",
   "source": "print(s1 | s2)  #---- Union operation",
   "id": "1009fc27ab9bc699",
   "outputs": [
    {
     "name": "stdout",
     "output_type": "stream",
     "text": [
      "{1, 2, 3, 4, 5, 6, 7, 8}\n"
     ]
    }
   ],
   "execution_count": 51
  },
  {
   "metadata": {
    "ExecuteTime": {
     "end_time": "2025-06-15T14:56:42.204986Z",
     "start_time": "2025-06-15T14:56:42.201995Z"
    }
   },
   "cell_type": "code",
   "source": "print(s1 & s2)  # --- and operation",
   "id": "4046fc3f97d350e0",
   "outputs": [
    {
     "name": "stdout",
     "output_type": "stream",
     "text": [
      "{6}\n"
     ]
    }
   ],
   "execution_count": 52
  },
  {
   "metadata": {
    "ExecuteTime": {
     "end_time": "2025-06-15T14:56:48.849508Z",
     "start_time": "2025-06-15T14:56:48.846502Z"
    }
   },
   "cell_type": "code",
   "source": "print(s1 - s2)  # ---- difference",
   "id": "9f291f896bcf859f",
   "outputs": [
    {
     "name": "stdout",
     "output_type": "stream",
     "text": [
      "{1, 3, 5, 7}\n"
     ]
    }
   ],
   "execution_count": 53
  },
  {
   "metadata": {
    "ExecuteTime": {
     "end_time": "2025-06-15T14:56:56.567226Z",
     "start_time": "2025-06-15T14:56:56.564309Z"
    }
   },
   "cell_type": "code",
   "source": "print(s1 ^ s2)  # ---- symmetric difference or xor meaning they will give all the elements except the common elements",
   "id": "ea75a7e1b3327dec",
   "outputs": [
    {
     "name": "stdout",
     "output_type": "stream",
     "text": [
      "{1, 2, 3, 4, 5, 7, 8}\n"
     ]
    }
   ],
   "execution_count": 54
  },
  {
   "metadata": {
    "ExecuteTime": {
     "end_time": "2025-06-15T14:57:07.380462Z",
     "start_time": "2025-06-15T14:57:07.373792Z"
    }
   },
   "cell_type": "code",
   "source": "s1.union(s2)",
   "id": "def2ebb67025a326",
   "outputs": [
    {
     "data": {
      "text/plain": [
       "{1, 2, 3, 4, 5, 6, 7, 8}"
      ]
     },
     "execution_count": 55,
     "metadata": {},
     "output_type": "execute_result"
    }
   ],
   "execution_count": 55
  },
  {
   "metadata": {
    "ExecuteTime": {
     "end_time": "2025-06-15T15:18:02.160691Z",
     "start_time": "2025-06-15T15:18:02.153908Z"
    }
   },
   "cell_type": "code",
   "source": [
    "### Implicit type conversion\n",
    "\n",
    "a = 10\n",
    "b = 1.5\n",
    "c = a + b\n",
    "print(c)"
   ],
   "id": "2e68c1225b5640df",
   "outputs": [
    {
     "name": "stdout",
     "output_type": "stream",
     "text": [
      "11.5\n"
     ]
    }
   ],
   "execution_count": 56
  },
  {
   "metadata": {
    "ExecuteTime": {
     "end_time": "2025-06-15T15:18:17.927674Z",
     "start_time": "2025-06-15T15:18:17.924904Z"
    }
   },
   "cell_type": "code",
   "source": [
    "d = True\n",
    "e = a + d  # adding an integer to a boolean value. It automatically upgrades to integer from boolean\n",
    "print(e)"
   ],
   "id": "88c304d8f4f6f177",
   "outputs": [
    {
     "name": "stdout",
     "output_type": "stream",
     "text": [
      "11\n"
     ]
    }
   ],
   "execution_count": 57
  },
  {
   "metadata": {
    "ExecuteTime": {
     "end_time": "2025-06-15T15:19:40.154839Z",
     "start_time": "2025-06-15T15:19:40.148296Z"
    }
   },
   "cell_type": "code",
   "source": [
    "### Explicit type conversion\n",
    "\n",
    "s = \"135\"   ### If we use \"abc\" instead of 135, we will get a string literal error\n",
    "i = 10 + int(s)\n",
    "f = float(s)\n",
    "print(i)\n",
    "print(f)"
   ],
   "id": "d4f9fc5538a5fbbd",
   "outputs": [
    {
     "name": "stdout",
     "output_type": "stream",
     "text": [
      "145\n",
      "135.0\n"
     ]
    }
   ],
   "execution_count": 58
  },
  {
   "metadata": {
    "ExecuteTime": {
     "end_time": "2025-06-15T15:20:53.822713Z",
     "start_time": "2025-06-15T15:20:53.815183Z"
    }
   },
   "cell_type": "code",
   "source": [
    "s = \"geeks\"\n",
    "print(list(s))\n",
    "print(tuple(s))\n",
    "print(set(s))"
   ],
   "id": "355dc0819366e4d8",
   "outputs": [
    {
     "name": "stdout",
     "output_type": "stream",
     "text": [
      "['g', 'e', 'e', 'k', 's']\n",
      "('g', 'e', 'e', 'k', 's')\n",
      "{'k', 'g', 'e', 's'}\n"
     ]
    }
   ],
   "execution_count": 59
  },
  {
   "metadata": {
    "ExecuteTime": {
     "end_time": "2025-06-15T15:22:59.778438Z",
     "start_time": "2025-06-15T15:22:59.772539Z"
    }
   },
   "cell_type": "code",
   "source": [
    "l = ['a', 'b', 'c']\n",
    "print(str(l))"
   ],
   "id": "c0d93dac3c241a20",
   "outputs": [
    {
     "name": "stdout",
     "output_type": "stream",
     "text": [
      "['a', 'b', 'c']\n"
     ]
    }
   ],
   "execution_count": 60
  },
  {
   "metadata": {
    "ExecuteTime": {
     "end_time": "2025-06-15T15:23:15.773239Z",
     "start_time": "2025-06-15T15:23:15.770106Z"
    }
   },
   "cell_type": "code",
   "source": [
    "a = 10\n",
    "b = 11\n",
    "print(str(a) + str(b))"
   ],
   "id": "33d0547ba2689071",
   "outputs": [
    {
     "name": "stdout",
     "output_type": "stream",
     "text": [
      "1011\n"
     ]
    }
   ],
   "execution_count": 61
  },
  {
   "metadata": {
    "ExecuteTime": {
     "end_time": "2025-06-15T15:23:28.141405Z",
     "start_time": "2025-06-15T15:23:28.138360Z"
    }
   },
   "cell_type": "code",
   "source": [
    "c = 12.5\n",
    "print(str(c))"
   ],
   "id": "cf6c55bef2e18921",
   "outputs": [
    {
     "name": "stdout",
     "output_type": "stream",
     "text": [
      "12.5\n"
     ]
    }
   ],
   "execution_count": 62
  },
  {
   "metadata": {
    "ExecuteTime": {
     "end_time": "2025-06-15T15:24:47.075555Z",
     "start_time": "2025-06-15T15:24:47.073502Z"
    }
   },
   "cell_type": "code",
   "source": [
    "t = (10,20,30)\n",
    "print(list(t))"
   ],
   "id": "e2454c34dac9dd2e",
   "outputs": [
    {
     "name": "stdout",
     "output_type": "stream",
     "text": [
      "[10, 20, 30]\n"
     ]
    }
   ],
   "execution_count": 63
  },
  {
   "metadata": {
    "ExecuteTime": {
     "end_time": "2025-06-15T15:25:02.582562Z",
     "start_time": "2025-06-15T15:25:02.579036Z"
    }
   },
   "cell_type": "code",
   "source": [
    "s = {10,20,30}\n",
    "print(list(s))"
   ],
   "id": "93a864d984fddb4f",
   "outputs": [
    {
     "name": "stdout",
     "output_type": "stream",
     "text": [
      "[10, 20, 30]\n"
     ]
    }
   ],
   "execution_count": 65
  },
  {
   "metadata": {
    "ExecuteTime": {
     "end_time": "2025-06-15T15:26:12.110343Z",
     "start_time": "2025-06-15T15:26:12.106556Z"
    }
   },
   "cell_type": "code",
   "source": [
    "a = 20\n",
    "print(bin(a))\n",
    "print(hex(a))\n",
    "print(oct(a))"
   ],
   "id": "79643e9ddb05b7c5",
   "outputs": [
    {
     "name": "stdout",
     "output_type": "stream",
     "text": [
      "0b10100\n",
      "0x14\n",
      "0o24\n"
     ]
    }
   ],
   "execution_count": 66
  },
  {
   "metadata": {
    "ExecuteTime": {
     "end_time": "2025-06-15T15:32:39.304766Z",
     "start_time": "2025-06-15T15:32:39.301470Z"
    }
   },
   "cell_type": "code",
   "source": [
    "a = '1001'\n",
    "print(int(a, 2)) # binary to decimal"
   ],
   "id": "4f7733e739861197",
   "outputs": [
    {
     "name": "stdout",
     "output_type": "stream",
     "text": [
      "9\n"
     ]
    }
   ],
   "execution_count": 71
  },
  {
   "metadata": {
    "ExecuteTime": {
     "end_time": "2025-06-15T15:32:39.606598Z",
     "start_time": "2025-06-15T15:32:39.603609Z"
    }
   },
   "cell_type": "code",
   "source": [
    "b = '12'\n",
    "print(int(b, 8))  # -- Octal conversion to decimal"
   ],
   "id": "cb3596d05563a16b",
   "outputs": [
    {
     "name": "stdout",
     "output_type": "stream",
     "text": [
      "10\n"
     ]
    }
   ],
   "execution_count": 72
  },
  {
   "metadata": {
    "ExecuteTime": {
     "end_time": "2025-06-15T15:32:39.996142Z",
     "start_time": "2025-06-15T15:32:39.992982Z"
    }
   },
   "cell_type": "code",
   "source": [
    "c = \"A1\"\n",
    "print(int(c, 16))  # --- Hexadecimal to decimal"
   ],
   "id": "e7f1f5a250da2283",
   "outputs": [
    {
     "name": "stdout",
     "output_type": "stream",
     "text": [
      "161\n"
     ]
    }
   ],
   "execution_count": 73
  },
  {
   "metadata": {},
   "cell_type": "code",
   "outputs": [],
   "execution_count": null,
   "source": "",
   "id": "7e044e3874266c67"
  }
 ],
 "metadata": {
  "kernelspec": {
   "display_name": "Python 3",
   "language": "python",
   "name": "python3"
  },
  "language_info": {
   "codemirror_mode": {
    "name": "ipython",
    "version": 2
   },
   "file_extension": ".py",
   "mimetype": "text/x-python",
   "name": "python",
   "nbconvert_exporter": "python",
   "pygments_lexer": "ipython2",
   "version": "2.7.6"
  }
 },
 "nbformat": 4,
 "nbformat_minor": 5
}
