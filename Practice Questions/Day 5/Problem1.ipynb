{
 "cells": [
  {
   "metadata": {},
   "cell_type": "markdown",
   "source": "Write to a file: user’s name and age",
   "id": "28cfc7a6a7e9a2b3"
  },
  {
   "metadata": {
    "ExecuteTime": {
     "end_time": "2025-06-12T08:05:43.714196Z",
     "start_time": "2025-06-12T08:05:43.707971Z"
    }
   },
   "cell_type": "code",
   "source": [
    "with open('textfile.txt') as my_new_file:\n",
    "    contents = my_new_file.read()"
   ],
   "id": "92a5cd93e471f778",
   "outputs": [],
   "execution_count": 25
  },
  {
   "metadata": {
    "ExecuteTime": {
     "end_time": "2025-06-12T08:05:52.767504Z",
     "start_time": "2025-06-12T08:05:44.289834Z"
    }
   },
   "cell_type": "code",
   "source": [
    "user_input = input(\"Enter your name and age: \")\n",
    "\n",
    "with open('textfile.txt', \"w\") as my_new_file:\n",
    "    my_new_file.write(user_input)"
   ],
   "id": "63a8a84d7661f326",
   "outputs": [],
   "execution_count": 26
  },
  {
   "metadata": {
    "ExecuteTime": {
     "end_time": "2025-06-12T08:05:53.707547Z",
     "start_time": "2025-06-12T08:05:53.703266Z"
    }
   },
   "cell_type": "code",
   "source": [
    "with open('textfile.txt', \"r\") as my_new_file:\n",
    "    contents = my_new_file.read()\n",
    "    print(contents)"
   ],
   "id": "59efcf5c3a8e7002",
   "outputs": [
    {
     "name": "stdout",
     "output_type": "stream",
     "text": [
      "Alice\n",
      "is\n",
      "26\n",
      "years\n",
      "old.\n"
     ]
    }
   ],
   "execution_count": 27
  },
  {
   "metadata": {
    "ExecuteTime": {
     "end_time": "2025-06-12T08:05:55.519406Z",
     "start_time": "2025-06-12T08:05:55.513029Z"
    }
   },
   "cell_type": "code",
   "source": "",
   "id": "97f6220423fbf636",
   "outputs": [],
   "execution_count": null
  },
  {
   "metadata": {
    "ExecuteTime": {
     "end_time": "2025-06-12T08:05:55.809818Z",
     "start_time": "2025-06-12T08:05:55.806625Z"
    }
   },
   "cell_type": "code",
   "source": "",
   "id": "5079e42fdd0d6e27",
   "outputs": [],
   "execution_count": null
  },
  {
   "metadata": {
    "ExecuteTime": {
     "end_time": "2025-06-12T08:05:56.114648Z",
     "start_time": "2025-06-12T08:05:56.112579Z"
    }
   },
   "cell_type": "code",
   "source": "",
   "id": "45bedb840a7c1aa6",
   "outputs": [],
   "execution_count": null
  },
  {
   "metadata": {},
   "cell_type": "markdown",
   "source": "Read from a file and count lines",
   "id": "1bc984a65a25790d"
  },
  {
   "metadata": {
    "ExecuteTime": {
     "end_time": "2025-06-12T08:06:04.538665Z",
     "start_time": "2025-06-12T08:06:04.531642Z"
    }
   },
   "cell_type": "code",
   "source": [
    "with open('textfile.txt',\"r\") as f:\n",
    "    contents = f.read().split(\"\\n\")\n",
    "    count = len(contents)\n",
    "    print(f\"Number of lines = {count}\")"
   ],
   "id": "7f97778237baed1a",
   "outputs": [
    {
     "name": "stdout",
     "output_type": "stream",
     "text": [
      "Number of lines = 5\n"
     ]
    }
   ],
   "execution_count": 29
  },
  {
   "metadata": {
    "ExecuteTime": {
     "end_time": "2025-06-12T08:07:11.689513Z",
     "start_time": "2025-06-12T08:07:11.684446Z"
    }
   },
   "cell_type": "code",
   "source": "",
   "id": "f7878e2dd7c3c218",
   "outputs": [],
   "execution_count": null
  },
  {
   "metadata": {
    "ExecuteTime": {
     "end_time": "2025-06-12T08:07:12.144151Z",
     "start_time": "2025-06-12T08:07:12.141296Z"
    }
   },
   "cell_type": "code",
   "source": "",
   "id": "fc2c7ed8520b48bb",
   "outputs": [],
   "execution_count": null
  },
  {
   "metadata": {},
   "cell_type": "code",
   "outputs": [],
   "execution_count": null,
   "source": "",
   "id": "db452513b5f41d3d"
  },
  {
   "metadata": {},
   "cell_type": "markdown",
   "source": "Count how many words are in a file",
   "id": "29398ad1c9ee567a"
  },
  {
   "metadata": {},
   "cell_type": "code",
   "outputs": [],
   "execution_count": null,
   "source": "",
   "id": "ce370e4a032b1966"
  }
 ],
 "metadata": {
  "kernelspec": {
   "display_name": "Python 3",
   "language": "python",
   "name": "python3"
  },
  "language_info": {
   "codemirror_mode": {
    "name": "ipython",
    "version": 2
   },
   "file_extension": ".py",
   "mimetype": "text/x-python",
   "name": "python",
   "nbconvert_exporter": "python",
   "pygments_lexer": "ipython2",
   "version": "2.7.6"
  }
 },
 "nbformat": 4,
 "nbformat_minor": 5
}
