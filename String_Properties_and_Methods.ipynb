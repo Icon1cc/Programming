{
 "cells": [
  {
   "cell_type": "code",
   "id": "initial_id",
   "metadata": {
    "collapsed": true,
    "ExecuteTime": {
     "end_time": "2025-05-24T19:19:53.355586Z",
     "start_time": "2025-05-24T19:19:53.353294Z"
    }
   },
   "source": [
    "# Immutability\n",
    "\n",
    "name = \"Sam\""
   ],
   "outputs": [],
   "execution_count": 1
  },
  {
   "metadata": {
    "ExecuteTime": {
     "end_time": "2025-05-24T19:20:21.528144Z",
     "start_time": "2025-05-24T19:20:21.415248Z"
    }
   },
   "cell_type": "code",
   "source": "name[0] = 'P'  # --- > This shows that the string value cannot be changed hence not mutable",
   "id": "52de0b6a2cdd526",
   "outputs": [
    {
     "ename": "TypeError",
     "evalue": "'str' object does not support item assignment",
     "output_type": "error",
     "traceback": [
      "\u001B[31m---------------------------------------------------------------------------\u001B[39m",
      "\u001B[31mTypeError\u001B[39m                                 Traceback (most recent call last)",
      "\u001B[36mCell\u001B[39m\u001B[36m \u001B[39m\u001B[32mIn[2]\u001B[39m\u001B[32m, line 1\u001B[39m\n\u001B[32m----> \u001B[39m\u001B[32m1\u001B[39m \u001B[43mname\u001B[49m\u001B[43m[\u001B[49m\u001B[32;43m0\u001B[39;49m\u001B[43m]\u001B[49m = \u001B[33m'\u001B[39m\u001B[33mP\u001B[39m\u001B[33m'\u001B[39m\n",
      "\u001B[31mTypeError\u001B[39m: 'str' object does not support item assignment"
     ]
    }
   ],
   "execution_count": 2
  },
  {
   "metadata": {
    "ExecuteTime": {
     "end_time": "2025-05-24T19:21:01.723246Z",
     "start_time": "2025-05-24T19:21:01.714596Z"
    }
   },
   "cell_type": "code",
   "source": "name = \"Sam\"",
   "id": "a051875711550edf",
   "outputs": [],
   "execution_count": 3
  },
  {
   "metadata": {
    "ExecuteTime": {
     "end_time": "2025-05-24T19:21:17.232022Z",
     "start_time": "2025-05-24T19:21:17.229200Z"
    }
   },
   "cell_type": "code",
   "source": "last_letters = name[1:]",
   "id": "dd2d91361aefa879",
   "outputs": [],
   "execution_count": 5
  },
  {
   "metadata": {
    "ExecuteTime": {
     "end_time": "2025-05-24T19:21:22.282681Z",
     "start_time": "2025-05-24T19:21:22.278299Z"
    }
   },
   "cell_type": "code",
   "source": "last_letters",
   "id": "a6a7f7fb80e0477e",
   "outputs": [
    {
     "data": {
      "text/plain": [
       "'am'"
      ]
     },
     "execution_count": 6,
     "metadata": {},
     "output_type": "execute_result"
    }
   ],
   "execution_count": 6
  },
  {
   "metadata": {
    "ExecuteTime": {
     "end_time": "2025-05-24T19:21:59.444783Z",
     "start_time": "2025-05-24T19:21:59.441216Z"
    }
   },
   "cell_type": "code",
   "source": "full_name = 'P' + last_letters # known as string concatenation",
   "id": "696c85bfae2f4f64",
   "outputs": [],
   "execution_count": 8
  },
  {
   "metadata": {
    "ExecuteTime": {
     "end_time": "2025-05-24T19:22:02.872346Z",
     "start_time": "2025-05-24T19:22:02.868023Z"
    }
   },
   "cell_type": "code",
   "source": "full_name",
   "id": "32dff8422846d582",
   "outputs": [
    {
     "data": {
      "text/plain": [
       "'Pam'"
      ]
     },
     "execution_count": 9,
     "metadata": {},
     "output_type": "execute_result"
    }
   ],
   "execution_count": 9
  },
  {
   "metadata": {
    "ExecuteTime": {
     "end_time": "2025-05-24T19:22:15.431833Z",
     "start_time": "2025-05-24T19:22:15.429561Z"
    }
   },
   "cell_type": "code",
   "source": "x = \"Hello World\"",
   "id": "68a9d3bfcc889e3d",
   "outputs": [],
   "execution_count": 10
  },
  {
   "metadata": {
    "ExecuteTime": {
     "end_time": "2025-05-24T19:22:37.973463Z",
     "start_time": "2025-05-24T19:22:37.968159Z"
    }
   },
   "cell_type": "code",
   "source": "x = x + \" it is beautiful outside\"",
   "id": "98a386377bef6ee5",
   "outputs": [],
   "execution_count": 11
  },
  {
   "metadata": {
    "ExecuteTime": {
     "end_time": "2025-05-24T19:22:39.685895Z",
     "start_time": "2025-05-24T19:22:39.681458Z"
    }
   },
   "cell_type": "code",
   "source": "x",
   "id": "cd80546131d91d1b",
   "outputs": [
    {
     "data": {
      "text/plain": [
       "'Hello World it is beautiful outside'"
      ]
     },
     "execution_count": 12,
     "metadata": {},
     "output_type": "execute_result"
    }
   ],
   "execution_count": 12
  },
  {
   "metadata": {
    "ExecuteTime": {
     "end_time": "2025-05-24T19:24:07.233401Z",
     "start_time": "2025-05-24T19:24:07.229521Z"
    }
   },
   "cell_type": "code",
   "source": "letter = 'z'",
   "id": "19b514f6f91cf159",
   "outputs": [],
   "execution_count": 13
  },
  {
   "metadata": {
    "ExecuteTime": {
     "end_time": "2025-05-24T19:24:31.854162Z",
     "start_time": "2025-05-24T19:24:31.849591Z"
    }
   },
   "cell_type": "code",
   "source": "letter * 10  # string multiplication",
   "id": "6fef35e41edcd059",
   "outputs": [
    {
     "data": {
      "text/plain": [
       "'zzzzzzzzzz'"
      ]
     },
     "execution_count": 15,
     "metadata": {},
     "output_type": "execute_result"
    }
   ],
   "execution_count": 15
  },
  {
   "metadata": {
    "ExecuteTime": {
     "end_time": "2025-05-24T19:24:36.362777Z",
     "start_time": "2025-05-24T19:24:36.358169Z"
    }
   },
   "cell_type": "code",
   "source": "2 + 3",
   "id": "e88ab0c3787dd04c",
   "outputs": [
    {
     "data": {
      "text/plain": [
       "5"
      ]
     },
     "execution_count": 16,
     "metadata": {},
     "output_type": "execute_result"
    }
   ],
   "execution_count": 16
  },
  {
   "metadata": {
    "ExecuteTime": {
     "end_time": "2025-05-24T19:24:43.664087Z",
     "start_time": "2025-05-24T19:24:43.660200Z"
    }
   },
   "cell_type": "code",
   "source": "'2' + '3'",
   "id": "683c0b4016484ee3",
   "outputs": [
    {
     "data": {
      "text/plain": [
       "'23'"
      ]
     },
     "execution_count": 17,
     "metadata": {},
     "output_type": "execute_result"
    }
   ],
   "execution_count": 17
  },
  {
   "metadata": {
    "ExecuteTime": {
     "end_time": "2025-05-24T19:33:20.801345Z",
     "start_time": "2025-05-24T19:33:20.793695Z"
    }
   },
   "cell_type": "code",
   "source": "x = \"Hello World\"",
   "id": "827347bf67492f22",
   "outputs": [],
   "execution_count": 3
  },
  {
   "metadata": {
    "ExecuteTime": {
     "end_time": "2025-05-24T19:35:40.093194Z",
     "start_time": "2025-05-24T19:35:40.086546Z"
    }
   },
   "cell_type": "code",
   "source": "x.upper()",
   "id": "2bea95e178524d4c",
   "outputs": [
    {
     "data": {
      "text/plain": [
       "'HELLO WORLD'"
      ]
     },
     "execution_count": 4,
     "metadata": {},
     "output_type": "execute_result"
    }
   ],
   "execution_count": 4
  },
  {
   "metadata": {
    "ExecuteTime": {
     "end_time": "2025-05-24T19:35:44.693576Z",
     "start_time": "2025-05-24T19:35:44.689612Z"
    }
   },
   "cell_type": "code",
   "source": "x.lower()",
   "id": "89ac5656d2149417",
   "outputs": [
    {
     "data": {
      "text/plain": [
       "'hello world'"
      ]
     },
     "execution_count": 5,
     "metadata": {},
     "output_type": "execute_result"
    }
   ],
   "execution_count": 5
  },
  {
   "metadata": {
    "ExecuteTime": {
     "end_time": "2025-05-24T19:35:52.128500Z",
     "start_time": "2025-05-24T19:35:52.125333Z"
    }
   },
   "cell_type": "code",
   "source": "x.split()",
   "id": "79cc397d53987c4c",
   "outputs": [
    {
     "data": {
      "text/plain": [
       "['Hello', 'World']"
      ]
     },
     "execution_count": 6,
     "metadata": {},
     "output_type": "execute_result"
    }
   ],
   "execution_count": 6
  },
  {
   "metadata": {
    "ExecuteTime": {
     "end_time": "2025-05-24T19:39:33.812096Z",
     "start_time": "2025-05-24T19:39:33.809060Z"
    }
   },
   "cell_type": "code",
   "source": "x = \"Hi my name is John Doe\"",
   "id": "3ee683317dba38a5",
   "outputs": [],
   "execution_count": 9
  },
  {
   "metadata": {
    "ExecuteTime": {
     "end_time": "2025-05-24T19:39:34.383475Z",
     "start_time": "2025-05-24T19:39:34.379707Z"
    }
   },
   "cell_type": "code",
   "source": "x.split()",
   "id": "af56e5f092caf23c",
   "outputs": [
    {
     "data": {
      "text/plain": [
       "['Hi', 'my', 'name', 'is', 'John', 'Doe']"
      ]
     },
     "execution_count": 10,
     "metadata": {},
     "output_type": "execute_result"
    }
   ],
   "execution_count": 10
  },
  {
   "metadata": {
    "ExecuteTime": {
     "end_time": "2025-05-24T19:39:52.664116Z",
     "start_time": "2025-05-24T19:39:52.660746Z"
    }
   },
   "cell_type": "code",
   "source": "x.split('i')",
   "id": "c59ea6d4139c5af",
   "outputs": [
    {
     "data": {
      "text/plain": [
       "['H', ' my name ', 's John Doe']"
      ]
     },
     "execution_count": 12,
     "metadata": {},
     "output_type": "execute_result"
    }
   ],
   "execution_count": 12
  }
 ],
 "metadata": {
  "kernelspec": {
   "display_name": "Python 3",
   "language": "python",
   "name": "python3"
  },
  "language_info": {
   "codemirror_mode": {
    "name": "ipython",
    "version": 2
   },
   "file_extension": ".py",
   "mimetype": "text/x-python",
   "name": "python",
   "nbconvert_exporter": "python",
   "pygments_lexer": "ipython2",
   "version": "2.7.6"
  }
 },
 "nbformat": 4,
 "nbformat_minor": 5
}
