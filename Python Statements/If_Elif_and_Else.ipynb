{
 "cells": [
  {
   "cell_type": "code",
   "id": "initial_id",
   "metadata": {
    "collapsed": true,
    "ExecuteTime": {
     "end_time": "2025-05-25T13:10:42.845329Z",
     "start_time": "2025-05-25T13:10:42.842271Z"
    }
   },
   "source": [
    "if True:\n",
    "    print(\"Its true\")"
   ],
   "outputs": [
    {
     "name": "stdout",
     "output_type": "stream",
     "text": [
      "Its true\n"
     ]
    }
   ],
   "execution_count": 1
  },
  {
   "metadata": {
    "ExecuteTime": {
     "end_time": "2025-05-25T13:11:04.016093Z",
     "start_time": "2025-05-25T13:11:04.012977Z"
    }
   },
   "cell_type": "code",
   "source": [
    "if 3 > 2:\n",
    "    print(\"Its True!\")"
   ],
   "id": "61871ff2489229d5",
   "outputs": [
    {
     "name": "stdout",
     "output_type": "stream",
     "text": [
      "Its True!\n"
     ]
    }
   ],
   "execution_count": 2
  },
  {
   "metadata": {
    "ExecuteTime": {
     "end_time": "2025-05-25T13:12:07.219299Z",
     "start_time": "2025-05-25T13:12:07.215692Z"
    }
   },
   "cell_type": "code",
   "source": [
    "hungry = False\n",
    "\n",
    "if hungry:\n",
    "    print(\"Feed Me\")\n",
    "else:\n",
    "    print(\"Feed MEEEEEE\")"
   ],
   "id": "681ce128aecc2883",
   "outputs": [
    {
     "name": "stdout",
     "output_type": "stream",
     "text": [
      "Feed MEEEEEE\n"
     ]
    }
   ],
   "execution_count": 6
  },
  {
   "metadata": {
    "ExecuteTime": {
     "end_time": "2025-05-25T13:14:07.132243Z",
     "start_time": "2025-05-25T13:14:07.128612Z"
    }
   },
   "cell_type": "code",
   "source": [
    "loc = 'Bank'\n",
    "\n",
    "if loc == 'Auto Shop':\n",
    "    print(\"Cars are cool\")\n",
    "elif loc == 'Bank':\n",
    "    print(\"Money is cool\")\n",
    "else:\n",
    "    print(\"I do not know much\")"
   ],
   "id": "d557912e261a7bfa",
   "outputs": [
    {
     "name": "stdout",
     "output_type": "stream",
     "text": [
      "Money is cool\n"
     ]
    }
   ],
   "execution_count": 8
  },
  {
   "metadata": {
    "ExecuteTime": {
     "end_time": "2025-05-25T13:14:49.437197Z",
     "start_time": "2025-05-25T13:14:49.425946Z"
    }
   },
   "cell_type": "code",
   "source": [
    "loc = 'Aus'\n",
    "\n",
    "if loc == 'Auto Shop':\n",
    "    print(\"Cars are cool\")\n",
    "elif loc == 'Bank':\n",
    "    print(\"Money is cool\")\n",
    "else:\n",
    "    print(\"I do not know much\")"
   ],
   "id": "5a322a4941860662",
   "outputs": [
    {
     "name": "stdout",
     "output_type": "stream",
     "text": [
      "I do not know much\n"
     ]
    }
   ],
   "execution_count": 9
  },
  {
   "metadata": {
    "ExecuteTime": {
     "end_time": "2025-05-25T13:15:58.812007Z",
     "start_time": "2025-05-25T13:15:58.808776Z"
    }
   },
   "cell_type": "code",
   "source": [
    "name = 'Sammy'\n",
    "\n",
    "if name == 'Franky':\n",
    "    print(\"Hello Franky\")\n",
    "elif name == 'Sammy':\n",
    "    print(\"Hello Sammy\")\n",
    "else:\n",
    "    print(\"What is your name?\")"
   ],
   "id": "783ce938a7e96fd8",
   "outputs": [
    {
     "name": "stdout",
     "output_type": "stream",
     "text": [
      "Hello Sammy\n"
     ]
    }
   ],
   "execution_count": 11
  },
  {
   "metadata": {
    "ExecuteTime": {
     "end_time": "2025-05-25T13:16:08.252729Z",
     "start_time": "2025-05-25T13:16:08.249488Z"
    }
   },
   "cell_type": "code",
   "source": [
    "name = 'Joy'\n",
    "\n",
    "if name == 'Franky':\n",
    "    print(\"Hello Franky\")\n",
    "elif name == 'Sammy':\n",
    "    print(\"Hello Sammy\")\n",
    "else:\n",
    "    print(\"What is your name?\")"
   ],
   "id": "65a27bd5860bacb1",
   "outputs": [
    {
     "name": "stdout",
     "output_type": "stream",
     "text": [
      "What is your name?\n"
     ]
    }
   ],
   "execution_count": 12
  }
 ],
 "metadata": {
  "kernelspec": {
   "display_name": "Python 3",
   "language": "python",
   "name": "python3"
  },
  "language_info": {
   "codemirror_mode": {
    "name": "ipython",
    "version": 2
   },
   "file_extension": ".py",
   "mimetype": "text/x-python",
   "name": "python",
   "nbconvert_exporter": "python",
   "pygments_lexer": "ipython2",
   "version": "2.7.6"
  }
 },
 "nbformat": 4,
 "nbformat_minor": 5
}
