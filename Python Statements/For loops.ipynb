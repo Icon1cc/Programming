{
 "cells": [
  {
   "cell_type": "code",
   "id": "initial_id",
   "metadata": {
    "collapsed": true,
    "ExecuteTime": {
     "end_time": "2025-05-25T13:21:41.344603Z",
     "start_time": "2025-05-25T13:21:41.342290Z"
    }
   },
   "source": "my_list = [1,2,3,4,5,6,7,8,9,10]",
   "outputs": [],
   "execution_count": 1
  },
  {
   "metadata": {
    "ExecuteTime": {
     "end_time": "2025-05-25T13:22:10.496407Z",
     "start_time": "2025-05-25T13:22:10.492434Z"
    }
   },
   "cell_type": "code",
   "source": [
    "for num in my_list:\n",
    "    print(num)"
   ],
   "id": "be8f3c64487bb430",
   "outputs": [
    {
     "name": "stdout",
     "output_type": "stream",
     "text": [
      "1\n",
      "2\n",
      "3\n",
      "4\n",
      "5\n",
      "6\n",
      "7\n",
      "8\n",
      "9\n",
      "10\n"
     ]
    }
   ],
   "execution_count": 2
  },
  {
   "metadata": {
    "ExecuteTime": {
     "end_time": "2025-05-25T13:23:28.722109Z",
     "start_time": "2025-05-25T13:23:28.718627Z"
    }
   },
   "cell_type": "code",
   "source": [
    "for num in my_list:\n",
    "    print(num + 2)"
   ],
   "id": "9f06f169eeffffa2",
   "outputs": [
    {
     "name": "stdout",
     "output_type": "stream",
     "text": [
      "3\n",
      "4\n",
      "5\n",
      "6\n",
      "7\n",
      "8\n",
      "9\n",
      "10\n",
      "11\n",
      "12\n"
     ]
    }
   ],
   "execution_count": 4
  },
  {
   "metadata": {
    "ExecuteTime": {
     "end_time": "2025-05-25T13:23:44.603043Z",
     "start_time": "2025-05-25T13:23:44.599450Z"
    }
   },
   "cell_type": "code",
   "source": [
    "for num in my_list:\n",
    "    print('hello')"
   ],
   "id": "46dca86c19dfb03c",
   "outputs": [
    {
     "name": "stdout",
     "output_type": "stream",
     "text": [
      "hello\n",
      "hello\n",
      "hello\n",
      "hello\n",
      "hello\n",
      "hello\n",
      "hello\n",
      "hello\n",
      "hello\n",
      "hello\n"
     ]
    }
   ],
   "execution_count": 6
  },
  {
   "metadata": {
    "ExecuteTime": {
     "end_time": "2025-05-25T13:25:16.512409Z",
     "start_time": "2025-05-25T13:25:16.507344Z"
    }
   },
   "cell_type": "code",
   "source": [
    "for num in my_list:\n",
    "    #check for even\n",
    "    if num%2 == 0:\n",
    "        print(f' Even number: {num}')\n",
    "    else:\n",
    "        print(f'Odd number: {num}')"
   ],
   "id": "86ce9343b43eacee",
   "outputs": [
    {
     "name": "stdout",
     "output_type": "stream",
     "text": [
      "Odd number: 1\n",
      " Even number: 2\n",
      "Odd number: 3\n",
      " Even number: 4\n",
      "Odd number: 5\n",
      " Even number: 6\n",
      "Odd number: 7\n",
      " Even number: 8\n",
      "Odd number: 9\n",
      " Even number: 10\n"
     ]
    }
   ],
   "execution_count": 8
  },
  {
   "metadata": {
    "ExecuteTime": {
     "end_time": "2025-05-25T13:26:14.010639Z",
     "start_time": "2025-05-25T13:26:14.006616Z"
    }
   },
   "cell_type": "code",
   "source": [
    "list_sum = 0\n",
    "\n",
    "for num in my_list:\n",
    "    list_sum = list_sum + num\n",
    "\n",
    "print (list_sum)"
   ],
   "id": "350ac7330db2d0e0",
   "outputs": [
    {
     "name": "stdout",
     "output_type": "stream",
     "text": [
      "55\n"
     ]
    }
   ],
   "execution_count": 10
  },
  {
   "metadata": {
    "ExecuteTime": {
     "end_time": "2025-05-25T13:27:06.507601Z",
     "start_time": "2025-05-25T13:27:06.503370Z"
    }
   },
   "cell_type": "code",
   "source": [
    "list_sum = 0\n",
    "\n",
    "for num in my_list:\n",
    "    list_sum = list_sum + num\n",
    "\n",
    "    print (list_sum)"
   ],
   "id": "d82f2c3257d41729",
   "outputs": [
    {
     "name": "stdout",
     "output_type": "stream",
     "text": [
      "1\n",
      "3\n",
      "6\n",
      "10\n",
      "15\n",
      "21\n",
      "28\n",
      "36\n",
      "45\n",
      "55\n"
     ]
    }
   ],
   "execution_count": 11
  },
  {
   "metadata": {
    "ExecuteTime": {
     "end_time": "2025-05-25T16:40:13.021208Z",
     "start_time": "2025-05-25T16:40:13.016157Z"
    }
   },
   "cell_type": "code",
   "source": [
    "mystring = \"hello world\"\n",
    "\n",
    "for letter in mystring:\n",
    "    print(letter)"
   ],
   "id": "81d0b10fd2afc6c9",
   "outputs": [
    {
     "name": "stdout",
     "output_type": "stream",
     "text": [
      "h\n",
      "e\n",
      "l\n",
      "l\n",
      "o\n",
      " \n",
      "w\n",
      "o\n",
      "r\n",
      "l\n",
      "d\n"
     ]
    }
   ],
   "execution_count": 12
  },
  {
   "metadata": {
    "ExecuteTime": {
     "end_time": "2025-05-25T16:40:39.075471Z",
     "start_time": "2025-05-25T16:40:39.072653Z"
    }
   },
   "cell_type": "code",
   "source": [
    "for letter in 'Hello World':\n",
    "    print(letter)"
   ],
   "id": "32178f7f019ab945",
   "outputs": [
    {
     "name": "stdout",
     "output_type": "stream",
     "text": [
      "H\n",
      "e\n",
      "l\n",
      "l\n",
      "o\n",
      " \n",
      "W\n",
      "o\n",
      "r\n",
      "l\n",
      "d\n"
     ]
    }
   ],
   "execution_count": 13
  },
  {
   "metadata": {
    "ExecuteTime": {
     "end_time": "2025-05-25T16:41:41.909355Z",
     "start_time": "2025-05-25T16:41:41.899160Z"
    }
   },
   "cell_type": "code",
   "source": [
    "tup = (1,2,3)\n",
    "\n",
    "for item in tup:\n",
    "    print(item)"
   ],
   "id": "933f5fcf258e4159",
   "outputs": [
    {
     "name": "stdout",
     "output_type": "stream",
     "text": [
      "1\n",
      "2\n",
      "3\n"
     ]
    }
   ],
   "execution_count": 14
  },
  {
   "metadata": {
    "ExecuteTime": {
     "end_time": "2025-05-25T16:42:12.093612Z",
     "start_time": "2025-05-25T16:42:12.090967Z"
    }
   },
   "cell_type": "code",
   "source": "mylist = [(1,2,3), (4,5,6), (7,8,9)]",
   "id": "e8c5caaa99d7300c",
   "outputs": [],
   "execution_count": 15
  },
  {
   "metadata": {
    "ExecuteTime": {
     "end_time": "2025-05-25T16:42:20.181383Z",
     "start_time": "2025-05-25T16:42:20.176950Z"
    }
   },
   "cell_type": "code",
   "source": "len(mylist)",
   "id": "f307fd491764194e",
   "outputs": [
    {
     "data": {
      "text/plain": [
       "3"
      ]
     },
     "execution_count": 16,
     "metadata": {},
     "output_type": "execute_result"
    }
   ],
   "execution_count": 16
  },
  {
   "metadata": {
    "ExecuteTime": {
     "end_time": "2025-05-25T16:42:36.859170Z",
     "start_time": "2025-05-25T16:42:36.856481Z"
    }
   },
   "cell_type": "code",
   "source": [
    "for item in mylist:\n",
    "    print(item)"
   ],
   "id": "2c7c988fbcd18ae2",
   "outputs": [
    {
     "name": "stdout",
     "output_type": "stream",
     "text": [
      "(1, 2, 3)\n",
      "(4, 5, 6)\n",
      "(7, 8, 9)\n"
     ]
    }
   ],
   "execution_count": 17
  },
  {
   "metadata": {
    "ExecuteTime": {
     "end_time": "2025-05-25T16:44:16.357415Z",
     "start_time": "2025-05-25T16:44:16.353324Z"
    }
   },
   "cell_type": "code",
   "source": [
    "for (a,b,c) in mylist:\n",
    "    print(a)\n",
    "    print(b)\n",
    "    print(c)\n",
    "\n",
    "    ## ---> Also known as tuple unpacking"
   ],
   "id": "d2e36296566a83d0",
   "outputs": [
    {
     "name": "stdout",
     "output_type": "stream",
     "text": [
      "1\n",
      "2\n",
      "3\n",
      "4\n",
      "5\n",
      "6\n",
      "7\n",
      "8\n",
      "9\n"
     ]
    }
   ],
   "execution_count": 20
  },
  {
   "metadata": {
    "ExecuteTime": {
     "end_time": "2025-05-25T16:45:29.083141Z",
     "start_time": "2025-05-25T16:45:29.080469Z"
    }
   },
   "cell_type": "code",
   "source": [
    "for (a,b,c) in mylist:\n",
    "    print(b)"
   ],
   "id": "40ee152b3084aec",
   "outputs": [
    {
     "name": "stdout",
     "output_type": "stream",
     "text": [
      "2\n",
      "5\n",
      "8\n"
     ]
    }
   ],
   "execution_count": 21
  },
  {
   "metadata": {
    "ExecuteTime": {
     "end_time": "2025-05-25T16:46:05.541360Z",
     "start_time": "2025-05-25T16:46:05.537862Z"
    }
   },
   "cell_type": "code",
   "source": [
    "d = {'k1':1,'k2':2,'k3':3}\n",
    "\n",
    "for item in d:\n",
    "    print(item)"
   ],
   "id": "ffb5d67baabcb052",
   "outputs": [
    {
     "name": "stdout",
     "output_type": "stream",
     "text": [
      "k1\n",
      "k2\n",
      "k3\n"
     ]
    }
   ],
   "execution_count": 23
  },
  {
   "metadata": {
    "ExecuteTime": {
     "end_time": "2025-05-25T16:46:21.587494Z",
     "start_time": "2025-05-25T16:46:21.584402Z"
    }
   },
   "cell_type": "code",
   "source": [
    "for item in d.items():\n",
    "    print(item)"
   ],
   "id": "a709a300eb37b4f9",
   "outputs": [
    {
     "name": "stdout",
     "output_type": "stream",
     "text": [
      "('k1', 1)\n",
      "('k2', 2)\n",
      "('k3', 3)\n"
     ]
    }
   ],
   "execution_count": 24
  },
  {
   "metadata": {
    "ExecuteTime": {
     "end_time": "2025-05-25T16:46:57.650125Z",
     "start_time": "2025-05-25T16:46:57.647142Z"
    }
   },
   "cell_type": "code",
   "source": [
    "for key,value in d.items():\n",
    "    print(value)"
   ],
   "id": "6acb3853ec48d708",
   "outputs": [
    {
     "name": "stdout",
     "output_type": "stream",
     "text": [
      "1\n",
      "2\n",
      "3\n"
     ]
    }
   ],
   "execution_count": 26
  }
 ],
 "metadata": {
  "kernelspec": {
   "display_name": "Python 3",
   "language": "python",
   "name": "python3"
  },
  "language_info": {
   "codemirror_mode": {
    "name": "ipython",
    "version": 2
   },
   "file_extension": ".py",
   "mimetype": "text/x-python",
   "name": "python",
   "nbconvert_exporter": "python",
   "pygments_lexer": "ipython2",
   "version": "2.7.6"
  }
 },
 "nbformat": 4,
 "nbformat_minor": 5
}
