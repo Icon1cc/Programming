{
 "cells": [
  {
   "metadata": {
    "ExecuteTime": {
     "end_time": "2025-05-25T16:54:32.310810Z",
     "start_time": "2025-05-25T16:54:32.305433Z"
    }
   },
   "cell_type": "code",
   "source": [
    "x = 0\n",
    "\n",
    "while x < 5:\n",
    "    print(f'The current value of x is {x}')\n",
    "    x = x + 1\n",
    "else:\n",
    "    print(f'X is not less than 5 and the current value is {x}')"
   ],
   "id": "729a08bcbf248341",
   "outputs": [
    {
     "name": "stdout",
     "output_type": "stream",
     "text": [
      "The current value of x is 0\n",
      "The current value of x is 1\n",
      "The current value of x is 2\n",
      "The current value of x is 3\n",
      "The current value of x is 4\n",
      "X is not less than 5 and the current value is 5\n"
     ]
    }
   ],
   "execution_count": 2
  },
  {
   "metadata": {
    "ExecuteTime": {
     "end_time": "2025-05-25T16:56:15.732333Z",
     "start_time": "2025-05-25T16:56:15.725967Z"
    }
   },
   "cell_type": "code",
   "source": [
    "x = 0\n",
    "\n",
    "while x < 5:\n",
    "    print(f'The current value of x is {x}')\n",
    "    x = x + 2\n",
    "else:\n",
    "    print(f'X is not less than 5 and the current value is {x}')"
   ],
   "id": "cf38f3110a5e6f1e",
   "outputs": [
    {
     "name": "stdout",
     "output_type": "stream",
     "text": [
      "The current value of x is 0\n",
      "The current value of x is 2\n",
      "The current value of x is 4\n",
      "X is not less than 5 and the current value is 6\n"
     ]
    }
   ],
   "execution_count": 3
  },
  {
   "metadata": {
    "ExecuteTime": {
     "end_time": "2025-05-25T16:57:38.075575Z",
     "start_time": "2025-05-25T16:57:38.072047Z"
    }
   },
   "cell_type": "code",
   "source": [
    "x = [1,2,3]\n",
    "\n",
    "for item in x:\n",
    "    pass  #---> Does nothing here but python expects a block of code here hence we can use pass\n",
    "\n",
    "print('end of my script')"
   ],
   "id": "f6e06921181fc043",
   "outputs": [
    {
     "name": "stdout",
     "output_type": "stream",
     "text": [
      "end of my script\n"
     ]
    }
   ],
   "execution_count": 5
  },
  {
   "metadata": {
    "ExecuteTime": {
     "end_time": "2025-05-25T16:58:43.541270Z",
     "start_time": "2025-05-25T16:58:43.538069Z"
    }
   },
   "cell_type": "code",
   "source": [
    "mystring = 'Sammy'\n",
    "\n",
    "for letter in mystring:\n",
    "    if letter == 'a':\n",
    "        continue\n",
    "    print(letter)"
   ],
   "id": "73e63b2b9da3bebe",
   "outputs": [
    {
     "name": "stdout",
     "output_type": "stream",
     "text": [
      "S\n",
      "m\n",
      "m\n",
      "y\n"
     ]
    }
   ],
   "execution_count": 9
  },
  {
   "metadata": {
    "ExecuteTime": {
     "end_time": "2025-05-25T16:59:42.068254Z",
     "start_time": "2025-05-25T16:59:42.064762Z"
    }
   },
   "cell_type": "code",
   "source": [
    "mystring = 'Sammy'\n",
    "\n",
    "for letter in mystring:\n",
    "    if letter == 'a':\n",
    "        break\n",
    "    print(letter)"
   ],
   "id": "4de5715ff5663078",
   "outputs": [
    {
     "name": "stdout",
     "output_type": "stream",
     "text": [
      "S\n"
     ]
    }
   ],
   "execution_count": 10
  },
  {
   "metadata": {
    "ExecuteTime": {
     "end_time": "2025-05-25T17:00:32.567148Z",
     "start_time": "2025-05-25T17:00:32.563282Z"
    }
   },
   "cell_type": "code",
   "source": [
    "x = 0\n",
    "\n",
    "while x < 5:\n",
    "    print (x)\n",
    "    x += 1"
   ],
   "id": "fff0a808213d0bf5",
   "outputs": [
    {
     "name": "stdout",
     "output_type": "stream",
     "text": [
      "0\n",
      "1\n",
      "2\n",
      "3\n",
      "4\n"
     ]
    }
   ],
   "execution_count": 12
  },
  {
   "metadata": {
    "ExecuteTime": {
     "end_time": "2025-05-25T17:01:07.641534Z",
     "start_time": "2025-05-25T17:01:07.632177Z"
    }
   },
   "cell_type": "code",
   "source": [
    "x = 0\n",
    "\n",
    "while x < 5:\n",
    "\n",
    "    if x ==2 :\n",
    "        break\n",
    "    print (x)\n",
    "    x += 1"
   ],
   "id": "4c87ec1b642e2671",
   "outputs": [
    {
     "name": "stdout",
     "output_type": "stream",
     "text": [
      "0\n",
      "1\n"
     ]
    }
   ],
   "execution_count": 13
  }
 ],
 "metadata": {
  "kernelspec": {
   "display_name": "Python 3",
   "language": "python",
   "name": "python3"
  },
  "language_info": {
   "codemirror_mode": {
    "name": "ipython",
    "version": 2
   },
   "file_extension": ".py",
   "mimetype": "text/x-python",
   "name": "python",
   "nbconvert_exporter": "python",
   "pygments_lexer": "ipython2",
   "version": "2.7.6"
  }
 },
 "nbformat": 4,
 "nbformat_minor": 5
}
