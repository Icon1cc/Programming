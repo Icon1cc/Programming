{
 "cells": [
  {
   "cell_type": "code",
   "id": "initial_id",
   "metadata": {
    "collapsed": true,
    "ExecuteTime": {
     "end_time": "2025-05-23T13:43:05.384522Z",
     "start_time": "2025-05-23T13:43:05.378575Z"
    }
   },
   "source": "1+1",
   "outputs": [
    {
     "data": {
      "text/plain": [
       "2"
      ]
     },
     "execution_count": 1,
     "metadata": {},
     "output_type": "execute_result"
    }
   ],
   "execution_count": 1
  },
  {
   "metadata": {
    "ExecuteTime": {
     "end_time": "2025-05-23T13:43:16.780905Z",
     "start_time": "2025-05-23T13:43:16.756451Z"
    }
   },
   "cell_type": "code",
   "source": "print(\"Hello World\")",
   "id": "add56806344a98c3",
   "outputs": [
    {
     "name": "stdout",
     "output_type": "stream",
     "text": [
      "Hello World\n"
     ]
    }
   ],
   "execution_count": 2
  },
  {
   "metadata": {
    "ExecuteTime": {
     "end_time": "2025-05-23T13:43:37.837638Z",
     "start_time": "2025-05-23T13:43:37.829626Z"
    }
   },
   "cell_type": "code",
   "source": "a = \"Hello World\"",
   "id": "ae9503b96a4aa331",
   "outputs": [],
   "execution_count": 3
  },
  {
   "metadata": {
    "ExecuteTime": {
     "end_time": "2025-05-23T13:43:42.606944Z",
     "start_time": "2025-05-23T13:43:42.594245Z"
    }
   },
   "cell_type": "code",
   "source": "type(a)",
   "id": "8728d54bca15ec0a",
   "outputs": [
    {
     "data": {
      "text/plain": [
       "str"
      ]
     },
     "execution_count": 4,
     "metadata": {},
     "output_type": "execute_result"
    }
   ],
   "execution_count": 4
  },
  {
   "metadata": {
    "ExecuteTime": {
     "end_time": "2025-05-23T13:43:47.955949Z",
     "start_time": "2025-05-23T13:43:47.949879Z"
    }
   },
   "cell_type": "code",
   "source": "len(a)",
   "id": "feee8db7da134be0",
   "outputs": [
    {
     "data": {
      "text/plain": [
       "11"
      ]
     },
     "execution_count": 5,
     "metadata": {},
     "output_type": "execute_result"
    }
   ],
   "execution_count": 5
  },
  {
   "metadata": {},
   "cell_type": "code",
   "outputs": [],
   "execution_count": null,
   "source": "",
   "id": "222f49003816d96e"
  }
 ],
 "metadata": {
  "kernelspec": {
   "display_name": "Python 3",
   "language": "python",
   "name": "python3"
  },
  "language_info": {
   "codemirror_mode": {
    "name": "ipython",
    "version": 2
   },
   "file_extension": ".py",
   "mimetype": "text/x-python",
   "name": "python",
   "nbconvert_exporter": "python",
   "pygments_lexer": "ipython2",
   "version": "2.7.6"
  }
 },
 "nbformat": 4,
 "nbformat_minor": 5
}
