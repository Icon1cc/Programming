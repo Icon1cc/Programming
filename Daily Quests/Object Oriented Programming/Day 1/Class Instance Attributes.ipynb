{
 "cells": [
  {
   "metadata": {},
   "cell_type": "markdown",
   "source": [
    "What’s happening here?\n",
    "compName is a class variable. It belongs to the class itself. All Employee objects share this single variable.\n",
    "\n",
    "You can access it with Employee.compName or e.compName, and both give the same result.\n",
    "\n",
    "id is an instance variable. It’s created inside __init__ with self.id = id, which means every object has its own unique id.\n",
    "\n",
    "__init__ runs automatically when you call Employee(1001), and sets up your object’s initial state."
   ],
   "id": "377d1b2b36e4172a"
  },
  {
   "cell_type": "code",
   "id": "initial_id",
   "metadata": {
    "collapsed": true,
    "ExecuteTime": {
     "end_time": "2025-07-07T15:19:05.593264Z",
     "start_time": "2025-07-07T15:19:05.582293Z"
    }
   },
   "source": [
    "class Employee:\n",
    "    # This is a class variable, shared by all instances of Employee.\n",
    "    compName = \"gfg\"\n",
    "\n",
    "    # __init__ is the constructor. It runs automatically when you create an Employee object.\n",
    "    def __init__(self, id):\n",
    "        # id is an instance variable, unique to each Employee object.\n",
    "        self.id = id\n",
    "\n",
    "# Create an Employee object 'e' with id=1001.\n",
    "e = Employee(1001)\n",
    "\n",
    "# Access the class variable compName through the instance 'e'.\n",
    "print(e.compName)  # Output: gfg\n",
    "\n",
    "# Access the instance variable id through the instance 'e'.\n",
    "print(e.id)        # Output: 1001\n",
    "\n",
    "# Access the class variable compName directly through the class name Employee.\n",
    "print(Employee.compName)  # Output: gfg"
   ],
   "outputs": [
    {
     "name": "stdout",
     "output_type": "stream",
     "text": [
      "gfg\n",
      "1001\n",
      "gfg\n"
     ]
    }
   ],
   "execution_count": 2
  },
  {
   "metadata": {},
   "cell_type": "code",
   "outputs": [],
   "execution_count": null,
   "source": "",
   "id": "920bd2dc6f2e75c8"
  }
 ],
 "metadata": {
  "kernelspec": {
   "display_name": "Python 3",
   "language": "python",
   "name": "python3"
  },
  "language_info": {
   "codemirror_mode": {
    "name": "ipython",
    "version": 2
   },
   "file_extension": ".py",
   "mimetype": "text/x-python",
   "name": "python",
   "nbconvert_exporter": "python",
   "pygments_lexer": "ipython2",
   "version": "2.7.6"
  }
 },
 "nbformat": 4,
 "nbformat_minor": 5
}
