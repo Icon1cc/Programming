{
 "cells": [
  {
   "metadata": {},
   "cell_type": "markdown",
   "source": [
    "What’s happening here?\n",
    "compName is a class variable. It belongs to the class itself. All Employee objects share this single variable.\n",
    "\n",
    "You can access it with Employee.compName or e.compName, and both give the same result.\n",
    "\n",
    "id is an instance variable. It’s created inside __init__ with self.id = id, which means every object has its own unique id.\n",
    "\n",
    "__init__ runs automatically when you call Employee(1001), and sets up your object’s initial state.\n",
    "\n",
    "You can also add new attributes directly, like e.designation = 'Builder'. This only affects e, not other Employee objects."
   ],
   "id": "377d1b2b36e4172a"
  },
  {
   "cell_type": "code",
   "id": "initial_id",
   "metadata": {
    "collapsed": true,
    "ExecuteTime": {
     "end_time": "2025-07-07T15:36:59.204114Z",
     "start_time": "2025-07-07T15:36:59.191716Z"
    }
   },
   "source": [
    "class Employee:\n",
    "    # This is a class variable, shared by all Employee objects.\n",
    "    compName = \"gfg\"\n",
    "\n",
    "    # __init__ is the constructor. It runs automatically when you create an Employee object.\n",
    "    def __init__(self, id):\n",
    "        # id is an instance variable, unique to each Employee object.\n",
    "        self.id = id\n",
    "\n",
    "    # fun() is a regular method that sets an instance variable 'name'.\n",
    "    def fun(self, n):\n",
    "        self.name = n\n",
    "\n",
    "# Create an Employee object 'e' with id=1001.\n",
    "e = Employee(1001)\n",
    "\n",
    "# Access the class variable compName through the instance 'e'.\n",
    "print(e.compName)  # gfg\n",
    "\n",
    "# Access the instance variable id through the instance 'e'.\n",
    "print(e.id)        # 1001\n",
    "\n",
    "# Access the class variable compName directly through the class name Employee.\n",
    "print(Employee.compName)  # gfg\n",
    "\n",
    "# Call the fun() method to set the instance variable 'name'.\n",
    "e.fun(\"Alice\")\n",
    "print(e.name)  # Alice\n",
    "\n",
    "# Create a new instance variable 'designation' directly from outside the class.\n",
    "e.designation = 'Builder'\n",
    "print(e.designation)  # Builder"
   ],
   "outputs": [
    {
     "name": "stdout",
     "output_type": "stream",
     "text": [
      "gfg\n",
      "1001\n",
      "gfg\n",
      "Alice\n",
      "Builder\n"
     ]
    }
   ],
   "execution_count": 3
  },
  {
   "metadata": {},
   "cell_type": "code",
   "outputs": [],
   "execution_count": null,
   "source": "",
   "id": "920bd2dc6f2e75c8"
  }
 ],
 "metadata": {
  "kernelspec": {
   "display_name": "Python 3",
   "language": "python",
   "name": "python3"
  },
  "language_info": {
   "codemirror_mode": {
    "name": "ipython",
    "version": 2
   },
   "file_extension": ".py",
   "mimetype": "text/x-python",
   "name": "python",
   "nbconvert_exporter": "python",
   "pygments_lexer": "ipython2",
   "version": "2.7.6"
  }
 },
 "nbformat": 4,
 "nbformat_minor": 5
}
