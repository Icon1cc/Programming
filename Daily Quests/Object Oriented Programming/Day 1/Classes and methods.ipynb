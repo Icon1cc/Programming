{
 "cells": [
  {
   "metadata": {},
   "cell_type": "markdown",
   "source": [
    "Detailed Explanation\n",
    "Class vs Object\n",
    "A class like Complex is just a template, like a recipe. An object like c1 or c2 is an actual dish you made using that recipe.\n",
    "\n",
    "self\n",
    "Inside the class, self refers to the current object. So self.real means the real attribute of the object you’re working with.\n",
    "\n",
    "init method\n",
    "It’s a special method called automatically when you create a new object. It sets the initial values of your object’s attributes.\n",
    "\n",
    "print() method\n",
    "Custom method you wrote to display the complex number nicely.\n",
    "\n",
    "add() method\n",
    "Another method that modifies your object by adding another complex number’s real and imaginary parts.\n",
    "\n",
    "Creating objects\n",
    "When you write c1 = Complex(10, 20), you create an object of your Complex class with 10 as real and 20 as imaginary.\n",
    "\n",
    "Using methods\n",
    "You call methods with dot notation like c1.print() or c1.add(c2). This is how you interact with your object."
   ],
   "id": "d9f659df989eca16"
  },
  {
   "cell_type": "code",
   "execution_count": null,
   "id": "initial_id",
   "metadata": {
    "collapsed": true
   },
   "outputs": [],
   "source": [
    "# Define a class named Complex that represents a complex number\n",
    "class Complex:\n",
    "    # __init__ is the constructor, it runs when you create a new Complex object.\n",
    "    # It takes two arguments: real and imag, and assigns them to the object.\n",
    "    def __init__(self, real, imag):\n",
    "        self.real = real        # self.real is an attribute holding the real part\n",
    "        self.imag = imag        # self.imag is an attribute holding the imaginary part\n",
    "\n",
    "    # print() method prints the complex number in \"real + iimag\" format.\n",
    "    def print(self):\n",
    "        print(str(self.real) + \" + i\" + str(self.imag))\n",
    "\n",
    "    # add() method takes another Complex object 'c' and adds its real and imag parts\n",
    "    # to the current object's real and imag parts.\n",
    "    def add(self, c):\n",
    "        self.real += c.real\n",
    "        self.imag += c.imag\n",
    "\n",
    "# Create first complex number object using our Complex class, with real=10 and imag=20\n",
    "c1 = Complex(10, 20)\n",
    "c1.print()  # Output: 10 + i20\n",
    "\n",
    "# Create second complex number object\n",
    "c2 = Complex(10, 20)\n",
    "\n",
    "# Add c2 to c1. This will modify c1's real and imag values.\n",
    "c1.add(c2)\n",
    "\n",
    "# Print c1 again to see the updated values\n",
    "c1.print()  # Output: 20 + i40\n"
   ]
  }
 ],
 "metadata": {
  "kernelspec": {
   "display_name": "Python 3",
   "language": "python",
   "name": "python3"
  },
  "language_info": {
   "codemirror_mode": {
    "name": "ipython",
    "version": 2
   },
   "file_extension": ".py",
   "mimetype": "text/x-python",
   "name": "python",
   "nbconvert_exporter": "python",
   "pygments_lexer": "ipython2",
   "version": "2.7.6"
  }
 },
 "nbformat": 4,
 "nbformat_minor": 5
}
