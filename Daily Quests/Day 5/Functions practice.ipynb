{
 "cells": [
  {
   "cell_type": "code",
   "id": "initial_id",
   "metadata": {
    "collapsed": true,
    "ExecuteTime": {
     "end_time": "2025-06-27T13:18:50.927181Z",
     "start_time": "2025-06-27T13:18:50.924391Z"
    }
   },
   "source": [
    "def fun():\n",
    "    print(\"Function called\")\n",
    "\n",
    "print(\"Before calling fun()\")\n",
    "fun()\n",
    "print(\"After calling fun()\")"
   ],
   "outputs": [
    {
     "name": "stdout",
     "output_type": "stream",
     "text": [
      "Before calling fun()\n",
      "Function called\n",
      "After calling fun()\n"
     ]
    }
   ],
   "execution_count": 1
  },
  {
   "metadata": {
    "ExecuteTime": {
     "end_time": "2025-06-27T13:21:07.846391Z",
     "start_time": "2025-06-27T13:21:07.840072Z"
    }
   },
   "cell_type": "code",
   "source": [
    "def printDate(d, m, y):\n",
    "    print(d, m, y, sep = \"-\")\n",
    "print(\"India became independent on: \")\n",
    "printDate(\"15\",\"08\",\"1947\")"
   ],
   "id": "dd2119e290c5d113",
   "outputs": [
    {
     "name": "stdout",
     "output_type": "stream",
     "text": [
      "India became independent on: \n",
      "15-08-1947\n"
     ]
    }
   ],
   "execution_count": 3
  },
  {
   "metadata": {
    "ExecuteTime": {
     "end_time": "2025-06-27T13:22:25.733567Z",
     "start_time": "2025-06-27T13:22:25.726945Z"
    }
   },
   "cell_type": "code",
   "source": [
    "def getDate(d, m, y):\n",
    "    return d + \"-\" + m + \"-\" + y\n",
    "\n",
    "print(\"India became independent on: \")\n",
    "d = getDate(\"15\",\"08\",\"1947\")\n",
    "print(d)"
   ],
   "id": "6bcc25660674b548",
   "outputs": [
    {
     "name": "stdout",
     "output_type": "stream",
     "text": [
      "India became independent on: \n",
      "15-08-1947\n"
     ]
    }
   ],
   "execution_count": 4
  },
  {
   "metadata": {},
   "cell_type": "code",
   "outputs": [],
   "execution_count": null,
   "source": "",
   "id": "52bf172500d77fe2"
  }
 ],
 "metadata": {
  "kernelspec": {
   "display_name": "Python 3",
   "language": "python",
   "name": "python3"
  },
  "language_info": {
   "codemirror_mode": {
    "name": "ipython",
    "version": 2
   },
   "file_extension": ".py",
   "mimetype": "text/x-python",
   "name": "python",
   "nbconvert_exporter": "python",
   "pygments_lexer": "ipython2",
   "version": "2.7.6"
  }
 },
 "nbformat": 4,
 "nbformat_minor": 5
}
