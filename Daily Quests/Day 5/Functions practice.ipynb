{
 "cells": [
  {
   "cell_type": "code",
   "id": "initial_id",
   "metadata": {
    "collapsed": true,
    "ExecuteTime": {
     "end_time": "2025-06-27T13:18:50.927181Z",
     "start_time": "2025-06-27T13:18:50.924391Z"
    }
   },
   "source": [
    "def fun():\n",
    "    print(\"Function called\")\n",
    "\n",
    "print(\"Before calling fun()\")\n",
    "fun()\n",
    "print(\"After calling fun()\")"
   ],
   "outputs": [
    {
     "name": "stdout",
     "output_type": "stream",
     "text": [
      "Before calling fun()\n",
      "Function called\n",
      "After calling fun()\n"
     ]
    }
   ],
   "execution_count": 1
  },
  {
   "metadata": {
    "ExecuteTime": {
     "end_time": "2025-06-27T13:21:07.846391Z",
     "start_time": "2025-06-27T13:21:07.840072Z"
    }
   },
   "cell_type": "code",
   "source": [
    "def printDate(d, m, y):\n",
    "    print(d, m, y, sep = \"-\")\n",
    "print(\"India became independent on: \")\n",
    "printDate(\"15\",\"08\",\"1947\")"
   ],
   "id": "dd2119e290c5d113",
   "outputs": [
    {
     "name": "stdout",
     "output_type": "stream",
     "text": [
      "India became independent on: \n",
      "15-08-1947\n"
     ]
    }
   ],
   "execution_count": 3
  },
  {
   "metadata": {
    "ExecuteTime": {
     "end_time": "2025-06-27T13:22:25.733567Z",
     "start_time": "2025-06-27T13:22:25.726945Z"
    }
   },
   "cell_type": "code",
   "source": [
    "def getDate(d, m, y):\n",
    "    return d + \"-\" + m + \"-\" + y\n",
    "\n",
    "print(\"India became independent on: \")\n",
    "d = getDate(\"15\",\"08\",\"1947\")\n",
    "print(d)"
   ],
   "id": "6bcc25660674b548",
   "outputs": [
    {
     "name": "stdout",
     "output_type": "stream",
     "text": [
      "India became independent on: \n",
      "15-08-1947\n"
     ]
    }
   ],
   "execution_count": 4
  },
  {
   "metadata": {
    "ExecuteTime": {
     "end_time": "2025-06-27T16:06:45.416658Z",
     "start_time": "2025-06-27T16:06:45.410584Z"
    }
   },
   "cell_type": "code",
   "source": [
    "## Default Arguments\n",
    "\n",
    "def printDetails(id, name = \"NA\", price = \"NA\"):\n",
    "    print(f\"ID is {id}\")\n",
    "    print(f\"Name is {name}\")\n",
    "    print(f\"Price is {price}\")\n",
    "\n",
    "printDetails(101, \"abc\", \"100\")\n",
    "print()\n",
    "printDetails(111, \" \", 100)\n",
    "print()\n",
    "printDetails(102)\n",
    "print()\n",
    "printDetails(102, 100)"
   ],
   "id": "52bf172500d77fe2",
   "outputs": [
    {
     "name": "stdout",
     "output_type": "stream",
     "text": [
      "ID is 101\n",
      "Name is abc\n",
      "Price is 100\n",
      "\n",
      "ID is 111\n",
      "Name is  \n",
      "Price is 100\n",
      "\n",
      "ID is 102\n",
      "Name is NA\n",
      "Price is NA\n",
      "\n",
      "ID is 102\n",
      "Name is 100\n",
      "Price is NA\n"
     ]
    }
   ],
   "execution_count": 8
  },
  {
   "metadata": {
    "ExecuteTime": {
     "end_time": "2025-06-27T16:09:24.145769Z",
     "start_time": "2025-06-27T16:09:24.138531Z"
    }
   },
   "cell_type": "code",
   "source": [
    "# Keyword arguments\n",
    "\n",
    "def printDetails(id, name=\"NA\", price=\"NA\"):\n",
    "    print(f\"ID is {id}\")\n",
    "    print(f\"Name is {name}\")\n",
    "    print(f\"Price is {price}\")\n",
    "\n",
    "printDetails(101, \"abc\", 100) # positional arguments\n",
    "print()\n",
    "printDetails(id = 102, price = 200, name = \"Alice\") # keyword arguments"
   ],
   "id": "56a2501f35128a96",
   "outputs": [
    {
     "name": "stdout",
     "output_type": "stream",
     "text": [
      "ID is 101\n",
      "Name is abc\n",
      "Price is 100\n",
      "\n",
      "ID is 102\n",
      "Name is Alice\n",
      "Price is 200\n"
     ]
    }
   ],
   "execution_count": 9
  },
  {
   "metadata": {
    "ExecuteTime": {
     "end_time": "2025-06-27T16:13:36.502784Z",
     "start_time": "2025-06-27T16:13:36.495595Z"
    }
   },
   "cell_type": "code",
   "source": [
    "# args and kwargs\n",
    "\n",
    "def sum(*nums):\n",
    "    res = 0\n",
    "    for x in nums:\n",
    "        res = res + x\n",
    "    return res\n",
    "\n",
    "print(sum(10,20,30,40,50))\n",
    "print(sum(10,20))\n",
    "print(sum(50,60,100))\n",
    "print(sum())"
   ],
   "id": "9b4e4615cce94d98",
   "outputs": [
    {
     "name": "stdout",
     "output_type": "stream",
     "text": [
      "150\n",
      "30\n",
      "210\n",
      "0\n"
     ]
    }
   ],
   "execution_count": 10
  },
  {
   "metadata": {
    "ExecuteTime": {
     "end_time": "2025-06-27T16:16:16.563266Z",
     "start_time": "2025-06-27T16:16:16.554273Z"
    }
   },
   "cell_type": "code",
   "source": [
    "def sum(init_sum, *nums):\n",
    "    res = init_sum\n",
    "    for i in nums:\n",
    "        res = res + i\n",
    "    return res\n",
    "\n",
    "print(sum(10,20,30,40,50))\n",
    "print(sum(10,20))\n",
    "print(sum(50,60,20))"
   ],
   "id": "dbcdd5a561b039a",
   "outputs": [
    {
     "name": "stdout",
     "output_type": "stream",
     "text": [
      "150\n",
      "30\n",
      "130\n"
     ]
    }
   ],
   "execution_count": 14
  },
  {
   "metadata": {},
   "cell_type": "markdown",
   "source": "",
   "id": "1093fb66be050acf"
  },
  {
   "metadata": {
    "ExecuteTime": {
     "end_time": "2025-06-27T16:32:49.737336Z",
     "start_time": "2025-06-27T16:32:49.726183Z"
    }
   },
   "cell_type": "code",
   "source": [
    "def printDetails(**details):\n",
    "    for d, v in details.items():\n",
    "        print(f\"{d} is {v}\")\n",
    "\n",
    "printDetails(id = 101, name = \"Alice\", price = 100)\n",
    "print()\n",
    "printDetails(id = 101, name = \"ALice\")"
   ],
   "id": "8cdb085ac1503296",
   "outputs": [
    {
     "name": "stdout",
     "output_type": "stream",
     "text": [
      "id is 101\n",
      "name is Alice\n",
      "price is 100\n",
      "\n",
      "id is 101\n",
      "name is ALice\n"
     ]
    }
   ],
   "execution_count": 16
  },
  {
   "metadata": {
    "ExecuteTime": {
     "end_time": "2025-06-27T16:54:45.341192Z",
     "start_time": "2025-06-27T16:54:45.335655Z"
    }
   },
   "cell_type": "code",
   "source": [
    "def multiply(x, y):\n",
    "    sum = x + y\n",
    "    mult = x * y\n",
    "    sub = y - x\n",
    "    return sum, mult, sub\n",
    "\n",
    "s, m, sub = multiply(15,35)\n",
    "print(s)\n",
    "print(m)\n",
    "print(sub)"
   ],
   "id": "dd42033ce4b31537",
   "outputs": [
    {
     "name": "stdout",
     "output_type": "stream",
     "text": [
      "50\n",
      "525\n",
      "20\n"
     ]
    }
   ],
   "execution_count": 18
  }
 ],
 "metadata": {
  "kernelspec": {
   "display_name": "Python 3",
   "language": "python",
   "name": "python3"
  },
  "language_info": {
   "codemirror_mode": {
    "name": "ipython",
    "version": 2
   },
   "file_extension": ".py",
   "mimetype": "text/x-python",
   "name": "python",
   "nbconvert_exporter": "python",
   "pygments_lexer": "ipython2",
   "version": "2.7.6"
  }
 },
 "nbformat": 4,
 "nbformat_minor": 5
}
