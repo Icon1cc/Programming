{
 "cells": [
  {
   "metadata": {},
   "cell_type": "markdown",
   "source": [
    "In Python, every member (variable or method) is public by default, so you can access them anywhere outside the class unless you explicitly make them private.\n",
    "\n",
    "What’s happening here?\n",
    "t.x and t.y are fully accessible outside the class.\n",
    "\n",
    "t.fun() can also be called directly.\n",
    "\n",
    "This is because, in Python, everything is public by default unless you use name mangling (like __private_var) or underscores to signal it should be private."
   ],
   "id": "933e6138c04a3a1"
  },
  {
   "cell_type": "code",
   "id": "initial_id",
   "metadata": {
    "collapsed": true,
    "ExecuteTime": {
     "end_time": "2025-07-07T16:19:00.213072Z",
     "start_time": "2025-07-07T16:19:00.207987Z"
    }
   },
   "source": [
    "class Test:\n",
    "    def __init__(self, x, y):\n",
    "        # x and y are instance variables, publicly accessible.\n",
    "        self.x = x\n",
    "        self.y = y\n",
    "\n",
    "    def fun(self):\n",
    "        print(\"Hi\")\n",
    "\n",
    "# Create a Test object 't' with x=10 and y=20\n",
    "t = Test(10, 20)\n",
    "\n",
    "# Access instance variables directly outside the class\n",
    "print(t.x)  # 10\n",
    "print(t.y)  # 20\n",
    "\n",
    "# Call the fun() method outside the class\n",
    "t.fun()     # Hi"
   ],
   "outputs": [
    {
     "name": "stdout",
     "output_type": "stream",
     "text": [
      "10\n",
      "20\n",
      "Hi\n"
     ]
    }
   ],
   "execution_count": 4
  },
  {
   "metadata": {},
   "cell_type": "markdown",
   "source": [
    "When you use a single underscore before a variable or method name, it’s a convention to signal “this is internal, don’t use it outside the class.” But Python doesn’t actually stop you — it’s just a warning to other programmers.\n",
    "\n",
    "What’s happening here?\n",
    "_x and _fun() can still be accessed outside the class, but by convention you shouldn’t.\n",
    "\n",
    "Using a single underscore says “this is internal, you probably shouldn’t mess with it outside the class.”\n",
    "\n",
    "print(t.x) gives an error because you don’t have self.x, only self._x."
   ],
   "id": "c742070c2363afcf"
  },
  {
   "metadata": {
    "ExecuteTime": {
     "end_time": "2025-07-07T16:22:42.997135Z",
     "start_time": "2025-07-07T16:22:42.983930Z"
    }
   },
   "cell_type": "code",
   "source": [
    "class Test:\n",
    "    def __init__(self, x, y):\n",
    "        # _x has a single underscore: it's meant to be \"protected\" (internal use).\n",
    "        self._x = x\n",
    "        self.y = y  # y is public.\n",
    "\n",
    "    def _fun(self):\n",
    "        print(\"Hi\")\n",
    "\n",
    "# Create a Test object 't' with _x=10 and y=20\n",
    "t = Test(10, 20)\n",
    "\n",
    "# Trying to access t.x will fail because there's no t.x (it's _x).\n",
    "# print(t.x)  # This will raise an AttributeError\n",
    "\n",
    "# Accessing t._x works, but it's discouraged.\n",
    "print(t._x)  # 10\n",
    "\n",
    "# Access public variable t.y\n",
    "print(t.y)   # 20\n",
    "\n",
    "# Call the \"protected\" method _fun() outside the class. Again, it works,\n",
    "# but it's not recommended to use it like this.\n",
    "t._fun()     # Hi"
   ],
   "id": "af34c09070c63cbb",
   "outputs": [
    {
     "name": "stdout",
     "output_type": "stream",
     "text": [
      "10\n",
      "20\n",
      "Hi\n"
     ]
    }
   ],
   "execution_count": 5
  },
  {
   "metadata": {},
   "cell_type": "markdown",
   "source": [
    "When you use two underscores before a variable or method name, it becomes inaccessible using its original name from outside the class. This is called name mangling, and Python renames it internally to make accidental access harder. But you can still reach it using the mangled name.\n",
    "\n",
    "What’s happening here?\n",
    "__x and __fun() are \"private\" thanks to name mangling. Python internally renames them to _Test__x and _Test__fun.\n",
    "\n",
    "This doesn’t make them truly private — determined users can still access them, but it discourages casual messing around.\n",
    "\n",
    "print(t.y) works fine because y is still a public attribute."
   ],
   "id": "51432cf2c1b08c82"
  },
  {
   "metadata": {
    "ExecuteTime": {
     "end_time": "2025-07-07T16:26:41.831205Z",
     "start_time": "2025-07-07T16:26:41.823671Z"
    }
   },
   "cell_type": "code",
   "source": [
    "class Test:\n",
    "    def __init__(self, x, y):\n",
    "        # __x has double underscores: Python \"mangles\" it to _Test__x\n",
    "        self.__x = x\n",
    "        self.y = y  # y remains public.\n",
    "\n",
    "    def __fun(self):\n",
    "        print(\"Hi\")\n",
    "\n",
    "# Create a Test object 't' with __x=10 and y=20\n",
    "t = Test(10, 20)\n",
    "\n",
    "# Trying to access __x directly will fail:\n",
    "# print(t.__x)  # Uncommenting this line gives AttributeError\n",
    "\n",
    "# Access public variable t.y\n",
    "print(t.y)  # 20\n",
    "\n",
    "# Trying to call __fun() directly also fails:\n",
    "# t.__fun()  # Uncommenting this line gives AttributeError\n",
    "\n",
    "# But you can still access them with name mangling:\n",
    "print(t._Test__x)  # 10\n",
    "t._Test__fun()    # Hi"
   ],
   "id": "34111ccc3ca0cef7",
   "outputs": [
    {
     "name": "stdout",
     "output_type": "stream",
     "text": [
      "20\n",
      "10\n",
      "Hi\n"
     ]
    }
   ],
   "execution_count": 7
  },
  {
   "metadata": {},
   "cell_type": "markdown",
   "source": [
    "What’s happening here?\n",
    "You created a Test object t with x=5.\n",
    "\n",
    "Inside Test, __y is private thanks to double underscores.\n",
    "\n",
    "Your printTest() method can still access __y because it’s inside the class — privacy restrictions only affect external access.\n",
    "\n",
    "The method call must match the case of your method name: printTest() not printtest()."
   ],
   "id": "8cde767b35cc0f23"
  },
  {
   "metadata": {
    "ExecuteTime": {
     "end_time": "2025-07-07T16:30:18.298244Z",
     "start_time": "2025-07-07T16:30:18.292593Z"
    }
   },
   "cell_type": "code",
   "source": [
    "class Test:\n",
    "    def __init__(self, x):\n",
    "        self.x = x           # Public instance variable\n",
    "        self.__y = 10        # Private instance variable (name mangled)\n",
    "\n",
    "    def printTest(self):\n",
    "        # This method can access both public and private members\n",
    "        print(self.x)        # Print public variable\n",
    "        print(self.__y)      # Print private variable\n",
    "\n",
    "t = Test(5)\n",
    "\n",
    "# Correct call: match the case exactly\n",
    "t.printTest()  # Outputs:\n",
    "              # 5\n",
    "              # 10"
   ],
   "id": "60b83622dc56163c",
   "outputs": [
    {
     "name": "stdout",
     "output_type": "stream",
     "text": [
      "5\n",
      "10\n"
     ]
    }
   ],
   "execution_count": 8
  },
  {
   "metadata": {},
   "cell_type": "code",
   "outputs": [],
   "execution_count": null,
   "source": "",
   "id": "f7460c5012a813b8"
  }
 ],
 "metadata": {
  "kernelspec": {
   "display_name": "Python 3",
   "language": "python",
   "name": "python3"
  },
  "language_info": {
   "codemirror_mode": {
    "name": "ipython",
    "version": 2
   },
   "file_extension": ".py",
   "mimetype": "text/x-python",
   "name": "python",
   "nbconvert_exporter": "python",
   "pygments_lexer": "ipython2",
   "version": "2.7.6"
  }
 },
 "nbformat": 4,
 "nbformat_minor": 5
}
