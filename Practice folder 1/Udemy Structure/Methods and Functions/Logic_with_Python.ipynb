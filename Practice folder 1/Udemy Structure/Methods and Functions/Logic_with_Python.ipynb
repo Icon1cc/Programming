{
 "cells": [
  {
   "cell_type": "code",
   "id": "initial_id",
   "metadata": {
    "collapsed": true,
    "ExecuteTime": {
     "end_time": "2025-05-26T16:16:29.445393Z",
     "start_time": "2025-05-26T16:16:29.442483Z"
    }
   },
   "source": [
    "def is_even(num1):\n",
    "    if num1 % 2 == 0:\n",
    "        return 'even'\n",
    "    else:\n",
    "        return 'odd'"
   ],
   "outputs": [],
   "execution_count": 1
  },
  {
   "metadata": {
    "ExecuteTime": {
     "end_time": "2025-05-26T16:16:38.316313Z",
     "start_time": "2025-05-26T16:16:38.312443Z"
    }
   },
   "cell_type": "code",
   "source": "is_even(242)",
   "id": "9c85aae09a8961c0",
   "outputs": [
    {
     "data": {
      "text/plain": [
       "'even'"
      ]
     },
     "execution_count": 2,
     "metadata": {},
     "output_type": "execute_result"
    }
   ],
   "execution_count": 2
  },
  {
   "metadata": {
    "ExecuteTime": {
     "end_time": "2025-05-26T16:18:48.853966Z",
     "start_time": "2025-05-26T16:18:48.848469Z"
    }
   },
   "cell_type": "code",
   "source": [
    "def is_even(num1):\n",
    "    return num1 % 2 == 0"
   ],
   "id": "f176dda13c2b2994",
   "outputs": [],
   "execution_count": 3
  },
  {
   "metadata": {
    "ExecuteTime": {
     "end_time": "2025-05-26T16:18:53.858816Z",
     "start_time": "2025-05-26T16:18:53.854274Z"
    }
   },
   "cell_type": "code",
   "source": "is_even(20)",
   "id": "aa23e8fa46a6c5fc",
   "outputs": [
    {
     "data": {
      "text/plain": [
       "True"
      ]
     },
     "execution_count": 4,
     "metadata": {},
     "output_type": "execute_result"
    }
   ],
   "execution_count": 4
  },
  {
   "metadata": {
    "ExecuteTime": {
     "end_time": "2025-05-26T16:18:59.591258Z",
     "start_time": "2025-05-26T16:18:59.588266Z"
    }
   },
   "cell_type": "code",
   "source": "is_even(21)",
   "id": "b4f4071543430cd",
   "outputs": [
    {
     "data": {
      "text/plain": [
       "False"
      ]
     },
     "execution_count": 5,
     "metadata": {},
     "output_type": "execute_result"
    }
   ],
   "execution_count": 5
  },
  {
   "metadata": {
    "ExecuteTime": {
     "end_time": "2025-05-26T16:27:45.450652Z",
     "start_time": "2025-05-26T16:27:45.443522Z"
    }
   },
   "cell_type": "code",
   "source": [
    "# Return true if any number is even inside a list\n",
    "\n",
    "def check_even_list(num_list):\n",
    "    even_numbers = []\n",
    "    for number in num_list:\n",
    "        if number % 2 == 0:\n",
    "            even_numbers.append(number)\n",
    "        else:\n",
    "            pass\n",
    "    return even_numbers"
   ],
   "id": "6a22667df534259b",
   "outputs": [],
   "execution_count": 26
  },
  {
   "metadata": {
    "ExecuteTime": {
     "end_time": "2025-05-26T16:27:45.963281Z",
     "start_time": "2025-05-26T16:27:45.958557Z"
    }
   },
   "cell_type": "code",
   "source": "check_even_list([1,2,3,4,5])",
   "id": "90d64451216f456b",
   "outputs": [
    {
     "data": {
      "text/plain": [
       "[2, 4]"
      ]
     },
     "execution_count": 27,
     "metadata": {},
     "output_type": "execute_result"
    }
   ],
   "execution_count": 27
  },
  {
   "metadata": {
    "ExecuteTime": {
     "end_time": "2025-05-26T16:27:56.320458Z",
     "start_time": "2025-05-26T16:27:56.314981Z"
    }
   },
   "cell_type": "code",
   "source": "check_even_list([1,1,1,1,1])",
   "id": "9a5e7d73da6f51d1",
   "outputs": [
    {
     "data": {
      "text/plain": [
       "[]"
      ]
     },
     "execution_count": 28,
     "metadata": {},
     "output_type": "execute_result"
    }
   ],
   "execution_count": 28
  },
  {
   "metadata": {
    "ExecuteTime": {
     "end_time": "2025-05-26T16:27:57.259891Z",
     "start_time": "2025-05-26T16:27:57.255624Z"
    }
   },
   "cell_type": "code",
   "source": "check_even_list([1,1,1,1,4])",
   "id": "cf5a96f033a22ed5",
   "outputs": [
    {
     "data": {
      "text/plain": [
       "[4]"
      ]
     },
     "execution_count": 29,
     "metadata": {},
     "output_type": "execute_result"
    }
   ],
   "execution_count": 29
  },
  {
   "metadata": {
    "ExecuteTime": {
     "end_time": "2025-05-26T16:30:31.205499Z",
     "start_time": "2025-05-26T16:30:31.195526Z"
    }
   },
   "cell_type": "code",
   "source": [
    "def check_even_list(num_list):\n",
    "    return [num for num in num_list if num % 2 == 0]"
   ],
   "id": "548d29281215107",
   "outputs": [],
   "execution_count": 30
  },
  {
   "metadata": {
    "ExecuteTime": {
     "end_time": "2025-05-26T16:30:57.636293Z",
     "start_time": "2025-05-26T16:30:57.631383Z"
    }
   },
   "cell_type": "code",
   "source": "check_even_list([1,2,3,4,5,6])",
   "id": "9c9b427c6d768c91",
   "outputs": [
    {
     "data": {
      "text/plain": [
       "[2, 4, 6]"
      ]
     },
     "execution_count": 31,
     "metadata": {},
     "output_type": "execute_result"
    }
   ],
   "execution_count": 31
  }
 ],
 "metadata": {
  "kernelspec": {
   "display_name": "Python 3",
   "language": "python",
   "name": "python3"
  },
  "language_info": {
   "codemirror_mode": {
    "name": "ipython",
    "version": 2
   },
   "file_extension": ".py",
   "mimetype": "text/x-python",
   "name": "python",
   "nbconvert_exporter": "python",
   "pygments_lexer": "ipython2",
   "version": "2.7.6"
  }
 },
 "nbformat": 4,
 "nbformat_minor": 5
}
