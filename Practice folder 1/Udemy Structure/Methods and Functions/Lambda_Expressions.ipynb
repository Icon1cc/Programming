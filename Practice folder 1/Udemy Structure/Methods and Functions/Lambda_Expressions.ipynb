{
 "cells": [
  {
   "cell_type": "code",
   "id": "initial_id",
   "metadata": {
    "collapsed": true,
    "ExecuteTime": {
     "end_time": "2025-05-28T12:19:39.439008Z",
     "start_time": "2025-05-28T12:19:39.435877Z"
    }
   },
   "source": "help(map)",
   "outputs": [
    {
     "name": "stdout",
     "output_type": "stream",
     "text": [
      "Help on class map in module builtins:\n",
      "\n",
      "class map(object)\n",
      " |  map(func, *iterables) --> map object\n",
      " |\n",
      " |  Make an iterator that computes the function using arguments from\n",
      " |  each of the iterables.  Stops when the shortest iterable is exhausted.\n",
      " |\n",
      " |  Methods defined here:\n",
      " |\n",
      " |  __getattribute__(self, name, /)\n",
      " |      Return getattr(self, name).\n",
      " |\n",
      " |  __iter__(self, /)\n",
      " |      Implement iter(self).\n",
      " |\n",
      " |  __next__(self, /)\n",
      " |      Implement next(self).\n",
      " |\n",
      " |  __reduce__(...)\n",
      " |      Return state information for pickling.\n",
      " |\n",
      " |  ----------------------------------------------------------------------\n",
      " |  Static methods defined here:\n",
      " |\n",
      " |  __new__(*args, **kwargs)\n",
      " |      Create and return a new object.  See help(type) for accurate signature.\n",
      "\n"
     ]
    }
   ],
   "execution_count": 1
  },
  {
   "metadata": {
    "ExecuteTime": {
     "end_time": "2025-05-28T12:19:57.662653Z",
     "start_time": "2025-05-28T12:19:57.655984Z"
    }
   },
   "cell_type": "code",
   "source": [
    "def square(num):\n",
    "    return num**2"
   ],
   "id": "deb4ea627c9b4907",
   "outputs": [],
   "execution_count": 2
  },
  {
   "metadata": {
    "ExecuteTime": {
     "end_time": "2025-05-28T12:20:08.786117Z",
     "start_time": "2025-05-28T12:20:08.783081Z"
    }
   },
   "cell_type": "code",
   "source": "my_nums = [1,2,3,4,5]",
   "id": "2e4682bf72dbd3d8",
   "outputs": [],
   "execution_count": 3
  },
  {
   "metadata": {
    "ExecuteTime": {
     "end_time": "2025-05-28T12:21:04.266997Z",
     "start_time": "2025-05-28T12:21:04.258696Z"
    }
   },
   "cell_type": "code",
   "source": [
    "for item in map(square,my_nums):\n",
    "    print(item)"
   ],
   "id": "77d25ed3c823e152",
   "outputs": [
    {
     "name": "stdout",
     "output_type": "stream",
     "text": [
      "1\n",
      "4\n",
      "9\n",
      "16\n",
      "25\n"
     ]
    }
   ],
   "execution_count": 5
  },
  {
   "metadata": {
    "ExecuteTime": {
     "end_time": "2025-05-28T12:24:19.506683Z",
     "start_time": "2025-05-28T12:24:19.495153Z"
    }
   },
   "cell_type": "code",
   "source": "list(map(square,my_nums))\n",
   "id": "b3ef20bf64a8f85b",
   "outputs": [
    {
     "data": {
      "text/plain": [
       "[1, 4, 9, 16, 25]"
      ]
     },
     "execution_count": 6,
     "metadata": {},
     "output_type": "execute_result"
    }
   ],
   "execution_count": 6
  },
  {
   "metadata": {
    "ExecuteTime": {
     "end_time": "2025-05-28T12:25:06.645240Z",
     "start_time": "2025-05-28T12:25:06.640342Z"
    }
   },
   "cell_type": "code",
   "source": [
    "def splicer(mystring):\n",
    "    if len(mystring)%2 == 0:\n",
    "        return 'Even'\n",
    "    else:\n",
    "        return mystring[0]"
   ],
   "id": "754e684f9e8f370f",
   "outputs": [],
   "execution_count": 7
  },
  {
   "metadata": {
    "ExecuteTime": {
     "end_time": "2025-05-28T12:25:25.326116Z",
     "start_time": "2025-05-28T12:25:25.320739Z"
    }
   },
   "cell_type": "code",
   "source": "names = ['Andy','Eve','Cisco']",
   "id": "473259e412b879a0",
   "outputs": [],
   "execution_count": 8
  },
  {
   "metadata": {
    "ExecuteTime": {
     "end_time": "2025-05-28T12:25:57.754454Z",
     "start_time": "2025-05-28T12:25:57.748488Z"
    }
   },
   "cell_type": "code",
   "source": "list(map(splicer,names))",
   "id": "730dbfbaa85e618",
   "outputs": [
    {
     "data": {
      "text/plain": [
       "['Even', 'E', 'C']"
      ]
     },
     "execution_count": 9,
     "metadata": {},
     "output_type": "execute_result"
    }
   ],
   "execution_count": 9
  },
  {
   "metadata": {
    "ExecuteTime": {
     "end_time": "2025-05-28T12:27:01.247197Z",
     "start_time": "2025-05-28T12:27:01.242840Z"
    }
   },
   "cell_type": "code",
   "source": [
    "def check_even(num):\n",
    "    return num % 2 == 0"
   ],
   "id": "617acfd3e47be2a",
   "outputs": [],
   "execution_count": 10
  },
  {
   "metadata": {
    "ExecuteTime": {
     "end_time": "2025-05-28T12:27:16.316351Z",
     "start_time": "2025-05-28T12:27:16.312009Z"
    }
   },
   "cell_type": "code",
   "source": "series = [1,2,3,4,5,6,7,8,9]",
   "id": "79be2fd67cb8b1f6",
   "outputs": [],
   "execution_count": 11
  },
  {
   "metadata": {
    "ExecuteTime": {
     "end_time": "2025-05-28T12:28:04.387738Z",
     "start_time": "2025-05-28T12:28:04.383852Z"
    }
   },
   "cell_type": "code",
   "source": "list(filter(check_even,series))",
   "id": "c24cc5c944c9ec01",
   "outputs": [
    {
     "data": {
      "text/plain": [
       "[2, 4, 6, 8]"
      ]
     },
     "execution_count": 15,
     "metadata": {},
     "output_type": "execute_result"
    }
   ],
   "execution_count": 15
  },
  {
   "metadata": {
    "ExecuteTime": {
     "end_time": "2025-05-28T12:28:56.669236Z",
     "start_time": "2025-05-28T12:28:56.661665Z"
    }
   },
   "cell_type": "code",
   "source": [
    "for n in (filter(check_even,series)):\n",
    "    print(n)"
   ],
   "id": "fe755278fc6f7c4b",
   "outputs": [
    {
     "name": "stdout",
     "output_type": "stream",
     "text": [
      "2\n",
      "4\n",
      "6\n",
      "8\n"
     ]
    }
   ],
   "execution_count": 18
  },
  {
   "metadata": {
    "ExecuteTime": {
     "end_time": "2025-05-28T12:29:17.957990Z",
     "start_time": "2025-05-28T12:29:17.950006Z"
    }
   },
   "cell_type": "code",
   "source": [
    "def square(num):\n",
    "    result = num**2\n",
    "    return result"
   ],
   "id": "167369ce17377b0",
   "outputs": [],
   "execution_count": 19
  },
  {
   "metadata": {
    "ExecuteTime": {
     "end_time": "2025-05-28T12:29:21.426869Z",
     "start_time": "2025-05-28T12:29:21.423135Z"
    }
   },
   "cell_type": "code",
   "source": "square(5)",
   "id": "3aedab65d5335216",
   "outputs": [
    {
     "data": {
      "text/plain": [
       "25"
      ]
     },
     "execution_count": 20,
     "metadata": {},
     "output_type": "execute_result"
    }
   ],
   "execution_count": 20
  },
  {
   "metadata": {
    "ExecuteTime": {
     "end_time": "2025-05-28T12:30:04.339899Z",
     "start_time": "2025-05-28T12:30:04.334919Z"
    }
   },
   "cell_type": "code",
   "source": [
    "def square(num):\n",
    "    return num**2"
   ],
   "id": "c317b214129416c8",
   "outputs": [],
   "execution_count": 21
  },
  {
   "metadata": {
    "ExecuteTime": {
     "end_time": "2025-05-28T12:33:44.903082Z",
     "start_time": "2025-05-28T12:33:44.899582Z"
    }
   },
   "cell_type": "code",
   "source": [
    "# Let us convert the above function to a lambda expression\n",
    "\n",
    "square = lambda num: num ** 2"
   ],
   "id": "3f56f0879e78f261",
   "outputs": [],
   "execution_count": 23
  },
  {
   "metadata": {
    "ExecuteTime": {
     "end_time": "2025-05-28T12:33:48.562420Z",
     "start_time": "2025-05-28T12:33:48.559123Z"
    }
   },
   "cell_type": "code",
   "source": "square(25)",
   "id": "916633f62502131c",
   "outputs": [
    {
     "data": {
      "text/plain": [
       "625"
      ]
     },
     "execution_count": 24,
     "metadata": {},
     "output_type": "execute_result"
    }
   ],
   "execution_count": 24
  },
  {
   "metadata": {
    "ExecuteTime": {
     "end_time": "2025-05-28T12:34:43.827097Z",
     "start_time": "2025-05-28T12:34:43.818463Z"
    }
   },
   "cell_type": "code",
   "source": "list(map(lambda num:num**2,series))",
   "id": "5c79ffcf08d3739",
   "outputs": [
    {
     "data": {
      "text/plain": [
       "[1, 4, 9, 16, 25, 36, 49, 64, 81]"
      ]
     },
     "execution_count": 26,
     "metadata": {},
     "output_type": "execute_result"
    }
   ],
   "execution_count": 26
  },
  {
   "metadata": {
    "ExecuteTime": {
     "end_time": "2025-05-28T12:35:26.896821Z",
     "start_time": "2025-05-28T12:35:26.892540Z"
    }
   },
   "cell_type": "code",
   "source": [
    "# Lambda expression to check if a number is even\n",
    "\n",
    "result = lambda num : num % 2 == 0"
   ],
   "id": "aff376a34b6af75a",
   "outputs": [],
   "execution_count": 27
  },
  {
   "metadata": {
    "ExecuteTime": {
     "end_time": "2025-05-28T12:35:30.307365Z",
     "start_time": "2025-05-28T12:35:30.304456Z"
    }
   },
   "cell_type": "code",
   "source": "result (2)",
   "id": "4cd73b143dc3c939",
   "outputs": [
    {
     "data": {
      "text/plain": [
       "True"
      ]
     },
     "execution_count": 28,
     "metadata": {},
     "output_type": "execute_result"
    }
   ],
   "execution_count": 28
  },
  {
   "metadata": {
    "ExecuteTime": {
     "end_time": "2025-05-28T12:35:52.723680Z",
     "start_time": "2025-05-28T12:35:52.717169Z"
    }
   },
   "cell_type": "code",
   "source": "list(map(lambda num: num % 2 == 0, series))",
   "id": "788f7e46d7dfe732",
   "outputs": [
    {
     "data": {
      "text/plain": [
       "[False, True, False, True, False, True, False, True, False]"
      ]
     },
     "execution_count": 29,
     "metadata": {},
     "output_type": "execute_result"
    }
   ],
   "execution_count": 29
  },
  {
   "metadata": {
    "ExecuteTime": {
     "end_time": "2025-05-28T12:36:21.982387Z",
     "start_time": "2025-05-28T12:36:21.977751Z"
    }
   },
   "cell_type": "code",
   "source": "names",
   "id": "a489ab337f8025c1",
   "outputs": [
    {
     "data": {
      "text/plain": [
       "['Andy', 'Eve', 'Cisco']"
      ]
     },
     "execution_count": 30,
     "metadata": {},
     "output_type": "execute_result"
    }
   ],
   "execution_count": 30
  },
  {
   "metadata": {
    "ExecuteTime": {
     "end_time": "2025-05-28T12:37:22.213783Z",
     "start_time": "2025-05-28T12:37:22.201770Z"
    }
   },
   "cell_type": "code",
   "source": "list(map(lambda i : i[0],names))",
   "id": "a1b29a8645f499c1",
   "outputs": [
    {
     "data": {
      "text/plain": [
       "['A', 'E', 'C']"
      ]
     },
     "execution_count": 31,
     "metadata": {},
     "output_type": "execute_result"
    }
   ],
   "execution_count": 31
  },
  {
   "metadata": {
    "ExecuteTime": {
     "end_time": "2025-05-28T12:37:29.774119Z",
     "start_time": "2025-05-28T12:37:29.771093Z"
    }
   },
   "cell_type": "code",
   "source": "list(map(lambda i : i[::-1],names))",
   "id": "4d15eea4769afd8f",
   "outputs": [
    {
     "data": {
      "text/plain": [
       "['ydnA', 'evE', 'ocsiC']"
      ]
     },
     "execution_count": 32,
     "metadata": {},
     "output_type": "execute_result"
    }
   ],
   "execution_count": 32
  }
 ],
 "metadata": {
  "kernelspec": {
   "display_name": "Python 3",
   "language": "python",
   "name": "python3"
  },
  "language_info": {
   "codemirror_mode": {
    "name": "ipython",
    "version": 2
   },
   "file_extension": ".py",
   "mimetype": "text/x-python",
   "name": "python",
   "nbconvert_exporter": "python",
   "pygments_lexer": "ipython2",
   "version": "2.7.6"
  }
 },
 "nbformat": 4,
 "nbformat_minor": 5
}
