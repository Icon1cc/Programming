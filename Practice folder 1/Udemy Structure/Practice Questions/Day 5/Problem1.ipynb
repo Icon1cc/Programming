{
 "cells": [
  {
   "metadata": {},
   "cell_type": "markdown",
   "source": "Write to a file: user’s name and age",
   "id": "28cfc7a6a7e9a2b3"
  },
  {
   "metadata": {
    "ExecuteTime": {
     "end_time": "2025-06-12T08:05:43.714196Z",
     "start_time": "2025-06-12T08:05:43.707971Z"
    }
   },
   "cell_type": "code",
   "source": [
    "with open('textfile.txt') as my_new_file:\n",
    "    contents = my_new_file.read()"
   ],
   "id": "92a5cd93e471f778",
   "outputs": [],
   "execution_count": 25
  },
  {
   "metadata": {
    "ExecuteTime": {
     "end_time": "2025-06-12T08:05:52.767504Z",
     "start_time": "2025-06-12T08:05:44.289834Z"
    }
   },
   "cell_type": "code",
   "source": [
    "user_input = input(\"Enter your name and age: \")\n",
    "\n",
    "with open('textfile.txt', \"w\") as my_new_file:\n",
    "    my_new_file.write(user_input)"
   ],
   "id": "63a8a84d7661f326",
   "outputs": [],
   "execution_count": 26
  },
  {
   "metadata": {
    "ExecuteTime": {
     "end_time": "2025-06-12T08:05:53.707547Z",
     "start_time": "2025-06-12T08:05:53.703266Z"
    }
   },
   "cell_type": "code",
   "source": [
    "with open('textfile.txt', \"r\") as my_new_file:\n",
    "    contents = my_new_file.read()\n",
    "    print(contents)"
   ],
   "id": "59efcf5c3a8e7002",
   "outputs": [
    {
     "name": "stdout",
     "output_type": "stream",
     "text": [
      "Alice\n",
      "is\n",
      "26\n",
      "years\n",
      "old.\n"
     ]
    }
   ],
   "execution_count": 27
  },
  {
   "metadata": {
    "ExecuteTime": {
     "end_time": "2025-06-12T08:05:55.519406Z",
     "start_time": "2025-06-12T08:05:55.513029Z"
    }
   },
   "cell_type": "code",
   "source": "",
   "id": "97f6220423fbf636",
   "outputs": [],
   "execution_count": null
  },
  {
   "metadata": {
    "ExecuteTime": {
     "end_time": "2025-06-12T08:05:55.809818Z",
     "start_time": "2025-06-12T08:05:55.806625Z"
    }
   },
   "cell_type": "code",
   "source": "",
   "id": "5079e42fdd0d6e27",
   "outputs": [],
   "execution_count": null
  },
  {
   "metadata": {
    "ExecuteTime": {
     "end_time": "2025-06-12T08:05:56.114648Z",
     "start_time": "2025-06-12T08:05:56.112579Z"
    }
   },
   "cell_type": "code",
   "source": "",
   "id": "45bedb840a7c1aa6",
   "outputs": [],
   "execution_count": null
  },
  {
   "metadata": {},
   "cell_type": "markdown",
   "source": "Read from a file and count lines",
   "id": "1bc984a65a25790d"
  },
  {
   "metadata": {
    "ExecuteTime": {
     "end_time": "2025-06-12T08:06:04.538665Z",
     "start_time": "2025-06-12T08:06:04.531642Z"
    }
   },
   "cell_type": "code",
   "source": [
    "with open('textfile.txt', \"r\") as f:\n",
    "    contents = f.read().split(\"\\n\")\n",
    "    count = len(contents)\n",
    "    print(f\"Number of lines = {count}\")"
   ],
   "id": "7f97778237baed1a",
   "outputs": [
    {
     "name": "stdout",
     "output_type": "stream",
     "text": [
      "Number of lines = 5\n"
     ]
    }
   ],
   "execution_count": 29
  },
  {
   "metadata": {
    "ExecuteTime": {
     "end_time": "2025-06-12T08:07:11.689513Z",
     "start_time": "2025-06-12T08:07:11.684446Z"
    }
   },
   "cell_type": "code",
   "source": "",
   "id": "f7878e2dd7c3c218",
   "outputs": [],
   "execution_count": null
  },
  {
   "metadata": {
    "ExecuteTime": {
     "end_time": "2025-06-12T08:07:12.144151Z",
     "start_time": "2025-06-12T08:07:12.141296Z"
    }
   },
   "cell_type": "code",
   "source": "",
   "id": "fc2c7ed8520b48bb",
   "outputs": [],
   "execution_count": null
  },
  {
   "metadata": {},
   "cell_type": "code",
   "outputs": [],
   "execution_count": null,
   "source": "",
   "id": "db452513b5f41d3d"
  },
  {
   "metadata": {},
   "cell_type": "markdown",
   "source": "Count how many words are in a file",
   "id": "29398ad1c9ee567a"
  },
  {
   "metadata": {
    "ExecuteTime": {
     "end_time": "2025-06-12T16:13:55.202845Z",
     "start_time": "2025-06-12T16:13:55.198152Z"
    }
   },
   "cell_type": "code",
   "source": [
    "with open('textfile.txt', \"r\") as f:\n",
    "    contents = f.read()\n",
    "    words = contents.split()\n",
    "    count = len(words)\n",
    "    print(count)"
   ],
   "id": "ce370e4a032b1966",
   "outputs": [
    {
     "name": "stdout",
     "output_type": "stream",
     "text": [
      "5\n"
     ]
    }
   ],
   "execution_count": 3
  },
  {
   "metadata": {
    "ExecuteTime": {
     "end_time": "2025-06-12T16:14:23.654658Z",
     "start_time": "2025-06-12T16:14:23.652060Z"
    }
   },
   "cell_type": "code",
   "source": "",
   "id": "5855ebc9f20e1f32",
   "outputs": [],
   "execution_count": null
  },
  {
   "metadata": {
    "ExecuteTime": {
     "end_time": "2025-06-12T16:14:24.310040Z",
     "start_time": "2025-06-12T16:14:24.308491Z"
    }
   },
   "cell_type": "code",
   "source": "",
   "id": "4d77c767511a97d1",
   "outputs": [],
   "execution_count": null
  },
  {
   "metadata": {},
   "cell_type": "markdown",
   "source": "![image.png](attachment:76b34c39-c342-45c2-9706-0abef7796b9b.png)",
   "id": "ad292d74710d842",
   "attachments": {
    "76b34c39-c342-45c2-9706-0abef7796b9b.png": {
     "image/png": "[encoded data removed]"
    }
   }
  },
  {
   "metadata": {
    "ExecuteTime": {
     "end_time": "2025-06-12T16:23:34.600478Z",
     "start_time": "2025-06-12T16:23:18.245043Z"
    }
   },
   "cell_type": "code",
   "source": [
    "x = input(\"Enter the string\")\n",
    "words = x.split()\n",
    "count = len(words)\n",
    "\n",
    "result = f\"\"\"\n",
    "You entered:\n",
    "{x}\n",
    "\n",
    "word count : {count}\n",
    "\"\"\"\n",
    "\n",
    "print(result)"
   ],
   "id": "d7942aad341d3ea1",
   "outputs": [
    {
     "name": "stdout",
     "output_type": "stream",
     "text": [
      "\n",
      "You entered:\n",
      "Hello, my name is Alice and I live in United States.\n",
      "\n",
      "word count : 11\n",
      "\n"
     ]
    }
   ],
   "execution_count": 7
  }
 ],
 "metadata": {
  "kernelspec": {
   "display_name": "Python 3",
   "language": "python",
   "name": "python3"
  },
  "language_info": {
   "codemirror_mode": {
    "name": "ipython",
    "version": 2
   },
   "file_extension": ".py",
   "mimetype": "text/x-python",
   "name": "python",
   "nbconvert_exporter": "python",
   "pygments_lexer": "ipython2",
   "version": "2.7.6"
  }
 },
 "nbformat": 4,
 "nbformat_minor": 5
}
