{
 "cells": [
  {
   "cell_type": "code",
   "id": "initial_id",
   "metadata": {
    "collapsed": true,
    "ExecuteTime": {
     "end_time": "2025-06-20T13:35:28.126813Z",
     "start_time": "2025-06-20T13:34:41.848591Z"
    }
   },
   "source": [
    "### Arithmetic Progression\n",
    "\n",
    "a = int(input(\"Enter the value of a: \"))\n",
    "d = int(input(\"Enter the value of d: \"))\n",
    "n = int(input(\"Enter the value of n: \"))\n",
    "\n",
    "result = a + (n-1)*d\n",
    "\n",
    "print(\"The arithmetic progression is: \",result)"
   ],
   "outputs": [
    {
     "name": "stdout",
     "output_type": "stream",
     "text": [
      "The arithmetic progression is:  1010\n"
     ]
    }
   ],
   "execution_count": 1
  },
  {
   "metadata": {
    "ExecuteTime": {
     "end_time": "2025-06-20T13:43:07.946524Z",
     "start_time": "2025-06-20T13:43:03.427160Z"
    }
   },
   "cell_type": "code",
   "source": [
    "### Geometric Progression\n",
    "\n",
    "a = int(input(\"Enter the first term: \"))\n",
    "r = int(input(\"Enter the common ratio: \"))\n",
    "n = int(input(\"Enter the number of terms: \"))\n",
    "\n",
    "result = a*(r**(n-1))\n",
    "\n",
    "print(\"The geometric progression is: \",result)"
   ],
   "id": "b6dee86c83ddf857",
   "outputs": [
    {
     "name": "stdout",
     "output_type": "stream",
     "text": [
      "The geometric progression is:  5120000\n"
     ]
    }
   ],
   "execution_count": 5
  },
  {
   "metadata": {},
   "cell_type": "code",
   "outputs": [],
   "execution_count": null,
   "source": "",
   "id": "1b2a8eaa2d1f53d7"
  }
 ],
 "metadata": {
  "kernelspec": {
   "display_name": "Python 3",
   "language": "python",
   "name": "python3"
  },
  "language_info": {
   "codemirror_mode": {
    "name": "ipython",
    "version": 2
   },
   "file_extension": ".py",
   "mimetype": "text/x-python",
   "name": "python",
   "nbconvert_exporter": "python",
   "pygments_lexer": "ipython2",
   "version": "2.7.6"
  }
 },
 "nbformat": 4,
 "nbformat_minor": 5
}
