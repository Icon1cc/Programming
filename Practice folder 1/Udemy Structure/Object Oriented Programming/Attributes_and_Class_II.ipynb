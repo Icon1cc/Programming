{
 "cells": [
  {
   "cell_type": "code",
   "id": "initial_id",
   "metadata": {
    "collapsed": true,
    "ExecuteTime": {
     "end_time": "2025-06-04T19:25:09.054497Z",
     "start_time": "2025-06-04T19:25:09.050966Z"
    }
   },
   "source": [
    "class Dog():\n",
    "\n",
    "    # Class Object attribute\n",
    "    # Same for any instance of a class\n",
    "\n",
    "    species = 'Mammal'\n",
    "\n",
    "    def __init__(self,breed,name,spots):\n",
    "\n",
    "        #Attributes\n",
    "        # We take in the argument\n",
    "        # We assign it using self.attribute_name\n",
    "        # In this case we are using self.breed\n",
    "        self.breed = breed\n",
    "        self.name = name\n",
    "\n",
    "        # Expecting a boolean value true or false here\n",
    "        self.spots = spots"
   ],
   "outputs": [],
   "execution_count": 1
  },
  {
   "metadata": {
    "ExecuteTime": {
     "end_time": "2025-06-04T19:25:38.789838Z",
     "start_time": "2025-06-04T19:25:38.786871Z"
    }
   },
   "cell_type": "code",
   "source": "my_dog = Dog(breed='Lab',name='Sam',spots=False)",
   "id": "55093683d08f3c3c",
   "outputs": [],
   "execution_count": 2
  },
  {
   "metadata": {
    "ExecuteTime": {
     "end_time": "2025-06-04T19:25:51.958692Z",
     "start_time": "2025-06-04T19:25:51.952543Z"
    }
   },
   "cell_type": "code",
   "source": "type(my_dog)",
   "id": "4566090c1047323f",
   "outputs": [
    {
     "data": {
      "text/plain": [
       "__main__.Dog"
      ]
     },
     "execution_count": 3,
     "metadata": {},
     "output_type": "execute_result"
    }
   ],
   "execution_count": 3
  },
  {
   "metadata": {
    "ExecuteTime": {
     "end_time": "2025-06-04T19:26:04.111603Z",
     "start_time": "2025-06-04T19:26:04.107344Z"
    }
   },
   "cell_type": "code",
   "source": "my_dog.species",
   "id": "8340aab5ab6fce0d",
   "outputs": [
    {
     "data": {
      "text/plain": [
       "'Mammal'"
      ]
     },
     "execution_count": 4,
     "metadata": {},
     "output_type": "execute_result"
    }
   ],
   "execution_count": 4
  },
  {
   "metadata": {
    "ExecuteTime": {
     "end_time": "2025-06-04T19:40:36.394645Z",
     "start_time": "2025-06-04T19:40:36.390583Z"
    }
   },
   "cell_type": "code",
   "source": [
    "class Dog():\n",
    "\n",
    "    # Class Object attribute\n",
    "    # Same for any instance of a class\n",
    "\n",
    "    species = 'Mammal'\n",
    "\n",
    "    def __init__(self,breed,name):\n",
    "\n",
    "        #Attributes\n",
    "        # We take in the argument\n",
    "        # We assign it using self.attribute_name\n",
    "        # In this case we are using self.breed\n",
    "        self.breed = breed\n",
    "        self.name = name\n",
    "\n",
    "        # Expecting a boolean value true or false here\n",
    "        # self.spots = spots\n",
    "\n",
    "    ## We create a method here which are Operations/Actions\n",
    "\n",
    "    def bark(self):\n",
    "        print(\"Woof! My name is {}\".format(self.name))"
   ],
   "id": "65fb7aa48c7e9834",
   "outputs": [],
   "execution_count": 22
  },
  {
   "metadata": {
    "ExecuteTime": {
     "end_time": "2025-06-04T19:40:37.210691Z",
     "start_time": "2025-06-04T19:40:37.207572Z"
    }
   },
   "cell_type": "code",
   "source": "my_dog = Dog('Lab','Franky')",
   "id": "d3d4720ed0bc421",
   "outputs": [],
   "execution_count": 23
  },
  {
   "metadata": {
    "ExecuteTime": {
     "end_time": "2025-06-04T19:40:37.575171Z",
     "start_time": "2025-06-04T19:40:37.572688Z"
    }
   },
   "cell_type": "code",
   "source": "my_dog.species  # Just an attribute that we want to know and not something to execute",
   "id": "3ce860f2798479f8",
   "outputs": [
    {
     "data": {
      "text/plain": [
       "'Mammal'"
      ]
     },
     "execution_count": 24,
     "metadata": {},
     "output_type": "execute_result"
    }
   ],
   "execution_count": 24
  },
  {
   "metadata": {
    "ExecuteTime": {
     "end_time": "2025-06-04T19:40:37.826273Z",
     "start_time": "2025-06-04T19:40:37.822926Z"
    }
   },
   "cell_type": "code",
   "source": "my_dog.name",
   "id": "1713d8854f299ce4",
   "outputs": [
    {
     "data": {
      "text/plain": [
       "'Franky'"
      ]
     },
     "execution_count": 25,
     "metadata": {},
     "output_type": "execute_result"
    }
   ],
   "execution_count": 25
  },
  {
   "metadata": {
    "ExecuteTime": {
     "end_time": "2025-06-04T19:40:38.110143Z",
     "start_time": "2025-06-04T19:40:38.106909Z"
    }
   },
   "cell_type": "code",
   "source": "my_dog.bark",
   "id": "bc3c44c33a2377ad",
   "outputs": [
    {
     "data": {
      "text/plain": [
       "<bound method Dog.bark of <__main__.Dog object at 0x10494f4d0>>"
      ]
     },
     "execution_count": 26,
     "metadata": {},
     "output_type": "execute_result"
    }
   ],
   "execution_count": 26
  },
  {
   "metadata": {
    "ExecuteTime": {
     "end_time": "2025-06-04T19:40:38.457896Z",
     "start_time": "2025-06-04T19:40:38.455178Z"
    }
   },
   "cell_type": "code",
   "source": "my_dog.bark()   # action that the object can take hence we use methods for it",
   "id": "b47252b97294217b",
   "outputs": [
    {
     "name": "stdout",
     "output_type": "stream",
     "text": [
      "Woof! My name is Franky\n"
     ]
    }
   ],
   "execution_count": 27
  },
  {
   "metadata": {
    "ExecuteTime": {
     "end_time": "2025-06-04T19:42:01.383928Z",
     "start_time": "2025-06-04T19:42:01.381320Z"
    }
   },
   "cell_type": "code",
   "source": [
    "class Dog():\n",
    "\n",
    "    # Class Object attribute\n",
    "    # Same for any instance of a class\n",
    "\n",
    "    species = 'Mammal'\n",
    "\n",
    "    def __init__(self,breed,name):\n",
    "\n",
    "        #Attributes\n",
    "        # We take in the argument\n",
    "        # We assign it using self.attribute_name\n",
    "        # In this case we are using self.breed\n",
    "        self.breed = breed\n",
    "        self.name = name\n",
    "\n",
    "        # Expecting a boolean value true or false here\n",
    "        # self.spots = spots\n",
    "\n",
    "    ## We create a method here which are Operations/Actions\n",
    "\n",
    "    def bark(self,number):\n",
    "        print(\"Woof! My name is {} and the number is {}\".format(self.name, number))"
   ],
   "id": "d176340d6fd52234",
   "outputs": [],
   "execution_count": 28
  },
  {
   "metadata": {
    "ExecuteTime": {
     "end_time": "2025-06-04T19:42:10.021508Z",
     "start_time": "2025-06-04T19:42:10.018250Z"
    }
   },
   "cell_type": "code",
   "source": "my_dog = Dog('Lab','Franky')",
   "id": "8db503328094ab1d",
   "outputs": [],
   "execution_count": 29
  },
  {
   "metadata": {
    "ExecuteTime": {
     "end_time": "2025-06-04T19:42:17.961184Z",
     "start_time": "2025-06-04T19:42:17.957572Z"
    }
   },
   "cell_type": "code",
   "source": "my_dog.species",
   "id": "43a5a5a5aeb2d943",
   "outputs": [
    {
     "data": {
      "text/plain": [
       "'Mammal'"
      ]
     },
     "execution_count": 30,
     "metadata": {},
     "output_type": "execute_result"
    }
   ],
   "execution_count": 30
  },
  {
   "metadata": {
    "ExecuteTime": {
     "end_time": "2025-06-04T19:42:32.680355Z",
     "start_time": "2025-06-04T19:42:32.660120Z"
    }
   },
   "cell_type": "code",
   "source": "my_dog.bark()",
   "id": "c1fede10b3382a9e",
   "outputs": [
    {
     "ename": "TypeError",
     "evalue": "Dog.bark() missing 1 required positional argument: 'number'",
     "output_type": "error",
     "traceback": [
      "\u001B[31m---------------------------------------------------------------------------\u001B[39m",
      "\u001B[31mTypeError\u001B[39m                                 Traceback (most recent call last)",
      "\u001B[36mCell\u001B[39m\u001B[36m \u001B[39m\u001B[32mIn[31]\u001B[39m\u001B[32m, line 1\u001B[39m\n\u001B[32m----> \u001B[39m\u001B[32m1\u001B[39m \u001B[43mmy_dog\u001B[49m\u001B[43m.\u001B[49m\u001B[43mbark\u001B[49m\u001B[43m(\u001B[49m\u001B[43m)\u001B[49m\n",
      "\u001B[31mTypeError\u001B[39m: Dog.bark() missing 1 required positional argument: 'number'"
     ]
    }
   ],
   "execution_count": 31
  },
  {
   "metadata": {
    "ExecuteTime": {
     "end_time": "2025-06-04T19:42:55.542649Z",
     "start_time": "2025-06-04T19:42:55.539127Z"
    }
   },
   "cell_type": "code",
   "source": "my_dog.bark(10)",
   "id": "e63e028fb940401d",
   "outputs": [
    {
     "name": "stdout",
     "output_type": "stream",
     "text": [
      "Woof! My name is Franky and the number is 10\n"
     ]
    }
   ],
   "execution_count": 32
  },
  {
   "metadata": {
    "ExecuteTime": {
     "end_time": "2025-06-04T19:45:45.500302Z",
     "start_time": "2025-06-04T19:45:45.493581Z"
    }
   },
   "cell_type": "code",
   "source": [
    "class Circle():\n",
    "\n",
    "    # Class object attribute\n",
    "    pi = 3.14\n",
    "\n",
    "    def __init__(self,radius=1):\n",
    "\n",
    "        self.radius = radius\n",
    "\n",
    "    # Method\n",
    "\n",
    "    def get_circumference(self):\n",
    "\n",
    "        return self.radius * self.pi * 2"
   ],
   "id": "460d25842daa597d",
   "outputs": [],
   "execution_count": 33
  },
  {
   "metadata": {
    "ExecuteTime": {
     "end_time": "2025-06-04T19:46:56.776359Z",
     "start_time": "2025-06-04T19:46:56.773148Z"
    }
   },
   "cell_type": "code",
   "source": "my_circle = Circle(20)",
   "id": "ce1998fc9549b614",
   "outputs": [],
   "execution_count": 37
  },
  {
   "metadata": {
    "ExecuteTime": {
     "end_time": "2025-06-04T19:46:18.952580Z",
     "start_time": "2025-06-04T19:46:18.948358Z"
    }
   },
   "cell_type": "code",
   "source": "my_circle.pi",
   "id": "8156144ac08e037e",
   "outputs": [
    {
     "data": {
      "text/plain": [
       "3.14"
      ]
     },
     "execution_count": 35,
     "metadata": {},
     "output_type": "execute_result"
    }
   ],
   "execution_count": 35
  },
  {
   "metadata": {
    "ExecuteTime": {
     "end_time": "2025-06-04T19:46:34.767972Z",
     "start_time": "2025-06-04T19:46:34.764489Z"
    }
   },
   "cell_type": "code",
   "source": "my_circle.radius",
   "id": "872034b680362e64",
   "outputs": [
    {
     "data": {
      "text/plain": [
       "1"
      ]
     },
     "execution_count": 36,
     "metadata": {},
     "output_type": "execute_result"
    }
   ],
   "execution_count": 36
  },
  {
   "metadata": {
    "ExecuteTime": {
     "end_time": "2025-06-04T19:47:00.891667Z",
     "start_time": "2025-06-04T19:47:00.888054Z"
    }
   },
   "cell_type": "code",
   "source": "my_circle.radius",
   "id": "bfa1a5826e6b249c",
   "outputs": [
    {
     "data": {
      "text/plain": [
       "20"
      ]
     },
     "execution_count": 38,
     "metadata": {},
     "output_type": "execute_result"
    }
   ],
   "execution_count": 38
  },
  {
   "metadata": {
    "ExecuteTime": {
     "end_time": "2025-06-04T19:47:08.864972Z",
     "start_time": "2025-06-04T19:47:08.860416Z"
    }
   },
   "cell_type": "code",
   "source": "my_circle.get_circumference()",
   "id": "f95a0fc6f486a379",
   "outputs": [
    {
     "data": {
      "text/plain": [
       "125.60000000000001"
      ]
     },
     "execution_count": 39,
     "metadata": {},
     "output_type": "execute_result"
    }
   ],
   "execution_count": 39
  },
  {
   "metadata": {
    "ExecuteTime": {
     "end_time": "2025-06-04T19:50:43.531465Z",
     "start_time": "2025-06-04T19:50:43.526995Z"
    }
   },
   "cell_type": "code",
   "source": [
    "class Circle():\n",
    "\n",
    "    # Class object attribute\n",
    "    pi = 3.14\n",
    "\n",
    "    def __init__(self,radius=1):\n",
    "\n",
    "        self.radius = radius\n",
    "        self.area = radius*radius*self.pi\n",
    "\n",
    "    # Method\n",
    "\n",
    "    def get_circumference(self):\n",
    "\n",
    "        return self.radius * self.pi * 2"
   ],
   "id": "d7a3874d26040dc0",
   "outputs": [],
   "execution_count": 46
  },
  {
   "metadata": {
    "ExecuteTime": {
     "end_time": "2025-06-04T19:51:24.386491Z",
     "start_time": "2025-06-04T19:51:24.382774Z"
    }
   },
   "cell_type": "code",
   "source": [
    "# We can use this as well\n",
    "\n",
    "class Circle():\n",
    "\n",
    "    # Class object attribute\n",
    "    pi = 3.14\n",
    "\n",
    "    def __init__(self,radius=1):\n",
    "\n",
    "        self.radius = radius\n",
    "        self.area = radius*radius*Circle.pi  # Only if it is a class object attribute as pi value wont change\n",
    "\n",
    "    # Method\n",
    "\n",
    "    def get_circumference(self):\n",
    "\n",
    "        return self.radius * Circle.pi * 2"
   ],
   "id": "9d9ac4502e282ed1",
   "outputs": [],
   "execution_count": 49
  },
  {
   "metadata": {
    "ExecuteTime": {
     "end_time": "2025-06-04T19:51:24.826158Z",
     "start_time": "2025-06-04T19:51:24.824107Z"
    }
   },
   "cell_type": "code",
   "source": "my_circle=Circle(30)",
   "id": "d3ad77c1dda08ef",
   "outputs": [],
   "execution_count": 50
  },
  {
   "metadata": {
    "ExecuteTime": {
     "end_time": "2025-06-04T19:51:26.474264Z",
     "start_time": "2025-06-04T19:51:26.471146Z"
    }
   },
   "cell_type": "code",
   "source": "my_circle.area",
   "id": "21349312a1c02256",
   "outputs": [
    {
     "data": {
      "text/plain": [
       "2826.0"
      ]
     },
     "execution_count": 51,
     "metadata": {},
     "output_type": "execute_result"
    }
   ],
   "execution_count": 51
  }
 ],
 "metadata": {
  "kernelspec": {
   "display_name": "Python 3",
   "language": "python",
   "name": "python3"
  },
  "language_info": {
   "codemirror_mode": {
    "name": "ipython",
    "version": 2
   },
   "file_extension": ".py",
   "mimetype": "text/x-python",
   "name": "python",
   "nbconvert_exporter": "python",
   "pygments_lexer": "ipython2",
   "version": "2.7.6"
  }
 },
 "nbformat": 4,
 "nbformat_minor": 5
}
