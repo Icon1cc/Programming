{
 "cells": [
  {
   "cell_type": "code",
   "id": "initial_id",
   "metadata": {
    "collapsed": true,
    "ExecuteTime": {
     "end_time": "2025-06-04T20:22:30.761998Z",
     "start_time": "2025-06-04T20:22:30.759925Z"
    }
   },
   "source": "mylist = [1,2,3]",
   "outputs": [],
   "execution_count": 1
  },
  {
   "metadata": {
    "ExecuteTime": {
     "end_time": "2025-06-04T20:22:33.552674Z",
     "start_time": "2025-06-04T20:22:33.545721Z"
    }
   },
   "cell_type": "code",
   "source": "len(mylist)",
   "id": "3866239de72125e",
   "outputs": [
    {
     "data": {
      "text/plain": [
       "3"
      ]
     },
     "execution_count": 2,
     "metadata": {},
     "output_type": "execute_result"
    }
   ],
   "execution_count": 2
  },
  {
   "metadata": {
    "ExecuteTime": {
     "end_time": "2025-06-04T20:22:41.581964Z",
     "start_time": "2025-06-04T20:22:41.579488Z"
    }
   },
   "cell_type": "code",
   "source": [
    "class Sample():\n",
    "    pass"
   ],
   "id": "429f2d2a321b73f0",
   "outputs": [],
   "execution_count": 3
  },
  {
   "metadata": {
    "ExecuteTime": {
     "end_time": "2025-06-04T20:22:46.330852Z",
     "start_time": "2025-06-04T20:22:46.328290Z"
    }
   },
   "cell_type": "code",
   "source": "mysample = Sample()",
   "id": "1ec89fa3373260c8",
   "outputs": [],
   "execution_count": 4
  },
  {
   "metadata": {
    "ExecuteTime": {
     "end_time": "2025-06-04T20:22:55.075659Z",
     "start_time": "2025-06-04T20:22:54.975388Z"
    }
   },
   "cell_type": "code",
   "source": "len(mysample)",
   "id": "a37dec3588af73d8",
   "outputs": [
    {
     "ename": "TypeError",
     "evalue": "object of type 'Sample' has no len()",
     "output_type": "error",
     "traceback": [
      "\u001B[31m---------------------------------------------------------------------------\u001B[39m",
      "\u001B[31mTypeError\u001B[39m                                 Traceback (most recent call last)",
      "\u001B[36mCell\u001B[39m\u001B[36m \u001B[39m\u001B[32mIn[5]\u001B[39m\u001B[32m, line 1\u001B[39m\n\u001B[32m----> \u001B[39m\u001B[32m1\u001B[39m \u001B[38;5;28;43mlen\u001B[39;49m\u001B[43m(\u001B[49m\u001B[43mmysample\u001B[49m\u001B[43m)\u001B[49m\n",
      "\u001B[31mTypeError\u001B[39m: object of type 'Sample' has no len()"
     ]
    }
   ],
   "execution_count": 5
  },
  {
   "metadata": {
    "ExecuteTime": {
     "end_time": "2025-06-04T20:23:02.122457Z",
     "start_time": "2025-06-04T20:23:02.118046Z"
    }
   },
   "cell_type": "code",
   "source": "print(mysample)",
   "id": "9d23a21044490dc6",
   "outputs": [
    {
     "name": "stdout",
     "output_type": "stream",
     "text": [
      "<__main__.Sample object at 0x106751a90>\n"
     ]
    }
   ],
   "execution_count": 6
  },
  {
   "metadata": {
    "ExecuteTime": {
     "end_time": "2025-06-04T20:23:08.586243Z",
     "start_time": "2025-06-04T20:23:08.583229Z"
    }
   },
   "cell_type": "code",
   "source": "print(mylist)",
   "id": "72d41de8b2972447",
   "outputs": [
    {
     "name": "stdout",
     "output_type": "stream",
     "text": [
      "[1, 2, 3]\n"
     ]
    }
   ],
   "execution_count": 7
  },
  {
   "metadata": {
    "ExecuteTime": {
     "end_time": "2025-06-04T20:28:01.085037Z",
     "start_time": "2025-06-04T20:28:01.080383Z"
    }
   },
   "cell_type": "code",
   "source": [
    "class Book():\n",
    "\n",
    "    def __init__(self, title, author, pages):\n",
    "        self.title = title\n",
    "        self.author = author\n",
    "        self.pages = pages\n",
    "\n",
    "    def __str__(self):  # Special method\n",
    "        return f\"{self.title} ny {self.author}\"\n",
    "\n",
    "    def __len__(self):\n",
    "        return self.pages\n",
    "\n",
    "    def __del__(self):\n",
    "        print(\"The book object has been deleted\")"
   ],
   "id": "73786bb94fccc00",
   "outputs": [],
   "execution_count": 29
  },
  {
   "metadata": {
    "ExecuteTime": {
     "end_time": "2025-06-04T20:28:01.381079Z",
     "start_time": "2025-06-04T20:28:01.376686Z"
    }
   },
   "cell_type": "code",
   "source": "b = Book('Python rocks', 'Jose', 200)",
   "id": "cda8256b305bc956",
   "outputs": [],
   "execution_count": 30
  },
  {
   "metadata": {
    "ExecuteTime": {
     "end_time": "2025-06-04T20:28:01.713262Z",
     "start_time": "2025-06-04T20:28:01.710324Z"
    }
   },
   "cell_type": "code",
   "source": "print(b)",
   "id": "52b29cd6eace5563",
   "outputs": [
    {
     "name": "stdout",
     "output_type": "stream",
     "text": [
      "Python rocks ny Jose\n"
     ]
    }
   ],
   "execution_count": 31
  },
  {
   "metadata": {
    "ExecuteTime": {
     "end_time": "2025-06-04T20:28:04.400119Z",
     "start_time": "2025-06-04T20:28:04.395894Z"
    }
   },
   "cell_type": "code",
   "source": "str(b)",
   "id": "7581242b7fc6defa",
   "outputs": [
    {
     "data": {
      "text/plain": [
       "'Python rocks ny Jose'"
      ]
     },
     "execution_count": 32,
     "metadata": {},
     "output_type": "execute_result"
    }
   ],
   "execution_count": 32
  },
  {
   "metadata": {
    "ExecuteTime": {
     "end_time": "2025-06-04T20:28:13.657324Z",
     "start_time": "2025-06-04T20:28:13.651708Z"
    }
   },
   "cell_type": "code",
   "source": "del b",
   "id": "9289f2c70eb7bf9e",
   "outputs": [
    {
     "name": "stdout",
     "output_type": "stream",
     "text": [
      "The book object has been deleted\n"
     ]
    }
   ],
   "execution_count": 33
  },
  {
   "metadata": {
    "ExecuteTime": {
     "end_time": "2025-06-04T20:28:16.773465Z",
     "start_time": "2025-06-04T20:28:16.747795Z"
    }
   },
   "cell_type": "code",
   "source": "len(b)",
   "id": "be672b1f9e11d1d",
   "outputs": [
    {
     "ename": "NameError",
     "evalue": "name 'b' is not defined",
     "output_type": "error",
     "traceback": [
      "\u001B[31m---------------------------------------------------------------------------\u001B[39m",
      "\u001B[31mNameError\u001B[39m                                 Traceback (most recent call last)",
      "\u001B[36mCell\u001B[39m\u001B[36m \u001B[39m\u001B[32mIn[34]\u001B[39m\u001B[32m, line 1\u001B[39m\n\u001B[32m----> \u001B[39m\u001B[32m1\u001B[39m \u001B[38;5;28mlen\u001B[39m(\u001B[43mb\u001B[49m)\n",
      "\u001B[31mNameError\u001B[39m: name 'b' is not defined"
     ]
    }
   ],
   "execution_count": 34
  }
 ],
 "metadata": {
  "kernelspec": {
   "display_name": "Python 3",
   "language": "python",
   "name": "python3"
  },
  "language_info": {
   "codemirror_mode": {
    "name": "ipython",
    "version": 2
   },
   "file_extension": ".py",
   "mimetype": "text/x-python",
   "name": "python",
   "nbconvert_exporter": "python",
   "pygments_lexer": "ipython2",
   "version": "2.7.6"
  }
 },
 "nbformat": 4,
 "nbformat_minor": 5
}
