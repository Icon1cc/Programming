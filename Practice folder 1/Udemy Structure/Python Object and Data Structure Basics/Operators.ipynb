{
 "cells": [
  {
   "cell_type": "code",
   "id": "initial_id",
   "metadata": {
    "collapsed": true,
    "ExecuteTime": {
     "end_time": "2025-05-25T12:45:26.434641Z",
     "start_time": "2025-05-25T12:45:26.430528Z"
    }
   },
   "source": "2 == 2",
   "outputs": [
    {
     "data": {
      "text/plain": [
       "True"
      ]
     },
     "execution_count": 1,
     "metadata": {},
     "output_type": "execute_result"
    }
   ],
   "execution_count": 1
  },
  {
   "metadata": {
    "ExecuteTime": {
     "end_time": "2025-05-25T12:45:33.516871Z",
     "start_time": "2025-05-25T12:45:33.511369Z"
    }
   },
   "cell_type": "code",
   "source": "2 == 1",
   "id": "70ad505c9c1af7fb",
   "outputs": [
    {
     "data": {
      "text/plain": [
       "False"
      ]
     },
     "execution_count": 2,
     "metadata": {},
     "output_type": "execute_result"
    }
   ],
   "execution_count": 2
  },
  {
   "metadata": {
    "ExecuteTime": {
     "end_time": "2025-05-25T12:46:16.200561Z",
     "start_time": "2025-05-25T12:46:16.197100Z"
    }
   },
   "cell_type": "code",
   "source": "'hello' == 'bye'",
   "id": "e8eb7e4442b98900",
   "outputs": [
    {
     "data": {
      "text/plain": [
       "False"
      ]
     },
     "execution_count": 3,
     "metadata": {},
     "output_type": "execute_result"
    }
   ],
   "execution_count": 3
  },
  {
   "metadata": {
    "ExecuteTime": {
     "end_time": "2025-05-25T12:46:24.703958Z",
     "start_time": "2025-05-25T12:46:24.699956Z"
    }
   },
   "cell_type": "code",
   "source": "'Bye' == 'bye'",
   "id": "9dc2464a1ed73f7a",
   "outputs": [
    {
     "data": {
      "text/plain": [
       "False"
      ]
     },
     "execution_count": 4,
     "metadata": {},
     "output_type": "execute_result"
    }
   ],
   "execution_count": 4
  },
  {
   "metadata": {
    "ExecuteTime": {
     "end_time": "2025-05-25T12:46:31.601463Z",
     "start_time": "2025-05-25T12:46:31.598034Z"
    }
   },
   "cell_type": "code",
   "source": "'and' == 'and'",
   "id": "27f4c2aeb6aa5c33",
   "outputs": [
    {
     "data": {
      "text/plain": [
       "True"
      ]
     },
     "execution_count": 5,
     "metadata": {},
     "output_type": "execute_result"
    }
   ],
   "execution_count": 5
  },
  {
   "metadata": {
    "ExecuteTime": {
     "end_time": "2025-05-25T12:46:46.196550Z",
     "start_time": "2025-05-25T12:46:46.191805Z"
    }
   },
   "cell_type": "code",
   "source": "2.0 == 2  # -> since they hold the same value",
   "id": "712e86f3f7a0f601",
   "outputs": [
    {
     "data": {
      "text/plain": [
       "True"
      ]
     },
     "execution_count": 6,
     "metadata": {},
     "output_type": "execute_result"
    }
   ],
   "execution_count": 6
  },
  {
   "metadata": {
    "ExecuteTime": {
     "end_time": "2025-05-25T12:47:02.316522Z",
     "start_time": "2025-05-25T12:47:02.313429Z"
    }
   },
   "cell_type": "code",
   "source": "3 != 3",
   "id": "918eb8c6df0ff302",
   "outputs": [
    {
     "data": {
      "text/plain": [
       "False"
      ]
     },
     "execution_count": 7,
     "metadata": {},
     "output_type": "execute_result"
    }
   ],
   "execution_count": 7
  },
  {
   "metadata": {
    "ExecuteTime": {
     "end_time": "2025-05-25T12:47:07.926151Z",
     "start_time": "2025-05-25T12:47:07.922658Z"
    }
   },
   "cell_type": "code",
   "source": "4 != 5",
   "id": "2232eb982152c87f",
   "outputs": [
    {
     "data": {
      "text/plain": [
       "True"
      ]
     },
     "execution_count": 8,
     "metadata": {},
     "output_type": "execute_result"
    }
   ],
   "execution_count": 8
  },
  {
   "metadata": {
    "ExecuteTime": {
     "end_time": "2025-05-25T12:47:12.282124Z",
     "start_time": "2025-05-25T12:47:12.278827Z"
    }
   },
   "cell_type": "code",
   "source": "2 > 1",
   "id": "3f6bae8a059192ca",
   "outputs": [
    {
     "data": {
      "text/plain": [
       "True"
      ]
     },
     "execution_count": 9,
     "metadata": {},
     "output_type": "execute_result"
    }
   ],
   "execution_count": 9
  },
  {
   "metadata": {
    "ExecuteTime": {
     "end_time": "2025-05-25T12:47:14.598258Z",
     "start_time": "2025-05-25T12:47:14.594351Z"
    }
   },
   "cell_type": "code",
   "source": "1 > 2",
   "id": "41a1911a01f2dac0",
   "outputs": [
    {
     "data": {
      "text/plain": [
       "False"
      ]
     },
     "execution_count": 10,
     "metadata": {},
     "output_type": "execute_result"
    }
   ],
   "execution_count": 10
  },
  {
   "metadata": {
    "ExecuteTime": {
     "end_time": "2025-05-25T12:47:19.282549Z",
     "start_time": "2025-05-25T12:47:19.278342Z"
    }
   },
   "cell_type": "code",
   "source": "1 < 4",
   "id": "3e5c953e24612e6e",
   "outputs": [
    {
     "data": {
      "text/plain": [
       "True"
      ]
     },
     "execution_count": 11,
     "metadata": {},
     "output_type": "execute_result"
    }
   ],
   "execution_count": 11
  },
  {
   "metadata": {
    "ExecuteTime": {
     "end_time": "2025-05-25T12:48:31.676350Z",
     "start_time": "2025-05-25T12:48:31.669224Z"
    }
   },
   "cell_type": "code",
   "source": "2 >= 2",
   "id": "9b1a5c29a3de98a1",
   "outputs": [
    {
     "data": {
      "text/plain": [
       "True"
      ]
     },
     "execution_count": 12,
     "metadata": {},
     "output_type": "execute_result"
    }
   ],
   "execution_count": 12
  },
  {
   "metadata": {
    "ExecuteTime": {
     "end_time": "2025-05-25T12:48:39.982559Z",
     "start_time": "2025-05-25T12:48:39.979100Z"
    }
   },
   "cell_type": "code",
   "source": "2 <= 6",
   "id": "80a91d7971f6d52f",
   "outputs": [
    {
     "data": {
      "text/plain": [
       "True"
      ]
     },
     "execution_count": 13,
     "metadata": {},
     "output_type": "execute_result"
    }
   ],
   "execution_count": 13
  },
  {
   "metadata": {
    "ExecuteTime": {
     "end_time": "2025-05-25T12:52:16.071213Z",
     "start_time": "2025-05-25T12:52:16.061915Z"
    }
   },
   "cell_type": "code",
   "source": "1 < 2 and 2 > 3",
   "id": "12d770266b882021",
   "outputs": [
    {
     "data": {
      "text/plain": [
       "False"
      ]
     },
     "execution_count": 14,
     "metadata": {},
     "output_type": "execute_result"
    }
   ],
   "execution_count": 14
  },
  {
   "metadata": {
    "ExecuteTime": {
     "end_time": "2025-05-25T12:53:05.815962Z",
     "start_time": "2025-05-25T12:53:05.812769Z"
    }
   },
   "cell_type": "code",
   "source": "1 > 2 or 6 > 5",
   "id": "6ba91c15aa101255",
   "outputs": [
    {
     "data": {
      "text/plain": [
       "True"
      ]
     },
     "execution_count": 15,
     "metadata": {},
     "output_type": "execute_result"
    }
   ],
   "execution_count": 15
  },
  {
   "metadata": {
    "ExecuteTime": {
     "end_time": "2025-05-25T12:54:17.675647Z",
     "start_time": "2025-05-25T12:54:17.670985Z"
    }
   },
   "cell_type": "code",
   "source": "not 1 == 1",
   "id": "7ecfbd4bb51b6d35",
   "outputs": [
    {
     "data": {
      "text/plain": [
       "False"
      ]
     },
     "execution_count": 16,
     "metadata": {},
     "output_type": "execute_result"
    }
   ],
   "execution_count": 16
  },
  {
   "metadata": {
    "ExecuteTime": {
     "end_time": "2025-05-25T12:54:34.130386Z",
     "start_time": "2025-05-25T12:54:34.125701Z"
    }
   },
   "cell_type": "code",
   "source": "not 400 > 5000",
   "id": "cdff9ebcfac9e9d0",
   "outputs": [
    {
     "data": {
      "text/plain": [
       "True"
      ]
     },
     "execution_count": 17,
     "metadata": {},
     "output_type": "execute_result"
    }
   ],
   "execution_count": 17
  },
  {
   "metadata": {
    "ExecuteTime": {
     "end_time": "2025-05-25T12:54:54.904984Z",
     "start_time": "2025-05-25T12:54:54.899673Z"
    }
   },
   "cell_type": "code",
   "source": "20 != 20",
   "id": "79ab045f8342df16",
   "outputs": [
    {
     "data": {
      "text/plain": [
       "False"
      ]
     },
     "execution_count": 20,
     "metadata": {},
     "output_type": "execute_result"
    }
   ],
   "execution_count": 20
  }
 ],
 "metadata": {
  "kernelspec": {
   "display_name": "Python 3",
   "language": "python",
   "name": "python3"
  },
  "language_info": {
   "codemirror_mode": {
    "name": "ipython",
    "version": 2
   },
   "file_extension": ".py",
   "mimetype": "text/x-python",
   "name": "python",
   "nbconvert_exporter": "python",
   "pygments_lexer": "ipython2",
   "version": "2.7.6"
  }
 },
 "nbformat": 4,
 "nbformat_minor": 5
}
