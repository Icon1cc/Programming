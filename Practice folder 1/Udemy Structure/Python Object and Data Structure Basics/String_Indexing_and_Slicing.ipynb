{
 "cells": [
  {
   "cell_type": "code",
   "id": "initial_id",
   "metadata": {
    "collapsed": true,
    "ExecuteTime": {
     "end_time": "2025-05-24T19:02:18.004304Z",
     "start_time": "2025-05-24T19:02:18.001191Z"
    }
   },
   "source": "mystring = 'Hello World'",
   "outputs": [],
   "execution_count": 1
  },
  {
   "metadata": {
    "ExecuteTime": {
     "end_time": "2025-05-24T19:02:22.486263Z",
     "start_time": "2025-05-24T19:02:22.479656Z"
    }
   },
   "cell_type": "code",
   "source": "mystring",
   "id": "7f3f32f2f0cabcc2",
   "outputs": [
    {
     "data": {
      "text/plain": [
       "'Hello World'"
      ]
     },
     "execution_count": 2,
     "metadata": {},
     "output_type": "execute_result"
    }
   ],
   "execution_count": 2
  },
  {
   "metadata": {
    "ExecuteTime": {
     "end_time": "2025-05-24T19:02:30.107639Z",
     "start_time": "2025-05-24T19:02:30.102858Z"
    }
   },
   "cell_type": "code",
   "source": [
    "# Indexing\n",
    "\n",
    "mystring[0]"
   ],
   "id": "cbc522e42895c1e7",
   "outputs": [
    {
     "data": {
      "text/plain": [
       "'H'"
      ]
     },
     "execution_count": 3,
     "metadata": {},
     "output_type": "execute_result"
    }
   ],
   "execution_count": 3
  },
  {
   "metadata": {
    "ExecuteTime": {
     "end_time": "2025-05-24T19:02:36.156510Z",
     "start_time": "2025-05-24T19:02:36.152630Z"
    }
   },
   "cell_type": "code",
   "source": "mystring[1]",
   "id": "68bf4f3c343b2f67",
   "outputs": [
    {
     "data": {
      "text/plain": [
       "'e'"
      ]
     },
     "execution_count": 4,
     "metadata": {},
     "output_type": "execute_result"
    }
   ],
   "execution_count": 4
  },
  {
   "metadata": {
    "ExecuteTime": {
     "end_time": "2025-05-24T19:02:38.879595Z",
     "start_time": "2025-05-24T19:02:38.875855Z"
    }
   },
   "cell_type": "code",
   "source": "mystring[2]",
   "id": "cb5cceaaf63e23e9",
   "outputs": [
    {
     "data": {
      "text/plain": [
       "'l'"
      ]
     },
     "execution_count": 5,
     "metadata": {},
     "output_type": "execute_result"
    }
   ],
   "execution_count": 5
  },
  {
   "metadata": {
    "ExecuteTime": {
     "end_time": "2025-05-24T19:02:52.577754Z",
     "start_time": "2025-05-24T19:02:52.572866Z"
    }
   },
   "cell_type": "code",
   "source": "mystring[8]",
   "id": "56d76c3f5869bc55",
   "outputs": [
    {
     "data": {
      "text/plain": [
       "'r'"
      ]
     },
     "execution_count": 6,
     "metadata": {},
     "output_type": "execute_result"
    }
   ],
   "execution_count": 6
  },
  {
   "metadata": {
    "ExecuteTime": {
     "end_time": "2025-05-24T19:03:21.593653Z",
     "start_time": "2025-05-24T19:03:21.590124Z"
    }
   },
   "cell_type": "code",
   "source": [
    "# Reverse Indexing\n",
    "\n",
    "mystring[-2]"
   ],
   "id": "9a8c572a7bb6d7af",
   "outputs": [
    {
     "data": {
      "text/plain": [
       "'l'"
      ]
     },
     "execution_count": 7,
     "metadata": {},
     "output_type": "execute_result"
    }
   ],
   "execution_count": 7
  },
  {
   "metadata": {
    "ExecuteTime": {
     "end_time": "2025-05-24T19:11:47.271985Z",
     "start_time": "2025-05-24T19:11:47.260604Z"
    }
   },
   "cell_type": "code",
   "source": "mystring[3]",
   "id": "678335370800adfc",
   "outputs": [
    {
     "data": {
      "text/plain": [
       "'l'"
      ]
     },
     "execution_count": 8,
     "metadata": {},
     "output_type": "execute_result"
    }
   ],
   "execution_count": 8
  },
  {
   "metadata": {
    "ExecuteTime": {
     "end_time": "2025-05-24T19:12:03.834157Z",
     "start_time": "2025-05-24T19:12:03.829860Z"
    }
   },
   "cell_type": "code",
   "source": "mystring[-1]",
   "id": "e4f1e977ecaab85e",
   "outputs": [
    {
     "data": {
      "text/plain": [
       "'d'"
      ]
     },
     "execution_count": 9,
     "metadata": {},
     "output_type": "execute_result"
    }
   ],
   "execution_count": 9
  },
  {
   "metadata": {
    "ExecuteTime": {
     "end_time": "2025-05-24T19:12:35.605948Z",
     "start_time": "2025-05-24T19:12:35.603118Z"
    }
   },
   "cell_type": "code",
   "source": [
    "# Slicing\n",
    "\n",
    "mystring = 'abcdefghijk'"
   ],
   "id": "71977901b0dae84",
   "outputs": [],
   "execution_count": 10
  },
  {
   "metadata": {
    "ExecuteTime": {
     "end_time": "2025-05-24T19:12:58.815238Z",
     "start_time": "2025-05-24T19:12:58.810361Z"
    }
   },
   "cell_type": "code",
   "source": "mystring",
   "id": "4d5a30c919fc386a",
   "outputs": [
    {
     "data": {
      "text/plain": [
       "'abcdefghijk'"
      ]
     },
     "execution_count": 13,
     "metadata": {},
     "output_type": "execute_result"
    }
   ],
   "execution_count": 13
  },
  {
   "metadata": {
    "ExecuteTime": {
     "end_time": "2025-05-24T19:13:05.597538Z",
     "start_time": "2025-05-24T19:13:05.591330Z"
    }
   },
   "cell_type": "code",
   "source": "mystring[2]",
   "id": "311d43362cd4c099",
   "outputs": [
    {
     "data": {
      "text/plain": [
       "'c'"
      ]
     },
     "execution_count": 14,
     "metadata": {},
     "output_type": "execute_result"
    }
   ],
   "execution_count": 14
  },
  {
   "metadata": {
    "ExecuteTime": {
     "end_time": "2025-05-24T19:13:07.741337Z",
     "start_time": "2025-05-24T19:13:07.736922Z"
    }
   },
   "cell_type": "code",
   "source": "mystring[2:]",
   "id": "997f6b946b817ea8",
   "outputs": [
    {
     "data": {
      "text/plain": [
       "'cdefghijk'"
      ]
     },
     "execution_count": 15,
     "metadata": {},
     "output_type": "execute_result"
    }
   ],
   "execution_count": 15
  },
  {
   "metadata": {
    "ExecuteTime": {
     "end_time": "2025-05-24T19:13:26.856570Z",
     "start_time": "2025-05-24T19:13:26.853647Z"
    }
   },
   "cell_type": "code",
   "source": "mystring[:3]",
   "id": "62d0f62f98ede525",
   "outputs": [
    {
     "data": {
      "text/plain": [
       "'abc'"
      ]
     },
     "execution_count": 16,
     "metadata": {},
     "output_type": "execute_result"
    }
   ],
   "execution_count": 16
  },
  {
   "metadata": {
    "ExecuteTime": {
     "end_time": "2025-05-24T19:14:49.981166Z",
     "start_time": "2025-05-24T19:14:49.974322Z"
    }
   },
   "cell_type": "code",
   "source": "mystring[3:6]",
   "id": "c23473a877684257",
   "outputs": [
    {
     "data": {
      "text/plain": [
       "'def'"
      ]
     },
     "execution_count": 17,
     "metadata": {},
     "output_type": "execute_result"
    }
   ],
   "execution_count": 17
  },
  {
   "metadata": {
    "ExecuteTime": {
     "end_time": "2025-05-24T19:15:22.825505Z",
     "start_time": "2025-05-24T19:15:22.819003Z"
    }
   },
   "cell_type": "code",
   "source": "mystring[1:3]",
   "id": "41abd0ae42480948",
   "outputs": [
    {
     "data": {
      "text/plain": [
       "'bc'"
      ]
     },
     "execution_count": 18,
     "metadata": {},
     "output_type": "execute_result"
    }
   ],
   "execution_count": 18
  },
  {
   "metadata": {
    "ExecuteTime": {
     "end_time": "2025-05-24T19:15:42.362334Z",
     "start_time": "2025-05-24T19:15:42.357780Z"
    }
   },
   "cell_type": "code",
   "source": "mystring[3:7]",
   "id": "c11657ddb3b76b86",
   "outputs": [
    {
     "data": {
      "text/plain": [
       "'defg'"
      ]
     },
     "execution_count": 19,
     "metadata": {},
     "output_type": "execute_result"
    }
   ],
   "execution_count": 19
  },
  {
   "metadata": {
    "ExecuteTime": {
     "end_time": "2025-05-24T19:16:06.141244Z",
     "start_time": "2025-05-24T19:16:06.138026Z"
    }
   },
   "cell_type": "code",
   "source": "mystring[::] # start from the beginning to all the way to the end",
   "id": "f47f688d3127421e",
   "outputs": [
    {
     "data": {
      "text/plain": [
       "'abcdefghijk'"
      ]
     },
     "execution_count": 20,
     "metadata": {},
     "output_type": "execute_result"
    }
   ],
   "execution_count": 20
  },
  {
   "metadata": {
    "ExecuteTime": {
     "end_time": "2025-05-24T19:16:30.637576Z",
     "start_time": "2025-05-24T19:16:30.632494Z"
    }
   },
   "cell_type": "code",
   "source": [
    "# Define the step size\n",
    "\n",
    "mystring[::2]  # This will go in jumps of two"
   ],
   "id": "5092516e34f8b092",
   "outputs": [
    {
     "data": {
      "text/plain": [
       "'acegik'"
      ]
     },
     "execution_count": 22,
     "metadata": {},
     "output_type": "execute_result"
    }
   ],
   "execution_count": 22
  },
  {
   "metadata": {
    "ExecuteTime": {
     "end_time": "2025-05-24T19:16:37.620640Z",
     "start_time": "2025-05-24T19:16:37.616912Z"
    }
   },
   "cell_type": "code",
   "source": "mystring[::3]",
   "id": "c6c7875b5fd3a687",
   "outputs": [
    {
     "data": {
      "text/plain": [
       "'adgj'"
      ]
     },
     "execution_count": 23,
     "metadata": {},
     "output_type": "execute_result"
    }
   ],
   "execution_count": 23
  },
  {
   "metadata": {
    "ExecuteTime": {
     "end_time": "2025-05-24T19:16:48.497543Z",
     "start_time": "2025-05-24T19:16:48.492932Z"
    }
   },
   "cell_type": "code",
   "source": "mystring[1:9:2]  # ---> This is with start, stop and step size",
   "id": "7be56dc027f51044",
   "outputs": [
    {
     "data": {
      "text/plain": [
       "'bdfh'"
      ]
     },
     "execution_count": 24,
     "metadata": {},
     "output_type": "execute_result"
    }
   ],
   "execution_count": 24
  },
  {
   "metadata": {
    "ExecuteTime": {
     "end_time": "2025-05-24T19:17:53.390838Z",
     "start_time": "2025-05-24T19:17:53.387198Z"
    }
   },
   "cell_type": "code",
   "source": "mystring[::-1]  # --> We are saying here start from the beginning till the end and take a negative step",
   "id": "e8c46a91540ae665",
   "outputs": [
    {
     "data": {
      "text/plain": [
       "'kjihgfedcba'"
      ]
     },
     "execution_count": 26,
     "metadata": {},
     "output_type": "execute_result"
    }
   ],
   "execution_count": 26
  }
 ],
 "metadata": {
  "kernelspec": {
   "display_name": "Python 3",
   "language": "python",
   "name": "python3"
  },
  "language_info": {
   "codemirror_mode": {
    "name": "ipython",
    "version": 2
   },
   "file_extension": ".py",
   "mimetype": "text/x-python",
   "name": "python",
   "nbconvert_exporter": "python",
   "pygments_lexer": "ipython2",
   "version": "2.7.6"
  }
 },
 "nbformat": 4,
 "nbformat_minor": 5
}
