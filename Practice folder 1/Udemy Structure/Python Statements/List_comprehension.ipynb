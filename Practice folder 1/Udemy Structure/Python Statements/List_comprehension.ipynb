{
 "cells": [
  {
   "cell_type": "code",
   "id": "initial_id",
   "metadata": {
    "collapsed": true,
    "ExecuteTime": {
     "end_time": "2025-05-25T17:24:29.183953Z",
     "start_time": "2025-05-25T17:24:29.181147Z"
    }
   },
   "source": "mystring = \"Hello World\"",
   "outputs": [],
   "execution_count": 1
  },
  {
   "metadata": {
    "ExecuteTime": {
     "end_time": "2025-05-25T17:25:01.494755Z",
     "start_time": "2025-05-25T17:25:01.491170Z"
    }
   },
   "cell_type": "code",
   "source": [
    "mylist = []\n",
    "\n",
    "for letter in mystring:\n",
    "    mylist.append(letter)"
   ],
   "id": "e9ae32fbf6e61ba4",
   "outputs": [],
   "execution_count": 3
  },
  {
   "metadata": {
    "ExecuteTime": {
     "end_time": "2025-05-25T17:25:04.745394Z",
     "start_time": "2025-05-25T17:25:04.739137Z"
    }
   },
   "cell_type": "code",
   "source": "mylist",
   "id": "d09350dfb742b3ff",
   "outputs": [
    {
     "data": {
      "text/plain": [
       "['H', 'e', 'l', 'l', 'o', ' ', 'W', 'o', 'r', 'l', 'd']"
      ]
     },
     "execution_count": 4,
     "metadata": {},
     "output_type": "execute_result"
    }
   ],
   "execution_count": 4
  },
  {
   "metadata": {
    "ExecuteTime": {
     "end_time": "2025-05-25T17:27:49.073860Z",
     "start_time": "2025-05-25T17:27:49.069866Z"
    }
   },
   "cell_type": "code",
   "source": "mystring = \"Hello\"",
   "id": "318163e038f39903",
   "outputs": [],
   "execution_count": 7
  },
  {
   "metadata": {
    "ExecuteTime": {
     "end_time": "2025-05-25T17:27:49.511143Z",
     "start_time": "2025-05-25T17:27:49.509200Z"
    }
   },
   "cell_type": "code",
   "source": "mylist = [letter for letter in mystring]",
   "id": "239004d223a72c92",
   "outputs": [],
   "execution_count": 8
  },
  {
   "metadata": {
    "ExecuteTime": {
     "end_time": "2025-05-25T17:27:50.437373Z",
     "start_time": "2025-05-25T17:27:50.432108Z"
    }
   },
   "cell_type": "code",
   "source": "mylist",
   "id": "605666823b678793",
   "outputs": [
    {
     "data": {
      "text/plain": [
       "['H', 'e', 'l', 'l', 'o']"
      ]
     },
     "execution_count": 9,
     "metadata": {},
     "output_type": "execute_result"
    }
   ],
   "execution_count": 9
  },
  {
   "metadata": {
    "ExecuteTime": {
     "end_time": "2025-05-25T17:28:58.961700Z",
     "start_time": "2025-05-25T17:28:58.957702Z"
    }
   },
   "cell_type": "code",
   "source": "mylist = [x for x in 'word']",
   "id": "e1d09bfefcd0ef11",
   "outputs": [],
   "execution_count": 10
  },
  {
   "metadata": {
    "ExecuteTime": {
     "end_time": "2025-05-25T17:29:01.913905Z",
     "start_time": "2025-05-25T17:29:01.909352Z"
    }
   },
   "cell_type": "code",
   "source": "mylist",
   "id": "deddf4a036fb7d2c",
   "outputs": [
    {
     "data": {
      "text/plain": [
       "['w', 'o', 'r', 'd']"
      ]
     },
     "execution_count": 11,
     "metadata": {},
     "output_type": "execute_result"
    }
   ],
   "execution_count": 11
  },
  {
   "metadata": {
    "ExecuteTime": {
     "end_time": "2025-05-25T17:30:08.476091Z",
     "start_time": "2025-05-25T17:30:08.470166Z"
    }
   },
   "cell_type": "code",
   "source": [
    "mylist = [num for num in range (0,11)]\n",
    "mylist"
   ],
   "id": "310801ad1738e304",
   "outputs": [
    {
     "data": {
      "text/plain": [
       "[0, 1, 2, 3, 4, 5, 6, 7, 8, 9, 10]"
      ]
     },
     "execution_count": 14,
     "metadata": {},
     "output_type": "execute_result"
    }
   ],
   "execution_count": 14
  },
  {
   "metadata": {
    "ExecuteTime": {
     "end_time": "2025-05-25T17:30:15.770237Z",
     "start_time": "2025-05-25T17:30:15.766601Z"
    }
   },
   "cell_type": "code",
   "source": [
    "mylist = [num**2 for num in range (0,11)]\n",
    "mylist"
   ],
   "id": "184499ced8c0a860",
   "outputs": [
    {
     "data": {
      "text/plain": [
       "[0, 1, 4, 9, 16, 25, 36, 49, 64, 81, 100]"
      ]
     },
     "execution_count": 15,
     "metadata": {},
     "output_type": "execute_result"
    }
   ],
   "execution_count": 15
  },
  {
   "metadata": {
    "ExecuteTime": {
     "end_time": "2025-05-25T17:31:03.394576Z",
     "start_time": "2025-05-25T17:31:03.388308Z"
    }
   },
   "cell_type": "code",
   "source": [
    "mylist = [x for x in range(0,11) if x%2 == 0]\n",
    "mylist"
   ],
   "id": "422e82f7e59ca49e",
   "outputs": [
    {
     "data": {
      "text/plain": [
       "[0, 2, 4, 6, 8, 10]"
      ]
     },
     "execution_count": 17,
     "metadata": {},
     "output_type": "execute_result"
    }
   ],
   "execution_count": 17
  },
  {
   "metadata": {
    "ExecuteTime": {
     "end_time": "2025-05-25T17:31:15.342353Z",
     "start_time": "2025-05-25T17:31:15.337943Z"
    }
   },
   "cell_type": "code",
   "source": [
    "mylist = [x**2 for x in range(0,11) if x%2 == 0]\n",
    "mylist"
   ],
   "id": "1255baa96b61c9e9",
   "outputs": [
    {
     "data": {
      "text/plain": [
       "[0, 4, 16, 36, 64, 100]"
      ]
     },
     "execution_count": 18,
     "metadata": {},
     "output_type": "execute_result"
    }
   ],
   "execution_count": 18
  },
  {
   "metadata": {
    "ExecuteTime": {
     "end_time": "2025-05-25T17:34:27.469401Z",
     "start_time": "2025-05-25T17:34:27.465220Z"
    }
   },
   "cell_type": "code",
   "source": [
    "celcius = [0,10,20,34.5]\n",
    "\n",
    "fahrenheit = [((9/5)*temp + 32) for temp in celcius]\n",
    "\n",
    "fahrenheit"
   ],
   "id": "2ae3e5f7ca2cb2cf",
   "outputs": [
    {
     "data": {
      "text/plain": [
       "[32.0, 50.0, 68.0, 94.1]"
      ]
     },
     "execution_count": 24,
     "metadata": {},
     "output_type": "execute_result"
    }
   ],
   "execution_count": 24
  },
  {
   "metadata": {
    "ExecuteTime": {
     "end_time": "2025-05-25T17:34:50.817255Z",
     "start_time": "2025-05-25T17:34:50.812121Z"
    }
   },
   "cell_type": "code",
   "source": [
    "celcius = [0,10,20,34.5]\n",
    "fahrenheit = []\n",
    "\n",
    "for x in celcius:\n",
    "    fahrenheit.append((9/5)*x + 32)\n",
    "\n",
    "fahrenheit"
   ],
   "id": "198037c61a08dda0",
   "outputs": [
    {
     "data": {
      "text/plain": [
       "[32.0, 50.0, 68.0, 94.1]"
      ]
     },
     "execution_count": 26,
     "metadata": {},
     "output_type": "execute_result"
    }
   ],
   "execution_count": 26
  },
  {
   "metadata": {
    "ExecuteTime": {
     "end_time": "2025-05-25T17:37:18.946730Z",
     "start_time": "2025-05-25T17:37:18.939801Z"
    }
   },
   "cell_type": "code",
   "source": [
    "results = [x if x%2 == 0 else 'ODD' for x in range (0,11)]\n",
    "results"
   ],
   "id": "8525e52abe715f7b",
   "outputs": [
    {
     "data": {
      "text/plain": [
       "[0, 'ODD', 2, 'ODD', 4, 'ODD', 6, 'ODD', 8, 'ODD', 10]"
      ]
     },
     "execution_count": 29,
     "metadata": {},
     "output_type": "execute_result"
    }
   ],
   "execution_count": 29
  },
  {
   "metadata": {
    "ExecuteTime": {
     "end_time": "2025-05-25T17:38:18.625935Z",
     "start_time": "2025-05-25T17:38:18.620115Z"
    }
   },
   "cell_type": "code",
   "source": [
    "mylist = []\n",
    "for x in [2,4,6]:\n",
    "    for y in [111,222,333]:\n",
    "        mylist.append(x*y)"
   ],
   "id": "2673d9510b453b22",
   "outputs": [],
   "execution_count": 30
  },
  {
   "metadata": {
    "ExecuteTime": {
     "end_time": "2025-05-25T17:38:21.274423Z",
     "start_time": "2025-05-25T17:38:21.269610Z"
    }
   },
   "cell_type": "code",
   "source": "mylist",
   "id": "7e93d6a5105773f5",
   "outputs": [
    {
     "data": {
      "text/plain": [
       "[222, 444, 666, 444, 888, 1332, 666, 1332, 1998]"
      ]
     },
     "execution_count": 31,
     "metadata": {},
     "output_type": "execute_result"
    }
   ],
   "execution_count": 31
  },
  {
   "metadata": {
    "ExecuteTime": {
     "end_time": "2025-05-25T17:39:16.244146Z",
     "start_time": "2025-05-25T17:39:16.234289Z"
    }
   },
   "cell_type": "code",
   "source": [
    "mylist = [x*y for x in [2,4,6] for y in [111,222,333]]\n",
    "mylist"
   ],
   "id": "85258430cb13effa",
   "outputs": [
    {
     "data": {
      "text/plain": [
       "[222, 444, 666, 444, 888, 1332, 666, 1332, 1998]"
      ]
     },
     "execution_count": 32,
     "metadata": {},
     "output_type": "execute_result"
    }
   ],
   "execution_count": 32
  },
  {
   "metadata": {},
   "cell_type": "code",
   "outputs": [],
   "execution_count": null,
   "source": "",
   "id": "604de6c027c5f31b"
  }
 ],
 "metadata": {
  "kernelspec": {
   "display_name": "Python 3",
   "language": "python",
   "name": "python3"
  },
  "language_info": {
   "codemirror_mode": {
    "name": "ipython",
    "version": 2
   },
   "file_extension": ".py",
   "mimetype": "text/x-python",
   "name": "python",
   "nbconvert_exporter": "python",
   "pygments_lexer": "ipython2",
   "version": "2.7.6"
  }
 },
 "nbformat": 4,
 "nbformat_minor": 5
}
