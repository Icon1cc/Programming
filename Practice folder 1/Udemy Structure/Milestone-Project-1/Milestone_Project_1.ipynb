{
 "cells": [
  {
   "metadata": {},
   "cell_type": "markdown",
   "source": [
    "### Tic Tac Toe Game\n",
    "\n",
    "- 2 players take turns placing X or O on a 3x3 grid\n",
    "- Board updates every time a player makes a move\n",
    "- Input uses numpad-style mapping: 1-9\n"
   ],
   "id": "fd28ab3f59fdf5c9"
  },
  {
   "metadata": {
    "ExecuteTime": {
     "end_time": "2025-06-03T04:14:26.072663Z",
     "start_time": "2025-06-03T04:14:26.068607Z"
    }
   },
   "cell_type": "code",
   "source": [
    "# DISPLAYING THE BOARD\n",
    "from IPython.display import clear_output\n",
    "\n",
    "def display_board(board):\n",
    "    clear_output()\n",
    "    print('    |     |    ')\n",
    "    print(f' {board[7]}  |  {board[8]}  |  {board[9]}  ')\n",
    "    print('    |     |    ')\n",
    "    print(\"---------------\")\n",
    "    print('    |     |    ')\n",
    "    print(f' {board[4]}  |  {board[5]}  |  {board[6]}  ')\n",
    "    print('    |     |    ')\n",
    "    print(\"---------------\")\n",
    "    print('    |     |    ')\n",
    "    print(f' {board[1]}  |  {board[2]}  |  {board[3]}  ')\n",
    "    print('    |     |    ')\n"
   ],
   "id": "6e77b38926b746d6",
   "outputs": [],
   "execution_count": 1
  },
  {
   "metadata": {
    "ExecuteTime": {
     "end_time": "2025-06-03T04:14:28.051974Z",
     "start_time": "2025-06-03T04:14:28.048676Z"
    }
   },
   "cell_type": "code",
   "source": [
    "# PLAYER MARKER SELECTION\n",
    "def player_input():\n",
    "    marker = ''\n",
    "    while marker not in ['X', 'O']:\n",
    "        marker = input('Player 1: Do you want to be X or O? ').upper()\n",
    "    if marker == 'X':\n",
    "        return ('X', 'O')\n",
    "    else:\n",
    "        return ('O', 'X')\n"
   ],
   "id": "d63c1d282ca16926",
   "outputs": [],
   "execution_count": 2
  },
  {
   "metadata": {
    "ExecuteTime": {
     "end_time": "2025-06-03T04:14:29.419128Z",
     "start_time": "2025-06-03T04:14:29.415918Z"
    }
   },
   "cell_type": "code",
   "source": [
    "# PLACING A MARKER\n",
    "def place_marker(board, marker, position):\n",
    "    board[position] = marker\n"
   ],
   "id": "d3b3a2788670f97e",
   "outputs": [],
   "execution_count": 3
  },
  {
   "metadata": {
    "ExecuteTime": {
     "end_time": "2025-06-03T04:14:29.885660Z",
     "start_time": "2025-06-03T04:14:29.881763Z"
    }
   },
   "cell_type": "code",
   "source": [
    "# CHECKING FOR A WIN\n",
    "def win_check(board, mark):\n",
    "    return (\n",
    "        (board[7] == mark and board[8] == mark and board[9] == mark) or  # top row\n",
    "        (board[4] == mark and board[5] == mark and board[6] == mark) or  # middle row\n",
    "        (board[1] == mark and board[2] == mark and board[3] == mark) or  # bottom row\n",
    "        (board[7] == mark and board[4] == mark and board[1] == mark) or  # left column\n",
    "        (board[8] == mark and board[5] == mark and board[2] == mark) or  # middle column\n",
    "        (board[9] == mark and board[6] == mark and board[3] == mark) or  # right column\n",
    "        (board[7] == mark and board[5] == mark and board[3] == mark) or  # diagonal\n",
    "        (board[9] == mark and board[5] == mark and board[1] == mark)     # diagonal\n",
    "    )\n"
   ],
   "id": "f9ab399618eb2359",
   "outputs": [],
   "execution_count": 4
  },
  {
   "metadata": {
    "ExecuteTime": {
     "end_time": "2025-06-03T04:14:30.731355Z",
     "start_time": "2025-06-03T04:14:30.728547Z"
    }
   },
   "cell_type": "code",
   "source": [
    "# RANDOMLY SELECT WHO GOES FIRST\n",
    "import random\n",
    "\n",
    "def choose_first():\n",
    "    if random.randint(0, 1) == 0:\n",
    "        return 'Player 1'\n",
    "    else:\n",
    "        return 'Player 2'\n"
   ],
   "id": "5027b3f93c40dbc7",
   "outputs": [],
   "execution_count": 5
  },
  {
   "metadata": {
    "ExecuteTime": {
     "end_time": "2025-06-03T04:14:31.214147Z",
     "start_time": "2025-06-03T04:14:31.211337Z"
    }
   },
   "cell_type": "code",
   "source": [
    "# CHECK IF A SPACE IS AVAILABLE\n",
    "def space_check(board, position):\n",
    "    return board[position] == ' '\n"
   ],
   "id": "48439af0fba05b95",
   "outputs": [],
   "execution_count": 6
  },
  {
   "metadata": {
    "ExecuteTime": {
     "end_time": "2025-06-03T04:14:32.085737Z",
     "start_time": "2025-06-03T04:14:32.082741Z"
    }
   },
   "cell_type": "code",
   "source": [
    "# CHECK IF THE BOARD IS FULL\n",
    "def full_board_check(board):\n",
    "    for i in range(1, 10):\n",
    "        if space_check(board, i):\n",
    "            return False\n",
    "    return True\n"
   ],
   "id": "5efffbfc16dce9fe",
   "outputs": [],
   "execution_count": 7
  },
  {
   "metadata": {
    "ExecuteTime": {
     "end_time": "2025-06-03T04:14:32.499028Z",
     "start_time": "2025-06-03T04:14:32.496766Z"
    }
   },
   "cell_type": "code",
   "source": [
    "# GET PLAYER'S NEXT POSITION\n",
    "def player_choice(board):\n",
    "    position = 0\n",
    "    while position not in range(1, 10) or not space_check(board, position):\n",
    "        try:\n",
    "            position = int(input('Choose your next position (1-9): '))\n",
    "        except:\n",
    "            print(\"Invalid input. Please enter a number between 1 and 9.\")\n",
    "    return position\n"
   ],
   "id": "6e3f18d7db4da2f3",
   "outputs": [],
   "execution_count": 8
  },
  {
   "metadata": {
    "ExecuteTime": {
     "end_time": "2025-06-03T04:14:34.101030Z",
     "start_time": "2025-06-03T04:14:34.097349Z"
    }
   },
   "cell_type": "code",
   "source": [
    "# ASK TO REPLAY\n",
    "def replay():\n",
    "    return input(\"Do you wish to play again? Enter Yes or No: \").strip().lower().startswith('y')\n"
   ],
   "id": "e8537545da55a90e",
   "outputs": [],
   "execution_count": 9
  },
  {
   "metadata": {},
   "cell_type": "code",
   "source": [
    "# MAIN GAME LOGIC\n",
    "print('Welcome to Tic Tac Toe!')\n",
    "\n",
    "while True:\n",
    "    # Set up the game\n",
    "    theBoard = [' '] * 10\n",
    "    player1_marker, player2_marker = player_input()\n",
    "    turn = choose_first()\n",
    "    print(turn + ' will go first.')\n",
    "\n",
    "    play_game = input(\"Are you ready to play? Enter Yes or No: \")\n",
    "\n",
    "    if play_game.lower()[0] == 'y':\n",
    "        game_on = True\n",
    "    else:\n",
    "        game_on = False\n",
    "\n",
    "    # Game loop\n",
    "    while game_on:\n",
    "        if turn == 'Player 1':\n",
    "            # Player 1 Turn\n",
    "            display_board(theBoard)\n",
    "            position = player_choice(theBoard)\n",
    "            place_marker(theBoard, player1_marker, position)\n",
    "\n",
    "            if win_check(theBoard, player1_marker):\n",
    "                display_board(theBoard)\n",
    "                print('Congratulations! You have won the game.')\n",
    "                game_on = False\n",
    "            elif full_board_check(theBoard):\n",
    "                display_board(theBoard)\n",
    "                print('The game is a draw.')\n",
    "                break\n",
    "            else:\n",
    "                turn = 'Player 2'\n",
    "\n",
    "        else:\n",
    "            # Player 2 Turn\n",
    "            display_board(theBoard)\n",
    "            position = player_choice(theBoard)\n",
    "            place_marker(theBoard, player2_marker, position)\n",
    "\n",
    "            if win_check(theBoard, player2_marker):\n",
    "                display_board(theBoard)\n",
    "                print('Congratulations! You have won the game.')\n",
    "                game_on = False\n",
    "            elif full_board_check(theBoard):\n",
    "                display_board(theBoard)\n",
    "                print('The game is a draw.')\n",
    "                break\n",
    "            else:\n",
    "                turn = 'Player 1'\n",
    "\n",
    "    if not replay():\n",
    "        break\n"
   ],
   "id": "aa0bcc9f2d71fbbe",
   "execution_count": 10,
   "outputs": [
    {
     "name": "stdout",
     "output_type": "stream",
     "text": [
      "    |     |    \n",
      " X  |     |     \n",
      "    |     |    \n",
      "---------------\n",
      "    |     |    \n",
      " O  |  X  |  O  \n",
      "    |     |    \n",
      "---------------\n",
      "    |     |    \n",
      " X  |  O  |  X  \n",
      "    |     |    \n",
      "Congratulations! You have won the game.\n"
     ]
    }
   ]
  }
 ],
 "metadata": {},
 "nbformat": 4,
 "nbformat_minor": 5
}
