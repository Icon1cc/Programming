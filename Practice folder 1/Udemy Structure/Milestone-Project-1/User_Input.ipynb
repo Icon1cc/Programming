{
 "cells": [
  {
   "cell_type": "code",
   "id": "initial_id",
   "metadata": {
    "collapsed": true,
    "ExecuteTime": {
     "end_time": "2025-06-02T03:24:12.706900Z",
     "start_time": "2025-06-02T03:24:07.580669Z"
    }
   },
   "source": "input(\"Please enter a value: \")",
   "outputs": [
    {
     "data": {
      "text/plain": [
       "'12'"
      ]
     },
     "execution_count": 1,
     "metadata": {},
     "output_type": "execute_result"
    }
   ],
   "execution_count": 1
  },
  {
   "metadata": {
    "ExecuteTime": {
     "end_time": "2025-06-02T03:25:54.642332Z",
     "start_time": "2025-06-02T03:25:50.807516Z"
    }
   },
   "cell_type": "code",
   "source": "result = input(\"Please enter a value: \")",
   "id": "9b2868fa9d6d9fc9",
   "outputs": [],
   "execution_count": 7
  },
  {
   "metadata": {
    "ExecuteTime": {
     "end_time": "2025-06-02T03:25:56.704150Z",
     "start_time": "2025-06-02T03:25:56.699620Z"
    }
   },
   "cell_type": "code",
   "source": "result",
   "id": "5494150363962652",
   "outputs": [
    {
     "data": {
      "text/plain": [
       "2"
      ]
     },
     "execution_count": 8,
     "metadata": {},
     "output_type": "execute_result"
    }
   ],
   "execution_count": 8
  },
  {
   "metadata": {
    "ExecuteTime": {
     "end_time": "2025-06-02T03:25:05.933110Z",
     "start_time": "2025-06-02T03:25:05.929312Z"
    }
   },
   "cell_type": "code",
   "source": "type(result)",
   "id": "4eed9f2f9c54d434",
   "outputs": [
    {
     "data": {
      "text/plain": [
       "str"
      ]
     },
     "execution_count": 4,
     "metadata": {},
     "output_type": "execute_result"
    }
   ],
   "execution_count": 4
  },
  {
   "metadata": {
    "ExecuteTime": {
     "end_time": "2025-06-02T03:25:17.366177Z",
     "start_time": "2025-06-02T03:25:17.361459Z"
    }
   },
   "cell_type": "code",
   "source": "result = int(result)",
   "id": "6820f39afa3e02e4",
   "outputs": [],
   "execution_count": 5
  },
  {
   "metadata": {
    "ExecuteTime": {
     "end_time": "2025-06-02T03:26:11.851343Z",
     "start_time": "2025-06-02T03:26:11.839732Z"
    }
   },
   "cell_type": "code",
   "source": "result",
   "id": "8c7562fa0e4b4b36",
   "outputs": [
    {
     "data": {
      "text/plain": [
       "2"
      ]
     },
     "execution_count": 9,
     "metadata": {},
     "output_type": "execute_result"
    }
   ],
   "execution_count": 9
  },
  {
   "metadata": {
    "ExecuteTime": {
     "end_time": "2025-06-02T03:26:36.854018Z",
     "start_time": "2025-06-02T03:26:31.957393Z"
    }
   },
   "cell_type": "code",
   "source": "result = int(input(\"Please enter a value: \"))  #--> can also be done in this way",
   "id": "985ac63280cfe0e4",
   "outputs": [],
   "execution_count": 10
  },
  {
   "metadata": {
    "ExecuteTime": {
     "end_time": "2025-06-02T03:26:40.387388Z",
     "start_time": "2025-06-02T03:26:40.384013Z"
    }
   },
   "cell_type": "code",
   "source": "result",
   "id": "281ccab8d93e251e",
   "outputs": [
    {
     "data": {
      "text/plain": [
       "2"
      ]
     },
     "execution_count": 11,
     "metadata": {},
     "output_type": "execute_result"
    }
   ],
   "execution_count": 11
  },
  {
   "metadata": {
    "ExecuteTime": {
     "end_time": "2025-06-02T03:33:16.084862Z",
     "start_time": "2025-06-02T03:33:16.078171Z"
    }
   },
   "cell_type": "code",
   "source": [
    "### Note :\n",
    "# If we run the input cell twice, the python script unknowingly waits for the input function unknowingly and all the cells will be waiting for the input which does not even show.\n",
    "# Hence we need to restart the kernel, hence we have to be careful while running the input cell more than once"
   ],
   "id": "4e2baec54a32352d",
   "outputs": [],
   "execution_count": 12
  }
 ],
 "metadata": {
  "kernelspec": {
   "display_name": "Python 3",
   "language": "python",
   "name": "python3"
  },
  "language_info": {
   "codemirror_mode": {
    "name": "ipython",
    "version": 2
   },
   "file_extension": ".py",
   "mimetype": "text/x-python",
   "name": "python",
   "nbconvert_exporter": "python",
   "pygments_lexer": "ipython2",
   "version": "2.7.6"
  }
 },
 "nbformat": 4,
 "nbformat_minor": 5
}
