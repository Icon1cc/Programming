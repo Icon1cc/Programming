{
 "cells": [
  {
   "metadata": {},
   "cell_type": "raw",
   "source": [
    "Simple Interaction Program\n",
    "\n",
    "The program will :\n",
    "    - Display a list\n",
    "    - Have a user choose an index position and an input value\n",
    "    - Replace value at index position with user's chosen input value"
   ],
   "id": "3a5197029800f37f"
  },
  {
   "metadata": {
    "ExecuteTime": {
     "end_time": "2025-06-02T03:56:34.698494Z",
     "start_time": "2025-06-02T03:56:34.691410Z"
    }
   },
   "cell_type": "code",
   "source": "game_list = [0,1,2]",
   "id": "98c1690ba23753ba",
   "outputs": [],
   "execution_count": 2
  },
  {
   "metadata": {
    "ExecuteTime": {
     "end_time": "2025-06-02T03:56:35.505984Z",
     "start_time": "2025-06-02T03:56:35.502701Z"
    }
   },
   "cell_type": "code",
   "source": [
    "def display_game(game_list):\n",
    "    print(\"Here is the current list\")\n",
    "    print(game_list)"
   ],
   "id": "c5cdb11c681c8cc3",
   "outputs": [],
   "execution_count": 3
  },
  {
   "metadata": {
    "ExecuteTime": {
     "end_time": "2025-06-02T03:57:15.134683Z",
     "start_time": "2025-06-02T03:57:15.129293Z"
    }
   },
   "cell_type": "code",
   "source": "display_game(game_list)",
   "id": "326de0df943b778c",
   "outputs": [
    {
     "name": "stdout",
     "output_type": "stream",
     "text": [
      "Here is the current list\n",
      "[0, 1, 2]\n"
     ]
    }
   ],
   "execution_count": 4
  },
  {
   "metadata": {
    "ExecuteTime": {
     "end_time": "2025-06-02T04:00:22.507156Z",
     "start_time": "2025-06-02T04:00:22.500178Z"
    }
   },
   "cell_type": "code",
   "source": [
    "def position_choice():\n",
    "\n",
    "    choice = 'Wrong'\n",
    "\n",
    "    while choice not in ['0','1','2']:\n",
    "\n",
    "        choice = input('Pick a position to replace (0,1,2): ')\n",
    "\n",
    "        if choice not in ['0','1','2']:\n",
    "\n",
    "            print(\"Sorry but you did not choose a valid position (0,1,2)\")\n",
    "\n",
    "    return int(choice)"
   ],
   "id": "f3529054bb66c219",
   "outputs": [],
   "execution_count": 5
  },
  {
   "metadata": {
    "ExecuteTime": {
     "end_time": "2025-06-02T04:01:08.921572Z",
     "start_time": "2025-06-02T04:01:08.916900Z"
    }
   },
   "cell_type": "code",
   "source": [
    "def replacement_choice(game_list, position):\n",
    "    user_placement = input(\"Type a string to place at the position\")\n",
    "\n",
    "    game_list[position] = user_placement\n",
    "\n",
    "    return game_list"
   ],
   "id": "b97d4261f68dcb5f",
   "outputs": [],
   "execution_count": 6
  },
  {
   "metadata": {
    "ExecuteTime": {
     "end_time": "2025-06-02T04:07:12.662892Z",
     "start_time": "2025-06-02T04:07:12.656922Z"
    }
   },
   "cell_type": "code",
   "source": [
    "def gameon_choice():\n",
    "\n",
    "    choice = 'wrong'\n",
    "\n",
    "    while choice not in ['Y','N']:\n",
    "\n",
    "        choice = input(\"Would you like to keep playing? Y or N \")\n",
    "\n",
    "        if choice not in ['Y','N']:\n",
    "            print(\"Sorry I dont understand. Please choose Y or N\")\n",
    "\n",
    "    if choice == 'Y':\n",
    "        return True\n",
    "    else :\n",
    "        return False"
   ],
   "id": "939dff583e82868d",
   "outputs": [],
   "execution_count": 9
  },
  {
   "metadata": {
    "ExecuteTime": {
     "end_time": "2025-06-02T04:07:32.931129Z",
     "start_time": "2025-06-02T04:07:13.094388Z"
    }
   },
   "cell_type": "code",
   "source": [
    "game_on = True\n",
    "\n",
    "game_list = [0,1,2]\n",
    "\n",
    "while game_on:\n",
    "\n",
    "    display_game(game_list)\n",
    "\n",
    "    position = position_choice()\n",
    "\n",
    "    game_list = replacement_choice(game_list, position)\n",
    "\n",
    "    display_game(game_list)\n",
    "\n",
    "    game_on = gameon_choice()"
   ],
   "id": "413430bf8cc4bfba",
   "outputs": [
    {
     "name": "stdout",
     "output_type": "stream",
     "text": [
      "Here is the current list\n",
      "[0, 1, 2]\n",
      "Sorry but you did not choose a valid position (0,1,2)\n",
      "Here is the current list\n",
      "[0, 'b', 2]\n",
      "Sorry I dont understand. Please choose Y or N\n"
     ]
    }
   ],
   "execution_count": 10
  }
 ],
 "metadata": {
  "kernelspec": {
   "display_name": "Python 3",
   "language": "python",
   "name": "python3"
  },
  "language_info": {
   "codemirror_mode": {
    "name": "ipython",
    "version": 2
   },
   "file_extension": ".py",
   "mimetype": "text/x-python",
   "name": "python",
   "nbconvert_exporter": "python",
   "pygments_lexer": "ipython2",
   "version": "2.7.6"
  }
 },
 "nbformat": 4,
 "nbformat_minor": 5
}
