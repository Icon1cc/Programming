{
 "cells": [
  {
   "cell_type": "code",
   "id": "initial_id",
   "metadata": {
    "collapsed": true,
    "ExecuteTime": {
     "end_time": "2025-06-02T03:18:31.110532Z",
     "start_time": "2025-06-02T03:18:31.107748Z"
    }
   },
   "source": "print([1,2,3])",
   "outputs": [
    {
     "name": "stdout",
     "output_type": "stream",
     "text": [
      "[1, 2, 3]\n"
     ]
    }
   ],
   "execution_count": 1
  },
  {
   "metadata": {
    "ExecuteTime": {
     "end_time": "2025-06-02T03:18:52.695137Z",
     "start_time": "2025-06-02T03:18:52.689910Z"
    }
   },
   "cell_type": "code",
   "source": [
    "print([1,2,3])\n",
    "print([4,5,6])\n",
    "print([7,8,9])"
   ],
   "id": "8f64c450bd74c535",
   "outputs": [
    {
     "name": "stdout",
     "output_type": "stream",
     "text": [
      "[1, 2, 3]\n",
      "[4, 5, 6]\n",
      "[7, 8, 9]\n"
     ]
    }
   ],
   "execution_count": 2
  },
  {
   "metadata": {
    "ExecuteTime": {
     "end_time": "2025-06-02T03:19:33.217198Z",
     "start_time": "2025-06-02T03:19:33.209759Z"
    }
   },
   "cell_type": "code",
   "source": [
    "def display(row1, row2, row3):\n",
    "    print(row1)\n",
    "    print(row2)\n",
    "    print(row3)"
   ],
   "id": "9b792aef6db2fd7f",
   "outputs": [],
   "execution_count": 3
  },
  {
   "metadata": {
    "ExecuteTime": {
     "end_time": "2025-06-02T03:21:17.410837Z",
     "start_time": "2025-06-02T03:21:17.403223Z"
    }
   },
   "cell_type": "code",
   "source": [
    "row1 = [' ', ' ', ' ']\n",
    "row2 = [' ', ' ', ' ']\n",
    "row3 = [' ', ' ', ' ']"
   ],
   "id": "12ec7c7749ebb391",
   "outputs": [],
   "execution_count": 5
  },
  {
   "metadata": {
    "ExecuteTime": {
     "end_time": "2025-06-02T03:21:34.323240Z",
     "start_time": "2025-06-02T03:21:34.319317Z"
    }
   },
   "cell_type": "code",
   "source": "display(row1, row2, row3)",
   "id": "5ad3bf409486e60d",
   "outputs": [
    {
     "name": "stdout",
     "output_type": "stream",
     "text": [
      "[' ', ' ', ' ']\n",
      "[' ', ' ', ' ']\n",
      "[' ', ' ', ' ']\n"
     ]
    }
   ],
   "execution_count": 6
  },
  {
   "metadata": {
    "ExecuteTime": {
     "end_time": "2025-06-02T03:21:47.487630Z",
     "start_time": "2025-06-02T03:21:47.483971Z"
    }
   },
   "cell_type": "code",
   "source": "row2[1] = 'X'",
   "id": "aab4c70874ae8127",
   "outputs": [],
   "execution_count": 7
  },
  {
   "metadata": {
    "ExecuteTime": {
     "end_time": "2025-06-02T03:21:57.291203Z",
     "start_time": "2025-06-02T03:21:57.283711Z"
    }
   },
   "cell_type": "code",
   "source": "display(row1, row2, row3)",
   "id": "6735f281d5c35836",
   "outputs": [
    {
     "name": "stdout",
     "output_type": "stream",
     "text": [
      "[' ', ' ', ' ']\n",
      "[' ', 'X', ' ']\n",
      "[' ', ' ', ' ']\n"
     ]
    }
   ],
   "execution_count": 8
  }
 ],
 "metadata": {
  "kernelspec": {
   "display_name": "Python 3",
   "language": "python",
   "name": "python3"
  },
  "language_info": {
   "codemirror_mode": {
    "name": "ipython",
    "version": 2
   },
   "file_extension": ".py",
   "mimetype": "text/x-python",
   "name": "python",
   "nbconvert_exporter": "python",
   "pygments_lexer": "ipython2",
   "version": "2.7.6"
  }
 },
 "nbformat": 4,
 "nbformat_minor": 5
}
