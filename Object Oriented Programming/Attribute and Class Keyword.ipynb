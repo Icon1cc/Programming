{
 "cells": [
  {
   "cell_type": "code",
   "id": "initial_id",
   "metadata": {
    "collapsed": true,
    "ExecuteTime": {
     "end_time": "2025-06-04T19:17:31.634618Z",
     "start_time": "2025-06-04T19:17:31.630556Z"
    }
   },
   "source": [
    "class Dog():\n",
    "\n",
    "    def __init__(self,breed):\n",
    "\n",
    "        #Attributes\n",
    "        # We take in the argument\n",
    "        # We assign it using self.attribute_name\n",
    "        # In this case we are using self.breed\n",
    "        self.breed = breed"
   ],
   "outputs": [],
   "execution_count": 13
  },
  {
   "metadata": {
    "ExecuteTime": {
     "end_time": "2025-06-04T19:17:32.060578Z",
     "start_time": "2025-06-04T19:17:32.058490Z"
    }
   },
   "cell_type": "code",
   "source": [
    "class Dog():\n",
    "\n",
    "    def __init__(self,breed):\n",
    "\n",
    "        #Attributes\n",
    "        # We take in the argument\n",
    "        # We assign it using self.attribute_name\n",
    "        # In this case we are using self.my_attribute\n",
    "        self.my_attribute = breed"
   ],
   "id": "85913fcbf5fd0564",
   "outputs": [],
   "execution_count": 14
  },
  {
   "metadata": {
    "ExecuteTime": {
     "end_time": "2025-06-04T19:17:33.000423Z",
     "start_time": "2025-06-04T19:17:32.997901Z"
    }
   },
   "cell_type": "code",
   "source": "my_dog = Dog(breed = 'Lab')",
   "id": "625f44d82112bb82",
   "outputs": [],
   "execution_count": 15
  },
  {
   "metadata": {
    "ExecuteTime": {
     "end_time": "2025-06-04T19:17:33.359580Z",
     "start_time": "2025-06-04T19:17:33.357569Z"
    }
   },
   "cell_type": "code",
   "source": "my_dog = Dog(breed = 'Huskie')",
   "id": "7208eecf43683f16",
   "outputs": [],
   "execution_count": 16
  },
  {
   "metadata": {
    "ExecuteTime": {
     "end_time": "2025-06-04T19:17:36.439042Z",
     "start_time": "2025-06-04T19:17:36.434646Z"
    }
   },
   "cell_type": "code",
   "source": "type(my_dog)",
   "id": "c2bd8c5aba63930",
   "outputs": [
    {
     "data": {
      "text/plain": [
       "__main__.Dog"
      ]
     },
     "execution_count": 17,
     "metadata": {},
     "output_type": "execute_result"
    }
   ],
   "execution_count": 17
  },
  {
   "metadata": {
    "ExecuteTime": {
     "end_time": "2025-06-04T19:18:10.805859Z",
     "start_time": "2025-06-04T19:18:10.801457Z"
    }
   },
   "cell_type": "code",
   "source": [
    "# my_dog.breed\n",
    "\n",
    "my_dog.my_attribute"
   ],
   "id": "f9ec63a9887f7795",
   "outputs": [
    {
     "data": {
      "text/plain": [
       "'Huskie'"
      ]
     },
     "execution_count": 20,
     "metadata": {},
     "output_type": "execute_result"
    }
   ],
   "execution_count": 20
  },
  {
   "metadata": {
    "ExecuteTime": {
     "end_time": "2025-06-04T19:19:29.506034Z",
     "start_time": "2025-06-04T19:19:29.502732Z"
    }
   },
   "cell_type": "code",
   "source": [
    "class Dog():\n",
    "\n",
    "    def __init__(self,breed,name,spots):\n",
    "        self.breed = breed\n",
    "        self.name = name\n",
    "\n",
    "        # Expecting a boolean value true or false here\n",
    "        self.spots = spots"
   ],
   "id": "3251257085954c81",
   "outputs": [],
   "execution_count": 21
  },
  {
   "metadata": {
    "ExecuteTime": {
     "end_time": "2025-06-04T19:20:27.991446Z",
     "start_time": "2025-06-04T19:20:27.988747Z"
    }
   },
   "cell_type": "code",
   "source": "my_dog = Dog(breed = 'Lab',name = 'Sammy', spots = False)",
   "id": "4fb90aa9dabc6a3a",
   "outputs": [],
   "execution_count": 22
  },
  {
   "metadata": {
    "ExecuteTime": {
     "end_time": "2025-06-04T19:20:34.820394Z",
     "start_time": "2025-06-04T19:20:34.816596Z"
    }
   },
   "cell_type": "code",
   "source": "type(my_dog)",
   "id": "7451dd52e934b46e",
   "outputs": [
    {
     "data": {
      "text/plain": [
       "__main__.Dog"
      ]
     },
     "execution_count": 23,
     "metadata": {},
     "output_type": "execute_result"
    }
   ],
   "execution_count": 23
  },
  {
   "metadata": {
    "ExecuteTime": {
     "end_time": "2025-06-04T19:20:43.252268Z",
     "start_time": "2025-06-04T19:20:43.248630Z"
    }
   },
   "cell_type": "code",
   "source": "my_dog.breed",
   "id": "42e206ca8349896",
   "outputs": [
    {
     "data": {
      "text/plain": [
       "'Lab'"
      ]
     },
     "execution_count": 24,
     "metadata": {},
     "output_type": "execute_result"
    }
   ],
   "execution_count": 24
  },
  {
   "metadata": {
    "ExecuteTime": {
     "end_time": "2025-06-04T19:20:49.107018Z",
     "start_time": "2025-06-04T19:20:49.103313Z"
    }
   },
   "cell_type": "code",
   "source": "my_dog.name",
   "id": "efe9d3d4936b998e",
   "outputs": [
    {
     "data": {
      "text/plain": [
       "'Sammy'"
      ]
     },
     "execution_count": 25,
     "metadata": {},
     "output_type": "execute_result"
    }
   ],
   "execution_count": 25
  },
  {
   "metadata": {
    "ExecuteTime": {
     "end_time": "2025-06-04T19:20:58.219707Z",
     "start_time": "2025-06-04T19:20:58.216572Z"
    }
   },
   "cell_type": "code",
   "source": "my_dog.spots",
   "id": "31acc5323788d716",
   "outputs": [
    {
     "data": {
      "text/plain": [
       "False"
      ]
     },
     "execution_count": 26,
     "metadata": {},
     "output_type": "execute_result"
    }
   ],
   "execution_count": 26
  },
  {
   "metadata": {},
   "cell_type": "code",
   "outputs": [],
   "execution_count": null,
   "source": "",
   "id": "3035ddb7ba59ba1d"
  }
 ],
 "metadata": {
  "kernelspec": {
   "display_name": "Python 3",
   "language": "python",
   "name": "python3"
  },
  "language_info": {
   "codemirror_mode": {
    "name": "ipython",
    "version": 2
   },
   "file_extension": ".py",
   "mimetype": "text/x-python",
   "name": "python",
   "nbconvert_exporter": "python",
   "pygments_lexer": "ipython2",
   "version": "2.7.6"
  }
 },
 "nbformat": 4,
 "nbformat_minor": 5
}
