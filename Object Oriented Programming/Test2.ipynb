{
 "cells": [
  {
   "cell_type": "markdown",
   "metadata": {},
   "source": [
    "# Object Oriented Programming Challenge\n",
    "\n",
    "For this challenge, create a bank account class that has two attributes:\n",
    "\n",
    "* owner\n",
    "* balance\n",
    "\n",
    "and two methods:\n",
    "\n",
    "* deposit\n",
    "* withdraw\n",
    "\n",
    "As an added requirement, withdrawals may not exceed the available balance.\n",
    "\n",
    "Instantiate your class, make several deposits and withdrawals, and test to make sure the account can't be overdrawn."
   ]
  },
  {
   "cell_type": "code",
   "metadata": {
    "collapsed": true,
    "ExecuteTime": {
     "end_time": "2025-06-04T21:00:34.481492Z",
     "start_time": "2025-06-04T21:00:34.475014Z"
    }
   },
   "source": [
    "class Account:\n",
    "\n",
    "    def __init__(self, owner, balance):\n",
    "\n",
    "        self.owner = owner\n",
    "        self.balance = balance\n",
    "\n",
    "    def __str__(self):\n",
    "        return f\"Account owner : {self.owner}\\nAccount balance : {self.balance}\"\n",
    "\n",
    "    def deposit(self, dep_amt):\n",
    "        self.balance = self.balance + dep_amt\n",
    "        print(\"Deposit Accepted\")\n",
    "\n",
    "    def withdraw(self, amt_with):\n",
    "        if self.balance >= amt_with:\n",
    "            self.balance = self.balance - amt_with\n",
    "            print(\"Withdrawal Accepted\")\n",
    "        else:\n",
    "            print(\"Withdrawal Rejected\")"
   ],
   "outputs": [],
   "execution_count": 18
  },
  {
   "cell_type": "code",
   "metadata": {
    "collapsed": true,
    "ExecuteTime": {
     "end_time": "2025-06-04T21:00:35.607513Z",
     "start_time": "2025-06-04T21:00:35.603841Z"
    }
   },
   "source": [
    "# 1. Instantiate the class\n",
    "acct1 = Account('Jose',100)"
   ],
   "outputs": [],
   "execution_count": 19
  },
  {
   "cell_type": "code",
   "metadata": {
    "ExecuteTime": {
     "end_time": "2025-06-04T21:00:35.945909Z",
     "start_time": "2025-06-04T21:00:35.943503Z"
    }
   },
   "source": [
    "# 2. Print the object\n",
    "print(acct1)"
   ],
   "outputs": [
    {
     "name": "stdout",
     "output_type": "stream",
     "text": [
      "Account owner : Jose\n",
      "Account balance : 100\n"
     ]
    }
   ],
   "execution_count": 20
  },
  {
   "cell_type": "code",
   "metadata": {
    "ExecuteTime": {
     "end_time": "2025-06-04T21:00:36.180687Z",
     "start_time": "2025-06-04T21:00:36.176237Z"
    }
   },
   "source": [
    "# 3. Show the account owner attribute\n",
    "acct1.owner"
   ],
   "outputs": [
    {
     "data": {
      "text/plain": [
       "'Jose'"
      ]
     },
     "execution_count": 21,
     "metadata": {},
     "output_type": "execute_result"
    }
   ],
   "execution_count": 21
  },
  {
   "cell_type": "code",
   "metadata": {
    "ExecuteTime": {
     "end_time": "2025-06-04T21:00:38.126990Z",
     "start_time": "2025-06-04T21:00:38.121157Z"
    }
   },
   "source": [
    "# 4. Show the account balance attribute\n",
    "acct1.balance"
   ],
   "outputs": [
    {
     "data": {
      "text/plain": [
       "100"
      ]
     },
     "execution_count": 22,
     "metadata": {},
     "output_type": "execute_result"
    }
   ],
   "execution_count": 22
  },
  {
   "cell_type": "code",
   "metadata": {
    "ExecuteTime": {
     "end_time": "2025-06-04T21:00:38.807665Z",
     "start_time": "2025-06-04T21:00:38.803809Z"
    }
   },
   "source": [
    "# 5. Make a series of deposits and withdrawals\n",
    "acct1.deposit(50)"
   ],
   "outputs": [
    {
     "name": "stdout",
     "output_type": "stream",
     "text": [
      "Deposit Accepted\n"
     ]
    }
   ],
   "execution_count": 23
  },
  {
   "cell_type": "code",
   "metadata": {
    "ExecuteTime": {
     "end_time": "2025-06-04T21:00:42.748995Z",
     "start_time": "2025-06-04T21:00:42.745339Z"
    }
   },
   "source": [
    "acct1.withdraw(75)"
   ],
   "outputs": [
    {
     "name": "stdout",
     "output_type": "stream",
     "text": [
      "Withdrawal Accepted\n"
     ]
    }
   ],
   "execution_count": 24
  },
  {
   "cell_type": "code",
   "metadata": {
    "ExecuteTime": {
     "end_time": "2025-06-04T21:00:44.121345Z",
     "start_time": "2025-06-04T21:00:44.117586Z"
    }
   },
   "source": [
    "# 6. Make a withdrawal that exceeds the available balance\n",
    "acct1.withdraw(500)"
   ],
   "outputs": [
    {
     "name": "stdout",
     "output_type": "stream",
     "text": [
      "Withdrawal Rejected\n"
     ]
    }
   ],
   "execution_count": 25
  }
 ],
 "metadata": {
  "kernelspec": {
   "display_name": "Python 3",
   "language": "python",
   "name": "python3"
  },
  "language_info": {
   "codemirror_mode": {
    "name": "ipython",
    "version": 3
   },
   "file_extension": ".py",
   "mimetype": "text/x-python",
   "name": "python",
   "nbconvert_exporter": "python",
   "pygments_lexer": "ipython3",
   "version": "3.6.6"
  }
 },
 "nbformat": 4,
 "nbformat_minor": 2
}
