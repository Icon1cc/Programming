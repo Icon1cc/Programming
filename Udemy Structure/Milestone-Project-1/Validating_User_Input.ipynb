{
 "cells": [
  {
   "cell_type": "code",
   "id": "initial_id",
   "metadata": {
    "collapsed": true,
    "ExecuteTime": {
     "end_time": "2025-06-02T03:46:44.864507Z",
     "start_time": "2025-06-02T03:46:44.855449Z"
    }
   },
   "source": [
    "def user_choice():\n",
    "\n",
    "    choice = 'Wrong'\n",
    "    while not choice.isdigit():\n",
    "\n",
    "        choice = input(\"Please enter a number between 1 to 10: \")\n",
    "\n",
    "        if not choice.isdigit():\n",
    "            print('Sorry it is not a digit')\n",
    "\n",
    "    return int(choice)"
   ],
   "outputs": [],
   "execution_count": 9
  },
  {
   "metadata": {
    "ExecuteTime": {
     "end_time": "2025-06-02T03:46:58.330003Z",
     "start_time": "2025-06-02T03:46:45.526866Z"
    }
   },
   "cell_type": "code",
   "source": "user_choice()",
   "id": "a14c3e7965ce450c",
   "outputs": [
    {
     "name": "stdout",
     "output_type": "stream",
     "text": [
      "Sorry it is not a digit\n",
      "Sorry it is not a digit\n"
     ]
    },
    {
     "data": {
      "text/plain": [
       "2"
      ]
     },
     "execution_count": 10,
     "metadata": {},
     "output_type": "execute_result"
    }
   ],
   "execution_count": 10
  },
  {
   "metadata": {
    "ExecuteTime": {
     "end_time": "2025-06-02T03:52:55.061046Z",
     "start_time": "2025-06-02T03:52:55.055654Z"
    }
   },
   "cell_type": "code",
   "source": [
    "def user_choice():\n",
    "\n",
    "    # Variables\n",
    "\n",
    "    # Initial Variable\n",
    "    choice = 'Wrong'\n",
    "    acceptable_range = range(0,10)\n",
    "    within_range = False\n",
    "\n",
    "    # Two conditions to check\n",
    "    # Digit or Within_range = False\n",
    "    while not choice.isdigit() or within_range == False:\n",
    "\n",
    "        choice = input(\"Please enter a number between 1 to 10: \")\n",
    "\n",
    "        # Digit_Check\n",
    "        if not choice.isdigit():\n",
    "            print('Sorry it is not a digit')\n",
    "\n",
    "        # Range Check\n",
    "\n",
    "        if choice.isdigit():\n",
    "            if int(choice) in acceptable_range:\n",
    "                within_range = True\n",
    "            else:\n",
    "                print(\"Sorry you are out of range (0-10)\")\n",
    "                within_range = False\n",
    "\n",
    "    return int(choice)"
   ],
   "id": "49285b91877462e4",
   "outputs": [],
   "execution_count": 13
  },
  {
   "metadata": {
    "ExecuteTime": {
     "end_time": "2025-06-02T03:53:03.127818Z",
     "start_time": "2025-06-02T03:52:55.725631Z"
    }
   },
   "cell_type": "code",
   "source": "user_choice()",
   "id": "34a384085cddd55e",
   "outputs": [
    {
     "name": "stdout",
     "output_type": "stream",
     "text": [
      "Sorry you are out of range (0-10)\n"
     ]
    },
    {
     "data": {
      "text/plain": [
       "2"
      ]
     },
     "execution_count": 14,
     "metadata": {},
     "output_type": "execute_result"
    }
   ],
   "execution_count": 14
  }
 ],
 "metadata": {
  "kernelspec": {
   "display_name": "Python 3",
   "language": "python",
   "name": "python3"
  },
  "language_info": {
   "codemirror_mode": {
    "name": "ipython",
    "version": 2
   },
   "file_extension": ".py",
   "mimetype": "text/x-python",
   "name": "python",
   "nbconvert_exporter": "python",
   "pygments_lexer": "ipython2",
   "version": "2.7.6"
  }
 },
 "nbformat": 4,
 "nbformat_minor": 5
}
