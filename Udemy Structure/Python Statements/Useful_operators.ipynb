{
 "cells": [
  {
   "metadata": {
    "ExecuteTime": {
     "end_time": "2025-05-25T17:02:48.052398Z",
     "start_time": "2025-05-25T17:02:48.049939Z"
    }
   },
   "cell_type": "code",
   "source": "mylist = [1,2,3]",
   "id": "60109403f93e4722",
   "outputs": [],
   "execution_count": 1
  },
  {
   "metadata": {
    "ExecuteTime": {
     "end_time": "2025-05-25T17:03:24.690261Z",
     "start_time": "2025-05-25T17:03:24.681531Z"
    }
   },
   "cell_type": "code",
   "source": [
    "for num in range(10):\n",
    "    print(num)"
   ],
   "id": "51c831cd13438081",
   "outputs": [
    {
     "name": "stdout",
     "output_type": "stream",
     "text": [
      "0\n",
      "1\n",
      "2\n",
      "3\n",
      "4\n",
      "5\n",
      "6\n",
      "7\n",
      "8\n",
      "9\n"
     ]
    }
   ],
   "execution_count": 2
  },
  {
   "metadata": {
    "ExecuteTime": {
     "end_time": "2025-05-25T17:04:12.381567Z",
     "start_time": "2025-05-25T17:04:12.377279Z"
    }
   },
   "cell_type": "code",
   "source": [
    "for num in range(0,11,2):\n",
    "    print(num)"
   ],
   "id": "c9b51a00902122f5",
   "outputs": [
    {
     "name": "stdout",
     "output_type": "stream",
     "text": [
      "0\n",
      "2\n",
      "4\n",
      "6\n",
      "8\n",
      "10\n"
     ]
    }
   ],
   "execution_count": 4
  },
  {
   "metadata": {
    "ExecuteTime": {
     "end_time": "2025-05-25T17:04:38.207074Z",
     "start_time": "2025-05-25T17:04:38.202124Z"
    }
   },
   "cell_type": "code",
   "source": "range(0,11,2)",
   "id": "85954e0390564207",
   "outputs": [
    {
     "data": {
      "text/plain": [
       "range(0, 11, 2)"
      ]
     },
     "execution_count": 5,
     "metadata": {},
     "output_type": "execute_result"
    }
   ],
   "execution_count": 5
  },
  {
   "metadata": {
    "ExecuteTime": {
     "end_time": "2025-05-25T17:04:44.293570Z",
     "start_time": "2025-05-25T17:04:44.290565Z"
    }
   },
   "cell_type": "code",
   "source": "list(range(0,11,2))",
   "id": "c7789889de5511d2",
   "outputs": [
    {
     "data": {
      "text/plain": [
       "[0, 2, 4, 6, 8, 10]"
      ]
     },
     "execution_count": 6,
     "metadata": {},
     "output_type": "execute_result"
    }
   ],
   "execution_count": 6
  },
  {
   "metadata": {
    "ExecuteTime": {
     "end_time": "2025-05-25T17:07:01.514457Z",
     "start_time": "2025-05-25T17:07:01.508163Z"
    }
   },
   "cell_type": "code",
   "source": [
    "index_count = 0\n",
    "\n",
    "for letter in 'abcde':\n",
    "    print('At index {} the letter is {}'.format(index_count, letter))\n",
    "    index_count += 1"
   ],
   "id": "842fcdcc29b9aa61",
   "outputs": [
    {
     "name": "stdout",
     "output_type": "stream",
     "text": [
      "At index 0 the letter is a\n",
      "At index 1 the letter is b\n",
      "At index 2 the letter is c\n",
      "At index 3 the letter is d\n",
      "At index 4 the letter is e\n"
     ]
    }
   ],
   "execution_count": 8
  },
  {
   "metadata": {
    "ExecuteTime": {
     "end_time": "2025-05-25T17:08:50.717939Z",
     "start_time": "2025-05-25T17:08:50.712482Z"
    }
   },
   "cell_type": "code",
   "source": [
    "index_count = 0\n",
    "word = 'abcde'\n",
    "for item in enumerate(word):\n",
    "    print(item)"
   ],
   "id": "71c1d9732287bede",
   "outputs": [
    {
     "name": "stdout",
     "output_type": "stream",
     "text": [
      "(0, 'a')\n",
      "(1, 'b')\n",
      "(2, 'c')\n",
      "(3, 'd')\n",
      "(4, 'e')\n"
     ]
    }
   ],
   "execution_count": 10
  },
  {
   "metadata": {
    "ExecuteTime": {
     "end_time": "2025-05-25T17:10:10.293377Z",
     "start_time": "2025-05-25T17:10:10.289049Z"
    }
   },
   "cell_type": "code",
   "source": [
    "index_count = 0\n",
    "word = 'abcde'\n",
    "for gg,hh in enumerate(word):\n",
    "    print(hh)\n",
    "    print(gg)\n",
    "    print('\\n')"
   ],
   "id": "6a12457d9b6a793",
   "outputs": [
    {
     "name": "stdout",
     "output_type": "stream",
     "text": [
      "a\n",
      "0\n",
      "\n",
      "\n",
      "b\n",
      "1\n",
      "\n",
      "\n",
      "c\n",
      "2\n",
      "\n",
      "\n",
      "d\n",
      "3\n",
      "\n",
      "\n",
      "e\n",
      "4\n",
      "\n",
      "\n"
     ]
    }
   ],
   "execution_count": 13
  },
  {
   "metadata": {
    "ExecuteTime": {
     "end_time": "2025-05-25T17:10:56.003665Z",
     "start_time": "2025-05-25T17:10:55.984005Z"
    }
   },
   "cell_type": "code",
   "source": [
    "mylist1 = [1,2,3]\n",
    "mylist2 = ['a', 'b', 'c', 'd', 'e']"
   ],
   "id": "7d132046bd1be9b2",
   "outputs": [],
   "execution_count": 14
  },
  {
   "metadata": {
    "ExecuteTime": {
     "end_time": "2025-05-25T17:11:09.672905Z",
     "start_time": "2025-05-25T17:11:09.669597Z"
    }
   },
   "cell_type": "code",
   "source": [
    "for item in zip(mylist1, mylist2):\n",
    "    print(item)"
   ],
   "id": "ffeb27a8d171d799",
   "outputs": [
    {
     "name": "stdout",
     "output_type": "stream",
     "text": [
      "(1, 'a')\n",
      "(2, 'b')\n",
      "(3, 'c')\n"
     ]
    }
   ],
   "execution_count": 15
  },
  {
   "metadata": {
    "ExecuteTime": {
     "end_time": "2025-05-25T17:12:19.845028Z",
     "start_time": "2025-05-25T17:12:19.838269Z"
    }
   },
   "cell_type": "code",
   "source": [
    "mylist1 = [1,2,3]\n",
    "mylist2 = ['a', 'b', 'c', 'd', 'e']\n",
    "mylist3 = [111,222,333,444]\n",
    "\n",
    "for item in zip(mylist1, mylist2, mylist3):\n",
    "    print(item)"
   ],
   "id": "e2cbc10afe26c679",
   "outputs": [
    {
     "name": "stdout",
     "output_type": "stream",
     "text": [
      "(1, 'a', 111)\n",
      "(2, 'b', 222)\n",
      "(3, 'c', 333)\n"
     ]
    }
   ],
   "execution_count": 16
  },
  {
   "metadata": {
    "ExecuteTime": {
     "end_time": "2025-05-25T17:12:34.639058Z",
     "start_time": "2025-05-25T17:12:34.631281Z"
    }
   },
   "cell_type": "code",
   "source": "list(zip(mylist1, mylist2, mylist3))",
   "id": "ba1370de92ed539a",
   "outputs": [
    {
     "data": {
      "text/plain": [
       "[(1, 'a', 111), (2, 'b', 222), (3, 'c', 333)]"
      ]
     },
     "execution_count": 17,
     "metadata": {},
     "output_type": "execute_result"
    }
   ],
   "execution_count": 17
  },
  {
   "metadata": {
    "ExecuteTime": {
     "end_time": "2025-05-25T17:12:50.595346Z",
     "start_time": "2025-05-25T17:12:50.591005Z"
    }
   },
   "cell_type": "code",
   "source": "'x' in [1,2,3]",
   "id": "5a00dd8aa914e8b9",
   "outputs": [
    {
     "data": {
      "text/plain": [
       "False"
      ]
     },
     "execution_count": 18,
     "metadata": {},
     "output_type": "execute_result"
    }
   ],
   "execution_count": 18
  },
  {
   "metadata": {
    "ExecuteTime": {
     "end_time": "2025-05-25T17:12:58.281873Z",
     "start_time": "2025-05-25T17:12:58.277679Z"
    }
   },
   "cell_type": "code",
   "source": "1 in [1,2,3]",
   "id": "91cd60ced2e9854b",
   "outputs": [
    {
     "data": {
      "text/plain": [
       "True"
      ]
     },
     "execution_count": 19,
     "metadata": {},
     "output_type": "execute_result"
    }
   ],
   "execution_count": 19
  },
  {
   "metadata": {
    "ExecuteTime": {
     "end_time": "2025-05-25T17:13:48.885860Z",
     "start_time": "2025-05-25T17:13:48.880965Z"
    }
   },
   "cell_type": "code",
   "source": "'mykey' in {'mykey':123}",
   "id": "edacc8966fb24122",
   "outputs": [
    {
     "data": {
      "text/plain": [
       "True"
      ]
     },
     "execution_count": 20,
     "metadata": {},
     "output_type": "execute_result"
    }
   ],
   "execution_count": 20
  },
  {
   "metadata": {
    "ExecuteTime": {
     "end_time": "2025-05-25T17:14:28.672386Z",
     "start_time": "2025-05-25T17:14:28.666702Z"
    }
   },
   "cell_type": "code",
   "source": [
    "d = {'mykey':123}\n",
    "\n",
    "345 in d.values()"
   ],
   "id": "739ce1f59aad1e32",
   "outputs": [
    {
     "data": {
      "text/plain": [
       "False"
      ]
     },
     "execution_count": 23,
     "metadata": {},
     "output_type": "execute_result"
    }
   ],
   "execution_count": 23
  },
  {
   "metadata": {
    "ExecuteTime": {
     "end_time": "2025-05-25T17:14:34.988626Z",
     "start_time": "2025-05-25T17:14:34.985046Z"
    }
   },
   "cell_type": "code",
   "source": [
    "d = {'mykey':123}\n",
    "\n",
    "345 in d.keys()"
   ],
   "id": "a94797386f2a8e40",
   "outputs": [
    {
     "data": {
      "text/plain": [
       "False"
      ]
     },
     "execution_count": 24,
     "metadata": {},
     "output_type": "execute_result"
    }
   ],
   "execution_count": 24
  },
  {
   "metadata": {
    "ExecuteTime": {
     "end_time": "2025-05-25T17:14:54.818632Z",
     "start_time": "2025-05-25T17:14:54.813030Z"
    }
   },
   "cell_type": "code",
   "source": "mylist = [10,20,30,40,100]",
   "id": "9c64e15fde3dd4a7",
   "outputs": [],
   "execution_count": 25
  },
  {
   "metadata": {
    "ExecuteTime": {
     "end_time": "2025-05-25T17:14:58.160679Z",
     "start_time": "2025-05-25T17:14:58.157434Z"
    }
   },
   "cell_type": "code",
   "source": "min(mylist)",
   "id": "e82419476402700f",
   "outputs": [
    {
     "data": {
      "text/plain": [
       "10"
      ]
     },
     "execution_count": 26,
     "metadata": {},
     "output_type": "execute_result"
    }
   ],
   "execution_count": 26
  },
  {
   "metadata": {
    "ExecuteTime": {
     "end_time": "2025-05-25T17:15:02.322860Z",
     "start_time": "2025-05-25T17:15:02.318888Z"
    }
   },
   "cell_type": "code",
   "source": "max(mylist)",
   "id": "a1877d3c7124fd8f",
   "outputs": [
    {
     "data": {
      "text/plain": [
       "100"
      ]
     },
     "execution_count": 27,
     "metadata": {},
     "output_type": "execute_result"
    }
   ],
   "execution_count": 27
  },
  {
   "metadata": {
    "ExecuteTime": {
     "end_time": "2025-05-25T17:16:02.219112Z",
     "start_time": "2025-05-25T17:16:02.214268Z"
    }
   },
   "cell_type": "code",
   "source": "from random import shuffle",
   "id": "e028f16f1c872d17",
   "outputs": [],
   "execution_count": 28
  },
  {
   "metadata": {
    "ExecuteTime": {
     "end_time": "2025-05-25T17:16:48.214795Z",
     "start_time": "2025-05-25T17:16:48.208817Z"
    }
   },
   "cell_type": "code",
   "source": "mylist = [1,2,3,4,5,6,7,8,9]",
   "id": "7380bc0cf8f09979",
   "outputs": [],
   "execution_count": 32
  },
  {
   "metadata": {
    "ExecuteTime": {
     "end_time": "2025-05-25T17:16:58.266749Z",
     "start_time": "2025-05-25T17:16:58.263577Z"
    }
   },
   "cell_type": "code",
   "source": "shuffle(mylist)",
   "id": "95259d53f7d4438",
   "outputs": [],
   "execution_count": 35
  },
  {
   "metadata": {
    "ExecuteTime": {
     "end_time": "2025-05-25T17:16:58.625675Z",
     "start_time": "2025-05-25T17:16:58.621949Z"
    }
   },
   "cell_type": "code",
   "source": "mylist",
   "id": "2400a2ac125686fe",
   "outputs": [
    {
     "data": {
      "text/plain": [
       "[2, 6, 8, 5, 4, 1, 9, 3, 7]"
      ]
     },
     "execution_count": 36,
     "metadata": {},
     "output_type": "execute_result"
    }
   ],
   "execution_count": 36
  },
  {
   "metadata": {
    "ExecuteTime": {
     "end_time": "2025-05-25T17:17:08.949603Z",
     "start_time": "2025-05-25T17:17:08.943971Z"
    }
   },
   "cell_type": "code",
   "source": "type(mylist)",
   "id": "8b278f142dc4ecb4",
   "outputs": [
    {
     "data": {
      "text/plain": [
       "list"
      ]
     },
     "execution_count": 37,
     "metadata": {},
     "output_type": "execute_result"
    }
   ],
   "execution_count": 37
  },
  {
   "metadata": {
    "ExecuteTime": {
     "end_time": "2025-05-25T17:17:46.317354Z",
     "start_time": "2025-05-25T17:17:46.313801Z"
    }
   },
   "cell_type": "code",
   "source": "from random import randint",
   "id": "da3e1d518294ff78",
   "outputs": [],
   "execution_count": 40
  },
  {
   "metadata": {
    "ExecuteTime": {
     "end_time": "2025-05-25T17:17:46.671724Z",
     "start_time": "2025-05-25T17:17:46.668577Z"
    }
   },
   "cell_type": "code",
   "source": "randint(9,200)",
   "id": "58b6106386c1857b",
   "outputs": [
    {
     "data": {
      "text/plain": [
       "164"
      ]
     },
     "execution_count": 41,
     "metadata": {},
     "output_type": "execute_result"
    }
   ],
   "execution_count": 41
  },
  {
   "metadata": {
    "ExecuteTime": {
     "end_time": "2025-05-25T17:18:02.024136Z",
     "start_time": "2025-05-25T17:18:02.015453Z"
    }
   },
   "cell_type": "code",
   "source": "newnum = randint(0,10)",
   "id": "e9f54356b0e5f7eb",
   "outputs": [],
   "execution_count": 42
  },
  {
   "metadata": {
    "ExecuteTime": {
     "end_time": "2025-05-25T17:18:04.546347Z",
     "start_time": "2025-05-25T17:18:04.543051Z"
    }
   },
   "cell_type": "code",
   "source": "newnum",
   "id": "e7c3571b97faabbb",
   "outputs": [
    {
     "data": {
      "text/plain": [
       "10"
      ]
     },
     "execution_count": 43,
     "metadata": {},
     "output_type": "execute_result"
    }
   ],
   "execution_count": 43
  },
  {
   "metadata": {
    "ExecuteTime": {
     "end_time": "2025-05-25T17:18:22.846919Z",
     "start_time": "2025-05-25T17:18:16.702491Z"
    }
   },
   "cell_type": "code",
   "source": "input('Enter a number here: ')",
   "id": "69a409781138cc11",
   "outputs": [
    {
     "data": {
      "text/plain": [
       "'50'"
      ]
     },
     "execution_count": 44,
     "metadata": {},
     "output_type": "execute_result"
    }
   ],
   "execution_count": 44
  },
  {
   "metadata": {
    "ExecuteTime": {
     "end_time": "2025-05-25T17:18:51.247874Z",
     "start_time": "2025-05-25T17:18:43.087507Z"
    }
   },
   "cell_type": "code",
   "source": "result = input('What is your name?')",
   "id": "2257d6217a99d7f2",
   "outputs": [],
   "execution_count": 45
  },
  {
   "metadata": {
    "ExecuteTime": {
     "end_time": "2025-05-25T17:18:57.015414Z",
     "start_time": "2025-05-25T17:18:57.010211Z"
    }
   },
   "cell_type": "code",
   "source": "result",
   "id": "4791bb1310c15c81",
   "outputs": [
    {
     "data": {
      "text/plain": [
       "'Jose'"
      ]
     },
     "execution_count": 46,
     "metadata": {},
     "output_type": "execute_result"
    }
   ],
   "execution_count": 46
  },
  {
   "metadata": {
    "ExecuteTime": {
     "end_time": "2025-05-25T17:22:38.750449Z",
     "start_time": "2025-05-25T17:22:36.397174Z"
    }
   },
   "cell_type": "code",
   "source": [
    "result = input(\"What is your age?\")\n",
    "print(result)"
   ],
   "id": "34697e329ceb697f",
   "outputs": [
    {
     "name": "stdout",
     "output_type": "stream",
     "text": [
      "23\n"
     ]
    }
   ],
   "execution_count": 51
  },
  {
   "metadata": {
    "ExecuteTime": {
     "end_time": "2025-05-25T17:22:44.214863Z",
     "start_time": "2025-05-25T17:22:44.211703Z"
    }
   },
   "cell_type": "code",
   "source": "type(result)",
   "id": "aa6c14d7cd24ed09",
   "outputs": [
    {
     "data": {
      "text/plain": [
       "str"
      ]
     },
     "execution_count": 52,
     "metadata": {},
     "output_type": "execute_result"
    }
   ],
   "execution_count": 52
  },
  {
   "metadata": {
    "ExecuteTime": {
     "end_time": "2025-05-25T17:22:03.131647Z",
     "start_time": "2025-05-25T17:21:59.979529Z"
    }
   },
   "cell_type": "code",
   "source": [
    "result = int(input(\"What is your age?\"))\n",
    "print(result)"
   ],
   "id": "d5d877a31c033ae7",
   "outputs": [
    {
     "name": "stdout",
     "output_type": "stream",
     "text": [
      "26\n"
     ]
    }
   ],
   "execution_count": 49
  },
  {
   "metadata": {
    "ExecuteTime": {
     "end_time": "2025-05-25T17:22:17.843016Z",
     "start_time": "2025-05-25T17:22:17.832039Z"
    }
   },
   "cell_type": "code",
   "source": "type(result)",
   "id": "93e573110d812d11",
   "outputs": [
    {
     "data": {
      "text/plain": [
       "int"
      ]
     },
     "execution_count": 50,
     "metadata": {},
     "output_type": "execute_result"
    }
   ],
   "execution_count": 50
  }
 ],
 "metadata": {
  "kernelspec": {
   "display_name": "Python 3",
   "language": "python",
   "name": "python3"
  },
  "language_info": {
   "codemirror_mode": {
    "name": "ipython",
    "version": 2
   },
   "file_extension": ".py",
   "mimetype": "text/x-python",
   "name": "python",
   "nbconvert_exporter": "python",
   "pygments_lexer": "ipython2",
   "version": "2.7.6"
  }
 },
 "nbformat": 4,
 "nbformat_minor": 5
}
