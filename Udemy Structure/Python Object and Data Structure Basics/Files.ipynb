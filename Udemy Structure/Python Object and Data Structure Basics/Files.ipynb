{
 "cells": [
  {
   "cell_type": "code",
   "id": "initial_id",
   "metadata": {
    "collapsed": true,
    "ExecuteTime": {
     "end_time": "2025-05-25T12:26:14.040860Z",
     "start_time": "2025-05-25T12:26:14.035424Z"
    }
   },
   "source": [
    "%%writefile myfile.txt\n",
    "Hello this is a text file\n",
    "this is the second line\n",
    "this is the third line"
   ],
   "outputs": [
    {
     "name": "stdout",
     "output_type": "stream",
     "text": [
      "Writing myfile.txt\n"
     ]
    }
   ],
   "execution_count": 2
  },
  {
   "metadata": {
    "ExecuteTime": {
     "end_time": "2025-05-25T12:26:48.821733Z",
     "start_time": "2025-05-25T12:26:48.817067Z"
    }
   },
   "cell_type": "code",
   "source": "myfile = open('myfile.txt')",
   "id": "47f3d2dd5ae867c9",
   "outputs": [],
   "execution_count": 3
  },
  {
   "metadata": {
    "ExecuteTime": {
     "end_time": "2025-05-25T12:27:45.558317Z",
     "start_time": "2025-05-25T12:27:45.551350Z"
    }
   },
   "cell_type": "code",
   "source": "pwd",
   "id": "9f4a5aa687ed6c5e",
   "outputs": [
    {
     "data": {
      "text/plain": [
       "'/Users/icon1c/Desktop/Python Practice'"
      ]
     },
     "execution_count": 4,
     "metadata": {},
     "output_type": "execute_result"
    }
   ],
   "execution_count": 4
  },
  {
   "metadata": {
    "ExecuteTime": {
     "end_time": "2025-05-25T12:28:47.418744Z",
     "start_time": "2025-05-25T12:28:47.412922Z"
    }
   },
   "cell_type": "code",
   "source": "myfile.read()",
   "id": "204bbe2f649c1651",
   "outputs": [
    {
     "data": {
      "text/plain": [
       "'Hello this is a text file\\nthis is the second line\\nthis is the third line\\n'"
      ]
     },
     "execution_count": 6,
     "metadata": {},
     "output_type": "execute_result"
    }
   ],
   "execution_count": 6
  },
  {
   "metadata": {
    "ExecuteTime": {
     "end_time": "2025-05-25T12:30:03.687445Z",
     "start_time": "2025-05-25T12:30:03.683977Z"
    }
   },
   "cell_type": "code",
   "source": "myfile.read()",
   "id": "dbe5bfab16fbc26e",
   "outputs": [
    {
     "data": {
      "text/plain": [
       "''"
      ]
     },
     "execution_count": 7,
     "metadata": {},
     "output_type": "execute_result"
    }
   ],
   "execution_count": 7
  },
  {
   "metadata": {
    "ExecuteTime": {
     "end_time": "2025-05-25T12:30:15.883803Z",
     "start_time": "2025-05-25T12:30:15.879749Z"
    }
   },
   "cell_type": "code",
   "source": "myfile.seek(0)  # --> Since the cursor is at the end of the file, hence we need to reset it",
   "id": "1dcf807fc209aaea",
   "outputs": [
    {
     "data": {
      "text/plain": [
       "0"
      ]
     },
     "execution_count": 8,
     "metadata": {},
     "output_type": "execute_result"
    }
   ],
   "execution_count": 8
  },
  {
   "metadata": {
    "ExecuteTime": {
     "end_time": "2025-05-25T12:30:22.628830Z",
     "start_time": "2025-05-25T12:30:22.625114Z"
    }
   },
   "cell_type": "code",
   "source": "myfile.read()",
   "id": "af44a4300138b633",
   "outputs": [
    {
     "data": {
      "text/plain": [
       "'Hello this is a text file\\nthis is the second line\\nthis is the third line\\n'"
      ]
     },
     "execution_count": 9,
     "metadata": {},
     "output_type": "execute_result"
    }
   ],
   "execution_count": 9
  },
  {
   "metadata": {
    "ExecuteTime": {
     "end_time": "2025-05-25T12:30:53.195577Z",
     "start_time": "2025-05-25T12:30:53.191525Z"
    }
   },
   "cell_type": "code",
   "source": "myfile.seek(0)",
   "id": "9f33ed85b3652b5a",
   "outputs": [
    {
     "data": {
      "text/plain": [
       "0"
      ]
     },
     "execution_count": 10,
     "metadata": {},
     "output_type": "execute_result"
    }
   ],
   "execution_count": 10
  },
  {
   "metadata": {
    "ExecuteTime": {
     "end_time": "2025-05-25T12:31:00.385105Z",
     "start_time": "2025-05-25T12:31:00.382067Z"
    }
   },
   "cell_type": "code",
   "source": "myfile.readlines()",
   "id": "d166838c76d7196f",
   "outputs": [
    {
     "data": {
      "text/plain": [
       "['Hello this is a text file\\n',\n",
       " 'this is the second line\\n',\n",
       " 'this is the third line\\n']"
      ]
     },
     "execution_count": 11,
     "metadata": {},
     "output_type": "execute_result"
    }
   ],
   "execution_count": 11
  },
  {
   "metadata": {
    "ExecuteTime": {
     "end_time": "2025-05-25T12:33:50.820143Z",
     "start_time": "2025-05-25T12:33:50.816613Z"
    }
   },
   "cell_type": "code",
   "source": "myfile.close()  #--> since the file is open and we need to close it or else we cant edit elsewhere",
   "id": "feadecad308da269",
   "outputs": [],
   "execution_count": 13
  },
  {
   "metadata": {
    "ExecuteTime": {
     "end_time": "2025-05-25T12:34:42.459921Z",
     "start_time": "2025-05-25T12:34:42.455734Z"
    }
   },
   "cell_type": "code",
   "source": [
    "with open('myfile.txt') as my_new_file:\n",
    "    contents = my_new_file.read()  # --> We can use alternative variable to use and\n",
    "    # then we dont have to worry about closing the file"
   ],
   "id": "52d936fc84f6b6a0",
   "outputs": [],
   "execution_count": 14
  },
  {
   "metadata": {
    "ExecuteTime": {
     "end_time": "2025-05-25T12:34:56.039824Z",
     "start_time": "2025-05-25T12:34:56.034087Z"
    }
   },
   "cell_type": "code",
   "source": "contents",
   "id": "2644494e1ba52d50",
   "outputs": [
    {
     "data": {
      "text/plain": [
       "'Hello this is a text file\\nthis is the second line\\nthis is the third line\\n'"
      ]
     },
     "execution_count": 15,
     "metadata": {},
     "output_type": "execute_result"
    }
   ],
   "execution_count": 15
  },
  {
   "metadata": {
    "ExecuteTime": {
     "end_time": "2025-05-25T12:36:33.732101Z",
     "start_time": "2025-05-25T12:36:33.726414Z"
    }
   },
   "cell_type": "code",
   "source": [
    "with open('myfile.txt', mode ='r') as myfile:\n",
    "    contents = myfile.read()"
   ],
   "id": "b7e884817fe3fc52",
   "outputs": [],
   "execution_count": 16
  },
  {
   "metadata": {
    "ExecuteTime": {
     "end_time": "2025-05-25T12:40:44.309174Z",
     "start_time": "2025-05-25T12:40:44.303207Z"
    }
   },
   "cell_type": "code",
   "source": [
    "%%writefile my_new_file.txt\n",
    "ONE ON FIRST\n",
    "TWO ON SECOND\n",
    "THREE ON THIRD"
   ],
   "id": "705e33fdb15d080f",
   "outputs": [
    {
     "name": "stdout",
     "output_type": "stream",
     "text": [
      "Overwriting my_new_file.txt\n"
     ]
    }
   ],
   "execution_count": 22
  },
  {
   "metadata": {
    "ExecuteTime": {
     "end_time": "2025-05-25T12:40:44.880477Z",
     "start_time": "2025-05-25T12:40:44.877463Z"
    }
   },
   "cell_type": "code",
   "source": [
    "with open ('my_new_file.txt', mode ='r') as f:\n",
    "    print(f.read())"
   ],
   "id": "b16fafe3b0110ad0",
   "outputs": [
    {
     "name": "stdout",
     "output_type": "stream",
     "text": [
      "ONE ON FIRST\n",
      "TWO ON SECOND\n",
      "THREE ON THIRD\n",
      "\n"
     ]
    }
   ],
   "execution_count": 23
  },
  {
   "metadata": {
    "ExecuteTime": {
     "end_time": "2025-05-25T12:40:45.636750Z",
     "start_time": "2025-05-25T12:40:45.633224Z"
    }
   },
   "cell_type": "code",
   "source": [
    "with open ('my_new_file.txt', mode ='a') as f:\n",
    "    f.write('Four on Fourth')"
   ],
   "id": "fcc13681dbfe4bae",
   "outputs": [],
   "execution_count": 24
  },
  {
   "metadata": {
    "ExecuteTime": {
     "end_time": "2025-05-25T12:40:46.141693Z",
     "start_time": "2025-05-25T12:40:46.138562Z"
    }
   },
   "cell_type": "code",
   "source": [
    "with open ('my_new_file.txt', mode ='r') as f:\n",
    "    print(f.read())"
   ],
   "id": "b91dc3015b69e29e",
   "outputs": [
    {
     "name": "stdout",
     "output_type": "stream",
     "text": [
      "ONE ON FIRST\n",
      "TWO ON SECOND\n",
      "THREE ON THIRD\n",
      "Four on Fourth\n"
     ]
    }
   ],
   "execution_count": 25
  },
  {
   "metadata": {
    "ExecuteTime": {
     "end_time": "2025-05-25T12:41:33.518681Z",
     "start_time": "2025-05-25T12:41:33.514157Z"
    }
   },
   "cell_type": "code",
   "source": [
    "with open('Test_file.txt', mode ='w') as f:  #--> if the file does not exists, with w\n",
    "                                            # we can create a new file\n",
    "    f.write('It was a new file')"
   ],
   "id": "7b2667e899f286c9",
   "outputs": [],
   "execution_count": 26
  },
  {
   "metadata": {
    "ExecuteTime": {
     "end_time": "2025-05-25T12:42:02.083983Z",
     "start_time": "2025-05-25T12:42:02.077426Z"
    }
   },
   "cell_type": "code",
   "source": [
    "with open('Test_file.txt', mode ='r') as f:\n",
    "    print(f.read())"
   ],
   "id": "2105acc9f6b69155",
   "outputs": [
    {
     "name": "stdout",
     "output_type": "stream",
     "text": [
      "It was a new file\n"
     ]
    }
   ],
   "execution_count": 27
  }
 ],
 "metadata": {
  "kernelspec": {
   "display_name": "Python 3",
   "language": "python",
   "name": "python3"
  },
  "language_info": {
   "codemirror_mode": {
    "name": "ipython",
    "version": 2
   },
   "file_extension": ".py",
   "mimetype": "text/x-python",
   "name": "python",
   "nbconvert_exporter": "python",
   "pygments_lexer": "ipython2",
   "version": "2.7.6"
  }
 },
 "nbformat": 4,
 "nbformat_minor": 5
}
