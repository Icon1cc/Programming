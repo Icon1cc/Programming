{
 "cells": [
  {
   "metadata": {
    "ExecuteTime": {
     "end_time": "2025-05-24T18:15:24.504744Z",
     "start_time": "2025-05-24T18:15:24.499559Z"
    }
   },
   "cell_type": "code",
   "source": "2+1",
   "id": "a3c48a7b45d023f0",
   "outputs": [
    {
     "data": {
      "text/plain": [
       "3"
      ]
     },
     "execution_count": 1,
     "metadata": {},
     "output_type": "execute_result"
    }
   ],
   "execution_count": 1
  },
  {
   "metadata": {
    "ExecuteTime": {
     "end_time": "2025-05-24T18:15:31.829997Z",
     "start_time": "2025-05-24T18:15:31.827197Z"
    }
   },
   "cell_type": "code",
   "source": "2+2",
   "id": "e10be49f87ab5aa6",
   "outputs": [
    {
     "data": {
      "text/plain": [
       "4"
      ]
     },
     "execution_count": 2,
     "metadata": {},
     "output_type": "execute_result"
    }
   ],
   "execution_count": 2
  },
  {
   "metadata": {
    "ExecuteTime": {
     "end_time": "2025-05-24T18:15:35.315Z",
     "start_time": "2025-05-24T18:15:35.311608Z"
    }
   },
   "cell_type": "code",
   "source": "2*2",
   "id": "a225e0fc247daf00",
   "outputs": [
    {
     "data": {
      "text/plain": [
       "4"
      ]
     },
     "execution_count": 3,
     "metadata": {},
     "output_type": "execute_result"
    }
   ],
   "execution_count": 3
  },
  {
   "metadata": {
    "ExecuteTime": {
     "end_time": "2025-05-24T18:15:38.145642Z",
     "start_time": "2025-05-24T18:15:38.141743Z"
    }
   },
   "cell_type": "code",
   "source": "7/4 # Provides the quotient",
   "id": "8b8e1376821a4ef0",
   "outputs": [
    {
     "data": {
      "text/plain": [
       "1.75"
      ]
     },
     "execution_count": 4,
     "metadata": {},
     "output_type": "execute_result"
    }
   ],
   "execution_count": 4
  },
  {
   "metadata": {
    "ExecuteTime": {
     "end_time": "2025-05-24T18:15:43.260930Z",
     "start_time": "2025-05-24T18:15:43.257200Z"
    }
   },
   "cell_type": "code",
   "source": "7%4 # Provides the remainder",
   "id": "e7363494508ceafb",
   "outputs": [
    {
     "data": {
      "text/plain": [
       "3"
      ]
     },
     "execution_count": 5,
     "metadata": {},
     "output_type": "execute_result"
    }
   ],
   "execution_count": 5
  },
  {
   "metadata": {
    "ExecuteTime": {
     "end_time": "2025-05-24T18:16:57.482297Z",
     "start_time": "2025-05-24T18:16:57.479371Z"
    }
   },
   "cell_type": "code",
   "source": [
    "# Check whether the number is even or odd\n",
    "# If the remainder is 0 then it is even or else odd\n",
    "20 % 2"
   ],
   "id": "12644a95bc431b20",
   "outputs": [
    {
     "data": {
      "text/plain": [
       "0"
      ]
     },
     "execution_count": 6,
     "metadata": {},
     "output_type": "execute_result"
    }
   ],
   "execution_count": 6
  },
  {
   "metadata": {
    "ExecuteTime": {
     "end_time": "2025-05-24T18:17:33.324370Z",
     "start_time": "2025-05-24T18:17:33.320595Z"
    }
   },
   "cell_type": "code",
   "source": [
    "# To the power\n",
    "2 ** 3"
   ],
   "id": "c37192b40cdcfcce",
   "outputs": [
    {
     "data": {
      "text/plain": [
       "8"
      ]
     },
     "execution_count": 7,
     "metadata": {},
     "output_type": "execute_result"
    }
   ],
   "execution_count": 7
  },
  {
   "metadata": {
    "ExecuteTime": {
     "end_time": "2025-05-24T18:17:59.232828Z",
     "start_time": "2025-05-24T18:17:59.229568Z"
    }
   },
   "cell_type": "code",
   "source": "2 + 10 * 10 + 3 # Basic arithmetic operations",
   "id": "4df7274033b668a2",
   "outputs": [
    {
     "data": {
      "text/plain": [
       "105"
      ]
     },
     "execution_count": 8,
     "metadata": {},
     "output_type": "execute_result"
    }
   ],
   "execution_count": 8
  },
  {
   "metadata": {
    "ExecuteTime": {
     "end_time": "2025-05-24T18:18:16.972629Z",
     "start_time": "2025-05-24T18:18:16.968198Z"
    }
   },
   "cell_type": "code",
   "source": "2 + (10 * 10) + 3",
   "id": "a6cb481fe4a56869",
   "outputs": [
    {
     "data": {
      "text/plain": [
       "105"
      ]
     },
     "execution_count": 9,
     "metadata": {},
     "output_type": "execute_result"
    }
   ],
   "execution_count": 9
  },
  {
   "metadata": {
    "ExecuteTime": {
     "end_time": "2025-05-24T18:19:13.795519Z",
     "start_time": "2025-05-24T18:19:13.792677Z"
    }
   },
   "cell_type": "code",
   "source": [
    "# Write an expression that equals 100\n",
    "40 + (20 * 2) + 20"
   ],
   "id": "ac5ad90410d9303c",
   "outputs": [
    {
     "data": {
      "text/plain": [
       "100"
      ]
     },
     "execution_count": 10,
     "metadata": {},
     "output_type": "execute_result"
    }
   ],
   "execution_count": 10
  }
 ],
 "metadata": {
  "kernelspec": {
   "display_name": "Python 3",
   "language": "python",
   "name": "python3"
  },
  "language_info": {
   "codemirror_mode": {
    "name": "ipython",
    "version": 2
   },
   "file_extension": ".py",
   "mimetype": "text/x-python",
   "name": "python",
   "nbconvert_exporter": "python",
   "pygments_lexer": "ipython2",
   "version": "2.7.6"
  }
 },
 "nbformat": 4,
 "nbformat_minor": 5
}
