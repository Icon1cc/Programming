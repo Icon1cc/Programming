{
 "cells": [
  {
   "cell_type": "code",
   "id": "initial_id",
   "metadata": {
    "collapsed": true,
    "ExecuteTime": {
     "end_time": "2025-05-24T18:23:48.385174Z",
     "start_time": "2025-05-24T18:23:48.382607Z"
    }
   },
   "source": "my_dogs = 2",
   "outputs": [],
   "execution_count": 1
  },
  {
   "metadata": {
    "ExecuteTime": {
     "end_time": "2025-05-24T18:24:15.189168Z",
     "start_time": "2025-05-24T18:24:15.185710Z"
    }
   },
   "cell_type": "code",
   "source": [
    "# Dynamic Typing in python\n",
    "my_dogs = [\"Sammy\", \"John Doe\"]"
   ],
   "id": "6f5c4b3d98a8c9dc",
   "outputs": [],
   "execution_count": 2
  },
  {
   "metadata": {
    "ExecuteTime": {
     "end_time": "2025-05-24T18:25:23.677172Z",
     "start_time": "2025-05-24T18:25:23.674482Z"
    }
   },
   "cell_type": "code",
   "source": "a = 5",
   "id": "4555fcd12df64035",
   "outputs": [],
   "execution_count": 3
  },
  {
   "metadata": {
    "ExecuteTime": {
     "end_time": "2025-05-24T18:25:27.614455Z",
     "start_time": "2025-05-24T18:25:27.608791Z"
    }
   },
   "cell_type": "code",
   "source": "a",
   "id": "a8125ec761b9b917",
   "outputs": [
    {
     "data": {
      "text/plain": [
       "5"
      ]
     },
     "execution_count": 4,
     "metadata": {},
     "output_type": "execute_result"
    }
   ],
   "execution_count": 4
  },
  {
   "metadata": {
    "ExecuteTime": {
     "end_time": "2025-05-24T18:28:55.592034Z",
     "start_time": "2025-05-24T18:28:55.589552Z"
    }
   },
   "cell_type": "code",
   "source": "a = 10",
   "id": "3f07f2368f546c4",
   "outputs": [],
   "execution_count": 1
  },
  {
   "metadata": {
    "ExecuteTime": {
     "end_time": "2025-05-24T18:28:57.320205Z",
     "start_time": "2025-05-24T18:28:57.314002Z"
    }
   },
   "cell_type": "code",
   "source": "a",
   "id": "5709da67d66a7658",
   "outputs": [
    {
     "data": {
      "text/plain": [
       "10"
      ]
     },
     "execution_count": 2,
     "metadata": {},
     "output_type": "execute_result"
    }
   ],
   "execution_count": 2
  },
  {
   "metadata": {
    "ExecuteTime": {
     "end_time": "2025-05-24T18:28:58.334959Z",
     "start_time": "2025-05-24T18:28:58.330259Z"
    }
   },
   "cell_type": "code",
   "source": "a + a",
   "id": "2d54be412357dc17",
   "outputs": [
    {
     "data": {
      "text/plain": [
       "20"
      ]
     },
     "execution_count": 3,
     "metadata": {},
     "output_type": "execute_result"
    }
   ],
   "execution_count": 3
  },
  {
   "metadata": {
    "ExecuteTime": {
     "end_time": "2025-05-24T18:28:59.786985Z",
     "start_time": "2025-05-24T18:28:59.783107Z"
    }
   },
   "cell_type": "code",
   "source": "a = a + a",
   "id": "b9cb111f3254fc81",
   "outputs": [],
   "execution_count": 4
  },
  {
   "metadata": {
    "ExecuteTime": {
     "end_time": "2025-05-24T18:29:02.356844Z",
     "start_time": "2025-05-24T18:29:02.352233Z"
    }
   },
   "cell_type": "code",
   "source": "a",
   "id": "ac49658dd80b2897",
   "outputs": [
    {
     "data": {
      "text/plain": [
       "20"
      ]
     },
     "execution_count": 5,
     "metadata": {},
     "output_type": "execute_result"
    }
   ],
   "execution_count": 5
  },
  {
   "metadata": {
    "ExecuteTime": {
     "end_time": "2025-05-24T18:31:35.104876Z",
     "start_time": "2025-05-24T18:31:35.093326Z"
    }
   },
   "cell_type": "code",
   "source": "type(a) # Shows the type of the variable with the built-in keyword",
   "id": "3da82d34c5d5565c",
   "outputs": [
    {
     "data": {
      "text/plain": [
       "float"
      ]
     },
     "execution_count": 9,
     "metadata": {},
     "output_type": "execute_result"
    }
   ],
   "execution_count": 9
  },
  {
   "metadata": {
    "ExecuteTime": {
     "end_time": "2025-05-24T18:31:36.121876Z",
     "start_time": "2025-05-24T18:31:36.118164Z"
    }
   },
   "cell_type": "code",
   "source": "a = 30.1",
   "id": "52bef77e69085281",
   "outputs": [],
   "execution_count": 10
  },
  {
   "metadata": {
    "ExecuteTime": {
     "end_time": "2025-05-24T18:31:37.358275Z",
     "start_time": "2025-05-24T18:31:37.354388Z"
    }
   },
   "cell_type": "code",
   "source": "type(a)",
   "id": "a2c3ef5cd7cc51f4",
   "outputs": [
    {
     "data": {
      "text/plain": [
       "float"
      ]
     },
     "execution_count": 11,
     "metadata": {},
     "output_type": "execute_result"
    }
   ],
   "execution_count": 11
  },
  {
   "metadata": {
    "ExecuteTime": {
     "end_time": "2025-05-24T18:50:17.640971Z",
     "start_time": "2025-05-24T18:50:17.637871Z"
    }
   },
   "cell_type": "code",
   "source": [
    "my_income = 100\n",
    "tax_rate = 10/100\n",
    "my_taxes = my_income * tax_rate"
   ],
   "id": "4719bca9cb67e173",
   "outputs": [],
   "execution_count": 4
  },
  {
   "metadata": {
    "ExecuteTime": {
     "end_time": "2025-05-24T18:50:18.209193Z",
     "start_time": "2025-05-24T18:50:18.204878Z"
    }
   },
   "cell_type": "code",
   "source": "my_taxes",
   "id": "fffbf753584a778c",
   "outputs": [
    {
     "data": {
      "text/plain": [
       "10.0"
      ]
     },
     "execution_count": 5,
     "metadata": {},
     "output_type": "execute_result"
    }
   ],
   "execution_count": 5
  }
 ],
 "metadata": {
  "kernelspec": {
   "display_name": "Python 3",
   "language": "python",
   "name": "python3"
  },
  "language_info": {
   "codemirror_mode": {
    "name": "ipython",
    "version": 2
   },
   "file_extension": ".py",
   "mimetype": "text/x-python",
   "name": "python",
   "nbconvert_exporter": "python",
   "pygments_lexer": "ipython2",
   "version": "2.7.6"
  }
 },
 "nbformat": 4,
 "nbformat_minor": 5
}
