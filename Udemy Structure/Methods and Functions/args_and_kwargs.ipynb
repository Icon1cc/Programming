{
 "cells": [
  {
   "cell_type": "code",
   "id": "initial_id",
   "metadata": {
    "collapsed": true,
    "ExecuteTime": {
     "end_time": "2025-05-27T15:17:37.788098Z",
     "start_time": "2025-05-27T15:17:37.785868Z"
    }
   },
   "source": [
    "def myfunc(a,b):\n",
    "    # Returns 5% of the sum of a and b\n",
    "    return sum((a,b)) * 0.05"
   ],
   "outputs": [],
   "execution_count": 1
  },
  {
   "metadata": {
    "ExecuteTime": {
     "end_time": "2025-05-27T15:17:43.122873Z",
     "start_time": "2025-05-27T15:17:43.115656Z"
    }
   },
   "cell_type": "code",
   "source": "myfunc(40,60)",
   "id": "200958b474c213e3",
   "outputs": [
    {
     "data": {
      "text/plain": [
       "5.0"
      ]
     },
     "execution_count": 2,
     "metadata": {},
     "output_type": "execute_result"
    }
   ],
   "execution_count": 2
  },
  {
   "metadata": {
    "ExecuteTime": {
     "end_time": "2025-05-27T15:24:08.482256Z",
     "start_time": "2025-05-27T15:24:08.474285Z"
    }
   },
   "cell_type": "code",
   "source": [
    "def myfunc(*args): # we can also use any other keyword but always use conventional *args\n",
    "    for item in args:\n",
    "        print(item)"
   ],
   "id": "abe888f8a54c342b",
   "outputs": [],
   "execution_count": 5
  },
  {
   "metadata": {
    "ExecuteTime": {
     "end_time": "2025-05-27T15:24:09.133552Z",
     "start_time": "2025-05-27T15:24:09.128636Z"
    }
   },
   "cell_type": "code",
   "source": "myfunc(10,20,30,40,50,60,60,70,80)",
   "id": "483e8e18e207b07e",
   "outputs": [
    {
     "name": "stdout",
     "output_type": "stream",
     "text": [
      "10\n",
      "20\n",
      "30\n",
      "40\n",
      "50\n",
      "60\n",
      "60\n",
      "70\n",
      "80\n"
     ]
    }
   ],
   "execution_count": 6
  },
  {
   "metadata": {
    "ExecuteTime": {
     "end_time": "2025-05-27T15:26:10.696246Z",
     "start_time": "2025-05-27T15:26:10.691526Z"
    }
   },
   "cell_type": "code",
   "source": [
    "def myfunc(**kwargs):\n",
    "    print(kwargs)\n",
    "    if 'fruit' in kwargs:\n",
    "        print('My fruit of choice is {}'.format(kwargs['fruit']))\n",
    "    else:\n",
    "        print('I did not find any fruit here')"
   ],
   "id": "c6a1ccb2e7d385cc",
   "outputs": [],
   "execution_count": 9
  },
  {
   "metadata": {
    "ExecuteTime": {
     "end_time": "2025-05-27T15:28:35.315781Z",
     "start_time": "2025-05-27T15:28:35.312592Z"
    }
   },
   "cell_type": "code",
   "source": "myfunc(veggie = 'Lettuce')",
   "id": "4fb0c5ffbcfe0e1c",
   "outputs": [
    {
     "name": "stdout",
     "output_type": "stream",
     "text": [
      "{'veggie': 'Lettuce'}\n",
      "I did not find any fruit here\n"
     ]
    }
   ],
   "execution_count": 11
  },
  {
   "metadata": {
    "ExecuteTime": {
     "end_time": "2025-05-27T15:34:46.825733Z",
     "start_time": "2025-05-27T15:34:46.820750Z"
    }
   },
   "cell_type": "code",
   "source": [
    "def myfunc(*args,**kwargs):\n",
    "    print(args)\n",
    "    print(kwargs)\n",
    "    print('I would like {} {}'.format(args[0],kwargs['food']))"
   ],
   "id": "28f9b6536cb8ec70",
   "outputs": [],
   "execution_count": 23
  },
  {
   "metadata": {
    "ExecuteTime": {
     "end_time": "2025-05-27T15:34:47.202582Z",
     "start_time": "2025-05-27T15:34:47.199476Z"
    }
   },
   "cell_type": "code",
   "source": "myfunc(10,20,30,fruit = 'apple', food = 'bacon, fries, burger', drink = 'cola')",
   "id": "a3954676b1d2f91d",
   "outputs": [
    {
     "name": "stdout",
     "output_type": "stream",
     "text": [
      "(10, 20, 30)\n",
      "{'fruit': 'apple', 'food': 'bacon, fries, burger', 'drink': 'cola'}\n",
      "I would like 10 bacon, fries, burger\n"
     ]
    }
   ],
   "execution_count": 24
  }
 ],
 "metadata": {
  "kernelspec": {
   "display_name": "Python 3",
   "language": "python",
   "name": "python3"
  },
  "language_info": {
   "codemirror_mode": {
    "name": "ipython",
    "version": 2
   },
   "file_extension": ".py",
   "mimetype": "text/x-python",
   "name": "python",
   "nbconvert_exporter": "python",
   "pygments_lexer": "ipython2",
   "version": "2.7.6"
  }
 },
 "nbformat": 4,
 "nbformat_minor": 5
}
