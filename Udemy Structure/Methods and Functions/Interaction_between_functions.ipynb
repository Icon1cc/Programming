{
 "cells": [
  {
   "cell_type": "code",
   "id": "initial_id",
   "metadata": {
    "collapsed": true,
    "ExecuteTime": {
     "end_time": "2025-05-27T10:46:22.209721Z",
     "start_time": "2025-05-27T10:46:22.207450Z"
    }
   },
   "source": "example = [1,2,3,4,5,6,7]",
   "outputs": [],
   "execution_count": 1
  },
  {
   "metadata": {
    "ExecuteTime": {
     "end_time": "2025-05-27T10:46:25.670904Z",
     "start_time": "2025-05-27T10:46:25.666553Z"
    }
   },
   "cell_type": "code",
   "source": "from random import shuffle",
   "id": "3599fe9d8b739e7f",
   "outputs": [],
   "execution_count": 2
  },
  {
   "metadata": {
    "ExecuteTime": {
     "end_time": "2025-05-27T10:46:40.735223Z",
     "start_time": "2025-05-27T10:46:40.728910Z"
    }
   },
   "cell_type": "code",
   "source": [
    "shuffle(example)\n",
    "example"
   ],
   "id": "e5717a47302a1baa",
   "outputs": [
    {
     "data": {
      "text/plain": [
       "[2, 4, 7, 1, 3, 6, 5]"
      ]
     },
     "execution_count": 3,
     "metadata": {},
     "output_type": "execute_result"
    }
   ],
   "execution_count": 3
  },
  {
   "metadata": {
    "ExecuteTime": {
     "end_time": "2025-05-27T10:47:47.413863Z",
     "start_time": "2025-05-27T10:47:47.409191Z"
    }
   },
   "cell_type": "code",
   "source": [
    "def shuffle_list(mylist):\n",
    "    shuffle(mylist)\n",
    "    return mylist"
   ],
   "id": "88fc1c8c3e25b521",
   "outputs": [],
   "execution_count": 4
  },
  {
   "metadata": {
    "ExecuteTime": {
     "end_time": "2025-05-27T10:48:16.263990Z",
     "start_time": "2025-05-27T10:48:16.261597Z"
    }
   },
   "cell_type": "code",
   "source": "result = shuffle_list(example)",
   "id": "eb02cc24b432d19a",
   "outputs": [],
   "execution_count": 7
  },
  {
   "metadata": {
    "ExecuteTime": {
     "end_time": "2025-05-27T10:48:18.686566Z",
     "start_time": "2025-05-27T10:48:18.682315Z"
    }
   },
   "cell_type": "code",
   "source": "result",
   "id": "86e2056e6b50fee1",
   "outputs": [
    {
     "data": {
      "text/plain": [
       "[6, 4, 1, 2, 3, 5, 7]"
      ]
     },
     "execution_count": 8,
     "metadata": {},
     "output_type": "execute_result"
    }
   ],
   "execution_count": 8
  },
  {
   "metadata": {
    "ExecuteTime": {
     "end_time": "2025-05-27T10:48:53.963024Z",
     "start_time": "2025-05-27T10:48:53.957896Z"
    }
   },
   "cell_type": "code",
   "source": "mylist = ['A','O','B']",
   "id": "4f0fbc90d80ff102",
   "outputs": [],
   "execution_count": 9
  },
  {
   "metadata": {
    "ExecuteTime": {
     "end_time": "2025-05-27T10:49:04.699241Z",
     "start_time": "2025-05-27T10:49:04.695959Z"
    }
   },
   "cell_type": "code",
   "source": "shuffle_list(mylist)",
   "id": "ddaf3bad105912e4",
   "outputs": [
    {
     "data": {
      "text/plain": [
       "['B', 'O', 'A']"
      ]
     },
     "execution_count": 10,
     "metadata": {},
     "output_type": "execute_result"
    }
   ],
   "execution_count": 10
  },
  {
   "metadata": {
    "ExecuteTime": {
     "end_time": "2025-05-27T10:52:16.252683Z",
     "start_time": "2025-05-27T10:52:16.245987Z"
    }
   },
   "cell_type": "code",
   "source": [
    "def player_guess():\n",
    "\n",
    "    guess = ''\n",
    "\n",
    "    while guess not in['0','1','2']:\n",
    "        guess = input(\"Pick a number: 0,1 or 2\")\n",
    "\n",
    "    return int(guess)"
   ],
   "id": "c6d4697af75656a0",
   "outputs": [],
   "execution_count": 11
  },
  {
   "metadata": {
    "ExecuteTime": {
     "end_time": "2025-05-27T10:52:30.042702Z",
     "start_time": "2025-05-27T10:52:26.062046Z"
    }
   },
   "cell_type": "code",
   "source": "myindex = player_guess()",
   "id": "29016133735a9e16",
   "outputs": [],
   "execution_count": 12
  },
  {
   "metadata": {
    "ExecuteTime": {
     "end_time": "2025-05-27T10:52:34.222202Z",
     "start_time": "2025-05-27T10:52:34.218161Z"
    }
   },
   "cell_type": "code",
   "source": "myindex",
   "id": "2308dd7309752fd8",
   "outputs": [
    {
     "data": {
      "text/plain": [
       "2"
      ]
     },
     "execution_count": 13,
     "metadata": {},
     "output_type": "execute_result"
    }
   ],
   "execution_count": 13
  },
  {
   "metadata": {
    "ExecuteTime": {
     "end_time": "2025-05-27T10:59:42.544295Z",
     "start_time": "2025-05-27T10:59:42.539905Z"
    }
   },
   "cell_type": "code",
   "source": [
    "def check_guess(mylist, guess):\n",
    "    if mylist[guess] == '0':\n",
    "        print('Correct!')\n",
    "    else:\n",
    "        print(\"Wrong guess!\")\n",
    "        print(mylist)"
   ],
   "id": "98dad1f7ff3e2eb4",
   "outputs": [],
   "execution_count": 35
  },
  {
   "metadata": {
    "ExecuteTime": {
     "end_time": "2025-05-27T11:00:04.568274Z",
     "start_time": "2025-05-27T11:00:02.729100Z"
    }
   },
   "cell_type": "code",
   "source": [
    "# Initial list\n",
    "mylist = ['','0','']\n",
    "\n",
    "# Shuffle list\n",
    "mixedup_list = shuffle_list(mylist)\n",
    "\n",
    "# User guess\n",
    "guess = player_guess()\n",
    "\n",
    "# Check guess\n",
    "check_guess(mixedup_list,guess)"
   ],
   "id": "a13568bc49834529",
   "outputs": [
    {
     "name": "stdout",
     "output_type": "stream",
     "text": [
      "Correct!\n"
     ]
    }
   ],
   "execution_count": 43
  }
 ],
 "metadata": {
  "kernelspec": {
   "display_name": "Python 3",
   "language": "python",
   "name": "python3"
  },
  "language_info": {
   "codemirror_mode": {
    "name": "ipython",
    "version": 2
   },
   "file_extension": ".py",
   "mimetype": "text/x-python",
   "name": "python",
   "nbconvert_exporter": "python",
   "pygments_lexer": "ipython2",
   "version": "2.7.6"
  }
 },
 "nbformat": 4,
 "nbformat_minor": 5
}
