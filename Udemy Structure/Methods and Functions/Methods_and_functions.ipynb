{
 "cells": [
  {
   "cell_type": "code",
   "id": "initial_id",
   "metadata": {
    "collapsed": true,
    "ExecuteTime": {
     "end_time": "2025-05-26T15:41:58.544546Z",
     "start_time": "2025-05-26T15:41:58.541901Z"
    }
   },
   "source": "mylist = [1,2,3]",
   "outputs": [],
   "execution_count": 1
  },
  {
   "metadata": {
    "ExecuteTime": {
     "end_time": "2025-05-26T15:42:07.155733Z",
     "start_time": "2025-05-26T15:42:07.152992Z"
    }
   },
   "cell_type": "code",
   "source": "mylist.append(4)",
   "id": "992f107eaa064cf4",
   "outputs": [],
   "execution_count": 2
  },
  {
   "metadata": {
    "ExecuteTime": {
     "end_time": "2025-05-26T15:42:09.271537Z",
     "start_time": "2025-05-26T15:42:09.266792Z"
    }
   },
   "cell_type": "code",
   "source": "mylist",
   "id": "a38cd2eb00a3b0d2",
   "outputs": [
    {
     "data": {
      "text/plain": [
       "[1, 2, 3, 4]"
      ]
     },
     "execution_count": 3,
     "metadata": {},
     "output_type": "execute_result"
    }
   ],
   "execution_count": 3
  },
  {
   "metadata": {
    "ExecuteTime": {
     "end_time": "2025-05-26T15:42:16.090462Z",
     "start_time": "2025-05-26T15:42:16.086973Z"
    }
   },
   "cell_type": "code",
   "source": "mylist.pop()",
   "id": "a5e784c9df04383b",
   "outputs": [
    {
     "data": {
      "text/plain": [
       "4"
      ]
     },
     "execution_count": 4,
     "metadata": {},
     "output_type": "execute_result"
    }
   ],
   "execution_count": 4
  },
  {
   "metadata": {
    "ExecuteTime": {
     "end_time": "2025-05-26T15:42:19.759998Z",
     "start_time": "2025-05-26T15:42:19.755804Z"
    }
   },
   "cell_type": "code",
   "source": "mylist",
   "id": "629ea8032f1fab27",
   "outputs": [
    {
     "data": {
      "text/plain": [
       "[1, 2, 3]"
      ]
     },
     "execution_count": 5,
     "metadata": {},
     "output_type": "execute_result"
    }
   ],
   "execution_count": 5
  },
  {
   "metadata": {
    "ExecuteTime": {
     "end_time": "2025-05-26T15:54:41.252230Z",
     "start_time": "2025-05-26T15:54:41.240288Z"
    }
   },
   "cell_type": "code",
   "source": "help(mylist.insert)",
   "id": "cb50299e6e8e746c",
   "outputs": [
    {
     "name": "stdout",
     "output_type": "stream",
     "text": [
      "Help on built-in function insert:\n",
      "\n",
      "insert(index, object, /) method of builtins.list instance\n",
      "    Insert object before index.\n",
      "\n"
     ]
    }
   ],
   "execution_count": 7
  },
  {
   "metadata": {
    "ExecuteTime": {
     "end_time": "2025-05-26T15:56:32.065798Z",
     "start_time": "2025-05-26T15:56:32.062139Z"
    }
   },
   "cell_type": "code",
   "source": [
    "def name_of_functions(name):\n",
    "    '''\n",
    "    Docstring explaining function.\n",
    "    Just used as a comment which is not executed.\n",
    "    '''\n",
    "    print('Hello ' +name)"
   ],
   "id": "dfb6eb5e1275cdcb",
   "outputs": [],
   "execution_count": 12
  },
  {
   "metadata": {
    "ExecuteTime": {
     "end_time": "2025-05-26T15:56:32.476525Z",
     "start_time": "2025-05-26T15:56:32.474630Z"
    }
   },
   "cell_type": "code",
   "source": "name_of_functions('Jose')",
   "id": "b24013e5c5b66685",
   "outputs": [
    {
     "name": "stdout",
     "output_type": "stream",
     "text": [
      "Hello Jose\n"
     ]
    }
   ],
   "execution_count": 13
  },
  {
   "metadata": {
    "ExecuteTime": {
     "end_time": "2025-05-26T16:01:56.171462Z",
     "start_time": "2025-05-26T16:01:56.165598Z"
    }
   },
   "cell_type": "code",
   "source": [
    "def add_function(num1,num2):\n",
    "    return num1+num2"
   ],
   "id": "9d181f20673740ac",
   "outputs": [],
   "execution_count": 14
  },
  {
   "metadata": {
    "ExecuteTime": {
     "end_time": "2025-05-26T16:02:23.286799Z",
     "start_time": "2025-05-26T16:02:23.283058Z"
    }
   },
   "cell_type": "code",
   "source": "result = add_function(1,2)",
   "id": "8513d381d9a01054",
   "outputs": [],
   "execution_count": 15
  },
  {
   "metadata": {
    "ExecuteTime": {
     "end_time": "2025-05-26T16:02:25.908604Z",
     "start_time": "2025-05-26T16:02:25.905405Z"
    }
   },
   "cell_type": "code",
   "source": "result",
   "id": "cc5321edb9e1221e",
   "outputs": [
    {
     "data": {
      "text/plain": [
       "3"
      ]
     },
     "execution_count": 16,
     "metadata": {},
     "output_type": "execute_result"
    }
   ],
   "execution_count": 16
  }
 ],
 "metadata": {
  "kernelspec": {
   "display_name": "Python 3",
   "language": "python",
   "name": "python3"
  },
  "language_info": {
   "codemirror_mode": {
    "name": "ipython",
    "version": 2
   },
   "file_extension": ".py",
   "mimetype": "text/x-python",
   "name": "python",
   "nbconvert_exporter": "python",
   "pygments_lexer": "ipython2",
   "version": "2.7.6"
  }
 },
 "nbformat": 4,
 "nbformat_minor": 5
}
