{
 "cells": [
  {
   "cell_type": "code",
   "id": "initial_id",
   "metadata": {
    "collapsed": true,
    "ExecuteTime": {
     "end_time": "2025-05-27T10:35:19.062595Z",
     "start_time": "2025-05-27T10:35:19.060387Z"
    }
   },
   "source": "stock_prices = [('Apple',200),('Goog',300),('Micro',400)]",
   "outputs": [],
   "execution_count": 1
  },
  {
   "metadata": {
    "ExecuteTime": {
     "end_time": "2025-05-27T10:35:34.929907Z",
     "start_time": "2025-05-27T10:35:34.926279Z"
    }
   },
   "cell_type": "code",
   "source": [
    "for item in stock_prices:\n",
    "    print(item)"
   ],
   "id": "10a27af9bf45981f",
   "outputs": [
    {
     "name": "stdout",
     "output_type": "stream",
     "text": [
      "('Apple', 200)\n",
      "('Goog', 300)\n",
      "('Micro', 400)\n"
     ]
    }
   ],
   "execution_count": 2
  },
  {
   "metadata": {
    "ExecuteTime": {
     "end_time": "2025-05-27T10:36:39.900354Z",
     "start_time": "2025-05-27T10:36:39.897189Z"
    }
   },
   "cell_type": "code",
   "source": [
    "for a,b in stock_prices:\n",
    "    print(b)"
   ],
   "id": "1863351aafc9b543",
   "outputs": [
    {
     "name": "stdout",
     "output_type": "stream",
     "text": [
      "200\n",
      "300\n",
      "400\n"
     ]
    }
   ],
   "execution_count": 5
  },
  {
   "metadata": {
    "ExecuteTime": {
     "end_time": "2025-05-27T10:40:56.787188Z",
     "start_time": "2025-05-27T10:40:56.782269Z"
    }
   },
   "cell_type": "code",
   "source": "work_hours = [('Abby',1000),('Jose',400),('Billy',800)]",
   "id": "cd396f29bc54993a",
   "outputs": [],
   "execution_count": 12
  },
  {
   "metadata": {
    "ExecuteTime": {
     "end_time": "2025-05-27T10:43:39.237112Z",
     "start_time": "2025-05-27T10:43:39.233670Z"
    }
   },
   "cell_type": "code",
   "source": [
    "def employee_check(work_hours):\n",
    "    current_max = 0\n",
    "    employee_of_month = ''\n",
    "    for employee,hours in work_hours:\n",
    "        if hours > current_max:\n",
    "            current_max = hours\n",
    "            employee_of_month = employee\n",
    "        else:\n",
    "            pass\n",
    "\n",
    "    return employee_of_month,current_max"
   ],
   "id": "e6bb8c4df79f7744",
   "outputs": [],
   "execution_count": 22
  },
  {
   "metadata": {
    "ExecuteTime": {
     "end_time": "2025-05-27T10:43:39.567831Z",
     "start_time": "2025-05-27T10:43:39.562361Z"
    }
   },
   "cell_type": "code",
   "source": [
    "result = employee_check(work_hours)\n",
    "result"
   ],
   "id": "28d40ab9df51f95",
   "outputs": [
    {
     "data": {
      "text/plain": [
       "('Abby', 1000)"
      ]
     },
     "execution_count": 23,
     "metadata": {},
     "output_type": "execute_result"
    }
   ],
   "execution_count": 23
  },
  {
   "metadata": {
    "ExecuteTime": {
     "end_time": "2025-05-27T10:43:39.935996Z",
     "start_time": "2025-05-27T10:43:39.933126Z"
    }
   },
   "cell_type": "code",
   "source": "name,hours = employee_check(work_hours)",
   "id": "55af5d91b6f90d69",
   "outputs": [],
   "execution_count": 24
  },
  {
   "metadata": {
    "ExecuteTime": {
     "end_time": "2025-05-27T10:43:40.274741Z",
     "start_time": "2025-05-27T10:43:40.270805Z"
    }
   },
   "cell_type": "code",
   "source": "name",
   "id": "de695037954e6ddf",
   "outputs": [
    {
     "data": {
      "text/plain": [
       "'Abby'"
      ]
     },
     "execution_count": 25,
     "metadata": {},
     "output_type": "execute_result"
    }
   ],
   "execution_count": 25
  },
  {
   "metadata": {
    "ExecuteTime": {
     "end_time": "2025-05-27T10:43:41.203483Z",
     "start_time": "2025-05-27T10:43:41.199845Z"
    }
   },
   "cell_type": "code",
   "source": "hours",
   "id": "fd74a3003e6cd4a4",
   "outputs": [
    {
     "data": {
      "text/plain": [
       "1000"
      ]
     },
     "execution_count": 26,
     "metadata": {},
     "output_type": "execute_result"
    }
   ],
   "execution_count": 26
  }
 ],
 "metadata": {
  "kernelspec": {
   "display_name": "Python 3",
   "language": "python",
   "name": "python3"
  },
  "language_info": {
   "codemirror_mode": {
    "name": "ipython",
    "version": 2
   },
   "file_extension": ".py",
   "mimetype": "text/x-python",
   "name": "python",
   "nbconvert_exporter": "python",
   "pygments_lexer": "ipython2",
   "version": "2.7.6"
  }
 },
 "nbformat": 4,
 "nbformat_minor": 5
}
