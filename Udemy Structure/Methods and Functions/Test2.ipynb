{
 "cells": [
  {
   "cell_type": "code",
   "id": "initial_id",
   "metadata": {
    "collapsed": true,
    "ExecuteTime": {
     "end_time": "2025-05-27T15:36:10.172117Z",
     "start_time": "2025-05-27T15:36:10.169884Z"
    }
   },
   "source": [
    "#Define a function called myfunc that takes in an arbitrary number of arguments, and returns the sum of those arguments.\n",
    "\n",
    "def myfunc(*args):\n",
    "    return sum(args)"
   ],
   "outputs": [],
   "execution_count": 1
  },
  {
   "metadata": {
    "ExecuteTime": {
     "end_time": "2025-05-27T15:36:42.934668Z",
     "start_time": "2025-05-27T15:36:42.928421Z"
    }
   },
   "cell_type": "code",
   "source": "myfunc(50,60,1,2,3,63,54)",
   "id": "f1dc74447a5c76a6",
   "outputs": [
    {
     "data": {
      "text/plain": [
       "233"
      ]
     },
     "execution_count": 3,
     "metadata": {},
     "output_type": "execute_result"
    }
   ],
   "execution_count": 3
  },
  {
   "metadata": {
    "ExecuteTime": {
     "end_time": "2025-05-27T15:54:52.369609Z",
     "start_time": "2025-05-27T15:54:52.358258Z"
    }
   },
   "cell_type": "code",
   "source": [
    "# Define a function called myfunc that takes in an arbitrary number of arguments, and returns a list containing only those arguments that are even.\n",
    "\n",
    "def myfunc(*args):\n",
    "    out = []\n",
    "    for num in args:\n",
    "        if num % 2 == 0:\n",
    "            out.append(num)\n",
    "    return out"
   ],
   "id": "6c401095f5b3c8f0",
   "outputs": [],
   "execution_count": 4
  },
  {
   "metadata": {
    "ExecuteTime": {
     "end_time": "2025-05-27T15:56:01.812427Z",
     "start_time": "2025-05-27T15:56:01.807803Z"
    }
   },
   "cell_type": "code",
   "source": "myfunc(10,20,31,40,53)",
   "id": "971e343d35bf0f79",
   "outputs": [
    {
     "data": {
      "text/plain": [
       "[10, 20, 40]"
      ]
     },
     "execution_count": 6,
     "metadata": {},
     "output_type": "execute_result"
    }
   ],
   "execution_count": 6
  },
  {
   "metadata": {
    "ExecuteTime": {
     "end_time": "2025-05-27T15:56:23.083318Z",
     "start_time": "2025-05-27T15:56:23.080281Z"
    }
   },
   "cell_type": "code",
   "source": [
    "def myfunc(*args):\n",
    "    return [num for num in args if num % 2 == 0]"
   ],
   "id": "875bbfaa0fd33b89",
   "outputs": [],
   "execution_count": 7
  },
  {
   "metadata": {
    "ExecuteTime": {
     "end_time": "2025-05-27T15:56:28.365879Z",
     "start_time": "2025-05-27T15:56:28.360353Z"
    }
   },
   "cell_type": "code",
   "source": "myfunc(10,20,31,40,53)",
   "id": "48187949348d444f",
   "outputs": [
    {
     "data": {
      "text/plain": [
       "[10, 20, 40]"
      ]
     },
     "execution_count": 8,
     "metadata": {},
     "output_type": "execute_result"
    }
   ],
   "execution_count": 8
  },
  {
   "metadata": {
    "ExecuteTime": {
     "end_time": "2025-05-27T16:00:58.750448Z",
     "start_time": "2025-05-27T16:00:58.743106Z"
    }
   },
   "cell_type": "code",
   "source": [
    "# Define a function called myfunc that takes in a string, and returns a matching string where every even letter is uppercase, and every odd letter is lowercase. Assume that the incoming string only contains letters, and don't worry about numbers, spaces or punctuation. The output string can start with either an uppercase or lowercase letter, so long as letters alternate throughout the string.\n",
    "\n",
    "def myfunc(mystring):\n",
    "    out = []\n",
    "    for i in range(len(mystring)):\n",
    "        if i%2 == 0:\n",
    "            out.append(mystring[i].lower())\n",
    "        else:\n",
    "            out.append(mystring[i].upper())\n",
    "    return ''.join(out)"
   ],
   "id": "78a09bb1ce747130",
   "outputs": [],
   "execution_count": 10
  },
  {
   "metadata": {
    "ExecuteTime": {
     "end_time": "2025-05-27T16:01:11.020916Z",
     "start_time": "2025-05-27T16:01:11.016745Z"
    }
   },
   "cell_type": "code",
   "source": "myfunc(\"Happy birthday to you\")",
   "id": "84e4cb531958ab8a",
   "outputs": [
    {
     "data": {
      "text/plain": [
       "'hApPy bIrThDaY To yOu'"
      ]
     },
     "execution_count": 11,
     "metadata": {},
     "output_type": "execute_result"
    }
   ],
   "execution_count": 11
  },
  {
   "metadata": {},
   "cell_type": "code",
   "outputs": [],
   "execution_count": null,
   "source": "",
   "id": "e6ced55115789d2e"
  }
 ],
 "metadata": {
  "kernelspec": {
   "display_name": "Python 3",
   "language": "python",
   "name": "python3"
  },
  "language_info": {
   "codemirror_mode": {
    "name": "ipython",
    "version": 2
   },
   "file_extension": ".py",
   "mimetype": "text/x-python",
   "name": "python",
   "nbconvert_exporter": "python",
   "pygments_lexer": "ipython2",
   "version": "2.7.6"
  }
 },
 "nbformat": 4,
 "nbformat_minor": 5
}
