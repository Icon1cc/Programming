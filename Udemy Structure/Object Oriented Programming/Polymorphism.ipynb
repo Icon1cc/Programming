{
 "cells": [
  {
   "cell_type": "code",
   "id": "initial_id",
   "metadata": {
    "collapsed": true,
    "ExecuteTime": {
     "end_time": "2025-06-04T20:12:17.423753Z",
     "start_time": "2025-06-04T20:12:17.419052Z"
    }
   },
   "source": [
    "class Dog():\n",
    "\n",
    "    def __init__(self,name):\n",
    "        self.name = name\n",
    "\n",
    "    def speak(self):\n",
    "        return self.name + \" Says Woof!\""
   ],
   "outputs": [],
   "execution_count": 5
  },
  {
   "metadata": {
    "ExecuteTime": {
     "end_time": "2025-06-04T20:12:17.749122Z",
     "start_time": "2025-06-04T20:12:17.744078Z"
    }
   },
   "cell_type": "code",
   "source": [
    "class Cat():\n",
    "\n",
    "    def __init__(self,name):\n",
    "        self.name = name\n",
    "\n",
    "    def speak(self):\n",
    "        return self.name + \" Says Meow!\""
   ],
   "id": "9ff73ba9d6764a05",
   "outputs": [],
   "execution_count": 6
  },
  {
   "metadata": {
    "ExecuteTime": {
     "end_time": "2025-06-04T20:12:18.190687Z",
     "start_time": "2025-06-04T20:12:18.188351Z"
    }
   },
   "cell_type": "code",
   "source": [
    "niko = Dog(\"Niko\")\n",
    "felix = Cat(\"Felix\")"
   ],
   "id": "4782517ce4c850c8",
   "outputs": [],
   "execution_count": 7
  },
  {
   "metadata": {
    "ExecuteTime": {
     "end_time": "2025-06-04T20:12:29.309862Z",
     "start_time": "2025-06-04T20:12:29.306876Z"
    }
   },
   "cell_type": "code",
   "source": "print(niko.speak())",
   "id": "81fc68310276969",
   "outputs": [
    {
     "name": "stdout",
     "output_type": "stream",
     "text": [
      "Niko Says Woof!\n"
     ]
    }
   ],
   "execution_count": 8
  },
  {
   "metadata": {
    "ExecuteTime": {
     "end_time": "2025-06-04T20:12:45.469167Z",
     "start_time": "2025-06-04T20:12:45.465635Z"
    }
   },
   "cell_type": "code",
   "source": "print(felix.speak())",
   "id": "7a220c5ca8493af8",
   "outputs": [
    {
     "name": "stdout",
     "output_type": "stream",
     "text": [
      "Felix Says Meow!\n"
     ]
    }
   ],
   "execution_count": 10
  },
  {
   "metadata": {
    "ExecuteTime": {
     "end_time": "2025-06-04T20:13:57.107103Z",
     "start_time": "2025-06-04T20:13:57.102305Z"
    }
   },
   "cell_type": "code",
   "source": [
    "for pet in [niko,felix]:\n",
    "\n",
    "    print(type(pet)) # They are different types\n",
    "    print(type(pet.speak()))  # Both the dog and cat class share the same method called speak"
   ],
   "id": "59f48898ef9ab261",
   "outputs": [
    {
     "name": "stdout",
     "output_type": "stream",
     "text": [
      "<class '__main__.Dog'>\n",
      "<class 'str'>\n",
      "<class '__main__.Cat'>\n",
      "<class 'str'>\n"
     ]
    }
   ],
   "execution_count": 12
  },
  {
   "metadata": {
    "ExecuteTime": {
     "end_time": "2025-06-04T20:14:48.544680Z",
     "start_time": "2025-06-04T20:14:48.541339Z"
    }
   },
   "cell_type": "code",
   "source": [
    "for pet in [niko,felix]:\n",
    "\n",
    "    print(type(pet)) # They are different types\n",
    "    print(pet.speak())  # Both the dog and cat class share the same method called speak"
   ],
   "id": "6fedc9dda219e59b",
   "outputs": [
    {
     "name": "stdout",
     "output_type": "stream",
     "text": [
      "<class '__main__.Dog'>\n",
      "Niko Says Woof!\n",
      "<class '__main__.Cat'>\n",
      "Felix Says Meow!\n"
     ]
    }
   ],
   "execution_count": 13
  },
  {
   "metadata": {
    "ExecuteTime": {
     "end_time": "2025-06-04T20:15:03.426965Z",
     "start_time": "2025-06-04T20:15:03.423765Z"
    }
   },
   "cell_type": "code",
   "source": [
    "def pet_speak(pet):\n",
    "    print(pet.speak())"
   ],
   "id": "8e63a8410b2a5bf",
   "outputs": [],
   "execution_count": 14
  },
  {
   "metadata": {
    "ExecuteTime": {
     "end_time": "2025-06-04T20:15:09.868847Z",
     "start_time": "2025-06-04T20:15:09.865534Z"
    }
   },
   "cell_type": "code",
   "source": "pet_speak(niko)",
   "id": "546fe7ca8c77de44",
   "outputs": [
    {
     "name": "stdout",
     "output_type": "stream",
     "text": [
      "Niko Says Woof!\n"
     ]
    }
   ],
   "execution_count": 15
  },
  {
   "metadata": {
    "ExecuteTime": {
     "end_time": "2025-06-04T20:15:21.082125Z",
     "start_time": "2025-06-04T20:15:21.079518Z"
    }
   },
   "cell_type": "code",
   "source": "pet_speak(felix)",
   "id": "ad32b9be5f259be8",
   "outputs": [
    {
     "name": "stdout",
     "output_type": "stream",
     "text": [
      "Felix Says Meow!\n"
     ]
    }
   ],
   "execution_count": 16
  },
  {
   "metadata": {
    "ExecuteTime": {
     "end_time": "2025-06-04T20:17:29.616847Z",
     "start_time": "2025-06-04T20:17:29.611253Z"
    }
   },
   "cell_type": "code",
   "source": [
    "class Animal():\n",
    "\n",
    "    def __init__(self,name):\n",
    "        self.name = name\n",
    "\n",
    "    def speak(self):\n",
    "        raise NotImplementedError(\"Subclass must implement this abstract method\")"
   ],
   "id": "44809ac031ee125e",
   "outputs": [],
   "execution_count": 17
  },
  {
   "metadata": {
    "ExecuteTime": {
     "end_time": "2025-06-04T20:17:42.096310Z",
     "start_time": "2025-06-04T20:17:42.093470Z"
    }
   },
   "cell_type": "code",
   "source": "myanimal = Animal('fred')",
   "id": "13ef1ac2d47098cf",
   "outputs": [],
   "execution_count": 18
  },
  {
   "metadata": {
    "ExecuteTime": {
     "end_time": "2025-06-04T20:18:30.673420Z",
     "start_time": "2025-06-04T20:18:30.644712Z"
    }
   },
   "cell_type": "code",
   "source": [
    "myanimal.speak()\n",
    "\n",
    "# This is expecting us to inherit the Animal class and overwrite the speak method"
   ],
   "id": "2ba5037d9bf54f45",
   "outputs": [
    {
     "ename": "NotImplementedError",
     "evalue": "Subclass must implement this abstract method",
     "output_type": "error",
     "traceback": [
      "\u001B[31m---------------------------------------------------------------------------\u001B[39m",
      "\u001B[31mNotImplementedError\u001B[39m                       Traceback (most recent call last)",
      "\u001B[36mCell\u001B[39m\u001B[36m \u001B[39m\u001B[32mIn[21]\u001B[39m\u001B[32m, line 1\u001B[39m\n\u001B[32m----> \u001B[39m\u001B[32m1\u001B[39m \u001B[43mmyanimal\u001B[49m\u001B[43m.\u001B[49m\u001B[43mspeak\u001B[49m\u001B[43m(\u001B[49m\u001B[43m)\u001B[49m\n\u001B[32m      3\u001B[39m \u001B[38;5;66;03m# This is expecting us to inherit the Animal class and overwrite the speak method\u001B[39;00m\n",
      "\u001B[36mCell\u001B[39m\u001B[36m \u001B[39m\u001B[32mIn[17]\u001B[39m\u001B[32m, line 7\u001B[39m, in \u001B[36mAnimal.speak\u001B[39m\u001B[34m(self)\u001B[39m\n\u001B[32m      6\u001B[39m \u001B[38;5;28;01mdef\u001B[39;00m\u001B[38;5;250m \u001B[39m\u001B[34mspeak\u001B[39m(\u001B[38;5;28mself\u001B[39m):\n\u001B[32m----> \u001B[39m\u001B[32m7\u001B[39m     \u001B[38;5;28;01mraise\u001B[39;00m \u001B[38;5;167;01mNotImplementedError\u001B[39;00m(\u001B[33m\"\u001B[39m\u001B[33mSubclass must implement this abstract method\u001B[39m\u001B[33m\"\u001B[39m)\n",
      "\u001B[31mNotImplementedError\u001B[39m: Subclass must implement this abstract method"
     ]
    }
   ],
   "execution_count": 21
  },
  {
   "metadata": {
    "ExecuteTime": {
     "end_time": "2025-06-04T20:19:18.840912Z",
     "start_time": "2025-06-04T20:19:18.838076Z"
    }
   },
   "cell_type": "code",
   "source": [
    "class Dog(Animal):\n",
    "\n",
    "    def speak(self):\n",
    "        return self.name + \" says Woof!\""
   ],
   "id": "d98ee51e1ebfbb0d",
   "outputs": [],
   "execution_count": 23
  },
  {
   "metadata": {
    "ExecuteTime": {
     "end_time": "2025-06-04T20:19:29.206939Z",
     "start_time": "2025-06-04T20:19:29.204045Z"
    }
   },
   "cell_type": "code",
   "source": [
    "class Cat(Animal):\n",
    "\n",
    "    def speak(self):\n",
    "        return self.name + \" says Meow!\""
   ],
   "id": "b98f0fbf5f8c8bc6",
   "outputs": [],
   "execution_count": 24
  },
  {
   "metadata": {
    "ExecuteTime": {
     "end_time": "2025-06-04T20:19:42.094283Z",
     "start_time": "2025-06-04T20:19:42.091392Z"
    }
   },
   "cell_type": "code",
   "source": "fede = Dog(\"Fede\")",
   "id": "5302b840e1be9e71",
   "outputs": [],
   "execution_count": 25
  },
  {
   "metadata": {
    "ExecuteTime": {
     "end_time": "2025-06-04T20:19:51.985637Z",
     "start_time": "2025-06-04T20:19:51.983172Z"
    }
   },
   "cell_type": "code",
   "source": "fedel = Cat(\"Fedel\")",
   "id": "75126b78084265de",
   "outputs": [],
   "execution_count": 26
  },
  {
   "metadata": {
    "ExecuteTime": {
     "end_time": "2025-06-04T20:20:10.989902Z",
     "start_time": "2025-06-04T20:20:10.984745Z"
    }
   },
   "cell_type": "code",
   "source": "print(fede.speak())",
   "id": "14d4a0f839727136",
   "outputs": [
    {
     "name": "stdout",
     "output_type": "stream",
     "text": [
      "Fede says Woof!\n"
     ]
    }
   ],
   "execution_count": 27
  },
  {
   "metadata": {
    "ExecuteTime": {
     "end_time": "2025-06-04T20:20:19.104608Z",
     "start_time": "2025-06-04T20:20:19.101871Z"
    }
   },
   "cell_type": "code",
   "source": "print(fedel.speak())",
   "id": "55d3c64c0dd52759",
   "outputs": [
    {
     "name": "stdout",
     "output_type": "stream",
     "text": [
      "Fedel says Meow!\n"
     ]
    }
   ],
   "execution_count": 28
  }
 ],
 "metadata": {
  "kernelspec": {
   "display_name": "Python 3",
   "language": "python",
   "name": "python3"
  },
  "language_info": {
   "codemirror_mode": {
    "name": "ipython",
    "version": 2
   },
   "file_extension": ".py",
   "mimetype": "text/x-python",
   "name": "python",
   "nbconvert_exporter": "python",
   "pygments_lexer": "ipython2",
   "version": "2.7.6"
  }
 },
 "nbformat": 4,
 "nbformat_minor": 5
}
