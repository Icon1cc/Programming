{
 "cells": [
  {
   "cell_type": "code",
   "id": "initial_id",
   "metadata": {
    "collapsed": true,
    "ExecuteTime": {
     "end_time": "2025-06-04T19:56:07.983469Z",
     "start_time": "2025-06-04T19:56:07.981340Z"
    }
   },
   "source": [
    "class Animal():\n",
    "\n",
    "    def __init__(self):\n",
    "        print(\"Animal Created\")\n",
    "\n",
    "    def who_am_i(self):\n",
    "        print(\"I am an animal\")\n",
    "\n",
    "    def eat(selfs):\n",
    "        print(\"I am eating\")"
   ],
   "outputs": [],
   "execution_count": 1
  },
  {
   "metadata": {
    "ExecuteTime": {
     "end_time": "2025-06-04T20:05:51.104857Z",
     "start_time": "2025-06-04T20:05:51.100032Z"
    }
   },
   "cell_type": "code",
   "source": [
    "class Dog(Animal):\n",
    "\n",
    "    def __init__(self):\n",
    "        Animal.__init__(self)\n",
    "        print(\"Dog Created\")\n",
    "\n",
    "    def who_am_i(self):\n",
    "        print(\"I am a dog\")\n",
    "\n",
    "    def eat(self):\n",
    "        print(\"I am a dog and I am eating\")\n",
    "\n",
    "    def bark(self):\n",
    "        print(\"Woof!\")"
   ],
   "id": "99e5b0a398594ee7",
   "outputs": [],
   "execution_count": 21
  },
  {
   "metadata": {
    "ExecuteTime": {
     "end_time": "2025-06-04T20:05:51.810018Z",
     "start_time": "2025-06-04T20:05:51.806963Z"
    }
   },
   "cell_type": "code",
   "source": "mydog = Dog()",
   "id": "60ac97ef235b71b",
   "outputs": [
    {
     "name": "stdout",
     "output_type": "stream",
     "text": [
      "Animal Created\n",
      "Dog Created\n"
     ]
    }
   ],
   "execution_count": 22
  },
  {
   "metadata": {
    "ExecuteTime": {
     "end_time": "2025-06-04T20:05:52.183196Z",
     "start_time": "2025-06-04T20:05:52.180632Z"
    }
   },
   "cell_type": "code",
   "source": "mydog.eat()",
   "id": "f8f83f8ce2e0aefb",
   "outputs": [
    {
     "name": "stdout",
     "output_type": "stream",
     "text": [
      "I am a dog and I am eating\n"
     ]
    }
   ],
   "execution_count": 23
  },
  {
   "metadata": {
    "ExecuteTime": {
     "end_time": "2025-06-04T20:05:52.535193Z",
     "start_time": "2025-06-04T20:05:52.532983Z"
    }
   },
   "cell_type": "code",
   "source": "mydog.who_am_i()",
   "id": "76f4606a0d69169e",
   "outputs": [
    {
     "name": "stdout",
     "output_type": "stream",
     "text": [
      "I am a dog\n"
     ]
    }
   ],
   "execution_count": 24
  },
  {
   "metadata": {
    "ExecuteTime": {
     "end_time": "2025-06-04T20:05:57.593917Z",
     "start_time": "2025-06-04T20:05:57.591433Z"
    }
   },
   "cell_type": "code",
   "source": "mydog.bark()",
   "id": "30b43aa7345dae05",
   "outputs": [
    {
     "name": "stdout",
     "output_type": "stream",
     "text": [
      "Woof!\n"
     ]
    }
   ],
   "execution_count": 25
  },
  {
   "metadata": {
    "ExecuteTime": {
     "end_time": "2025-06-04T19:56:19.431968Z",
     "start_time": "2025-06-04T19:56:19.428869Z"
    }
   },
   "cell_type": "code",
   "source": "myanimal = Animal()",
   "id": "39f3385ff1fe38d9",
   "outputs": [
    {
     "name": "stdout",
     "output_type": "stream",
     "text": [
      "Animal Created\n"
     ]
    }
   ],
   "execution_count": 2
  },
  {
   "metadata": {
    "ExecuteTime": {
     "end_time": "2025-06-04T19:56:30.625117Z",
     "start_time": "2025-06-04T19:56:30.621471Z"
    }
   },
   "cell_type": "code",
   "source": "myanimal.eat()",
   "id": "1adebb728c242854",
   "outputs": [
    {
     "name": "stdout",
     "output_type": "stream",
     "text": [
      "I am eating\n"
     ]
    }
   ],
   "execution_count": 4
  },
  {
   "metadata": {
    "ExecuteTime": {
     "end_time": "2025-06-04T19:56:44.338557Z",
     "start_time": "2025-06-04T19:56:44.333508Z"
    }
   },
   "cell_type": "code",
   "source": "myanimal.who_am_i()",
   "id": "2fa953c6591c38fa",
   "outputs": [
    {
     "name": "stdout",
     "output_type": "stream",
     "text": [
      "I am an animal\n"
     ]
    }
   ],
   "execution_count": 5
  }
 ],
 "metadata": {
  "kernelspec": {
   "display_name": "Python 3",
   "language": "python",
   "name": "python3"
  },
  "language_info": {
   "codemirror_mode": {
    "name": "ipython",
    "version": 2
   },
   "file_extension": ".py",
   "mimetype": "text/x-python",
   "name": "python",
   "nbconvert_exporter": "python",
   "pygments_lexer": "ipython2",
   "version": "2.7.6"
  }
 },
 "nbformat": 4,
 "nbformat_minor": 5
}
