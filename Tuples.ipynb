{
 "cells": [
  {
   "cell_type": "code",
   "id": "initial_id",
   "metadata": {
    "collapsed": true,
    "ExecuteTime": {
     "end_time": "2025-05-25T11:31:00.392697Z",
     "start_time": "2025-05-25T11:31:00.390756Z"
    }
   },
   "source": "t = (1,2,3)",
   "outputs": [],
   "execution_count": 1
  },
  {
   "metadata": {
    "ExecuteTime": {
     "end_time": "2025-05-25T11:31:09.657700Z",
     "start_time": "2025-05-25T11:31:09.654425Z"
    }
   },
   "cell_type": "code",
   "source": "my_list = [1,2,3]",
   "id": "8f4da5b2026772bf",
   "outputs": [],
   "execution_count": 2
  },
  {
   "metadata": {
    "ExecuteTime": {
     "end_time": "2025-05-25T11:31:14.576502Z",
     "start_time": "2025-05-25T11:31:14.571801Z"
    }
   },
   "cell_type": "code",
   "source": "type(t)",
   "id": "c004641798e326e",
   "outputs": [
    {
     "data": {
      "text/plain": [
       "tuple"
      ]
     },
     "execution_count": 3,
     "metadata": {},
     "output_type": "execute_result"
    }
   ],
   "execution_count": 3
  },
  {
   "metadata": {
    "ExecuteTime": {
     "end_time": "2025-05-25T11:31:19.886639Z",
     "start_time": "2025-05-25T11:31:19.882709Z"
    }
   },
   "cell_type": "code",
   "source": "type(my_list)",
   "id": "977c64e1d558e91",
   "outputs": [
    {
     "data": {
      "text/plain": [
       "list"
      ]
     },
     "execution_count": 4,
     "metadata": {},
     "output_type": "execute_result"
    }
   ],
   "execution_count": 4
  },
  {
   "metadata": {
    "ExecuteTime": {
     "end_time": "2025-05-25T11:31:23.947745Z",
     "start_time": "2025-05-25T11:31:23.943461Z"
    }
   },
   "cell_type": "code",
   "source": "len(t)",
   "id": "ece3e97d55aff426",
   "outputs": [
    {
     "data": {
      "text/plain": [
       "3"
      ]
     },
     "execution_count": 5,
     "metadata": {},
     "output_type": "execute_result"
    }
   ],
   "execution_count": 5
  },
  {
   "metadata": {
    "ExecuteTime": {
     "end_time": "2025-05-25T11:31:30.422589Z",
     "start_time": "2025-05-25T11:31:30.418661Z"
    }
   },
   "cell_type": "code",
   "source": "len(my_list)",
   "id": "b2f2aac326eb3ce9",
   "outputs": [
    {
     "data": {
      "text/plain": [
       "3"
      ]
     },
     "execution_count": 6,
     "metadata": {},
     "output_type": "execute_result"
    }
   ],
   "execution_count": 6
  },
  {
   "metadata": {
    "ExecuteTime": {
     "end_time": "2025-05-25T11:31:42.729781Z",
     "start_time": "2025-05-25T11:31:42.727006Z"
    }
   },
   "cell_type": "code",
   "source": "t = ('one',2)",
   "id": "c90f858567dafc2c",
   "outputs": [],
   "execution_count": 7
  },
  {
   "metadata": {
    "ExecuteTime": {
     "end_time": "2025-05-25T11:31:46.273870Z",
     "start_time": "2025-05-25T11:31:46.269066Z"
    }
   },
   "cell_type": "code",
   "source": "t[0]",
   "id": "dfbf0375805fc28e",
   "outputs": [
    {
     "data": {
      "text/plain": [
       "'one'"
      ]
     },
     "execution_count": 8,
     "metadata": {},
     "output_type": "execute_result"
    }
   ],
   "execution_count": 8
  },
  {
   "metadata": {
    "ExecuteTime": {
     "end_time": "2025-05-25T11:31:54.571390Z",
     "start_time": "2025-05-25T11:31:54.568054Z"
    }
   },
   "cell_type": "code",
   "source": "t[-1]",
   "id": "82364ac0c450412d",
   "outputs": [
    {
     "data": {
      "text/plain": [
       "2"
      ]
     },
     "execution_count": 9,
     "metadata": {},
     "output_type": "execute_result"
    }
   ],
   "execution_count": 9
  },
  {
   "metadata": {
    "ExecuteTime": {
     "end_time": "2025-05-25T11:32:14.621206Z",
     "start_time": "2025-05-25T11:32:14.611395Z"
    }
   },
   "cell_type": "code",
   "source": "t = ('a' , 'a', 'b')",
   "id": "e03d2314f30694d9",
   "outputs": [],
   "execution_count": 10
  },
  {
   "metadata": {
    "ExecuteTime": {
     "end_time": "2025-05-25T11:32:29.466334Z",
     "start_time": "2025-05-25T11:32:29.462046Z"
    }
   },
   "cell_type": "code",
   "source": "t.count('a')",
   "id": "10310082a35baeea",
   "outputs": [
    {
     "data": {
      "text/plain": [
       "2"
      ]
     },
     "execution_count": 12,
     "metadata": {},
     "output_type": "execute_result"
    }
   ],
   "execution_count": 12
  },
  {
   "metadata": {
    "ExecuteTime": {
     "end_time": "2025-05-25T11:32:40.138507Z",
     "start_time": "2025-05-25T11:32:40.134864Z"
    }
   },
   "cell_type": "code",
   "source": "t.index('a')",
   "id": "4b1e8979f9862ac6",
   "outputs": [
    {
     "data": {
      "text/plain": [
       "0"
      ]
     },
     "execution_count": 13,
     "metadata": {},
     "output_type": "execute_result"
    }
   ],
   "execution_count": 13
  },
  {
   "metadata": {
    "ExecuteTime": {
     "end_time": "2025-05-25T11:33:18.675196Z",
     "start_time": "2025-05-25T11:33:18.671980Z"
    }
   },
   "cell_type": "code",
   "source": "t",
   "id": "54ef63eff0c74399",
   "outputs": [
    {
     "data": {
      "text/plain": [
       "('a', 'a', 'b')"
      ]
     },
     "execution_count": 14,
     "metadata": {},
     "output_type": "execute_result"
    }
   ],
   "execution_count": 14
  },
  {
   "metadata": {
    "ExecuteTime": {
     "end_time": "2025-05-25T11:33:25.177398Z",
     "start_time": "2025-05-25T11:33:25.173209Z"
    }
   },
   "cell_type": "code",
   "source": "my_list",
   "id": "7d91a727073b6f6",
   "outputs": [
    {
     "data": {
      "text/plain": [
       "[1, 2, 3]"
      ]
     },
     "execution_count": 16,
     "metadata": {},
     "output_type": "execute_result"
    }
   ],
   "execution_count": 16
  },
  {
   "metadata": {
    "ExecuteTime": {
     "end_time": "2025-05-25T11:33:33.561206Z",
     "start_time": "2025-05-25T11:33:33.558380Z"
    }
   },
   "cell_type": "code",
   "source": "my_list[0] = 'new'",
   "id": "41c42a9d61ff15d6",
   "outputs": [],
   "execution_count": 17
  },
  {
   "metadata": {
    "ExecuteTime": {
     "end_time": "2025-05-25T11:33:43.996962Z",
     "start_time": "2025-05-25T11:33:43.970358Z"
    }
   },
   "cell_type": "code",
   "source": [
    "t[0] = 'new'   # -----> They are immuatable and not as flexible as lists\n",
    "               # They can help us maintain the data integrity"
   ],
   "id": "191da32ecbcea296",
   "outputs": [
    {
     "ename": "TypeError",
     "evalue": "'tuple' object does not support item assignment",
     "output_type": "error",
     "traceback": [
      "\u001B[31m---------------------------------------------------------------------------\u001B[39m",
      "\u001B[31mTypeError\u001B[39m                                 Traceback (most recent call last)",
      "\u001B[36mCell\u001B[39m\u001B[36m \u001B[39m\u001B[32mIn[18]\u001B[39m\u001B[32m, line 1\u001B[39m\n\u001B[32m----> \u001B[39m\u001B[32m1\u001B[39m \u001B[43mt\u001B[49m\u001B[43m[\u001B[49m\u001B[32;43m0\u001B[39;49m\u001B[43m]\u001B[49m = \u001B[33m'\u001B[39m\u001B[33mnew\u001B[39m\u001B[33m'\u001B[39m\n",
      "\u001B[31mTypeError\u001B[39m: 'tuple' object does not support item assignment"
     ]
    }
   ],
   "execution_count": 18
  }
 ],
 "metadata": {
  "kernelspec": {
   "display_name": "Python 3",
   "language": "python",
   "name": "python3"
  },
  "language_info": {
   "codemirror_mode": {
    "name": "ipython",
    "version": 2
   },
   "file_extension": ".py",
   "mimetype": "text/x-python",
   "name": "python",
   "nbconvert_exporter": "python",
   "pygments_lexer": "ipython2",
   "version": "2.7.6"
  }
 },
 "nbformat": 4,
 "nbformat_minor": 5
}
