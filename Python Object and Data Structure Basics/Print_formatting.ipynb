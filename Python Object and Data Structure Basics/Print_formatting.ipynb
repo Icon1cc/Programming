{
 "cells": [
  {
   "cell_type": "code",
   "id": "initial_id",
   "metadata": {
    "collapsed": true,
    "ExecuteTime": {
     "end_time": "2025-05-24T19:42:49.439472Z",
     "start_time": "2025-05-24T19:42:49.436637Z"
    }
   },
   "source": [
    "# There are two methods for string formatting\n",
    "\n",
    "# First is .format() method\n",
    "# Second is f-strings(formatted string literals) method"
   ],
   "outputs": [],
   "execution_count": 1
  },
  {
   "metadata": {
    "ExecuteTime": {
     "end_time": "2025-05-24T19:44:22.976144Z",
     "start_time": "2025-05-24T19:44:22.967323Z"
    }
   },
   "cell_type": "code",
   "source": [
    "# .format method --- > 'string here {} then also {}'.format('something1','something2')\n",
    "\n",
    "print('This is a string {}'.format('INSERTED'))"
   ],
   "id": "7525bf5051464c6b",
   "outputs": [
    {
     "name": "stdout",
     "output_type": "stream",
     "text": [
      "This is a string INSERTED\n"
     ]
    }
   ],
   "execution_count": 2
  },
  {
   "metadata": {
    "ExecuteTime": {
     "end_time": "2025-05-24T19:45:09.365136Z",
     "start_time": "2025-05-24T19:45:09.359823Z"
    }
   },
   "cell_type": "code",
   "source": "print('{} {} {} {}'.format('My','Name','Is','Rishabh'))",
   "id": "2ad038ed28599438",
   "outputs": [
    {
     "name": "stdout",
     "output_type": "stream",
     "text": [
      "My Name Is Rishabh\n"
     ]
    }
   ],
   "execution_count": 3
  },
  {
   "metadata": {
    "ExecuteTime": {
     "end_time": "2025-05-24T19:45:29.700279Z",
     "start_time": "2025-05-24T19:45:29.696586Z"
    }
   },
   "cell_type": "code",
   "source": "print('{3} {2} {0} {1}'.format('My','Name','Is','Rishabh'))",
   "id": "8ddfeead2c050485",
   "outputs": [
    {
     "name": "stdout",
     "output_type": "stream",
     "text": [
      "Rishabh Is My Name\n"
     ]
    }
   ],
   "execution_count": 4
  },
  {
   "metadata": {
    "ExecuteTime": {
     "end_time": "2025-05-24T19:47:49.975056Z",
     "start_time": "2025-05-24T19:47:49.971461Z"
    }
   },
   "cell_type": "code",
   "source": "print('{M} {N} {I} {R}'.format(R='Rishabh', I='Is', M='My', N='Name'))",
   "id": "9e50468931ef57b8",
   "outputs": [
    {
     "name": "stdout",
     "output_type": "stream",
     "text": [
      "My Name Is Rishabh\n"
     ]
    }
   ],
   "execution_count": 6
  },
  {
   "metadata": {
    "ExecuteTime": {
     "end_time": "2025-05-24T19:49:19.074716Z",
     "start_time": "2025-05-24T19:49:19.066906Z"
    }
   },
   "cell_type": "code",
   "source": [
    "# Float formatting follows \"{value:width.precision f}\"\n",
    "\n",
    "result = 1000/7"
   ],
   "id": "91b1f1d2b4d99d50",
   "outputs": [],
   "execution_count": 11
  },
  {
   "metadata": {
    "ExecuteTime": {
     "end_time": "2025-05-24T19:49:20.199733Z",
     "start_time": "2025-05-24T19:49:20.195305Z"
    }
   },
   "cell_type": "code",
   "source": "result",
   "id": "3ed41b51bc4283cf",
   "outputs": [
    {
     "data": {
      "text/plain": [
       "142.85714285714286"
      ]
     },
     "execution_count": 12,
     "metadata": {},
     "output_type": "execute_result"
    }
   ],
   "execution_count": 12
  },
  {
   "metadata": {
    "ExecuteTime": {
     "end_time": "2025-05-24T19:50:07.502801Z",
     "start_time": "2025-05-24T19:50:07.497111Z"
    }
   },
   "cell_type": "code",
   "source": "print(\"The result was {r:1.5f}\". format(r=result))",
   "id": "4fe874310b4051be",
   "outputs": [
    {
     "name": "stdout",
     "output_type": "stream",
     "text": [
      "The result was 142.85714\n"
     ]
    }
   ],
   "execution_count": 15
  },
  {
   "metadata": {
    "ExecuteTime": {
     "end_time": "2025-05-24T19:53:06.983793Z",
     "start_time": "2025-05-24T19:53:06.976450Z"
    }
   },
   "cell_type": "code",
   "source": "name = \"Jose\"",
   "id": "eee97e3a8e6a3d28",
   "outputs": [],
   "execution_count": 16
  },
  {
   "metadata": {
    "ExecuteTime": {
     "end_time": "2025-05-24T19:53:22.262720Z",
     "start_time": "2025-05-24T19:53:22.258660Z"
    }
   },
   "cell_type": "code",
   "source": "print(\"Hello, his name is {}\".format(name))",
   "id": "aa4860243b4e252e",
   "outputs": [
    {
     "name": "stdout",
     "output_type": "stream",
     "text": [
      "Hello, his name is Jose\n"
     ]
    }
   ],
   "execution_count": 17
  },
  {
   "metadata": {
    "ExecuteTime": {
     "end_time": "2025-05-24T19:54:08.755930Z",
     "start_time": "2025-05-24T19:54:08.752591Z"
    }
   },
   "cell_type": "code",
   "source": "print(f\"Hello, his name is {name}\")   # ----> just use .format(name) as f",
   "id": "416b384a46e20a98",
   "outputs": [
    {
     "name": "stdout",
     "output_type": "stream",
     "text": [
      "Hello, his name is Jose\n"
     ]
    }
   ],
   "execution_count": 19
  },
  {
   "metadata": {
    "ExecuteTime": {
     "end_time": "2025-05-24T19:54:21.359312Z",
     "start_time": "2025-05-24T19:54:21.355920Z"
    }
   },
   "cell_type": "code",
   "source": [
    "name = \"Sam\"\n",
    "age = 3"
   ],
   "id": "b59fd458f66b1c07",
   "outputs": [],
   "execution_count": 21
  },
  {
   "metadata": {
    "ExecuteTime": {
     "end_time": "2025-05-24T19:54:39.874167Z",
     "start_time": "2025-05-24T19:54:39.870095Z"
    }
   },
   "cell_type": "code",
   "source": "print(f'{name} is {age} years old')",
   "id": "340ed7f92ea75500",
   "outputs": [
    {
     "name": "stdout",
     "output_type": "stream",
     "text": [
      "Sam is 3 years old\n"
     ]
    }
   ],
   "execution_count": 22
  },
  {
   "metadata": {},
   "cell_type": "code",
   "outputs": [],
   "execution_count": null,
   "source": "",
   "id": "245c734a7293f10b"
  }
 ],
 "metadata": {
  "kernelspec": {
   "display_name": "Python 3",
   "language": "python",
   "name": "python3"
  },
  "language_info": {
   "codemirror_mode": {
    "name": "ipython",
    "version": 2
   },
   "file_extension": ".py",
   "mimetype": "text/x-python",
   "name": "python",
   "nbconvert_exporter": "python",
   "pygments_lexer": "ipython2",
   "version": "2.7.6"
  }
 },
 "nbformat": 4,
 "nbformat_minor": 5
}
