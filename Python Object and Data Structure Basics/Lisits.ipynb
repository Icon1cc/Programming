{
 "cells": [
  {
   "cell_type": "code",
   "id": "initial_id",
   "metadata": {
    "collapsed": true,
    "ExecuteTime": {
     "end_time": "2025-05-25T10:56:33.208139Z",
     "start_time": "2025-05-25T10:56:33.205558Z"
    }
   },
   "source": "my_list = [1,2,3]",
   "outputs": [],
   "execution_count": 1
  },
  {
   "metadata": {
    "ExecuteTime": {
     "end_time": "2025-05-25T10:56:55.391591Z",
     "start_time": "2025-05-25T10:56:55.386984Z"
    }
   },
   "cell_type": "code",
   "source": "my_list = [\"STRING\", 100, 23.2]",
   "id": "8af708a7ebf3d38f",
   "outputs": [],
   "execution_count": 2
  },
  {
   "metadata": {
    "ExecuteTime": {
     "end_time": "2025-05-25T10:57:03.642043Z",
     "start_time": "2025-05-25T10:57:03.634390Z"
    }
   },
   "cell_type": "code",
   "source": "len(my_list)",
   "id": "363e300d3d7d9df5",
   "outputs": [
    {
     "data": {
      "text/plain": [
       "3"
      ]
     },
     "execution_count": 3,
     "metadata": {},
     "output_type": "execute_result"
    }
   ],
   "execution_count": 3
  },
  {
   "metadata": {
    "ExecuteTime": {
     "end_time": "2025-05-25T10:57:10.130634Z",
     "start_time": "2025-05-25T10:57:10.126954Z"
    }
   },
   "cell_type": "code",
   "source": "my_list",
   "id": "3b721e2c2f9dddcf",
   "outputs": [
    {
     "data": {
      "text/plain": [
       "['STRING', 100, 23.2]"
      ]
     },
     "execution_count": 4,
     "metadata": {},
     "output_type": "execute_result"
    }
   ],
   "execution_count": 4
  },
  {
   "metadata": {
    "ExecuteTime": {
     "end_time": "2025-05-25T10:57:38.457224Z",
     "start_time": "2025-05-25T10:57:38.448812Z"
    }
   },
   "cell_type": "code",
   "source": "my_list = ['one' , 'two', 'three']",
   "id": "23044960a4c63c64",
   "outputs": [],
   "execution_count": 5
  },
  {
   "metadata": {
    "ExecuteTime": {
     "end_time": "2025-05-25T10:57:43.442161Z",
     "start_time": "2025-05-25T10:57:43.439139Z"
    }
   },
   "cell_type": "code",
   "source": "my_list[0]",
   "id": "ecf694d9e5b6da42",
   "outputs": [
    {
     "data": {
      "text/plain": [
       "'one'"
      ]
     },
     "execution_count": 6,
     "metadata": {},
     "output_type": "execute_result"
    }
   ],
   "execution_count": 6
  },
  {
   "metadata": {
    "ExecuteTime": {
     "end_time": "2025-05-25T10:57:59.937170Z",
     "start_time": "2025-05-25T10:57:59.933260Z"
    }
   },
   "cell_type": "code",
   "source": "my_list[1:]",
   "id": "31a8a4113f8a916b",
   "outputs": [
    {
     "data": {
      "text/plain": [
       "['two', 'three']"
      ]
     },
     "execution_count": 8,
     "metadata": {},
     "output_type": "execute_result"
    }
   ],
   "execution_count": 8
  },
  {
   "metadata": {
    "ExecuteTime": {
     "end_time": "2025-05-25T11:02:53.288141Z",
     "start_time": "2025-05-25T11:02:53.282767Z"
    }
   },
   "cell_type": "code",
   "source": [
    "another_list = ['four', 'five']\n",
    "new_list = my_list + another_list\n",
    "new_list"
   ],
   "id": "b3f0ebb9b339f032",
   "outputs": [
    {
     "data": {
      "text/plain": [
       "['one', 'two', 'three', 'four', 'five']"
      ]
     },
     "execution_count": 24,
     "metadata": {},
     "output_type": "execute_result"
    }
   ],
   "execution_count": 24
  },
  {
   "metadata": {
    "ExecuteTime": {
     "end_time": "2025-05-25T11:02:53.675887Z",
     "start_time": "2025-05-25T11:02:53.673758Z"
    }
   },
   "cell_type": "code",
   "source": "new_list[0] = 'ONE'",
   "id": "c69066fd91c94500",
   "outputs": [],
   "execution_count": 25
  },
  {
   "metadata": {
    "ExecuteTime": {
     "end_time": "2025-05-25T11:02:54.081922Z",
     "start_time": "2025-05-25T11:02:54.079545Z"
    }
   },
   "cell_type": "code",
   "source": "new_list",
   "id": "54a20f1e97cf169f",
   "outputs": [
    {
     "data": {
      "text/plain": [
       "['ONE', 'two', 'three', 'four', 'five']"
      ]
     },
     "execution_count": 26,
     "metadata": {},
     "output_type": "execute_result"
    }
   ],
   "execution_count": 26
  },
  {
   "metadata": {
    "ExecuteTime": {
     "end_time": "2025-05-25T11:02:54.849154Z",
     "start_time": "2025-05-25T11:02:54.845707Z"
    }
   },
   "cell_type": "code",
   "source": [
    "new_list.append('six')\n",
    "new_list"
   ],
   "id": "3d1ed540c84b7ac6",
   "outputs": [
    {
     "data": {
      "text/plain": [
       "['ONE', 'two', 'three', 'four', 'five', 'six']"
      ]
     },
     "execution_count": 27,
     "metadata": {},
     "output_type": "execute_result"
    }
   ],
   "execution_count": 27
  },
  {
   "metadata": {
    "ExecuteTime": {
     "end_time": "2025-05-25T11:02:57.380805Z",
     "start_time": "2025-05-25T11:02:57.377223Z"
    }
   },
   "cell_type": "code",
   "source": [
    "new_list.pop()\n",
    "new_list"
   ],
   "id": "744ec9074a813da4",
   "outputs": [
    {
     "data": {
      "text/plain": [
       "['ONE', 'two', 'three', 'four', 'five']"
      ]
     },
     "execution_count": 28,
     "metadata": {},
     "output_type": "execute_result"
    }
   ],
   "execution_count": 28
  },
  {
   "metadata": {
    "ExecuteTime": {
     "end_time": "2025-05-25T11:03:00.632045Z",
     "start_time": "2025-05-25T11:03:00.629313Z"
    }
   },
   "cell_type": "code",
   "source": "popped_item = new_list.pop()",
   "id": "74bb5d6a3e91a278",
   "outputs": [],
   "execution_count": 29
  },
  {
   "metadata": {
    "ExecuteTime": {
     "end_time": "2025-05-25T11:03:01.260209Z",
     "start_time": "2025-05-25T11:03:01.255919Z"
    }
   },
   "cell_type": "code",
   "source": "popped_item",
   "id": "a37ecb337d5563ff",
   "outputs": [
    {
     "data": {
      "text/plain": [
       "'five'"
      ]
     },
     "execution_count": 30,
     "metadata": {},
     "output_type": "execute_result"
    }
   ],
   "execution_count": 30
  },
  {
   "metadata": {
    "ExecuteTime": {
     "end_time": "2025-05-25T11:03:19.339397Z",
     "start_time": "2025-05-25T11:03:19.333517Z"
    }
   },
   "cell_type": "code",
   "source": "new_list.pop(2)",
   "id": "d3b6115ca62cb1a0",
   "outputs": [
    {
     "data": {
      "text/plain": [
       "'three'"
      ]
     },
     "execution_count": 31,
     "metadata": {},
     "output_type": "execute_result"
    }
   ],
   "execution_count": 31
  },
  {
   "metadata": {
    "ExecuteTime": {
     "end_time": "2025-05-25T11:03:23.123948Z",
     "start_time": "2025-05-25T11:03:23.120617Z"
    }
   },
   "cell_type": "code",
   "source": "new_list",
   "id": "ea2cc73ebbfb2a7b",
   "outputs": [
    {
     "data": {
      "text/plain": [
       "['ONE', 'two', 'four']"
      ]
     },
     "execution_count": 32,
     "metadata": {},
     "output_type": "execute_result"
    }
   ],
   "execution_count": 32
  },
  {
   "metadata": {
    "ExecuteTime": {
     "end_time": "2025-05-25T11:04:36.166287Z",
     "start_time": "2025-05-25T11:04:36.156932Z"
    }
   },
   "cell_type": "code",
   "source": [
    "new_list = ['a', 'x', 'd', 'w', 'b']\n",
    "num_list = [5, 7, 2, 4, 1]"
   ],
   "id": "c9818cc1308b5305",
   "outputs": [],
   "execution_count": 33
  },
  {
   "metadata": {
    "ExecuteTime": {
     "end_time": "2025-05-25T11:05:20.105313Z",
     "start_time": "2025-05-25T11:05:20.103247Z"
    }
   },
   "cell_type": "code",
   "source": "new_list.sort()",
   "id": "a70ce47d158d3d29",
   "outputs": [],
   "execution_count": 35
  },
  {
   "metadata": {
    "ExecuteTime": {
     "end_time": "2025-05-25T11:05:26.098222Z",
     "start_time": "2025-05-25T11:05:26.095220Z"
    }
   },
   "cell_type": "code",
   "source": "new_list",
   "id": "dbc1805b9e6508d2",
   "outputs": [
    {
     "data": {
      "text/plain": [
       "['a', 'b', 'd', 'w', 'x']"
      ]
     },
     "execution_count": 36,
     "metadata": {},
     "output_type": "execute_result"
    }
   ],
   "execution_count": 36
  },
  {
   "metadata": {
    "ExecuteTime": {
     "end_time": "2025-05-25T11:05:39.494015Z",
     "start_time": "2025-05-25T11:05:39.490555Z"
    }
   },
   "cell_type": "code",
   "source": [
    "num_list.sort()\n",
    "num_list"
   ],
   "id": "b985bb49212c775f",
   "outputs": [
    {
     "data": {
      "text/plain": [
       "[1, 2, 4, 5, 7]"
      ]
     },
     "execution_count": 37,
     "metadata": {},
     "output_type": "execute_result"
    }
   ],
   "execution_count": 37
  },
  {
   "metadata": {
    "ExecuteTime": {
     "end_time": "2025-05-25T11:05:53.515515Z",
     "start_time": "2025-05-25T11:05:53.511749Z"
    }
   },
   "cell_type": "code",
   "source": "type(num_list)",
   "id": "4edd97779203840c",
   "outputs": [
    {
     "data": {
      "text/plain": [
       "list"
      ]
     },
     "execution_count": 38,
     "metadata": {},
     "output_type": "execute_result"
    }
   ],
   "execution_count": 38
  },
  {
   "metadata": {
    "ExecuteTime": {
     "end_time": "2025-05-25T11:06:55.287729Z",
     "start_time": "2025-05-25T11:06:55.284082Z"
    }
   },
   "cell_type": "code",
   "source": [
    "new_list.reverse()\n",
    "new_list"
   ],
   "id": "36b7209cc287674a",
   "outputs": [
    {
     "data": {
      "text/plain": [
       "['x', 'w', 'd', 'b', 'a']"
      ]
     },
     "execution_count": 39,
     "metadata": {},
     "output_type": "execute_result"
    }
   ],
   "execution_count": 39
  },
  {
   "metadata": {},
   "cell_type": "code",
   "outputs": [],
   "execution_count": null,
   "source": "",
   "id": "2b45250f729c8fa8"
  }
 ],
 "metadata": {
  "kernelspec": {
   "display_name": "Python 3",
   "language": "python",
   "name": "python3"
  },
  "language_info": {
   "codemirror_mode": {
    "name": "ipython",
    "version": 2
   },
   "file_extension": ".py",
   "mimetype": "text/x-python",
   "name": "python",
   "nbconvert_exporter": "python",
   "pygments_lexer": "ipython2",
   "version": "2.7.6"
  }
 },
 "nbformat": 4,
 "nbformat_minor": 5
}
