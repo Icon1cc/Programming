{
 "cells": [
  {
   "cell_type": "code",
   "id": "initial_id",
   "metadata": {
    "collapsed": true,
    "ExecuteTime": {
     "end_time": "2025-05-24T18:56:10.147797Z",
     "start_time": "2025-05-24T18:56:10.144016Z"
    }
   },
   "source": "'hello'",
   "outputs": [
    {
     "data": {
      "text/plain": [
       "'hello'"
      ]
     },
     "execution_count": 1,
     "metadata": {},
     "output_type": "execute_result"
    }
   ],
   "execution_count": 1
  },
  {
   "metadata": {
    "ExecuteTime": {
     "end_time": "2025-05-24T18:56:15.323086Z",
     "start_time": "2025-05-24T18:56:15.318460Z"
    }
   },
   "cell_type": "code",
   "source": "\"world\"",
   "id": "1a6b43206125ba0",
   "outputs": [
    {
     "data": {
      "text/plain": [
       "'world'"
      ]
     },
     "execution_count": 2,
     "metadata": {},
     "output_type": "execute_result"
    }
   ],
   "execution_count": 2
  },
  {
   "metadata": {
    "ExecuteTime": {
     "end_time": "2025-05-24T18:56:22.624292Z",
     "start_time": "2025-05-24T18:56:22.619537Z"
    }
   },
   "cell_type": "code",
   "source": "'this is also a string'",
   "id": "bfda4224b4d68ed7",
   "outputs": [
    {
     "data": {
      "text/plain": [
       "'this is also a string'"
      ]
     },
     "execution_count": 3,
     "metadata": {},
     "output_type": "execute_result"
    }
   ],
   "execution_count": 3
  },
  {
   "metadata": {
    "ExecuteTime": {
     "end_time": "2025-05-24T18:56:44.196264Z",
     "start_time": "2025-05-24T18:56:44.192083Z"
    }
   },
   "cell_type": "code",
   "source": "'I'm going on a run'",
   "id": "2ced48e71c2bbafe",
   "outputs": [
    {
     "ename": "SyntaxError",
     "evalue": "unterminated string literal (detected at line 1) (1188207778.py, line 1)",
     "output_type": "error",
     "traceback": [
      "  \u001B[36mCell\u001B[39m\u001B[36m \u001B[39m\u001B[32mIn[4]\u001B[39m\u001B[32m, line 1\u001B[39m\n\u001B[31m    \u001B[39m\u001B[31m'I'm going on a run'\u001B[39m\n                       ^\n\u001B[31mSyntaxError\u001B[39m\u001B[31m:\u001B[39m unterminated string literal (detected at line 1)\n"
     ]
    }
   ],
   "execution_count": 4
  },
  {
   "metadata": {
    "ExecuteTime": {
     "end_time": "2025-05-24T18:57:03.990876Z",
     "start_time": "2025-05-24T18:57:03.987490Z"
    }
   },
   "cell_type": "code",
   "source": [
    "# In the above situation we use double quotes\n",
    "\n",
    "\"I am going on a run\""
   ],
   "id": "840597a488c732e5",
   "outputs": [
    {
     "data": {
      "text/plain": [
       "'I am going on a run'"
      ]
     },
     "execution_count": 5,
     "metadata": {},
     "output_type": "execute_result"
    }
   ],
   "execution_count": 5
  },
  {
   "metadata": {
    "ExecuteTime": {
     "end_time": "2025-05-24T18:58:13.728347Z",
     "start_time": "2025-05-24T18:58:13.720517Z"
    }
   },
   "cell_type": "code",
   "source": "print(\"hello\")",
   "id": "70a51ca650863dd8",
   "outputs": [
    {
     "name": "stdout",
     "output_type": "stream",
     "text": [
      "hello\n"
     ]
    }
   ],
   "execution_count": 6
  },
  {
   "metadata": {
    "ExecuteTime": {
     "end_time": "2025-05-24T18:58:47.787598Z",
     "start_time": "2025-05-24T18:58:47.783638Z"
    }
   },
   "cell_type": "code",
   "source": [
    "\"hello world one\"\n",
    "\"hello world two\""
   ],
   "id": "6efdea2d3e63d6",
   "outputs": [
    {
     "data": {
      "text/plain": [
       "'hello world two'"
      ]
     },
     "execution_count": 7,
     "metadata": {},
     "output_type": "execute_result"
    }
   ],
   "execution_count": 7
  },
  {
   "metadata": {
    "ExecuteTime": {
     "end_time": "2025-05-24T18:59:12.295443Z",
     "start_time": "2025-05-24T18:59:12.292386Z"
    }
   },
   "cell_type": "code",
   "source": [
    "# In order to see both the outputs we need to print it\n",
    "\n",
    "print(\"Hello world one\")\n",
    "print(\"Hello world two\")"
   ],
   "id": "ce4ebf8dc6f551b1",
   "outputs": [
    {
     "name": "stdout",
     "output_type": "stream",
     "text": [
      "Hello world one\n",
      "Hello world two\n"
     ]
    }
   ],
   "execution_count": 8
  },
  {
   "metadata": {
    "ExecuteTime": {
     "end_time": "2025-05-24T18:59:47.401253Z",
     "start_time": "2025-05-24T18:59:47.398385Z"
    }
   },
   "cell_type": "code",
   "source": [
    "# Escape sequence\n",
    "\n",
    "print(\"Hello \\n World\")"
   ],
   "id": "d45ad12c103af431",
   "outputs": [
    {
     "name": "stdout",
     "output_type": "stream",
     "text": [
      "Hello \n",
      " World\n"
     ]
    }
   ],
   "execution_count": 9
  },
  {
   "metadata": {
    "ExecuteTime": {
     "end_time": "2025-05-24T18:59:54.451742Z",
     "start_time": "2025-05-24T18:59:54.448572Z"
    }
   },
   "cell_type": "code",
   "source": "print(\"Hello \\nWorld\")",
   "id": "9161da36d31988ba",
   "outputs": [
    {
     "name": "stdout",
     "output_type": "stream",
     "text": [
      "Hello \n",
      "World\n"
     ]
    }
   ],
   "execution_count": 10
  },
  {
   "metadata": {
    "ExecuteTime": {
     "end_time": "2025-05-24T19:00:05.645362Z",
     "start_time": "2025-05-24T19:00:05.640781Z"
    }
   },
   "cell_type": "code",
   "source": "print(\"Hello \\tWorld\")",
   "id": "3c6a304ff0a07015",
   "outputs": [
    {
     "name": "stdout",
     "output_type": "stream",
     "text": [
      "Hello \tWorld\n"
     ]
    }
   ],
   "execution_count": 11
  },
  {
   "metadata": {
    "ExecuteTime": {
     "end_time": "2025-05-24T19:00:19.883098Z",
     "start_time": "2025-05-24T19:00:19.878113Z"
    }
   },
   "cell_type": "code",
   "source": "len(\"hello\")",
   "id": "13bb2785181c9efb",
   "outputs": [
    {
     "data": {
      "text/plain": [
       "5"
      ]
     },
     "execution_count": 12,
     "metadata": {},
     "output_type": "execute_result"
    }
   ],
   "execution_count": 12
  },
  {
   "metadata": {
    "ExecuteTime": {
     "end_time": "2025-05-24T19:00:31.610691Z",
     "start_time": "2025-05-24T19:00:31.607992Z"
    }
   },
   "cell_type": "code",
   "source": "my_string = \"Hello World\"",
   "id": "66ca4327867411f9",
   "outputs": [],
   "execution_count": 13
  },
  {
   "metadata": {
    "ExecuteTime": {
     "end_time": "2025-05-24T19:00:43.990405Z",
     "start_time": "2025-05-24T19:00:43.985873Z"
    }
   },
   "cell_type": "code",
   "source": "len(my_string)  # It will also count the space",
   "id": "691822fdd1c2baab",
   "outputs": [
    {
     "data": {
      "text/plain": [
       "11"
      ]
     },
     "execution_count": 15,
     "metadata": {},
     "output_type": "execute_result"
    }
   ],
   "execution_count": 15
  }
 ],
 "metadata": {
  "kernelspec": {
   "display_name": "Python 3",
   "language": "python",
   "name": "python3"
  },
  "language_info": {
   "codemirror_mode": {
    "name": "ipython",
    "version": 2
   },
   "file_extension": ".py",
   "mimetype": "text/x-python",
   "name": "python",
   "nbconvert_exporter": "python",
   "pygments_lexer": "ipython2",
   "version": "2.7.6"
  }
 },
 "nbformat": 4,
 "nbformat_minor": 5
}
