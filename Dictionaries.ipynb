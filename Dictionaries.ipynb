{
 "cells": [
  {
   "cell_type": "code",
   "id": "initial_id",
   "metadata": {
    "collapsed": true,
    "ExecuteTime": {
     "end_time": "2025-05-25T11:19:19.108989Z",
     "start_time": "2025-05-25T11:19:19.106778Z"
    }
   },
   "source": "my_dict = {'key1':'value1', 'key2':'value2'}",
   "outputs": [],
   "execution_count": 1
  },
  {
   "metadata": {
    "ExecuteTime": {
     "end_time": "2025-05-25T11:19:23.265045Z",
     "start_time": "2025-05-25T11:19:23.257405Z"
    }
   },
   "cell_type": "code",
   "source": "my_dict",
   "id": "8202c086fd0f8cfa",
   "outputs": [
    {
     "data": {
      "text/plain": [
       "{'key1': 'value1', 'key2': 'value2'}"
      ]
     },
     "execution_count": 2,
     "metadata": {},
     "output_type": "execute_result"
    }
   ],
   "execution_count": 2
  },
  {
   "metadata": {
    "ExecuteTime": {
     "end_time": "2025-05-25T11:19:31.129153Z",
     "start_time": "2025-05-25T11:19:31.125170Z"
    }
   },
   "cell_type": "code",
   "source": "my_dict['key1']",
   "id": "e0c1780def474eae",
   "outputs": [
    {
     "data": {
      "text/plain": [
       "'value1'"
      ]
     },
     "execution_count": 3,
     "metadata": {},
     "output_type": "execute_result"
    }
   ],
   "execution_count": 3
  },
  {
   "metadata": {
    "ExecuteTime": {
     "end_time": "2025-05-25T11:20:52.804586Z",
     "start_time": "2025-05-25T11:20:52.800319Z"
    }
   },
   "cell_type": "code",
   "source": "prices_in_store = {'apple per kg':200, 'oranges per piece': 1.99, 'chocoltes per bar': 0.50}",
   "id": "226211ce6e70869f",
   "outputs": [],
   "execution_count": 5
  },
  {
   "metadata": {
    "ExecuteTime": {
     "end_time": "2025-05-25T11:21:25.758299Z",
     "start_time": "2025-05-25T11:21:25.748846Z"
    }
   },
   "cell_type": "code",
   "source": "prices_in_store['apple per kg']",
   "id": "91db28460380fb2d",
   "outputs": [
    {
     "data": {
      "text/plain": [
       "200"
      ]
     },
     "execution_count": 8,
     "metadata": {},
     "output_type": "execute_result"
    }
   ],
   "execution_count": 8
  },
  {
   "metadata": {
    "ExecuteTime": {
     "end_time": "2025-05-25T11:23:25.876663Z",
     "start_time": "2025-05-25T11:23:25.867185Z"
    }
   },
   "cell_type": "code",
   "source": "d = {'k1':['a', 'b', 'c'], 'k2':[1,2.3], 'k3':'SAM'}",
   "id": "d00c06341c15adbf",
   "outputs": [],
   "execution_count": 9
  },
  {
   "metadata": {
    "ExecuteTime": {
     "end_time": "2025-05-25T11:24:18.813598Z",
     "start_time": "2025-05-25T11:24:18.803461Z"
    }
   },
   "cell_type": "code",
   "source": "d['k1'][2].upper()",
   "id": "2a64c91e9a327f45",
   "outputs": [
    {
     "data": {
      "text/plain": [
       "'C'"
      ]
     },
     "execution_count": 10,
     "metadata": {},
     "output_type": "execute_result"
    }
   ],
   "execution_count": 10
  },
  {
   "metadata": {
    "ExecuteTime": {
     "end_time": "2025-05-25T11:25:10.948525Z",
     "start_time": "2025-05-25T11:25:10.937658Z"
    }
   },
   "cell_type": "code",
   "source": "d['k1'][2] = 'D'",
   "id": "3f764af7ae116678",
   "outputs": [],
   "execution_count": 11
  },
  {
   "metadata": {
    "ExecuteTime": {
     "end_time": "2025-05-25T11:25:13.820500Z",
     "start_time": "2025-05-25T11:25:13.815424Z"
    }
   },
   "cell_type": "code",
   "source": "d",
   "id": "6556e5ab1a074b91",
   "outputs": [
    {
     "data": {
      "text/plain": [
       "{'k1': ['a', 'b', 'D'], 'k2': [1, 2.3], 'k3': 'SAM'}"
      ]
     },
     "execution_count": 12,
     "metadata": {},
     "output_type": "execute_result"
    }
   ],
   "execution_count": 12
  },
  {
   "metadata": {
    "ExecuteTime": {
     "end_time": "2025-05-25T11:25:37.348319Z",
     "start_time": "2025-05-25T11:25:37.341077Z"
    }
   },
   "cell_type": "code",
   "source": [
    "d['k3'] = 'John Doe'\n",
    "d"
   ],
   "id": "c2491b3d83bc945f",
   "outputs": [
    {
     "data": {
      "text/plain": [
       "{'k1': ['a', 'b', 'D'], 'k2': [1, 2.3], 'k3': 'John Doe'}"
      ]
     },
     "execution_count": 13,
     "metadata": {},
     "output_type": "execute_result"
    }
   ],
   "execution_count": 13
  },
  {
   "metadata": {
    "ExecuteTime": {
     "end_time": "2025-05-25T11:26:55.009481Z",
     "start_time": "2025-05-25T11:26:55.004542Z"
    }
   },
   "cell_type": "code",
   "source": "d['k4'] = 200",
   "id": "ef6d8cdc738e8115",
   "outputs": [],
   "execution_count": 14
  },
  {
   "metadata": {
    "ExecuteTime": {
     "end_time": "2025-05-25T11:26:55.944405Z",
     "start_time": "2025-05-25T11:26:55.939581Z"
    }
   },
   "cell_type": "code",
   "source": "d",
   "id": "1741a0b9ffaa9897",
   "outputs": [
    {
     "data": {
      "text/plain": [
       "{'k1': ['a', 'b', 'D'], 'k2': [1, 2.3], 'k3': 'John Doe', 'k4': 200}"
      ]
     },
     "execution_count": 15,
     "metadata": {},
     "output_type": "execute_result"
    }
   ],
   "execution_count": 15
  },
  {
   "metadata": {
    "ExecuteTime": {
     "end_time": "2025-05-25T11:27:07.129109Z",
     "start_time": "2025-05-25T11:27:07.125552Z"
    }
   },
   "cell_type": "code",
   "source": "d['k2'].pop()",
   "id": "d332464341b3cb02",
   "outputs": [
    {
     "data": {
      "text/plain": [
       "2.3"
      ]
     },
     "execution_count": 16,
     "metadata": {},
     "output_type": "execute_result"
    }
   ],
   "execution_count": 16
  },
  {
   "metadata": {
    "ExecuteTime": {
     "end_time": "2025-05-25T11:27:12.672919Z",
     "start_time": "2025-05-25T11:27:12.669089Z"
    }
   },
   "cell_type": "code",
   "source": "d",
   "id": "6493e0abd5031b07",
   "outputs": [
    {
     "data": {
      "text/plain": [
       "{'k1': ['a', 'b', 'D'], 'k2': [1], 'k3': 'John Doe', 'k4': 200}"
      ]
     },
     "execution_count": 17,
     "metadata": {},
     "output_type": "execute_result"
    }
   ],
   "execution_count": 17
  },
  {
   "metadata": {
    "ExecuteTime": {
     "end_time": "2025-05-25T11:27:41.109841Z",
     "start_time": "2025-05-25T11:27:41.106361Z"
    }
   },
   "cell_type": "code",
   "source": "d.keys()",
   "id": "390031fc710a6ccd",
   "outputs": [
    {
     "data": {
      "text/plain": [
       "dict_keys(['k1', 'k2', 'k3', 'k4'])"
      ]
     },
     "execution_count": 19,
     "metadata": {},
     "output_type": "execute_result"
    }
   ],
   "execution_count": 19
  },
  {
   "metadata": {
    "ExecuteTime": {
     "end_time": "2025-05-25T11:27:43.399757Z",
     "start_time": "2025-05-25T11:27:43.396033Z"
    }
   },
   "cell_type": "code",
   "source": "d.values()",
   "id": "5cc33e6854e208f",
   "outputs": [
    {
     "data": {
      "text/plain": [
       "dict_values([['a', 'b', 'D'], [1], 'John Doe', 200])"
      ]
     },
     "execution_count": 20,
     "metadata": {},
     "output_type": "execute_result"
    }
   ],
   "execution_count": 20
  },
  {
   "metadata": {
    "ExecuteTime": {
     "end_time": "2025-05-25T11:27:50.564053Z",
     "start_time": "2025-05-25T11:27:50.560739Z"
    }
   },
   "cell_type": "code",
   "source": "d.items()",
   "id": "930711bbeef98970",
   "outputs": [
    {
     "data": {
      "text/plain": [
       "dict_items([('k1', ['a', 'b', 'D']), ('k2', [1]), ('k3', 'John Doe'), ('k4', 200)])"
      ]
     },
     "execution_count": 21,
     "metadata": {},
     "output_type": "execute_result"
    }
   ],
   "execution_count": 21
  }
 ],
 "metadata": {
  "kernelspec": {
   "display_name": "Python 3",
   "language": "python",
   "name": "python3"
  },
  "language_info": {
   "codemirror_mode": {
    "name": "ipython",
    "version": 2
   },
   "file_extension": ".py",
   "mimetype": "text/x-python",
   "name": "python",
   "nbconvert_exporter": "python",
   "pygments_lexer": "ipython2",
   "version": "2.7.6"
  }
 },
 "nbformat": 4,
 "nbformat_minor": 5
}
