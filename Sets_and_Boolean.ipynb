{
 "cells": [
  {
   "cell_type": "code",
   "id": "initial_id",
   "metadata": {
    "collapsed": true,
    "ExecuteTime": {
     "end_time": "2025-05-25T12:16:27.710559Z",
     "start_time": "2025-05-25T12:16:27.708299Z"
    }
   },
   "source": "myset = set()",
   "outputs": [],
   "execution_count": 1
  },
  {
   "metadata": {
    "ExecuteTime": {
     "end_time": "2025-05-25T12:16:36.809542Z",
     "start_time": "2025-05-25T12:16:36.806537Z"
    }
   },
   "cell_type": "code",
   "source": "myset.add(1)",
   "id": "8a7f25d41c3e83cd",
   "outputs": [],
   "execution_count": 2
  },
  {
   "metadata": {
    "ExecuteTime": {
     "end_time": "2025-05-25T12:16:41.651009Z",
     "start_time": "2025-05-25T12:16:41.644976Z"
    }
   },
   "cell_type": "code",
   "source": "myset",
   "id": "4ea5b33fbd902552",
   "outputs": [
    {
     "data": {
      "text/plain": [
       "{1}"
      ]
     },
     "execution_count": 3,
     "metadata": {},
     "output_type": "execute_result"
    }
   ],
   "execution_count": 3
  },
  {
   "metadata": {
    "ExecuteTime": {
     "end_time": "2025-05-25T12:17:01.854430Z",
     "start_time": "2025-05-25T12:17:01.851712Z"
    }
   },
   "cell_type": "code",
   "source": "myset.add(2)",
   "id": "e490e7d0535bae0b",
   "outputs": [],
   "execution_count": 4
  },
  {
   "metadata": {
    "ExecuteTime": {
     "end_time": "2025-05-25T12:17:05.675339Z",
     "start_time": "2025-05-25T12:17:05.671094Z"
    }
   },
   "cell_type": "code",
   "source": "myset",
   "id": "e2f902967bbe5f80",
   "outputs": [
    {
     "data": {
      "text/plain": [
       "{1, 2}"
      ]
     },
     "execution_count": 5,
     "metadata": {},
     "output_type": "execute_result"
    }
   ],
   "execution_count": 5
  },
  {
   "metadata": {
    "ExecuteTime": {
     "end_time": "2025-05-25T12:17:12.850494Z",
     "start_time": "2025-05-25T12:17:12.847849Z"
    }
   },
   "cell_type": "code",
   "source": "myset.add(2)",
   "id": "5d54883c00caa4a9",
   "outputs": [],
   "execution_count": 6
  },
  {
   "metadata": {
    "ExecuteTime": {
     "end_time": "2025-05-25T12:17:45.442723Z",
     "start_time": "2025-05-25T12:17:45.439110Z"
    }
   },
   "cell_type": "code",
   "source": "myset # ----> It has to be unique values. If there are same values, it will not display the extra ones",
   "id": "498e28fddc3bc5e4",
   "outputs": [
    {
     "data": {
      "text/plain": [
       "{1, 2}"
      ]
     },
     "execution_count": 7,
     "metadata": {},
     "output_type": "execute_result"
    }
   ],
   "execution_count": 7
  },
  {
   "metadata": {
    "ExecuteTime": {
     "end_time": "2025-05-25T12:18:45.559117Z",
     "start_time": "2025-05-25T12:18:45.556625Z"
    }
   },
   "cell_type": "code",
   "source": "mylist = [1,1,1,1,1,2,2,2,2,3,3,3,3]",
   "id": "bef88e03b43a0fc0",
   "outputs": [],
   "execution_count": 8
  },
  {
   "metadata": {
    "ExecuteTime": {
     "end_time": "2025-05-25T12:18:48.745068Z",
     "start_time": "2025-05-25T12:18:48.742037Z"
    }
   },
   "cell_type": "code",
   "source": "set(mylist)",
   "id": "cb487be300f67b9",
   "outputs": [
    {
     "data": {
      "text/plain": [
       "{1, 2, 3}"
      ]
     },
     "execution_count": 9,
     "metadata": {},
     "output_type": "execute_result"
    }
   ],
   "execution_count": 9
  },
  {
   "metadata": {
    "ExecuteTime": {
     "end_time": "2025-05-25T12:20:56.237615Z",
     "start_time": "2025-05-25T12:20:56.231498Z"
    }
   },
   "cell_type": "code",
   "source": "True",
   "id": "ee15d163e95b6dee",
   "outputs": [
    {
     "data": {
      "text/plain": [
       "True"
      ]
     },
     "execution_count": 10,
     "metadata": {},
     "output_type": "execute_result"
    }
   ],
   "execution_count": 10
  },
  {
   "metadata": {
    "ExecuteTime": {
     "end_time": "2025-05-25T12:21:13.801800Z",
     "start_time": "2025-05-25T12:21:13.781839Z"
    }
   },
   "cell_type": "code",
   "source": "true # ----> Hence it needs to be Caps T",
   "id": "dc09fc70e8cbbc86",
   "outputs": [
    {
     "ename": "NameError",
     "evalue": "name 'true' is not defined",
     "output_type": "error",
     "traceback": [
      "\u001B[31m---------------------------------------------------------------------------\u001B[39m",
      "\u001B[31mNameError\u001B[39m                                 Traceback (most recent call last)",
      "\u001B[36mCell\u001B[39m\u001B[36m \u001B[39m\u001B[32mIn[12]\u001B[39m\u001B[32m, line 1\u001B[39m\n\u001B[32m----> \u001B[39m\u001B[32m1\u001B[39m \u001B[43mtrue\u001B[49m \u001B[38;5;66;03m# ----> Hence it needs to be Caps T\u001B[39;00m\n",
      "\u001B[31mNameError\u001B[39m: name 'true' is not defined"
     ]
    }
   ],
   "execution_count": 12
  },
  {
   "metadata": {
    "ExecuteTime": {
     "end_time": "2025-05-25T12:21:21.921985Z",
     "start_time": "2025-05-25T12:21:21.918580Z"
    }
   },
   "cell_type": "code",
   "source": "type(False)",
   "id": "441ff5f9933e4ace",
   "outputs": [
    {
     "data": {
      "text/plain": [
       "bool"
      ]
     },
     "execution_count": 13,
     "metadata": {},
     "output_type": "execute_result"
    }
   ],
   "execution_count": 13
  },
  {
   "metadata": {
    "ExecuteTime": {
     "end_time": "2025-05-25T12:21:40.987243Z",
     "start_time": "2025-05-25T12:21:40.983283Z"
    }
   },
   "cell_type": "code",
   "source": "1 > 3",
   "id": "cd92d52eafa9c926",
   "outputs": [
    {
     "data": {
      "text/plain": [
       "False"
      ]
     },
     "execution_count": 14,
     "metadata": {},
     "output_type": "execute_result"
    }
   ],
   "execution_count": 14
  },
  {
   "metadata": {
    "ExecuteTime": {
     "end_time": "2025-05-25T12:21:59.909469Z",
     "start_time": "2025-05-25T12:21:59.905651Z"
    }
   },
   "cell_type": "code",
   "source": "1 == 1",
   "id": "522683b7013cbb91",
   "outputs": [
    {
     "data": {
      "text/plain": [
       "True"
      ]
     },
     "execution_count": 15,
     "metadata": {},
     "output_type": "execute_result"
    }
   ],
   "execution_count": 15
  }
 ],
 "metadata": {
  "kernelspec": {
   "display_name": "Python 3",
   "language": "python",
   "name": "python3"
  },
  "language_info": {
   "codemirror_mode": {
    "name": "ipython",
    "version": 2
   },
   "file_extension": ".py",
   "mimetype": "text/x-python",
   "name": "python",
   "nbconvert_exporter": "python",
   "pygments_lexer": "ipython2",
   "version": "2.7.6"
  }
 },
 "nbformat": 4,
 "nbformat_minor": 5
}
