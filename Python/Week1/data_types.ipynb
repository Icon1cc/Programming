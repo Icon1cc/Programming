{
 "cells": [
  {
   "cell_type": "markdown",
   "id": "678e6d58",
   "metadata": {},
   "source": [
    "Basic Math Operations"
   ]
  },
  {
   "cell_type": "code",
   "execution_count": 1,
   "id": "bb540f16",
   "metadata": {},
   "outputs": [
    {
     "data": {
      "text/plain": [
       "3"
      ]
     },
     "execution_count": 1,
     "metadata": {},
     "output_type": "execute_result"
    }
   ],
   "source": [
    "2+1"
   ]
  },
  {
   "cell_type": "code",
   "execution_count": 4,
   "id": "797b3692",
   "metadata": {},
   "outputs": [
    {
     "data": {
      "text/plain": [
       "3"
      ]
     },
     "execution_count": 4,
     "metadata": {},
     "output_type": "execute_result"
    }
   ],
   "source": [
    "6-3"
   ]
  },
  {
   "cell_type": "code",
   "execution_count": 2,
   "id": "02679035",
   "metadata": {},
   "outputs": [
    {
     "data": {
      "text/plain": [
       "1.75"
      ]
     },
     "execution_count": 2,
     "metadata": {},
     "output_type": "execute_result"
    }
   ],
   "source": [
    "7/4"
   ]
  },
  {
   "cell_type": "markdown",
   "id": "aa3ebda6",
   "metadata": {},
   "source": [
    "Modulo Operator or Mod Operator"
   ]
  },
  {
   "cell_type": "code",
   "execution_count": 5,
   "id": "022a9fc2",
   "metadata": {},
   "outputs": [
    {
     "data": {
      "text/plain": [
       "0"
      ]
     },
     "execution_count": 5,
     "metadata": {},
     "output_type": "execute_result"
    }
   ],
   "source": [
    "50%5"
   ]
  },
  {
   "cell_type": "code",
   "execution_count": 6,
   "id": "453919be",
   "metadata": {},
   "outputs": [
    {
     "data": {
      "text/plain": [
       "1.75"
      ]
     },
     "execution_count": 6,
     "metadata": {},
     "output_type": "execute_result"
    }
   ],
   "source": [
    "7/4"
   ]
  },
  {
   "cell_type": "code",
   "execution_count": 7,
   "id": "5b3abfc2",
   "metadata": {},
   "outputs": [
    {
     "data": {
      "text/plain": [
       "3"
      ]
     },
     "execution_count": 7,
     "metadata": {},
     "output_type": "execute_result"
    }
   ],
   "source": [
    "7%4"
   ]
  },
  {
   "cell_type": "code",
   "execution_count": 8,
   "id": "09dccb23",
   "metadata": {},
   "outputs": [
    {
     "data": {
      "text/plain": [
       "11.5"
      ]
     },
     "execution_count": 8,
     "metadata": {},
     "output_type": "execute_result"
    }
   ],
   "source": [
    "23/2"
   ]
  },
  {
   "cell_type": "code",
   "execution_count": 9,
   "id": "5fa82ca5",
   "metadata": {},
   "outputs": [
    {
     "data": {
      "text/plain": [
       "1"
      ]
     },
     "execution_count": 9,
     "metadata": {},
     "output_type": "execute_result"
    }
   ],
   "source": [
    "23%2"
   ]
  },
  {
   "cell_type": "markdown",
   "id": "4abcebef",
   "metadata": {},
   "source": [
    "Power operator **"
   ]
  },
  {
   "cell_type": "code",
   "execution_count": 10,
   "id": "10439ca8",
   "metadata": {},
   "outputs": [
    {
     "data": {
      "text/plain": [
       "8"
      ]
     },
     "execution_count": 10,
     "metadata": {},
     "output_type": "execute_result"
    }
   ],
   "source": [
    "2 ** 3"
   ]
  },
  {
   "cell_type": "code",
   "execution_count": 11,
   "id": "f8ccb9da",
   "metadata": {},
   "outputs": [
    {
     "data": {
      "text/plain": [
       "25"
      ]
     },
     "execution_count": 11,
     "metadata": {},
     "output_type": "execute_result"
    }
   ],
   "source": [
    "5 ** 2"
   ]
  },
  {
   "cell_type": "code",
   "execution_count": 12,
   "id": "42a682a9",
   "metadata": {},
   "outputs": [
    {
     "data": {
      "text/plain": [
       "100"
      ]
     },
     "execution_count": 12,
     "metadata": {},
     "output_type": "execute_result"
    }
   ],
   "source": [
    "#Write an expression that equals 100\n",
    "\n",
    "(12 + 8) * 2 + (30*2)"
   ]
  },
  {
   "cell_type": "markdown",
   "id": "5a7e1588",
   "metadata": {},
   "source": [
    "Variable Assignments\n",
    "\n",
    "\n",
    "Note : Python uses dynamic typic meaning we can reassign variables with different value for example \n",
    "\n",
    "my_dogs = 2 can be reassigned to my_dog =  \"Sammy\" and it is normal in python but we have to make sure of the type and may result in bugs specially in the large codebase"
   ]
  },
  {
   "cell_type": "code",
   "execution_count": 13,
   "id": "9463c36e",
   "metadata": {},
   "outputs": [],
   "source": [
    "my_dogs = 2"
   ]
  },
  {
   "cell_type": "code",
   "execution_count": 14,
   "id": "1dbb80af",
   "metadata": {},
   "outputs": [
    {
     "data": {
      "text/plain": [
       "int"
      ]
     },
     "execution_count": 14,
     "metadata": {},
     "output_type": "execute_result"
    }
   ],
   "source": [
    "type (my_dogs)"
   ]
  },
  {
   "cell_type": "code",
   "execution_count": 15,
   "id": "ea02dde4",
   "metadata": {},
   "outputs": [],
   "source": [
    "my_dogs = \"sammy\""
   ]
  },
  {
   "cell_type": "code",
   "execution_count": 16,
   "id": "4db0bcf9",
   "metadata": {},
   "outputs": [
    {
     "data": {
      "text/plain": [
       "str"
      ]
     },
     "execution_count": 16,
     "metadata": {},
     "output_type": "execute_result"
    }
   ],
   "source": [
    "type(my_dogs)"
   ]
  },
  {
   "cell_type": "code",
   "execution_count": 17,
   "id": "f1713498",
   "metadata": {},
   "outputs": [],
   "source": [
    "a = 5"
   ]
  },
  {
   "cell_type": "code",
   "execution_count": 18,
   "id": "3e46a1bb",
   "metadata": {},
   "outputs": [
    {
     "data": {
      "text/plain": [
       "5"
      ]
     },
     "execution_count": 18,
     "metadata": {},
     "output_type": "execute_result"
    }
   ],
   "source": [
    "a"
   ]
  },
  {
   "cell_type": "code",
   "execution_count": 19,
   "id": "330e7458",
   "metadata": {},
   "outputs": [
    {
     "data": {
      "text/plain": [
       "10"
      ]
     },
     "execution_count": 19,
     "metadata": {},
     "output_type": "execute_result"
    }
   ],
   "source": [
    "a + a"
   ]
  },
  {
   "cell_type": "code",
   "execution_count": 20,
   "id": "dc16ba89",
   "metadata": {},
   "outputs": [],
   "source": [
    "a = a + a"
   ]
  },
  {
   "cell_type": "code",
   "execution_count": 21,
   "id": "f36f99bf",
   "metadata": {},
   "outputs": [
    {
     "data": {
      "text/plain": [
       "10"
      ]
     },
     "execution_count": 21,
     "metadata": {},
     "output_type": "execute_result"
    }
   ],
   "source": [
    "a"
   ]
  },
  {
   "cell_type": "code",
   "execution_count": 27,
   "id": "4a3dabf9",
   "metadata": {},
   "outputs": [],
   "source": [
    "a = a + a"
   ]
  },
  {
   "cell_type": "code",
   "execution_count": 28,
   "id": "a72a88dc",
   "metadata": {},
   "outputs": [
    {
     "data": {
      "text/plain": [
       "160"
      ]
     },
     "execution_count": 28,
     "metadata": {},
     "output_type": "execute_result"
    }
   ],
   "source": [
    "a"
   ]
  },
  {
   "cell_type": "code",
   "execution_count": 29,
   "id": "f4182d2b",
   "metadata": {},
   "outputs": [
    {
     "data": {
      "text/plain": [
       "int"
      ]
     },
     "execution_count": 29,
     "metadata": {},
     "output_type": "execute_result"
    }
   ],
   "source": [
    "type (a)"
   ]
  },
  {
   "cell_type": "code",
   "execution_count": 33,
   "id": "2c05a087",
   "metadata": {},
   "outputs": [
    {
     "data": {
      "text/plain": [
       "2000.0"
      ]
     },
     "execution_count": 33,
     "metadata": {},
     "output_type": "execute_result"
    }
   ],
   "source": [
    "my_income = 10000\n",
    "tax_rate = 0.2\n",
    "my_taxes = my_income * tax_rate\n",
    "my_taxes"
   ]
  },
  {
   "cell_type": "markdown",
   "id": "7a678a17",
   "metadata": {},
   "source": [
    "Strings in python \n",
    "\n",
    "They can be used with ' ' and \" \" "
   ]
  },
  {
   "cell_type": "code",
   "execution_count": 34,
   "id": "05c66b04",
   "metadata": {},
   "outputs": [],
   "source": [
    "#Example 1\n",
    "\n",
    "my_string = 'Hello my name is Rishabh'"
   ]
  },
  {
   "cell_type": "code",
   "execution_count": 35,
   "id": "b9c22f6f",
   "metadata": {},
   "outputs": [
    {
     "data": {
      "text/plain": [
       "'Hello my name is Rishabh'"
      ]
     },
     "execution_count": 35,
     "metadata": {},
     "output_type": "execute_result"
    }
   ],
   "source": [
    "my_string"
   ]
  },
  {
   "cell_type": "code",
   "execution_count": 37,
   "id": "258c098c",
   "metadata": {},
   "outputs": [
    {
     "ename": "SyntaxError",
     "evalue": "unterminated string literal (detected at line 3) (1111596881.py, line 3)",
     "output_type": "error",
     "traceback": [
      "  \u001b[36mCell\u001b[39m\u001b[36m \u001b[39m\u001b[32mIn[37]\u001b[39m\u001b[32m, line 3\u001b[39m\n\u001b[31m    \u001b[39m\u001b[31mmy_string = 'Hello my name's Rishabh'\u001b[39m\n                                        ^\n\u001b[31mSyntaxError\u001b[39m\u001b[31m:\u001b[39m unterminated string literal (detected at line 3)\n"
     ]
    }
   ],
   "source": [
    "#When to use \" \" \n",
    "\n",
    "my_string = 'Hello my name's Rishabh'"
   ]
  },
  {
   "cell_type": "code",
   "execution_count": 38,
   "id": "37975217",
   "metadata": {},
   "outputs": [],
   "source": [
    "# In the above example when the string encounters the second ' it stops hence when we have 's in our statements, we should use \" \"\n",
    "my_string = \"Hello my name's Rishabh\""
   ]
  },
  {
   "cell_type": "code",
   "execution_count": 39,
   "id": "04e20aeb",
   "metadata": {},
   "outputs": [
    {
     "data": {
      "text/plain": [
       "\"Hello my name's Rishabh\""
      ]
     },
     "execution_count": 39,
     "metadata": {},
     "output_type": "execute_result"
    }
   ],
   "source": [
    "my_string"
   ]
  },
  {
   "cell_type": "markdown",
   "id": "150e456f",
   "metadata": {},
   "source": [
    "Strings are ordered sequences and we can use indexing and slicing to grab subsections of the string. \n",
    "\n",
    "Indexing notation uses [] after the string\n",
    "\n",
    "It allows us to grab a single character from the string.\n",
    "\n",
    "character     : h  e  l  l  o \n",
    "Index         : 0  1  2  3  4\n",
    "Reverse Index : 0 -4 -3 -2 -1\n",
    "\n",
    "\n",
    "Slicing allows us to grab a subsection of multiple characters. Syntax : [start:stop:step]\n",
    "Note : stop does not include the part or index value where we stopped"
   ]
  },
  {
   "cell_type": "code",
   "execution_count": 40,
   "id": "3a65dbb9",
   "metadata": {},
   "outputs": [
    {
     "data": {
      "text/plain": [
       "'hello'"
      ]
     },
     "execution_count": 40,
     "metadata": {},
     "output_type": "execute_result"
    }
   ],
   "source": [
    "'hello'"
   ]
  },
  {
   "cell_type": "code",
   "execution_count": 41,
   "id": "15519ff2",
   "metadata": {},
   "outputs": [
    {
     "data": {
      "text/plain": [
       "'Welcome to Python 101'"
      ]
     },
     "execution_count": 41,
     "metadata": {},
     "output_type": "execute_result"
    }
   ],
   "source": [
    "\"Welcome to Python 101\""
   ]
  },
  {
   "cell_type": "code",
   "execution_count": 42,
   "id": "1ffe0f8d",
   "metadata": {},
   "outputs": [],
   "source": [
    "string = \"Welcome to Python 101\""
   ]
  },
  {
   "cell_type": "code",
   "execution_count": 43,
   "id": "c1f2714b",
   "metadata": {},
   "outputs": [
    {
     "data": {
      "text/plain": [
       "'elcome to Python 101'"
      ]
     },
     "execution_count": 43,
     "metadata": {},
     "output_type": "execute_result"
    }
   ],
   "source": [
    "string[1:]"
   ]
  },
  {
   "cell_type": "code",
   "execution_count": 44,
   "id": "2bbf59bc",
   "metadata": {},
   "outputs": [
    {
     "data": {
      "text/plain": [
       "'Welcome'"
      ]
     },
     "execution_count": 44,
     "metadata": {},
     "output_type": "execute_result"
    }
   ],
   "source": [
    "string[0:7]"
   ]
  },
  {
   "cell_type": "code",
   "execution_count": 45,
   "id": "19f0f30f",
   "metadata": {},
   "outputs": [
    {
     "data": {
      "text/plain": [
       "'Wloet yh'"
      ]
     },
     "execution_count": 45,
     "metadata": {},
     "output_type": "execute_result"
    }
   ],
   "source": [
    "string[0:15:2]"
   ]
  },
  {
   "cell_type": "code",
   "execution_count": 46,
   "id": "1f79c3e7",
   "metadata": {},
   "outputs": [],
   "source": [
    "reverse_string = string[::-1]"
   ]
  },
  {
   "cell_type": "code",
   "execution_count": 47,
   "id": "e7b97a33",
   "metadata": {},
   "outputs": [
    {
     "data": {
      "text/plain": [
       "'101 nohtyP ot emocleW'"
      ]
     },
     "execution_count": 47,
     "metadata": {},
     "output_type": "execute_result"
    }
   ],
   "source": [
    "reverse_string"
   ]
  },
  {
   "cell_type": "code",
   "execution_count": 48,
   "id": "2bf48256",
   "metadata": {},
   "outputs": [
    {
     "name": "stdout",
     "output_type": "stream",
     "text": [
      "101 nohtyP ot emocleW\n"
     ]
    }
   ],
   "source": [
    "print(reverse_string)"
   ]
  },
  {
   "cell_type": "code",
   "execution_count": 49,
   "id": "2e5f7541",
   "metadata": {},
   "outputs": [
    {
     "name": "stdout",
     "output_type": "stream",
     "text": [
      "Welcome to Python 101\n"
     ]
    }
   ],
   "source": [
    "print(reverse_string[::-1])"
   ]
  },
  {
   "cell_type": "code",
   "execution_count": 52,
   "id": "c29dd7dc",
   "metadata": {},
   "outputs": [
    {
     "name": "stdout",
     "output_type": "stream",
     "text": [
      "Hello \n",
      "My name is Rishabh\n",
      "Hello \tMy name is Rishabh\n"
     ]
    }
   ],
   "source": [
    "print(\"Hello \\nMy name is Rishabh\")\n",
    "print(\"Hello \\tMy name is Rishabh\")"
   ]
  },
  {
   "cell_type": "code",
   "execution_count": 53,
   "id": "345ceb56",
   "metadata": {},
   "outputs": [
    {
     "data": {
      "text/plain": [
       "21"
      ]
     },
     "execution_count": 53,
     "metadata": {},
     "output_type": "execute_result"
    }
   ],
   "source": [
    "len(string)"
   ]
  },
  {
   "cell_type": "code",
   "execution_count": 54,
   "id": "fca932c5",
   "metadata": {},
   "outputs": [
    {
     "data": {
      "text/plain": [
       "'h'"
      ]
     },
     "execution_count": 54,
     "metadata": {},
     "output_type": "execute_result"
    }
   ],
   "source": [
    "my_string[-1] #to grab the last character of the string"
   ]
  },
  {
   "cell_type": "code",
   "execution_count": 55,
   "id": "8bfbc712",
   "metadata": {},
   "outputs": [
    {
     "data": {
      "text/plain": [
       "'el'"
      ]
     },
     "execution_count": 55,
     "metadata": {},
     "output_type": "execute_result"
    }
   ],
   "source": [
    "my_string[1:3]"
   ]
  },
  {
   "cell_type": "code",
   "execution_count": null,
   "id": "4c8a7b51",
   "metadata": {},
   "outputs": [],
   "source": []
  }
 ],
 "metadata": {
  "kernelspec": {
   "display_name": "Python 3",
   "language": "python",
   "name": "python3"
  },
  "language_info": {
   "codemirror_mode": {
    "name": "ipython",
    "version": 3
   },
   "file_extension": ".py",
   "mimetype": "text/x-python",
   "name": "python",
   "nbconvert_exporter": "python",
   "pygments_lexer": "ipython3",
   "version": "3.12.8"
  }
 },
 "nbformat": 4,
 "nbformat_minor": 5
}
