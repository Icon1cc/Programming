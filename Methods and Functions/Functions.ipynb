{
 "cells": [
  {
   "metadata": {
    "ExecuteTime": {
     "end_time": "2025-05-26T16:05:21.119807Z",
     "start_time": "2025-05-26T16:05:21.114949Z"
    }
   },
   "cell_type": "code",
   "source": [
    "def say_hello():\n",
    "    print('hello')\n",
    "    print('are')\n",
    "    print('you')"
   ],
   "id": "2aa248e52d8ad7f7",
   "outputs": [],
   "execution_count": 5
  },
  {
   "metadata": {
    "ExecuteTime": {
     "end_time": "2025-05-26T16:05:25.661175Z",
     "start_time": "2025-05-26T16:05:25.657145Z"
    }
   },
   "cell_type": "code",
   "source": "say_hello()",
   "id": "76cf3ef4ceb8d297",
   "outputs": [
    {
     "name": "stdout",
     "output_type": "stream",
     "text": [
      "hello\n",
      "are\n",
      "you\n"
     ]
    }
   ],
   "execution_count": 6
  },
  {
   "cell_type": "code",
   "id": "initial_id",
   "metadata": {
    "collapsed": true,
    "ExecuteTime": {
     "end_time": "2025-05-26T16:03:58.265051Z",
     "start_time": "2025-05-26T16:03:58.262814Z"
    }
   },
   "source": [
    "def say_hello():\n",
    "    return 'hello'"
   ],
   "outputs": [],
   "execution_count": 1
  },
  {
   "metadata": {
    "ExecuteTime": {
     "end_time": "2025-05-26T16:04:14.031905Z",
     "start_time": "2025-05-26T16:04:14.027008Z"
    }
   },
   "cell_type": "code",
   "source": "say_hello()",
   "id": "56f35e4e4f59b5",
   "outputs": [
    {
     "data": {
      "text/plain": [
       "'hello'"
      ]
     },
     "execution_count": 3,
     "metadata": {},
     "output_type": "execute_result"
    }
   ],
   "execution_count": 3
  },
  {
   "metadata": {
    "ExecuteTime": {
     "end_time": "2025-05-26T16:04:34.469397Z",
     "start_time": "2025-05-26T16:04:34.464840Z"
    }
   },
   "cell_type": "code",
   "source": "say_hello",
   "id": "9cf1286975599a24",
   "outputs": [
    {
     "data": {
      "text/plain": [
       "<function __main__.say_hello()>"
      ]
     },
     "execution_count": 4,
     "metadata": {},
     "output_type": "execute_result"
    }
   ],
   "execution_count": 4
  },
  {
   "metadata": {
    "ExecuteTime": {
     "end_time": "2025-05-26T16:06:10.949745Z",
     "start_time": "2025-05-26T16:06:10.946727Z"
    }
   },
   "cell_type": "code",
   "source": [
    "def say_hello(name):\n",
    "    print(f'Hello {name}')"
   ],
   "id": "6adce63ef567a7f0",
   "outputs": [],
   "execution_count": 7
  },
  {
   "metadata": {
    "ExecuteTime": {
     "end_time": "2025-05-26T16:06:17.523551Z",
     "start_time": "2025-05-26T16:06:17.520296Z"
    }
   },
   "cell_type": "code",
   "source": "say_hello('Jose')",
   "id": "7dbe4f74cadf57a",
   "outputs": [
    {
     "name": "stdout",
     "output_type": "stream",
     "text": [
      "Hello Jose\n"
     ]
    }
   ],
   "execution_count": 8
  },
  {
   "metadata": {
    "ExecuteTime": {
     "end_time": "2025-05-26T16:07:24.460568Z",
     "start_time": "2025-05-26T16:07:24.457636Z"
    }
   },
   "cell_type": "code",
   "source": [
    "def say_hello(name):\n",
    "    print(f'Hello {name}')"
   ],
   "id": "fee7ca7badab2ac1",
   "outputs": [],
   "execution_count": 9
  },
  {
   "metadata": {
    "ExecuteTime": {
     "end_time": "2025-05-26T16:07:29.327839Z",
     "start_time": "2025-05-26T16:07:29.226339Z"
    }
   },
   "cell_type": "code",
   "source": "say_hello()",
   "id": "da86d8952f213ab7",
   "outputs": [
    {
     "ename": "TypeError",
     "evalue": "say_hello() missing 1 required positional argument: 'name'",
     "output_type": "error",
     "traceback": [
      "\u001B[31m---------------------------------------------------------------------------\u001B[39m",
      "\u001B[31mTypeError\u001B[39m                                 Traceback (most recent call last)",
      "\u001B[36mCell\u001B[39m\u001B[36m \u001B[39m\u001B[32mIn[10]\u001B[39m\u001B[32m, line 1\u001B[39m\n\u001B[32m----> \u001B[39m\u001B[32m1\u001B[39m \u001B[43msay_hello\u001B[49m\u001B[43m(\u001B[49m\u001B[43m)\u001B[49m\n",
      "\u001B[31mTypeError\u001B[39m: say_hello() missing 1 required positional argument: 'name'"
     ]
    }
   ],
   "execution_count": 10
  },
  {
   "metadata": {
    "ExecuteTime": {
     "end_time": "2025-05-26T16:07:46.134437Z",
     "start_time": "2025-05-26T16:07:46.131818Z"
    }
   },
   "cell_type": "code",
   "source": [
    "# lets use a default value to avoid the above error\n",
    "\n",
    "def say_hello(name='Default'):\n",
    "    print(f'Hello {name}')"
   ],
   "id": "f6b8d748921458bb",
   "outputs": [],
   "execution_count": 11
  },
  {
   "metadata": {
    "ExecuteTime": {
     "end_time": "2025-05-26T16:07:50.246629Z",
     "start_time": "2025-05-26T16:07:50.244003Z"
    }
   },
   "cell_type": "code",
   "source": "say_hello()",
   "id": "831081b52dfa3b16",
   "outputs": [
    {
     "name": "stdout",
     "output_type": "stream",
     "text": [
      "Hello Default\n"
     ]
    }
   ],
   "execution_count": 12
  },
  {
   "metadata": {
    "ExecuteTime": {
     "end_time": "2025-05-26T16:08:40.560749Z",
     "start_time": "2025-05-26T16:08:40.555256Z"
    }
   },
   "cell_type": "code",
   "source": [
    "def add_num(num1, num2):\n",
    "    return num1+num2  # using a result allows us to store the result as a variable and just not print it."
   ],
   "id": "41418433194876bc",
   "outputs": [],
   "execution_count": 13
  },
  {
   "metadata": {
    "ExecuteTime": {
     "end_time": "2025-05-26T16:08:57.479781Z",
     "start_time": "2025-05-26T16:08:57.476835Z"
    }
   },
   "cell_type": "code",
   "source": "result = add_num(10,20)",
   "id": "d81304fc742b6656",
   "outputs": [],
   "execution_count": 15
  },
  {
   "metadata": {
    "ExecuteTime": {
     "end_time": "2025-05-26T16:09:00.001844Z",
     "start_time": "2025-05-26T16:08:59.999210Z"
    }
   },
   "cell_type": "code",
   "source": "result",
   "id": "aece4e10eba0d289",
   "outputs": [
    {
     "data": {
      "text/plain": [
       "30"
      ]
     },
     "execution_count": 16,
     "metadata": {},
     "output_type": "execute_result"
    }
   ],
   "execution_count": 16
  },
  {
   "metadata": {
    "ExecuteTime": {
     "end_time": "2025-05-26T16:09:33.647715Z",
     "start_time": "2025-05-26T16:09:33.644501Z"
    }
   },
   "cell_type": "code",
   "source": [
    "def print_result(a,b):\n",
    "    print(a+b)"
   ],
   "id": "5b3ea1e1844ef28e",
   "outputs": [],
   "execution_count": 17
  },
  {
   "metadata": {
    "ExecuteTime": {
     "end_time": "2025-05-26T16:09:48.237922Z",
     "start_time": "2025-05-26T16:09:48.235225Z"
    }
   },
   "cell_type": "code",
   "source": [
    "def return_result(a,b):\n",
    "    return a+b"
   ],
   "id": "ad064b53e21effb5",
   "outputs": [],
   "execution_count": 18
  },
  {
   "metadata": {
    "ExecuteTime": {
     "end_time": "2025-05-26T16:10:10.795855Z",
     "start_time": "2025-05-26T16:10:10.793104Z"
    }
   },
   "cell_type": "code",
   "source": "result = print_result(10,20)",
   "id": "ad1cceb21dcdc961",
   "outputs": [
    {
     "name": "stdout",
     "output_type": "stream",
     "text": [
      "30\n"
     ]
    }
   ],
   "execution_count": 20
  },
  {
   "metadata": {
    "ExecuteTime": {
     "end_time": "2025-05-26T16:10:13.937278Z",
     "start_time": "2025-05-26T16:10:13.935431Z"
    }
   },
   "cell_type": "code",
   "source": "result # print result is not actually returning anything to be saved. It is just printing.",
   "id": "645e7f4ce7df3d4c",
   "outputs": [],
   "execution_count": 21
  },
  {
   "metadata": {
    "ExecuteTime": {
     "end_time": "2025-05-26T16:10:20.003174Z",
     "start_time": "2025-05-26T16:10:20.000019Z"
    }
   },
   "cell_type": "code",
   "source": "type(result)",
   "id": "34ab4ce9239d557",
   "outputs": [
    {
     "data": {
      "text/plain": [
       "NoneType"
      ]
     },
     "execution_count": 22,
     "metadata": {},
     "output_type": "execute_result"
    }
   ],
   "execution_count": 22
  },
  {
   "metadata": {
    "ExecuteTime": {
     "end_time": "2025-05-26T16:11:11.893458Z",
     "start_time": "2025-05-26T16:11:11.887142Z"
    }
   },
   "cell_type": "code",
   "source": "result = return_result(10,20)",
   "id": "fdc9d99f936a7bf2",
   "outputs": [],
   "execution_count": 23
  },
  {
   "metadata": {
    "ExecuteTime": {
     "end_time": "2025-05-26T16:11:14.583261Z",
     "start_time": "2025-05-26T16:11:14.579475Z"
    }
   },
   "cell_type": "code",
   "source": "result",
   "id": "71100e15450b00b2",
   "outputs": [
    {
     "data": {
      "text/plain": [
       "30"
      ]
     },
     "execution_count": 24,
     "metadata": {},
     "output_type": "execute_result"
    }
   ],
   "execution_count": 24
  },
  {
   "metadata": {
    "ExecuteTime": {
     "end_time": "2025-05-26T16:12:56.524997Z",
     "start_time": "2025-05-26T16:12:56.519690Z"
    }
   },
   "cell_type": "code",
   "source": "type(result)",
   "id": "fcc125dec99ce83b",
   "outputs": [
    {
     "data": {
      "text/plain": [
       "int"
      ]
     },
     "execution_count": 26,
     "metadata": {},
     "output_type": "execute_result"
    }
   ],
   "execution_count": 26
  },
  {
   "metadata": {
    "ExecuteTime": {
     "end_time": "2025-05-26T16:13:13.381796Z",
     "start_time": "2025-05-26T16:13:13.379437Z"
    }
   },
   "cell_type": "code",
   "source": [
    "def sum_numbers(num1,num2):\n",
    "    return num1+num2"
   ],
   "id": "b4d4b389f50a6d38",
   "outputs": [],
   "execution_count": 27
  },
  {
   "metadata": {
    "ExecuteTime": {
     "end_time": "2025-05-26T16:14:05.631173Z",
     "start_time": "2025-05-26T16:14:05.626168Z"
    }
   },
   "cell_type": "code",
   "source": "sum_numbers(10,20)",
   "id": "6f66c984891c438d",
   "outputs": [
    {
     "data": {
      "text/plain": [
       "30"
      ]
     },
     "execution_count": 28,
     "metadata": {},
     "output_type": "execute_result"
    }
   ],
   "execution_count": 28
  },
  {
   "metadata": {
    "ExecuteTime": {
     "end_time": "2025-05-26T16:14:15.386035Z",
     "start_time": "2025-05-26T16:14:15.382296Z"
    }
   },
   "cell_type": "code",
   "source": "sum_numbers('10','20') # ---> which is why we need to check the data type by the user to avoid such issue",
   "id": "df3efadc24f5ac4e",
   "outputs": [
    {
     "data": {
      "text/plain": [
       "'1020'"
      ]
     },
     "execution_count": 29,
     "metadata": {},
     "output_type": "execute_result"
    }
   ],
   "execution_count": 29
  }
 ],
 "metadata": {
  "kernelspec": {
   "display_name": "Python 3",
   "language": "python",
   "name": "python3"
  },
  "language_info": {
   "codemirror_mode": {
    "name": "ipython",
    "version": 2
   },
   "file_extension": ".py",
   "mimetype": "text/x-python",
   "name": "python",
   "nbconvert_exporter": "python",
   "pygments_lexer": "ipython2",
   "version": "2.7.6"
  }
 },
 "nbformat": 4,
 "nbformat_minor": 5
}
