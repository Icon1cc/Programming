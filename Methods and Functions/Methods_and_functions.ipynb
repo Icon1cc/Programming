{
 "cells": [
  {
   "cell_type": "code",
   "id": "initial_id",
   "metadata": {
    "collapsed": true,
    "ExecuteTime": {
     "end_time": "2025-05-26T15:41:58.544546Z",
     "start_time": "2025-05-26T15:41:58.541901Z"
    }
   },
   "source": "mylist = [1,2,3]",
   "outputs": [],
   "execution_count": 1
  },
  {
   "metadata": {
    "ExecuteTime": {
     "end_time": "2025-05-26T15:42:07.155733Z",
     "start_time": "2025-05-26T15:42:07.152992Z"
    }
   },
   "cell_type": "code",
   "source": "mylist.append(4)",
   "id": "992f107eaa064cf4",
   "outputs": [],
   "execution_count": 2
  },
  {
   "metadata": {
    "ExecuteTime": {
     "end_time": "2025-05-26T15:42:09.271537Z",
     "start_time": "2025-05-26T15:42:09.266792Z"
    }
   },
   "cell_type": "code",
   "source": "mylist",
   "id": "a38cd2eb00a3b0d2",
   "outputs": [
    {
     "data": {
      "text/plain": [
       "[1, 2, 3, 4]"
      ]
     },
     "execution_count": 3,
     "metadata": {},
     "output_type": "execute_result"
    }
   ],
   "execution_count": 3
  },
  {
   "metadata": {
    "ExecuteTime": {
     "end_time": "2025-05-26T15:42:16.090462Z",
     "start_time": "2025-05-26T15:42:16.086973Z"
    }
   },
   "cell_type": "code",
   "source": "mylist.pop()",
   "id": "a5e784c9df04383b",
   "outputs": [
    {
     "data": {
      "text/plain": [
       "4"
      ]
     },
     "execution_count": 4,
     "metadata": {},
     "output_type": "execute_result"
    }
   ],
   "execution_count": 4
  },
  {
   "metadata": {
    "ExecuteTime": {
     "end_time": "2025-05-26T15:42:19.759998Z",
     "start_time": "2025-05-26T15:42:19.755804Z"
    }
   },
   "cell_type": "code",
   "source": "mylist",
   "id": "629ea8032f1fab27",
   "outputs": [
    {
     "data": {
      "text/plain": [
       "[1, 2, 3]"
      ]
     },
     "execution_count": 5,
     "metadata": {},
     "output_type": "execute_result"
    }
   ],
   "execution_count": 5
  },
  {
   "metadata": {
    "ExecuteTime": {
     "end_time": "2025-05-26T15:43:33.046036Z",
     "start_time": "2025-05-26T15:43:33.037610Z"
    }
   },
   "cell_type": "code",
   "source": "help(mylist.insert)",
   "id": "cb50299e6e8e746c",
   "outputs": [
    {
     "name": "stdout",
     "output_type": "stream",
     "text": [
      "Help on built-in function insert:\n",
      "\n",
      "insert(index, object, /) method of builtins.list instance\n",
      "    Insert object before index.\n",
      "\n"
     ]
    }
   ],
   "execution_count": 6
  }
 ],
 "metadata": {
  "kernelspec": {
   "display_name": "Python 3",
   "language": "python",
   "name": "python3"
  },
  "language_info": {
   "codemirror_mode": {
    "name": "ipython",
    "version": 2
   },
   "file_extension": ".py",
   "mimetype": "text/x-python",
   "name": "python",
   "nbconvert_exporter": "python",
   "pygments_lexer": "ipython2",
   "version": "2.7.6"
  }
 },
 "nbformat": 4,
 "nbformat_minor": 5
}
