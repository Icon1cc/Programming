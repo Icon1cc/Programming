{
 "cells": [
  {
   "metadata": {
    "ExecuteTime": {
     "end_time": "2025-05-28T12:44:49.272818Z",
     "start_time": "2025-05-28T12:44:49.270570Z"
    }
   },
   "cell_type": "code",
   "source": [
    "x = 25\n",
    "\n",
    "def printer():\n",
    "    x = 50\n",
    "    return x"
   ],
   "id": "2b470777b6156533",
   "outputs": [],
   "execution_count": 1
  },
  {
   "metadata": {
    "ExecuteTime": {
     "end_time": "2025-05-28T12:44:55.686760Z",
     "start_time": "2025-05-28T12:44:55.684014Z"
    }
   },
   "cell_type": "code",
   "source": "print(x)",
   "id": "9376586b50a253fb",
   "outputs": [
    {
     "name": "stdout",
     "output_type": "stream",
     "text": [
      "25\n"
     ]
    }
   ],
   "execution_count": 2
  },
  {
   "metadata": {
    "ExecuteTime": {
     "end_time": "2025-05-28T13:11:05.157053Z",
     "start_time": "2025-05-28T13:11:05.153787Z"
    }
   },
   "cell_type": "code",
   "source": "print(printer())",
   "id": "c9d86e3eb7f89e2d",
   "outputs": [
    {
     "name": "stdout",
     "output_type": "stream",
     "text": [
      "50\n"
     ]
    }
   ],
   "execution_count": 4
  },
  {
   "metadata": {
    "ExecuteTime": {
     "end_time": "2025-05-28T13:16:39.905826Z",
     "start_time": "2025-05-28T13:16:39.893917Z"
    }
   },
   "cell_type": "code",
   "source": [
    "# Local\n",
    "\n",
    "lambda num:num**2 #---> num is here local to lambda function"
   ],
   "id": "792f2662fef084c8",
   "outputs": [
    {
     "data": {
      "text/plain": [
       "<function __main__.<lambda>(num)>"
      ]
     },
     "execution_count": 5,
     "metadata": {},
     "output_type": "execute_result"
    }
   ],
   "execution_count": 5
  },
  {
   "metadata": {
    "ExecuteTime": {
     "end_time": "2025-05-28T13:18:13.658786Z",
     "start_time": "2025-05-28T13:18:13.651807Z"
    }
   },
   "cell_type": "code",
   "source": [
    "# Enclosing functions local - we need to define a function and then enclose it in another function\n",
    "\n",
    "name = ' This is a global string '\n",
    "\n",
    "def greet():\n",
    "    name = 'Sammy' #---> enclosing local definition\n",
    "\n",
    "    def hello():\n",
    "\n",
    "        print('Hello '+name)\n",
    "    hello()\n",
    "\n",
    "greet()"
   ],
   "id": "3ae5c3d1a721e955",
   "outputs": [
    {
     "name": "stdout",
     "output_type": "stream",
     "text": [
      "Hello Sammy\n"
     ]
    }
   ],
   "execution_count": 6
  },
  {
   "metadata": {
    "ExecuteTime": {
     "end_time": "2025-05-28T13:23:39.680743Z",
     "start_time": "2025-05-28T13:23:39.673823Z"
    }
   },
   "cell_type": "code",
   "source": [
    "# Enclosing functions local - we need to define a function and then enclose it in another function\n",
    "\n",
    "# Global variable\n",
    "name = ' This is a global string '\n",
    "\n",
    "def greet():\n",
    "    #name = 'Sammy' #---> enclosing local definition\n",
    "\n",
    "    def hello():\n",
    "        print('Hello'+name)\n",
    "    hello()\n",
    "\n",
    "greet()\n",
    "\n",
    "# In this code, it first checks if there is a local variable called name. Since we commented out the name variable, it checks globally. Hence the result."
   ],
   "id": "84d0d0bcb8e95d4e",
   "outputs": [
    {
     "name": "stdout",
     "output_type": "stream",
     "text": [
      "Hello This is a global string \n"
     ]
    }
   ],
   "execution_count": 14
  },
  {
   "metadata": {
    "ExecuteTime": {
     "end_time": "2025-05-28T13:23:54.620971Z",
     "start_time": "2025-05-28T13:23:54.616535Z"
    }
   },
   "cell_type": "code",
   "source": [
    "# Enclosing functions local - we need to define a function and then enclose it in another function\n",
    "\n",
    "# Global variable\n",
    "name = ' This is a global string '\n",
    "\n",
    "def greet():\n",
    "    #name = 'Sammy' #---> enclosing local definition\n",
    "\n",
    "    def hello():\n",
    "        name = 'I am local'\n",
    "        print('Hello '+name)\n",
    "    hello()\n",
    "\n",
    "greet()\n",
    "\n",
    "# In this code, it follows the same procedure to find the nearest local, and so on."
   ],
   "id": "d64974cbab6afb4a",
   "outputs": [
    {
     "name": "stdout",
     "output_type": "stream",
     "text": [
      "Hello I am local\n"
     ]
    }
   ],
   "execution_count": 16
  },
  {
   "metadata": {
    "ExecuteTime": {
     "end_time": "2025-05-28T13:39:06.456360Z",
     "start_time": "2025-05-28T13:39:06.452309Z"
    }
   },
   "cell_type": "code",
   "source": [
    "x = 50\n",
    "\n",
    "def func():\n",
    "    print(f'x is {x}')\n",
    "\n",
    "    # Local Reassignment\n",
    "    x = 200\n",
    "    print(f'I just locally changed x to {x}')"
   ],
   "id": "5db2c13b2d0d8234",
   "outputs": [],
   "execution_count": 19
  },
  {
   "metadata": {
    "ExecuteTime": {
     "end_time": "2025-05-28T13:39:07.597300Z",
     "start_time": "2025-05-28T13:39:07.593477Z"
    }
   },
   "cell_type": "code",
   "source": "func(x)",
   "id": "85a70a84d393a200",
   "outputs": [
    {
     "name": "stdout",
     "output_type": "stream",
     "text": [
      "x is 50\n",
      "I just locally changed x to 200\n"
     ]
    }
   ],
   "execution_count": 20
  },
  {
   "metadata": {
    "ExecuteTime": {
     "end_time": "2025-05-28T13:39:12.377956Z",
     "start_time": "2025-05-28T13:39:12.375742Z"
    }
   },
   "cell_type": "code",
   "source": "print(x)  # -- > It only prints 50 because x is reassigned locally",
   "id": "518097789b0bc7f4",
   "outputs": [
    {
     "name": "stdout",
     "output_type": "stream",
     "text": [
      "50\n"
     ]
    }
   ],
   "execution_count": 21
  },
  {
   "metadata": {
    "ExecuteTime": {
     "end_time": "2025-05-28T14:01:18.505036Z",
     "start_time": "2025-05-28T14:01:18.496962Z"
    }
   },
   "cell_type": "code",
   "source": [
    "x = 50\n",
    "\n",
    "def func():\n",
    "    global x\n",
    "    print(f'x is {x}')\n",
    "\n",
    "    # Local Reassignment\n",
    "    x = 'New Value'\n",
    "    print(f'I just locally changed x to {x}')"
   ],
   "id": "563b45179db122e9",
   "outputs": [],
   "execution_count": 22
  },
  {
   "metadata": {
    "ExecuteTime": {
     "end_time": "2025-05-28T14:01:22.230949Z",
     "start_time": "2025-05-28T14:01:22.227344Z"
    }
   },
   "cell_type": "code",
   "source": "print(x)",
   "id": "3a76590e9a9e3ce0",
   "outputs": [
    {
     "name": "stdout",
     "output_type": "stream",
     "text": [
      "50\n"
     ]
    }
   ],
   "execution_count": 23
  },
  {
   "metadata": {
    "ExecuteTime": {
     "end_time": "2025-05-28T14:01:30.657573Z",
     "start_time": "2025-05-28T14:01:30.654375Z"
    }
   },
   "cell_type": "code",
   "source": "func()",
   "id": "718d319a618f005d",
   "outputs": [
    {
     "name": "stdout",
     "output_type": "stream",
     "text": [
      "x is 50\n",
      "I just locally changed x to New Value\n"
     ]
    }
   ],
   "execution_count": 24
  },
  {
   "metadata": {
    "ExecuteTime": {
     "end_time": "2025-05-28T14:02:54.179098Z",
     "start_time": "2025-05-28T14:02:54.174322Z"
    }
   },
   "cell_type": "code",
   "source": [
    "x = 50\n",
    "\n",
    "def func(x):\n",
    "    print(f'x is {x}')\n",
    "\n",
    "    # Local Reassignment\n",
    "    x = 'New Value'\n",
    "    print(f'I just locally changed x to {x}')\n",
    "    return x"
   ],
   "id": "e89ff646f9213a78",
   "outputs": [],
   "execution_count": 31
  },
  {
   "metadata": {
    "ExecuteTime": {
     "end_time": "2025-05-28T14:02:54.465937Z",
     "start_time": "2025-05-28T14:02:54.462721Z"
    }
   },
   "cell_type": "code",
   "source": "print(x)",
   "id": "e4c4c285ed783366",
   "outputs": [
    {
     "name": "stdout",
     "output_type": "stream",
     "text": [
      "50\n"
     ]
    }
   ],
   "execution_count": 32
  },
  {
   "metadata": {
    "ExecuteTime": {
     "end_time": "2025-05-28T14:02:54.787045Z",
     "start_time": "2025-05-28T14:02:54.784269Z"
    }
   },
   "cell_type": "code",
   "source": "x = func(x)",
   "id": "cf00707ace9eedb0",
   "outputs": [
    {
     "name": "stdout",
     "output_type": "stream",
     "text": [
      "x is 50\n",
      "I just locally changed x to New Value\n"
     ]
    }
   ],
   "execution_count": 33
  }
 ],
 "metadata": {
  "kernelspec": {
   "display_name": "Python 3",
   "language": "python",
   "name": "python3"
  },
  "language_info": {
   "codemirror_mode": {
    "name": "ipython",
    "version": 2
   },
   "file_extension": ".py",
   "mimetype": "text/x-python",
   "name": "python",
   "nbconvert_exporter": "python",
   "pygments_lexer": "ipython2",
   "version": "2.7.6"
  }
 },
 "nbformat": 4,
 "nbformat_minor": 5
}
