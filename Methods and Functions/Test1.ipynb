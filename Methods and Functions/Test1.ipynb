{
 "cells": [
  {
   "cell_type": "code",
   "id": "initial_id",
   "metadata": {
    "collapsed": true,
    "ExecuteTime": {
     "end_time": "2025-05-27T11:02:20.774129Z",
     "start_time": "2025-05-27T11:02:20.772062Z"
    }
   },
   "source": [
    "# Write a function called myfunc that prints the string 'Hello World'.\n",
    "\n",
    "def fun():\n",
    "    print('Hello World')"
   ],
   "outputs": [],
   "execution_count": 1
  },
  {
   "metadata": {
    "ExecuteTime": {
     "end_time": "2025-05-27T11:02:23.347217Z",
     "start_time": "2025-05-27T11:02:23.343729Z"
    }
   },
   "cell_type": "code",
   "source": "fun()",
   "id": "6dbf1f9cc45dbe50",
   "outputs": [
    {
     "name": "stdout",
     "output_type": "stream",
     "text": [
      "Hello World\n"
     ]
    }
   ],
   "execution_count": 2
  },
  {
   "metadata": {
    "ExecuteTime": {
     "end_time": "2025-05-27T11:05:36.171957Z",
     "start_time": "2025-05-27T11:05:36.168584Z"
    }
   },
   "cell_type": "code",
   "source": [
    "# Define a function called myfunc that takes in a name, and prints 'Hello Name'\n",
    "\n",
    "def fun1(name):\n",
    "    print('My name is {}'.format(name))"
   ],
   "id": "5b8c640b9b285da2",
   "outputs": [],
   "execution_count": 7
  },
  {
   "metadata": {
    "ExecuteTime": {
     "end_time": "2025-05-27T11:05:48.874967Z",
     "start_time": "2025-05-27T11:05:48.870218Z"
    }
   },
   "cell_type": "code",
   "source": "fun1('Jose')",
   "id": "2b1427029ba0dea5",
   "outputs": [
    {
     "name": "stdout",
     "output_type": "stream",
     "text": [
      "My name is Jose\n"
     ]
    }
   ],
   "execution_count": 10
  },
  {
   "metadata": {
    "ExecuteTime": {
     "end_time": "2025-05-27T11:13:12.366544Z",
     "start_time": "2025-05-27T11:13:12.357152Z"
    }
   },
   "cell_type": "code",
   "source": [
    "# Define a function called myfunc that takes in a Boolean value (True or False). If True, return 'Hello', and if False, return 'Goodbye'\n",
    "\n",
    "def myfunc(bool_val):\n",
    "    if bool_val:\n",
    "        return 'Hello'\n",
    "    else:\n",
    "        return 'Goodbye'"
   ],
   "id": "69bdf0793fb71517",
   "outputs": [],
   "execution_count": 11
  },
  {
   "metadata": {
    "ExecuteTime": {
     "end_time": "2025-05-27T11:13:21.290504Z",
     "start_time": "2025-05-27T11:13:21.283523Z"
    }
   },
   "cell_type": "code",
   "source": "myfunc(True)",
   "id": "b2e350f4924c2d47",
   "outputs": [
    {
     "data": {
      "text/plain": [
       "'Hello'"
      ]
     },
     "execution_count": 12,
     "metadata": {},
     "output_type": "execute_result"
    }
   ],
   "execution_count": 12
  },
  {
   "metadata": {
    "ExecuteTime": {
     "end_time": "2025-05-27T11:13:30.256740Z",
     "start_time": "2025-05-27T11:13:30.251661Z"
    }
   },
   "cell_type": "code",
   "source": "myfunc(False)",
   "id": "970f83596a6c6e96",
   "outputs": [
    {
     "data": {
      "text/plain": [
       "'Goodbye'"
      ]
     },
     "execution_count": 13,
     "metadata": {},
     "output_type": "execute_result"
    }
   ],
   "execution_count": 13
  },
  {
   "metadata": {
    "ExecuteTime": {
     "end_time": "2025-05-27T14:51:26.573455Z",
     "start_time": "2025-05-27T14:51:26.566244Z"
    }
   },
   "cell_type": "code",
   "source": [
    "# Define a function called myfunc that takes three arguments, x, y and z.\n",
    "# If z is True, return x.  If z is False, return y.\n",
    "\n",
    "def myfunc(x,y,z):\n",
    "    return x if z else y"
   ],
   "id": "dc32e4ace3dacd9a",
   "outputs": [],
   "execution_count": 16
  },
  {
   "metadata": {
    "ExecuteTime": {
     "end_time": "2025-05-27T14:52:04.714168Z",
     "start_time": "2025-05-27T14:52:04.706311Z"
    }
   },
   "cell_type": "code",
   "source": "myfunc('apple','banana',True)",
   "id": "e9eb17e6ab6e9b43",
   "outputs": [
    {
     "data": {
      "text/plain": [
       "'apple'"
      ]
     },
     "execution_count": 18,
     "metadata": {},
     "output_type": "execute_result"
    }
   ],
   "execution_count": 18
  },
  {
   "metadata": {
    "ExecuteTime": {
     "end_time": "2025-05-27T14:52:16.247943Z",
     "start_time": "2025-05-27T14:52:16.243965Z"
    }
   },
   "cell_type": "code",
   "source": "myfunc('apple','banana',False)",
   "id": "892fa44e643a690a",
   "outputs": [
    {
     "data": {
      "text/plain": [
       "'banana'"
      ]
     },
     "execution_count": 19,
     "metadata": {},
     "output_type": "execute_result"
    }
   ],
   "execution_count": 19
  },
  {
   "metadata": {
    "ExecuteTime": {
     "end_time": "2025-05-27T15:00:21.217798Z",
     "start_time": "2025-05-27T15:00:21.210190Z"
    }
   },
   "cell_type": "code",
   "source": [
    "# Define a function called myfunc that takes in two arguments and returns their sum.\n",
    "\n",
    "def myfunc(a,b):\n",
    "    return a+b"
   ],
   "id": "4c40829b9a517445",
   "outputs": [],
   "execution_count": 20
  },
  {
   "metadata": {
    "ExecuteTime": {
     "end_time": "2025-05-27T15:00:28.935226Z",
     "start_time": "2025-05-27T15:00:28.928852Z"
    }
   },
   "cell_type": "code",
   "source": "myfunc(10,30)",
   "id": "fd7210c09073ca1f",
   "outputs": [
    {
     "data": {
      "text/plain": [
       "40"
      ]
     },
     "execution_count": 21,
     "metadata": {},
     "output_type": "execute_result"
    }
   ],
   "execution_count": 21
  },
  {
   "metadata": {
    "ExecuteTime": {
     "end_time": "2025-05-27T15:02:25.376526Z",
     "start_time": "2025-05-27T15:02:25.371493Z"
    }
   },
   "cell_type": "code",
   "source": [
    "# Define a function called is_even that takes in one argument, and returns True if the passed-in value is even, False if it is not.\n",
    "\n",
    "def is_even(a):\n",
    "    return a % 2 == 0"
   ],
   "id": "5d35dc81a4ca497e",
   "outputs": [],
   "execution_count": 25
  },
  {
   "metadata": {
    "ExecuteTime": {
     "end_time": "2025-05-27T15:02:29.011889Z",
     "start_time": "2025-05-27T15:02:29.008603Z"
    }
   },
   "cell_type": "code",
   "source": "is_even(4)",
   "id": "cbc423d314b9bc88",
   "outputs": [
    {
     "data": {
      "text/plain": [
       "True"
      ]
     },
     "execution_count": 27,
     "metadata": {},
     "output_type": "execute_result"
    }
   ],
   "execution_count": 27
  },
  {
   "metadata": {
    "ExecuteTime": {
     "end_time": "2025-05-27T15:11:15.795631Z",
     "start_time": "2025-05-27T15:11:15.782534Z"
    }
   },
   "cell_type": "code",
   "source": [
    "# Define a function called is_greater that takes in two arguments, and returns True if the first value is greater than the second, False if it is less than or equal to the second.\n",
    "\n",
    "def is_greater(a,b):\n",
    "    return a > b"
   ],
   "id": "c34c07c4b2a59d0a",
   "outputs": [],
   "execution_count": 28
  },
  {
   "metadata": {
    "ExecuteTime": {
     "end_time": "2025-05-27T15:11:24.609250Z",
     "start_time": "2025-05-27T15:11:24.603842Z"
    }
   },
   "cell_type": "code",
   "source": "is_greater(10,20)",
   "id": "1996ad5c65d9d1ee",
   "outputs": [
    {
     "data": {
      "text/plain": [
       "False"
      ]
     },
     "execution_count": 29,
     "metadata": {},
     "output_type": "execute_result"
    }
   ],
   "execution_count": 29
  },
  {
   "metadata": {
    "ExecuteTime": {
     "end_time": "2025-05-27T15:11:35.704821Z",
     "start_time": "2025-05-27T15:11:35.700632Z"
    }
   },
   "cell_type": "code",
   "source": "is_greater(60,20)",
   "id": "873ea8b3646ad16c",
   "outputs": [
    {
     "data": {
      "text/plain": [
       "True"
      ]
     },
     "execution_count": 30,
     "metadata": {},
     "output_type": "execute_result"
    }
   ],
   "execution_count": 30
  }
 ],
 "metadata": {
  "kernelspec": {
   "display_name": "Python 3",
   "language": "python",
   "name": "python3"
  },
  "language_info": {
   "codemirror_mode": {
    "name": "ipython",
    "version": 2
   },
   "file_extension": ".py",
   "mimetype": "text/x-python",
   "name": "python",
   "nbconvert_exporter": "python",
   "pygments_lexer": "ipython2",
   "version": "2.7.6"
  }
 },
 "nbformat": 4,
 "nbformat_minor": 5
}
